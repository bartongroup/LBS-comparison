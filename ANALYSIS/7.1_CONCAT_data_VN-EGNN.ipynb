{
 "cells": [
  {
   "cell_type": "markdown",
   "id": "7b2e24ef-5b13-49bb-a599-841a2cb96300",
   "metadata": {},
   "source": [
    "## Imports"
   ]
  },
  {
   "cell_type": "code",
   "execution_count": 1,
   "id": "c4e3414a-fe8f-4142-ad7d-80f39d3333b7",
   "metadata": {},
   "outputs": [],
   "source": [
    "from JSU_lib import *"
   ]
  },
  {
   "cell_type": "markdown",
   "id": "2ffda098-3834-4a08-8b87-36a299f718d9",
   "metadata": {},
   "source": [
    "## Functions"
   ]
  },
  {
   "cell_type": "code",
   "execution_count": 150,
   "id": "74146aa0-3dd3-4fbf-b377-0d7301511f0b",
   "metadata": {},
   "outputs": [],
   "source": [
    "# Function to apply the transformation\n",
    "def apply_rotation(row):\n",
    "    # Extract the rotation matrix using rep_chain\n",
    "    matrix = rot_matrices[row['rep_chain']]\n",
    "    # Extract the centre tuple and convert to numpy array\n",
    "    centre_vector = np.array(row['centre'])\n",
    "    translated_centre = centre_vector - orig_centroids[row['rep_chain']]\n",
    "    # Perform matrix multiplication\n",
    "    transformed_centre = np.dot(matrix, translated_centre)\n",
    "    round_centre = tuple([round(el, 3) for el in transformed_centre])\n",
    "    return round_centre\n",
    "\n",
    "def calculate_distance(row):\n",
    "    # Convert tuples to numpy arrays for vector operations\n",
    "    centre_mat_vector = np.array(row['centre_mat'])\n",
    "    centre_trans_vector = np.array(row['centre_trans'])\n",
    "    # Calculate Euclidean distance using numpy.linalg.norm\n",
    "    distance = np.linalg.norm(centre_mat_vector - centre_trans_vector)\n",
    "    return distance"
   ]
  },
  {
   "cell_type": "markdown",
   "id": "5d2c4821-eda6-4922-bb8b-622e20ba2ace",
   "metadata": {},
   "source": [
    "## Input data"
   ]
  },
  {
   "cell_type": "code",
   "execution_count": 33,
   "id": "286123b4-6cad-4b15-9592-8000587b0771",
   "metadata": {},
   "outputs": [],
   "source": [
    "clean_rep_chains_dir = \"/Users/2394007/Documents/PHD/LOCAL/JSU_site_predictors/DATA/clean_rep_chains\"\n",
    "vnegnn_preds_dir = \"/Users/2394007/Documents/PHD/LOCAL/JSU_site_predictors/DATA/VNEGNN_PDB_preds/predictions\"\n",
    "trans_rep_chains_dir = \"/Users/2394007/Documents/PHD/LOCAL/JSU_site_predictors/DATA/trans_rep_chains\""
   ]
  },
  {
   "cell_type": "code",
   "execution_count": 3,
   "id": "8860792b-be18-4789-9cbd-e641ac7f04cb",
   "metadata": {},
   "outputs": [],
   "source": [
    "vnegnn_preds_files = sorted([el for el in os.listdir(vnegnn_preds_dir) if el.endswith(\".csv\")])"
   ]
  },
  {
   "cell_type": "code",
   "execution_count": 4,
   "id": "7a75f31d-13ea-413a-af73-76f316fc506f",
   "metadata": {},
   "outputs": [
    {
     "data": {
      "text/plain": [
       "4430"
      ]
     },
     "execution_count": 4,
     "metadata": {},
     "output_type": "execute_result"
    }
   ],
   "source": [
    "len(vnegnn_preds_files)"
   ]
  },
  {
   "cell_type": "code",
   "execution_count": 5,
   "id": "e84ca949-26ff-42ee-824d-af8e81d8a1b4",
   "metadata": {},
   "outputs": [
    {
     "data": {
      "text/plain": [
       "['1a52_A_prediction.csv',\n",
       " '1a5h_B_prediction.csv',\n",
       " '1a9w_E_prediction.csv',\n",
       " '1ags_B_prediction.csv',\n",
       " '1aii_A_prediction.csv']"
      ]
     },
     "execution_count": 5,
     "metadata": {},
     "output_type": "execute_result"
    }
   ],
   "source": [
    "vnegnn_preds_files[:5]"
   ]
  },
  {
   "cell_type": "code",
   "execution_count": 6,
   "id": "633af515-2fbd-4b4a-88c0-8b1c9dc67890",
   "metadata": {},
   "outputs": [
    {
     "data": {
      "text/plain": [
       "3445"
      ]
     },
     "execution_count": 6,
     "metadata": {},
     "output_type": "execute_result"
    }
   ],
   "source": [
    "LIGYSIS_reps = read_from_pickle(\"./results/ligysis_3448_chains.pkl\")\n",
    "len(set(LIGYSIS_reps).intersection(set([\"_\".join(el.split(\"_\")[:2]) for el in vnegnn_preds_files])))"
   ]
  },
  {
   "cell_type": "markdown",
   "id": "153ac240-f9cc-4487-bea3-f546ee916199",
   "metadata": {},
   "source": [
    "## Concatenating VN-EGNN pocket dataframes"
   ]
  },
  {
   "cell_type": "code",
   "execution_count": 7,
   "id": "966bf886-51ab-47ee-9384-24c28d8efa8d",
   "metadata": {},
   "outputs": [],
   "source": [
    "errors = []\n",
    "success = []\n",
    "no_pockets = []\n",
    "vnegnn_dfs = []"
   ]
  },
  {
   "cell_type": "code",
   "execution_count": 8,
   "id": "895ce572-63d8-4565-ba42-5ea52066731c",
   "metadata": {
    "collapsed": true,
    "jupyter": {
     "outputs_hidden": true
    }
   },
   "outputs": [
    {
     "name": "stdout",
     "output_type": "stream",
     "text": [
      "0\n",
      "100\n",
      "200\n",
      "300\n",
      "400\n",
      "500\n",
      "600\n",
      "700\n",
      "800\n",
      "900\n",
      "1000\n",
      "1100\n",
      "1200\n",
      "1300\n",
      "1400\n",
      "1500\n",
      "1600\n",
      "1700\n",
      "1800\n",
      "1900\n",
      "2000\n",
      "2100\n",
      "2200\n",
      "2300\n",
      "2400\n",
      "2500\n",
      "2600\n",
      "2700\n",
      "2800\n",
      "2900\n",
      "3000\n",
      "3100\n",
      "3200\n",
      "3300\n",
      "3400\n",
      "3500\n",
      "3600\n",
      "3700\n",
      "3800\n",
      "3900\n",
      "4000\n",
      "4100\n",
      "4200\n",
      "4300\n",
      "4400\n"
     ]
    }
   ],
   "source": [
    "for i, vnegnn_preds_file in enumerate(vnegnn_preds_files):\n",
    "    \n",
    "    if i % 100 == 0:\n",
    "       print(i) \n",
    "    \n",
    "    if vnegnn_preds_file in success:\n",
    "        continue\n",
    "\n",
    "    input_name = \"_\".join(vnegnn_preds_file.split(\"_\")[:2])\n",
    "    file_path = os.path.join(vnegnn_preds_dir, vnegnn_preds_file) \n",
    "    try:\n",
    "        pocket_df = process_vnegnn_df(pd.read_csv(file_path))\n",
    "        pocket_df[\"rep_chain\"] = input_name.split(\".\")[0]\n",
    "        if pocket_df.empty:\n",
    "            print(f'No pockets in {input_name}')\n",
    "            if vnegnn_preds_file not in no_pockets:\n",
    "                no_pockets.append(vnegnn_preds_file)\n",
    "            continue\n",
    "        \n",
    "        success.append(vnegnn_preds_file)\n",
    "        vnegnn_dfs.append(pocket_df)\n",
    "    except:\n",
    "        print(f'ERROR with {input_name}')\n",
    "        #raise\n",
    "        if vnegnn_preds_file not in errors:\n",
    "            errors.append(vnegnn_preds_file)"
   ]
  },
  {
   "cell_type": "code",
   "execution_count": 9,
   "id": "ec472665-468f-4bda-b7e8-265b470ff7b1",
   "metadata": {},
   "outputs": [
    {
     "data": {
      "text/plain": [
       "4430"
      ]
     },
     "execution_count": 9,
     "metadata": {},
     "output_type": "execute_result"
    }
   ],
   "source": [
    "len([el for el in vnegnn_dfs if not el.empty]) #4430"
   ]
  },
  {
   "cell_type": "code",
   "execution_count": 10,
   "id": "7a8bc1d4-5090-47fb-aa62-6e32608f5157",
   "metadata": {},
   "outputs": [],
   "source": [
    "cc = [\"rep_chain\", \"ID\", \"RANK\", \"score\", \"centre\"]\n",
    "all_vnegnn_pockets = pd.concat(vnegnn_dfs).reset_index(drop = True)[cc]"
   ]
  },
  {
   "cell_type": "code",
   "execution_count": 14,
   "id": "b89ede1d-6156-4174-be01-affc5339567b",
   "metadata": {},
   "outputs": [
    {
     "name": "stdout",
     "output_type": "stream",
     "text": [
      "0\n"
     ]
    }
   ],
   "source": [
    "print(len(errors))"
   ]
  },
  {
   "cell_type": "code",
   "execution_count": 11,
   "id": "2fa7f2e5-9430-44ce-b6d7-3ff5581016a5",
   "metadata": {},
   "outputs": [
    {
     "name": "stdout",
     "output_type": "stream",
     "text": [
      "0\n"
     ]
    }
   ],
   "source": [
    "print(len(no_pockets)) #0"
   ]
  },
  {
   "cell_type": "code",
   "execution_count": 12,
   "id": "33b504d2-31b2-465e-b622-430240afa288",
   "metadata": {},
   "outputs": [
    {
     "data": {
      "text/plain": [
       "22411"
      ]
     },
     "execution_count": 12,
     "metadata": {},
     "output_type": "execute_result"
    }
   ],
   "source": [
    "all_vnegnn_pockets.shape[0] #22411"
   ]
  },
  {
   "cell_type": "code",
   "execution_count": 28,
   "id": "8fdb890e-dbd0-4e8d-b477-aa5827484881",
   "metadata": {},
   "outputs": [],
   "source": [
    "#all_vnegnn_pockets.to_pickle(\"./results/vnegnn_pockets.pkl\")"
   ]
  },
  {
   "cell_type": "code",
   "execution_count": 13,
   "id": "ca8b3bf4-0511-48c0-8bc5-92768bd2329c",
   "metadata": {},
   "outputs": [
    {
     "data": {
      "text/plain": [
       "3445"
      ]
     },
     "execution_count": 13,
     "metadata": {},
     "output_type": "execute_result"
    }
   ],
   "source": [
    "len(set(LIGYSIS_reps).intersection(set(all_vnegnn_pockets.rep_chain.tolist()))) #3445"
   ]
  },
  {
   "cell_type": "markdown",
   "id": "3cf22413-d3fb-4cf8-a887-c7fc9a4792fb",
   "metadata": {},
   "source": [
    "## Get pocket residues (VN-EGNN ran on .clean.pdb, therefore we must use those PDBs to get pocket residues)"
   ]
  },
  {
   "cell_type": "code",
   "execution_count": 17,
   "id": "fc64d92a-68df-42cf-ad01-e3c92b33f624",
   "metadata": {},
   "outputs": [],
   "source": [
    "errors = []\n",
    "success = []\n",
    "vnegnn_ress_dict = {}"
   ]
  },
  {
   "cell_type": "code",
   "execution_count": 18,
   "id": "06a62c9e-3b84-4867-b5b7-3a3fc4af99c6",
   "metadata": {},
   "outputs": [],
   "source": [
    "all_vnegnn_pockets_reps = all_vnegnn_pockets.rep_chain.unique().tolist()"
   ]
  },
  {
   "cell_type": "code",
   "execution_count": 19,
   "id": "17e4fb7a-5fdf-4beb-8206-80c880082c84",
   "metadata": {
    "collapsed": true,
    "jupyter": {
     "outputs_hidden": true
    }
   },
   "outputs": [
    {
     "name": "stdout",
     "output_type": "stream",
     "text": [
      "0\n",
      "100\n",
      "200\n",
      "300\n",
      "400\n",
      "500\n",
      "600\n",
      "700\n",
      "800\n",
      "900\n",
      "1000\n",
      "1100\n",
      "1200\n",
      "1300\n",
      "1400\n",
      "1500\n",
      "1600\n",
      "1700\n",
      "1800\n",
      "1900\n",
      "2000\n",
      "2100\n",
      "2200\n",
      "2300\n",
      "2400\n",
      "2500\n",
      "2600\n",
      "2700\n",
      "2800\n",
      "2900\n",
      "3000\n",
      "3100\n",
      "3200\n",
      "3300\n",
      "3400\n",
      "3500\n",
      "3600\n",
      "3700\n",
      "3800\n",
      "3900\n",
      "4000\n",
      "4100\n",
      "4200\n",
      "4300\n",
      "4400\n"
     ]
    }
   ],
   "source": [
    "for i, rep_chain in enumerate(all_vnegnn_pockets_reps):\n",
    "    \n",
    "    if i % 100 == 0:\n",
    "       print(i) \n",
    "    \n",
    "    if rep_chain in success:\n",
    "        continue\n",
    "\n",
    "    rep_chain_sites = all_vnegnn_pockets.query('rep_chain == @rep_chain')\n",
    "    rep_chain_pdb = os.path.join(clean_rep_chains_dir, f'{rep_chain}.clean.pdb')\n",
    "    rep_chain_df = PDBXreader(inputfile = rep_chain_pdb).atoms(format_type=\"pdb\", excluded=())\n",
    "    rep_chain_df['XYZ'] = list(zip(rep_chain_df['Cartn_x'].round(3), rep_chain_df['Cartn_y'].round(3), rep_chain_df['Cartn_z'].round(3)))\n",
    "    try:\n",
    "        for _, row in rep_chain_sites.iterrows():\n",
    "            site_centroid = row.centre\n",
    "            rep_chain_df['dist2centroid'] = rep_chain_df['XYZ'].apply(calculate_distance, centroid=site_centroid)\n",
    "            pocket_ress = sorted(rep_chain_df.query('dist2centroid < 6').label_seq_id_full.unique().tolist(), key=custom_sort)\n",
    "            vnegnn_ress_dict[(rep_chain, row.ID)] = pocket_ress                                \n",
    "        success.append(rep_chain)\n",
    "    except:\n",
    "        print(f'ERROR with {rep_chain}')\n",
    "        if rep_chain not in errors:\n",
    "            errors.append(rep_chain)\n",
    "        raise\n",
    "    #break"
   ]
  },
  {
   "cell_type": "code",
   "execution_count": 20,
   "id": "91b78eec-c86d-4b37-9679-1c7e1a2ffc0c",
   "metadata": {},
   "outputs": [
    {
     "name": "stdout",
     "output_type": "stream",
     "text": [
      "4430\n",
      "22411\n",
      "0\n"
     ]
    }
   ],
   "source": [
    "print(len(success)) #4430\n",
    "print(len(vnegnn_ress_dict)) #22411\n",
    "print(len(errors)) #0"
   ]
  },
  {
   "cell_type": "code",
   "execution_count": 21,
   "id": "aa198167-86ed-46b9-974a-09bbc6bba916",
   "metadata": {},
   "outputs": [],
   "source": [
    "save_to_pickle(vnegnn_ress_dict, \"./results/VNEGNN_pocket_ress_6A.pkl\")"
   ]
  },
  {
   "cell_type": "code",
   "execution_count": 22,
   "id": "4dd4a8ae-6af4-4437-b80f-f815f1d48683",
   "metadata": {},
   "outputs": [],
   "source": [
    "all_vnegnn_pockets[\"aas\"] = all_vnegnn_pockets.set_index([\"rep_chain\", \"ID\"]).index.map(vnegnn_ress_dict)"
   ]
  },
  {
   "cell_type": "code",
   "execution_count": 23,
   "id": "2c27d7e9-b894-4724-9de4-80acb711dd38",
   "metadata": {},
   "outputs": [],
   "source": [
    "all_vnegnn_pockets[\"n_aas\"] = all_vnegnn_pockets['aas'].apply(lambda x: len(x)) "
   ]
  },
  {
   "cell_type": "code",
   "execution_count": 24,
   "id": "ef2c798a-d1b9-4f69-831d-524ddeda74ed",
   "metadata": {},
   "outputs": [
    {
     "data": {
      "text/html": [
       "<div>\n",
       "<style scoped>\n",
       "    .dataframe tbody tr th:only-of-type {\n",
       "        vertical-align: middle;\n",
       "    }\n",
       "\n",
       "    .dataframe tbody tr th {\n",
       "        vertical-align: top;\n",
       "    }\n",
       "\n",
       "    .dataframe thead th {\n",
       "        text-align: right;\n",
       "    }\n",
       "</style>\n",
       "<table border=\"1\" class=\"dataframe\">\n",
       "  <thead>\n",
       "    <tr style=\"text-align: right;\">\n",
       "      <th></th>\n",
       "      <th>rep_chain</th>\n",
       "      <th>ID</th>\n",
       "      <th>RANK</th>\n",
       "      <th>score</th>\n",
       "      <th>centre</th>\n",
       "      <th>aas</th>\n",
       "      <th>n_aas</th>\n",
       "    </tr>\n",
       "  </thead>\n",
       "  <tbody>\n",
       "    <tr>\n",
       "      <th>0</th>\n",
       "      <td>1a52_A</td>\n",
       "      <td>1</td>\n",
       "      <td>3</td>\n",
       "      <td>0.914543</td>\n",
       "      <td>(107.237, 13.743, 95.017)</td>\n",
       "      <td>[50, 88, 92, 108, 125, 128, 225, 228, 229]</td>\n",
       "      <td>9</td>\n",
       "    </tr>\n",
       "    <tr>\n",
       "      <th>1</th>\n",
       "      <td>1a52_A</td>\n",
       "      <td>2</td>\n",
       "      <td>1</td>\n",
       "      <td>0.921467</td>\n",
       "      <td>(107.113, 14.138, 95.474)</td>\n",
       "      <td>[50, 88, 92, 108, 125, 128, 132, 229]</td>\n",
       "      <td>8</td>\n",
       "    </tr>\n",
       "    <tr>\n",
       "      <th>2</th>\n",
       "      <td>1a52_A</td>\n",
       "      <td>3</td>\n",
       "      <td>5</td>\n",
       "      <td>0.903405</td>\n",
       "      <td>(106.92, 14.314, 96.059)</td>\n",
       "      <td>[50, 88, 92, 108, 125, 229]</td>\n",
       "      <td>6</td>\n",
       "    </tr>\n",
       "    <tr>\n",
       "      <th>3</th>\n",
       "      <td>1a52_A</td>\n",
       "      <td>4</td>\n",
       "      <td>2</td>\n",
       "      <td>0.916810</td>\n",
       "      <td>(106.841, 14.052, 96.027)</td>\n",
       "      <td>[50, 88, 92, 108, 125, 229]</td>\n",
       "      <td>6</td>\n",
       "    </tr>\n",
       "    <tr>\n",
       "      <th>4</th>\n",
       "      <td>1a52_A</td>\n",
       "      <td>5</td>\n",
       "      <td>4</td>\n",
       "      <td>0.908655</td>\n",
       "      <td>(106.691, 14.264, 96.407)</td>\n",
       "      <td>[50, 54, 88, 91, 92, 108, 229]</td>\n",
       "      <td>7</td>\n",
       "    </tr>\n",
       "  </tbody>\n",
       "</table>\n",
       "</div>"
      ],
      "text/plain": [
       "  rep_chain  ID  RANK     score                     centre  \\\n",
       "0    1a52_A   1     3  0.914543  (107.237, 13.743, 95.017)   \n",
       "1    1a52_A   2     1  0.921467  (107.113, 14.138, 95.474)   \n",
       "2    1a52_A   3     5  0.903405   (106.92, 14.314, 96.059)   \n",
       "3    1a52_A   4     2  0.916810  (106.841, 14.052, 96.027)   \n",
       "4    1a52_A   5     4  0.908655  (106.691, 14.264, 96.407)   \n",
       "\n",
       "                                          aas  n_aas  \n",
       "0  [50, 88, 92, 108, 125, 128, 225, 228, 229]      9  \n",
       "1       [50, 88, 92, 108, 125, 128, 132, 229]      8  \n",
       "2                 [50, 88, 92, 108, 125, 229]      6  \n",
       "3                 [50, 88, 92, 108, 125, 229]      6  \n",
       "4              [50, 54, 88, 91, 92, 108, 229]      7  "
      ]
     },
     "execution_count": 24,
     "metadata": {},
     "output_type": "execute_result"
    }
   ],
   "source": [
    "all_vnegnn_pockets.query('rep_chain == \"1a52_A\"')"
   ]
  },
  {
   "cell_type": "code",
   "execution_count": 25,
   "id": "accabbdc-3d9a-4be2-9cd8-015c8a84309f",
   "metadata": {},
   "outputs": [
    {
     "data": {
      "text/html": [
       "<div>\n",
       "<style scoped>\n",
       "    .dataframe tbody tr th:only-of-type {\n",
       "        vertical-align: middle;\n",
       "    }\n",
       "\n",
       "    .dataframe tbody tr th {\n",
       "        vertical-align: top;\n",
       "    }\n",
       "\n",
       "    .dataframe thead th {\n",
       "        text-align: right;\n",
       "    }\n",
       "</style>\n",
       "<table border=\"1\" class=\"dataframe\">\n",
       "  <thead>\n",
       "    <tr style=\"text-align: right;\">\n",
       "      <th></th>\n",
       "      <th>rep_chain</th>\n",
       "      <th>ID</th>\n",
       "      <th>RANK</th>\n",
       "      <th>score</th>\n",
       "      <th>centre</th>\n",
       "      <th>aas</th>\n",
       "      <th>n_aas</th>\n",
       "    </tr>\n",
       "  </thead>\n",
       "  <tbody>\n",
       "    <tr>\n",
       "      <th>560</th>\n",
       "      <td>1gh7_A</td>\n",
       "      <td>2</td>\n",
       "      <td>5</td>\n",
       "      <td>-0.023721</td>\n",
       "      <td>(28.826, -19.071, -27.833)</td>\n",
       "      <td>[]</td>\n",
       "      <td>0</td>\n",
       "    </tr>\n",
       "    <tr>\n",
       "      <th>562</th>\n",
       "      <td>1gh7_A</td>\n",
       "      <td>4</td>\n",
       "      <td>7</td>\n",
       "      <td>-0.036910</td>\n",
       "      <td>(8.116, 19.476, 3.003)</td>\n",
       "      <td>[]</td>\n",
       "      <td>0</td>\n",
       "    </tr>\n",
       "    <tr>\n",
       "      <th>563</th>\n",
       "      <td>1gh7_A</td>\n",
       "      <td>5</td>\n",
       "      <td>1</td>\n",
       "      <td>0.018787</td>\n",
       "      <td>(3.516, -13.024, -2.326)</td>\n",
       "      <td>[]</td>\n",
       "      <td>0</td>\n",
       "    </tr>\n",
       "    <tr>\n",
       "      <th>564</th>\n",
       "      <td>1gh7_A</td>\n",
       "      <td>6</td>\n",
       "      <td>2</td>\n",
       "      <td>0.003744</td>\n",
       "      <td>(-0.618, -13.344, -40.846)</td>\n",
       "      <td>[]</td>\n",
       "      <td>0</td>\n",
       "    </tr>\n",
       "    <tr>\n",
       "      <th>565</th>\n",
       "      <td>1gh7_A</td>\n",
       "      <td>7</td>\n",
       "      <td>4</td>\n",
       "      <td>-0.006690</td>\n",
       "      <td>(-16.888, 11.611, -26.266)</td>\n",
       "      <td>[]</td>\n",
       "      <td>0</td>\n",
       "    </tr>\n",
       "    <tr>\n",
       "      <th>...</th>\n",
       "      <td>...</td>\n",
       "      <td>...</td>\n",
       "      <td>...</td>\n",
       "      <td>...</td>\n",
       "      <td>...</td>\n",
       "      <td>...</td>\n",
       "      <td>...</td>\n",
       "    </tr>\n",
       "    <tr>\n",
       "      <th>22280</th>\n",
       "      <td>8tar_N</td>\n",
       "      <td>1</td>\n",
       "      <td>3</td>\n",
       "      <td>-0.029535</td>\n",
       "      <td>(231.273, 180.711, 275.77)</td>\n",
       "      <td>[]</td>\n",
       "      <td>0</td>\n",
       "    </tr>\n",
       "    <tr>\n",
       "      <th>22281</th>\n",
       "      <td>8tar_N</td>\n",
       "      <td>2</td>\n",
       "      <td>4</td>\n",
       "      <td>-0.033827</td>\n",
       "      <td>(273.535, 186.735, 272.612)</td>\n",
       "      <td>[]</td>\n",
       "      <td>0</td>\n",
       "    </tr>\n",
       "    <tr>\n",
       "      <th>22282</th>\n",
       "      <td>8tar_N</td>\n",
       "      <td>3</td>\n",
       "      <td>1</td>\n",
       "      <td>-0.013700</td>\n",
       "      <td>(264.655, 145.757, 275.284)</td>\n",
       "      <td>[]</td>\n",
       "      <td>0</td>\n",
       "    </tr>\n",
       "    <tr>\n",
       "      <th>22283</th>\n",
       "      <td>8tar_N</td>\n",
       "      <td>4</td>\n",
       "      <td>2</td>\n",
       "      <td>-0.021023</td>\n",
       "      <td>(252.517, 158.217, 242.451)</td>\n",
       "      <td>[]</td>\n",
       "      <td>0</td>\n",
       "    </tr>\n",
       "    <tr>\n",
       "      <th>22347</th>\n",
       "      <td>8v8u_B</td>\n",
       "      <td>3</td>\n",
       "      <td>4</td>\n",
       "      <td>0.033522</td>\n",
       "      <td>(27.454, 56.697, -65.993)</td>\n",
       "      <td>[]</td>\n",
       "      <td>0</td>\n",
       "    </tr>\n",
       "  </tbody>\n",
       "</table>\n",
       "<p>599 rows × 7 columns</p>\n",
       "</div>"
      ],
      "text/plain": [
       "      rep_chain  ID  RANK     score                       centre aas  n_aas\n",
       "560      1gh7_A   2     5 -0.023721   (28.826, -19.071, -27.833)  []      0\n",
       "562      1gh7_A   4     7 -0.036910       (8.116, 19.476, 3.003)  []      0\n",
       "563      1gh7_A   5     1  0.018787     (3.516, -13.024, -2.326)  []      0\n",
       "564      1gh7_A   6     2  0.003744   (-0.618, -13.344, -40.846)  []      0\n",
       "565      1gh7_A   7     4 -0.006690   (-16.888, 11.611, -26.266)  []      0\n",
       "...         ...  ..   ...       ...                          ...  ..    ...\n",
       "22280    8tar_N   1     3 -0.029535   (231.273, 180.711, 275.77)  []      0\n",
       "22281    8tar_N   2     4 -0.033827  (273.535, 186.735, 272.612)  []      0\n",
       "22282    8tar_N   3     1 -0.013700  (264.655, 145.757, 275.284)  []      0\n",
       "22283    8tar_N   4     2 -0.021023  (252.517, 158.217, 242.451)  []      0\n",
       "22347    8v8u_B   3     4  0.033522    (27.454, 56.697, -65.993)  []      0\n",
       "\n",
       "[599 rows x 7 columns]"
      ]
     },
     "execution_count": 25,
     "metadata": {},
     "output_type": "execute_result"
    }
   ],
   "source": [
    "all_vnegnn_pockets.query('n_aas == 0') # in deep, wide, big pockets, you might not have any residues within 5A (N=818)"
   ]
  },
  {
   "cell_type": "markdown",
   "id": "def89956-0360-4212-b6b0-eb6b476cc61b",
   "metadata": {},
   "source": [
    "## Calculate RoG of VN-EGNN pockets"
   ]
  },
  {
   "cell_type": "code",
   "execution_count": 26,
   "id": "389fba6e-d98c-41b5-be55-f98953927e77",
   "metadata": {},
   "outputs": [
    {
     "data": {
      "text/plain": [
       "4430"
      ]
     },
     "execution_count": 26,
     "metadata": {},
     "output_type": "execute_result"
    }
   ],
   "source": [
    "site_targets = all_vnegnn_pockets.rep_chain.unique().tolist()\n",
    "len(site_targets)"
   ]
  },
  {
   "cell_type": "code",
   "execution_count": 27,
   "id": "66f275ec-4863-4b07-afc0-58ad8a44df1b",
   "metadata": {},
   "outputs": [
    {
     "data": {
      "text/plain": [
       "22411"
      ]
     },
     "execution_count": 27,
     "metadata": {},
     "output_type": "execute_result"
    }
   ],
   "source": [
    "all_vnegnn_pockets.shape[0]"
   ]
  },
  {
   "cell_type": "code",
   "execution_count": 28,
   "id": "8e153a57-969e-451b-875b-c35d3c7d54c4",
   "metadata": {},
   "outputs": [],
   "source": [
    "cc = [\n",
    "    'label_seq_id_full', 'label_comp_id', 'type_symbol',\n",
    "    'label_atom_id', 'Cartn_x', 'Cartn_y', 'Cartn_z'\n",
    "]"
   ]
  },
  {
   "cell_type": "code",
   "execution_count": 30,
   "id": "a9899955-594a-49a4-850c-9ab2d7de4e96",
   "metadata": {},
   "outputs": [
    {
     "data": {
      "text/html": [
       "<div>\n",
       "<style scoped>\n",
       "    .dataframe tbody tr th:only-of-type {\n",
       "        vertical-align: middle;\n",
       "    }\n",
       "\n",
       "    .dataframe tbody tr th {\n",
       "        vertical-align: top;\n",
       "    }\n",
       "\n",
       "    .dataframe thead th {\n",
       "        text-align: right;\n",
       "    }\n",
       "</style>\n",
       "<table border=\"1\" class=\"dataframe\">\n",
       "  <thead>\n",
       "    <tr style=\"text-align: right;\">\n",
       "      <th></th>\n",
       "      <th>rep_chain</th>\n",
       "      <th>ID</th>\n",
       "      <th>RANK</th>\n",
       "      <th>score</th>\n",
       "      <th>centre</th>\n",
       "      <th>aas</th>\n",
       "      <th>n_aas</th>\n",
       "    </tr>\n",
       "  </thead>\n",
       "  <tbody>\n",
       "    <tr>\n",
       "      <th>0</th>\n",
       "      <td>1a52_A</td>\n",
       "      <td>1</td>\n",
       "      <td>3</td>\n",
       "      <td>0.914543</td>\n",
       "      <td>(107.237, 13.743, 95.017)</td>\n",
       "      <td>[50, 88, 92, 108, 125, 128, 225, 228, 229]</td>\n",
       "      <td>9</td>\n",
       "    </tr>\n",
       "    <tr>\n",
       "      <th>1</th>\n",
       "      <td>1a52_A</td>\n",
       "      <td>2</td>\n",
       "      <td>1</td>\n",
       "      <td>0.921467</td>\n",
       "      <td>(107.113, 14.138, 95.474)</td>\n",
       "      <td>[50, 88, 92, 108, 125, 128, 132, 229]</td>\n",
       "      <td>8</td>\n",
       "    </tr>\n",
       "    <tr>\n",
       "      <th>2</th>\n",
       "      <td>1a52_A</td>\n",
       "      <td>3</td>\n",
       "      <td>5</td>\n",
       "      <td>0.903405</td>\n",
       "      <td>(106.92, 14.314, 96.059)</td>\n",
       "      <td>[50, 88, 92, 108, 125, 229]</td>\n",
       "      <td>6</td>\n",
       "    </tr>\n",
       "    <tr>\n",
       "      <th>3</th>\n",
       "      <td>1a52_A</td>\n",
       "      <td>4</td>\n",
       "      <td>2</td>\n",
       "      <td>0.916810</td>\n",
       "      <td>(106.841, 14.052, 96.027)</td>\n",
       "      <td>[50, 88, 92, 108, 125, 229]</td>\n",
       "      <td>6</td>\n",
       "    </tr>\n",
       "    <tr>\n",
       "      <th>4</th>\n",
       "      <td>1a52_A</td>\n",
       "      <td>5</td>\n",
       "      <td>4</td>\n",
       "      <td>0.908655</td>\n",
       "      <td>(106.691, 14.264, 96.407)</td>\n",
       "      <td>[50, 54, 88, 91, 92, 108, 229]</td>\n",
       "      <td>7</td>\n",
       "    </tr>\n",
       "    <tr>\n",
       "      <th>...</th>\n",
       "      <td>...</td>\n",
       "      <td>...</td>\n",
       "      <td>...</td>\n",
       "      <td>...</td>\n",
       "      <td>...</td>\n",
       "      <td>...</td>\n",
       "      <td>...</td>\n",
       "    </tr>\n",
       "    <tr>\n",
       "      <th>22406</th>\n",
       "      <td>8y6o_H</td>\n",
       "      <td>6</td>\n",
       "      <td>4</td>\n",
       "      <td>0.783603</td>\n",
       "      <td>(276.259, 310.187, 255.33)</td>\n",
       "      <td>[28, 30, 73, 81, 82, 83, 84, 89, 100]</td>\n",
       "      <td>9</td>\n",
       "    </tr>\n",
       "    <tr>\n",
       "      <th>22407</th>\n",
       "      <td>8yhh_B</td>\n",
       "      <td>1</td>\n",
       "      <td>3</td>\n",
       "      <td>0.845100</td>\n",
       "      <td>(18.697, 36.156, 36.722)</td>\n",
       "      <td>[80, 112, 113, 114, 115, 116, 117, 118, 119, 120]</td>\n",
       "      <td>10</td>\n",
       "    </tr>\n",
       "    <tr>\n",
       "      <th>22408</th>\n",
       "      <td>8yhh_B</td>\n",
       "      <td>2</td>\n",
       "      <td>1</td>\n",
       "      <td>0.891808</td>\n",
       "      <td>(17.166, 37.219, 33.178)</td>\n",
       "      <td>[26, 110, 111, 112, 113, 114, 115, 116, 117, 337]</td>\n",
       "      <td>10</td>\n",
       "    </tr>\n",
       "    <tr>\n",
       "      <th>22409</th>\n",
       "      <td>8yhh_B</td>\n",
       "      <td>3</td>\n",
       "      <td>4</td>\n",
       "      <td>0.762785</td>\n",
       "      <td>(19.866, 35.354, 39.926)</td>\n",
       "      <td>[114, 115, 116, 117, 118, 119, 120, 136, 139]</td>\n",
       "      <td>9</td>\n",
       "    </tr>\n",
       "    <tr>\n",
       "      <th>22410</th>\n",
       "      <td>8yhh_B</td>\n",
       "      <td>4</td>\n",
       "      <td>2</td>\n",
       "      <td>0.868750</td>\n",
       "      <td>(17.49, 36.832, 34.263)</td>\n",
       "      <td>[111, 112, 113, 114, 115, 116, 117, 119, 120]</td>\n",
       "      <td>9</td>\n",
       "    </tr>\n",
       "  </tbody>\n",
       "</table>\n",
       "<p>22411 rows × 7 columns</p>\n",
       "</div>"
      ],
      "text/plain": [
       "      rep_chain  ID  RANK     score                      centre  \\\n",
       "0        1a52_A   1     3  0.914543   (107.237, 13.743, 95.017)   \n",
       "1        1a52_A   2     1  0.921467   (107.113, 14.138, 95.474)   \n",
       "2        1a52_A   3     5  0.903405    (106.92, 14.314, 96.059)   \n",
       "3        1a52_A   4     2  0.916810   (106.841, 14.052, 96.027)   \n",
       "4        1a52_A   5     4  0.908655   (106.691, 14.264, 96.407)   \n",
       "...         ...  ..   ...       ...                         ...   \n",
       "22406    8y6o_H   6     4  0.783603  (276.259, 310.187, 255.33)   \n",
       "22407    8yhh_B   1     3  0.845100    (18.697, 36.156, 36.722)   \n",
       "22408    8yhh_B   2     1  0.891808    (17.166, 37.219, 33.178)   \n",
       "22409    8yhh_B   3     4  0.762785    (19.866, 35.354, 39.926)   \n",
       "22410    8yhh_B   4     2  0.868750     (17.49, 36.832, 34.263)   \n",
       "\n",
       "                                                     aas  n_aas  \n",
       "0             [50, 88, 92, 108, 125, 128, 225, 228, 229]      9  \n",
       "1                  [50, 88, 92, 108, 125, 128, 132, 229]      8  \n",
       "2                            [50, 88, 92, 108, 125, 229]      6  \n",
       "3                            [50, 88, 92, 108, 125, 229]      6  \n",
       "4                         [50, 54, 88, 91, 92, 108, 229]      7  \n",
       "...                                                  ...    ...  \n",
       "22406              [28, 30, 73, 81, 82, 83, 84, 89, 100]      9  \n",
       "22407  [80, 112, 113, 114, 115, 116, 117, 118, 119, 120]     10  \n",
       "22408  [26, 110, 111, 112, 113, 114, 115, 116, 117, 337]     10  \n",
       "22409      [114, 115, 116, 117, 118, 119, 120, 136, 139]      9  \n",
       "22410      [111, 112, 113, 114, 115, 116, 117, 119, 120]      9  \n",
       "\n",
       "[22411 rows x 7 columns]"
      ]
     },
     "execution_count": 30,
     "metadata": {},
     "output_type": "execute_result"
    }
   ],
   "source": [
    "all_vnegnn_pockets #these centres are from VN-EGNN (clean.pdb)\n",
    "                   #to compare them with the others, we should apply the\n",
    "                   #transformation matrices used to transform from clean to trans"
   ]
  },
  {
   "cell_type": "code",
   "execution_count": 34,
   "id": "edf4f5d0-db38-42d9-becc-928d97ccad81",
   "metadata": {
    "collapsed": true,
    "jupyter": {
     "outputs_hidden": true
    }
   },
   "outputs": [
    {
     "name": "stdout",
     "output_type": "stream",
     "text": [
      "0\n",
      "500\n",
      "1000\n",
      "1500\n",
      "2000\n",
      "2500\n",
      "3000\n",
      "3500\n",
      "4000\n"
     ]
    }
   ],
   "source": [
    "# HERE WE WILL USE TRANS FILES FOR THE CALCULATION OF THE NEW CENTRE AND ROG\n",
    "\n",
    "T0 = time.time()\n",
    "RoG_dict = {}\n",
    "centres_dict_ress = {}\n",
    "for i, target in enumerate(site_targets):\n",
    "    if i % 500 == 0:\n",
    "        print(i)\n",
    "    pdb_path = os.path.join(trans_rep_chains_dir, f'{target}.trans.pdb')\n",
    "    df = PDBXreader(inputfile=pdb_path).atoms(format_type=\"pdb\", excluded=())[cc].query('label_atom_id == \"CA\"').reset_index(drop = True)\n",
    "    target_sites_df = all_vnegnn_pockets.query('rep_chain == @target')\n",
    "    for _, row in target_sites_df.iterrows():\n",
    "        site_ress = row.aas\n",
    "        if site_ress == []:\n",
    "            RoG_dict[(target, row.ID)] = np.nan\n",
    "            continue\n",
    "        else:\n",
    "            ress_CAs = df.query('label_seq_id_full in @site_ress')\n",
    "            CAs_coords = np.array(list((zip(ress_CAs.Cartn_x, ress_CAs.Cartn_y, ress_CAs.Cartn_z))))\n",
    "            center_of_mass = np.mean(CAs_coords, axis=0)\n",
    "            distances_squared = np.sum((CAs_coords - center_of_mass)**2, axis=1)\n",
    "            radius_of_gyration = round(np.sqrt(np.mean(distances_squared)), 2)\n",
    "            RoG_dict[(target, row.ID)] = radius_of_gyration\n",
    "            centres_dict_ress[(target, row.ID)] = tuple([round(v, 3) for v in center_of_mass])\n",
    "\n",
    "    #break\n",
    "TF = time.time()"
   ]
  },
  {
   "cell_type": "code",
   "execution_count": 40,
   "id": "da3053f8-d97d-4c45-9727-e616a638423e",
   "metadata": {},
   "outputs": [
    {
     "name": "stdout",
     "output_type": "stream",
     "text": [
      "21812\n",
      "22411\n",
      "6.07\n",
      "0.01625\n"
     ]
    }
   ],
   "source": [
    "dTs = TF-T0\n",
    "\n",
    "dTm = dTs/60\n",
    "\n",
    "N_RoG = len(RoG_dict)\n",
    "\n",
    "print(len(centres_dict_ress))\n",
    "\n",
    "print(N_RoG)\n",
    "\n",
    "print(round(dTm,2))\n",
    "\n",
    "print(round(dTs/N_RoG, 5))"
   ]
  },
  {
   "cell_type": "code",
   "execution_count": 36,
   "id": "be737b13-bf7f-4e4f-bf40-64d3e508ab83",
   "metadata": {},
   "outputs": [],
   "source": [
    "save_to_pickle(RoG_dict, \"./results/VNEGNN_RoG_6A_TRANS.pkl\")"
   ]
  },
  {
   "cell_type": "code",
   "execution_count": 42,
   "id": "273994a8-f49c-43c4-a2fd-85ce9544cc1d",
   "metadata": {},
   "outputs": [
    {
     "name": "stdout",
     "output_type": "stream",
     "text": [
      "599\n"
     ]
    }
   ],
   "source": [
    "all_vnegnn_pockets[\"centre_trans\"] = np.nan\n",
    "centres = []\n",
    "errs = 0\n",
    "err_chains = []\n",
    "for i, row in all_vnegnn_pockets.iterrows():\n",
    "    try:\n",
    "        centre = centres_dict_ress[(row.rep_chain, row.ID)]\n",
    "        centres.append(centre)\n",
    "    except:\n",
    "        errs += 1\n",
    "        centres.append(np.nan)\n",
    "        err_chains.append(row.rep_chain)\n",
    "print(errs) # 599"
   ]
  },
  {
   "cell_type": "code",
   "execution_count": 37,
   "id": "5128b6eb-2429-4c0f-bd68-0e0694e814d9",
   "metadata": {},
   "outputs": [],
   "source": [
    "all_vnegnn_pockets[\"RoG\"] = all_vnegnn_pockets.set_index(['rep_chain', 'ID']).index.map(RoG_dict)"
   ]
  },
  {
   "cell_type": "code",
   "execution_count": 43,
   "id": "c199ef3f-f2e8-43bd-b045-297eb0e6dea3",
   "metadata": {},
   "outputs": [],
   "source": [
    "all_vnegnn_pockets[\"centre_trans\"] = centres"
   ]
  },
  {
   "cell_type": "code",
   "execution_count": 45,
   "id": "0dd9090e-c08a-4be3-af59-b969dc6c4694",
   "metadata": {},
   "outputs": [
    {
     "data": {
      "text/html": [
       "<div>\n",
       "<style scoped>\n",
       "    .dataframe tbody tr th:only-of-type {\n",
       "        vertical-align: middle;\n",
       "    }\n",
       "\n",
       "    .dataframe tbody tr th {\n",
       "        vertical-align: top;\n",
       "    }\n",
       "\n",
       "    .dataframe thead th {\n",
       "        text-align: right;\n",
       "    }\n",
       "</style>\n",
       "<table border=\"1\" class=\"dataframe\">\n",
       "  <thead>\n",
       "    <tr style=\"text-align: right;\">\n",
       "      <th></th>\n",
       "      <th>rep_chain</th>\n",
       "      <th>ID</th>\n",
       "      <th>RANK</th>\n",
       "      <th>score</th>\n",
       "      <th>centre</th>\n",
       "      <th>aas</th>\n",
       "      <th>n_aas</th>\n",
       "      <th>RoG</th>\n",
       "      <th>centre_trans</th>\n",
       "    </tr>\n",
       "  </thead>\n",
       "  <tbody>\n",
       "    <tr>\n",
       "      <th>0</th>\n",
       "      <td>1a52_A</td>\n",
       "      <td>1</td>\n",
       "      <td>3</td>\n",
       "      <td>0.914543</td>\n",
       "      <td>(107.237, 13.743, 95.017)</td>\n",
       "      <td>[50, 88, 92, 108, 125, 128, 225, 228, 229]</td>\n",
       "      <td>9</td>\n",
       "      <td>7.55</td>\n",
       "      <td>(1.394, -9.77, -4.104)</td>\n",
       "    </tr>\n",
       "    <tr>\n",
       "      <th>1</th>\n",
       "      <td>1a52_A</td>\n",
       "      <td>2</td>\n",
       "      <td>1</td>\n",
       "      <td>0.921467</td>\n",
       "      <td>(107.113, 14.138, 95.474)</td>\n",
       "      <td>[50, 88, 92, 108, 125, 128, 132, 229]</td>\n",
       "      <td>8</td>\n",
       "      <td>7.79</td>\n",
       "      <td>(3.028, -8.849, -3.212)</td>\n",
       "    </tr>\n",
       "    <tr>\n",
       "      <th>2</th>\n",
       "      <td>1a52_A</td>\n",
       "      <td>3</td>\n",
       "      <td>5</td>\n",
       "      <td>0.903405</td>\n",
       "      <td>(106.92, 14.314, 96.059)</td>\n",
       "      <td>[50, 88, 92, 108, 125, 229]</td>\n",
       "      <td>6</td>\n",
       "      <td>7.79</td>\n",
       "      <td>(1.669, -9.473, -1.796)</td>\n",
       "    </tr>\n",
       "    <tr>\n",
       "      <th>3</th>\n",
       "      <td>1a52_A</td>\n",
       "      <td>4</td>\n",
       "      <td>2</td>\n",
       "      <td>0.916810</td>\n",
       "      <td>(106.841, 14.052, 96.027)</td>\n",
       "      <td>[50, 88, 92, 108, 125, 229]</td>\n",
       "      <td>6</td>\n",
       "      <td>7.79</td>\n",
       "      <td>(1.669, -9.473, -1.796)</td>\n",
       "    </tr>\n",
       "    <tr>\n",
       "      <th>4</th>\n",
       "      <td>1a52_A</td>\n",
       "      <td>5</td>\n",
       "      <td>4</td>\n",
       "      <td>0.908655</td>\n",
       "      <td>(106.691, 14.264, 96.407)</td>\n",
       "      <td>[50, 54, 88, 91, 92, 108, 229]</td>\n",
       "      <td>7</td>\n",
       "      <td>6.80</td>\n",
       "      <td>(0.465, -7.793, 0.546)</td>\n",
       "    </tr>\n",
       "    <tr>\n",
       "      <th>5</th>\n",
       "      <td>1a5h_B</td>\n",
       "      <td>1</td>\n",
       "      <td>3</td>\n",
       "      <td>0.890733</td>\n",
       "      <td>(16.48, 55.728, 29.65)</td>\n",
       "      <td>[47, 198, 199, 200, 201, 203, 221, 222, 223, 224]</td>\n",
       "      <td>10</td>\n",
       "      <td>5.86</td>\n",
       "      <td>(2.031, 4.199, -6.004)</td>\n",
       "    </tr>\n",
       "    <tr>\n",
       "      <th>6</th>\n",
       "      <td>1a5h_B</td>\n",
       "      <td>2</td>\n",
       "      <td>2</td>\n",
       "      <td>0.892031</td>\n",
       "      <td>(17.962, 55.161, 29.479)</td>\n",
       "      <td>[198, 199, 200, 203, 221, 222, 223, 224, 225, ...</td>\n",
       "      <td>11</td>\n",
       "      <td>5.78</td>\n",
       "      <td>(3.225, 7.13, -6.413)</td>\n",
       "    </tr>\n",
       "    <tr>\n",
       "      <th>7</th>\n",
       "      <td>1a5h_B</td>\n",
       "      <td>3</td>\n",
       "      <td>5</td>\n",
       "      <td>0.876678</td>\n",
       "      <td>(17.847, 54.55, 29.709)</td>\n",
       "      <td>[199, 200, 203, 221, 222, 223, 224, 225, 226]</td>\n",
       "      <td>9</td>\n",
       "      <td>5.70</td>\n",
       "      <td>(2.404, 6.683, -6.89)</td>\n",
       "    </tr>\n",
       "    <tr>\n",
       "      <th>8</th>\n",
       "      <td>1a5h_B</td>\n",
       "      <td>4</td>\n",
       "      <td>4</td>\n",
       "      <td>0.887769</td>\n",
       "      <td>(17.42, 54.747, 29.687)</td>\n",
       "      <td>[47, 199, 200, 203, 221, 222, 223, 224, 225, 226]</td>\n",
       "      <td>10</td>\n",
       "      <td>6.33</td>\n",
       "      <td>(1.751, 5.866, -7.24)</td>\n",
       "    </tr>\n",
       "    <tr>\n",
       "      <th>9</th>\n",
       "      <td>1a5h_B</td>\n",
       "      <td>5</td>\n",
       "      <td>1</td>\n",
       "      <td>0.906284</td>\n",
       "      <td>(17.295, 55.66, 29.446)</td>\n",
       "      <td>[198, 199, 200, 203, 221, 222, 223, 224, 226]</td>\n",
       "      <td>9</td>\n",
       "      <td>5.47</td>\n",
       "      <td>(2.712, 6.103, -5.938)</td>\n",
       "    </tr>\n",
       "  </tbody>\n",
       "</table>\n",
       "</div>"
      ],
      "text/plain": [
       "  rep_chain  ID  RANK     score                     centre  \\\n",
       "0    1a52_A   1     3  0.914543  (107.237, 13.743, 95.017)   \n",
       "1    1a52_A   2     1  0.921467  (107.113, 14.138, 95.474)   \n",
       "2    1a52_A   3     5  0.903405   (106.92, 14.314, 96.059)   \n",
       "3    1a52_A   4     2  0.916810  (106.841, 14.052, 96.027)   \n",
       "4    1a52_A   5     4  0.908655  (106.691, 14.264, 96.407)   \n",
       "5    1a5h_B   1     3  0.890733     (16.48, 55.728, 29.65)   \n",
       "6    1a5h_B   2     2  0.892031   (17.962, 55.161, 29.479)   \n",
       "7    1a5h_B   3     5  0.876678    (17.847, 54.55, 29.709)   \n",
       "8    1a5h_B   4     4  0.887769    (17.42, 54.747, 29.687)   \n",
       "9    1a5h_B   5     1  0.906284    (17.295, 55.66, 29.446)   \n",
       "\n",
       "                                                 aas  n_aas   RoG  \\\n",
       "0         [50, 88, 92, 108, 125, 128, 225, 228, 229]      9  7.55   \n",
       "1              [50, 88, 92, 108, 125, 128, 132, 229]      8  7.79   \n",
       "2                        [50, 88, 92, 108, 125, 229]      6  7.79   \n",
       "3                        [50, 88, 92, 108, 125, 229]      6  7.79   \n",
       "4                     [50, 54, 88, 91, 92, 108, 229]      7  6.80   \n",
       "5  [47, 198, 199, 200, 201, 203, 221, 222, 223, 224]     10  5.86   \n",
       "6  [198, 199, 200, 203, 221, 222, 223, 224, 225, ...     11  5.78   \n",
       "7      [199, 200, 203, 221, 222, 223, 224, 225, 226]      9  5.70   \n",
       "8  [47, 199, 200, 203, 221, 222, 223, 224, 225, 226]     10  6.33   \n",
       "9      [198, 199, 200, 203, 221, 222, 223, 224, 226]      9  5.47   \n",
       "\n",
       "              centre_trans  \n",
       "0   (1.394, -9.77, -4.104)  \n",
       "1  (3.028, -8.849, -3.212)  \n",
       "2  (1.669, -9.473, -1.796)  \n",
       "3  (1.669, -9.473, -1.796)  \n",
       "4   (0.465, -7.793, 0.546)  \n",
       "5   (2.031, 4.199, -6.004)  \n",
       "6    (3.225, 7.13, -6.413)  \n",
       "7    (2.404, 6.683, -6.89)  \n",
       "8    (1.751, 5.866, -7.24)  \n",
       "9   (2.712, 6.103, -5.938)  "
      ]
     },
     "execution_count": 45,
     "metadata": {},
     "output_type": "execute_result"
    }
   ],
   "source": [
    "all_vnegnn_pockets.head(10)"
   ]
  },
  {
   "cell_type": "markdown",
   "id": "402f0055-25ff-43e6-940b-f243bd656160",
   "metadata": {},
   "source": [
    "## Translating and rotating VN-EGNN predicted centroid"
   ]
  },
  {
   "cell_type": "code",
   "execution_count": 115,
   "id": "db4d3ee0-3a6b-4a06-883b-ba221ecf4864",
   "metadata": {},
   "outputs": [],
   "source": [
    "rot_matrices = read_from_pickle(\"./results/PDB_rot_matrices.pkl\")\n",
    "orig_centroids = read_from_pickle(\"./results/PDB_orig_centroids.pkl\")"
   ]
  },
  {
   "cell_type": "code",
   "execution_count": 116,
   "id": "9b935ebe-5565-4c9c-9245-428db329b188",
   "metadata": {},
   "outputs": [],
   "source": [
    "all_vnegnn_pockets_w_sifts['centre_mat'] = all_vnegnn_pockets_w_sifts.apply(apply_rotation, axis=1)"
   ]
  },
  {
   "cell_type": "code",
   "execution_count": 117,
   "id": "feea2fd1-093d-4abd-bdbd-2205651126bf",
   "metadata": {},
   "outputs": [],
   "source": [
    "all_vnegnn_pockets_w_sifts['distance'] = all_vnegnn_pockets_w_sifts.apply(calculate_distance, axis=1)"
   ]
  },
  {
   "cell_type": "code",
   "execution_count": 153,
   "id": "fd865047-78bd-45c7-ab51-47fd3c918f5b",
   "metadata": {},
   "outputs": [
    {
     "data": {
      "image/png": "[encoded data removed]",
      "text/plain": [
       "<Figure size 900x450 with 1 Axes>"
      ]
     },
     "metadata": {},
     "output_type": "display_data"
    }
   ],
   "source": [
    "plt.figure(figsize = (6,3), dpi = 150)\n",
    "\n",
    "sns.histplot(all_vnegnn_pockets_w_sifts.distance, bins = 100, stat = \"proportion\", color = \"cyan\")\n",
    "plt.title(\"VN-EGNN pockets\")\n",
    "plt.xlabel(\"Distance between reported centroid and pocket residues centroid\")\n",
    "plt.ylabel(\"p\")\n",
    "plt.show()"
   ]
  },
  {
   "cell_type": "code",
   "execution_count": 142,
   "id": "c29098d0-1ff3-4b8f-b150-d676fbd97794",
   "metadata": {},
   "outputs": [
    {
     "data": {
      "text/html": [
       "<div>\n",
       "<style scoped>\n",
       "    .dataframe tbody tr th:only-of-type {\n",
       "        vertical-align: middle;\n",
       "    }\n",
       "\n",
       "    .dataframe tbody tr th {\n",
       "        vertical-align: top;\n",
       "    }\n",
       "\n",
       "    .dataframe thead th {\n",
       "        text-align: right;\n",
       "    }\n",
       "</style>\n",
       "<table border=\"1\" class=\"dataframe\">\n",
       "  <thead>\n",
       "    <tr style=\"text-align: right;\">\n",
       "      <th></th>\n",
       "      <th>rep_chain</th>\n",
       "      <th>ID</th>\n",
       "      <th>RANK</th>\n",
       "      <th>score</th>\n",
       "      <th>centre</th>\n",
       "      <th>aas</th>\n",
       "      <th>n_aas</th>\n",
       "      <th>RoG</th>\n",
       "      <th>centre_trans</th>\n",
       "      <th>up_aas</th>\n",
       "      <th>centre_mat</th>\n",
       "      <th>distance</th>\n",
       "    </tr>\n",
       "  </thead>\n",
       "  <tbody>\n",
       "    <tr>\n",
       "      <th>0</th>\n",
       "      <td>1a52_A</td>\n",
       "      <td>1</td>\n",
       "      <td>3</td>\n",
       "      <td>0.914543</td>\n",
       "      <td>(107.237, 13.743, 95.017)</td>\n",
       "      <td>[50, 88, 92, 108, 125, 128, 225, 228, 229]</td>\n",
       "      <td>9</td>\n",
       "      <td>7.55</td>\n",
       "      <td>(1.394, -9.77, -4.104)</td>\n",
       "      <td>[346, 384, 388, 404, 421, 424, 521, 524, 525]</td>\n",
       "      <td>(1.368, -10.709, -2.997)</td>\n",
       "      <td>1.451842</td>\n",
       "    </tr>\n",
       "    <tr>\n",
       "      <th>1</th>\n",
       "      <td>1a52_A</td>\n",
       "      <td>2</td>\n",
       "      <td>1</td>\n",
       "      <td>0.921467</td>\n",
       "      <td>(107.113, 14.138, 95.474)</td>\n",
       "      <td>[50, 88, 92, 108, 125, 128, 132, 229]</td>\n",
       "      <td>8</td>\n",
       "      <td>7.79</td>\n",
       "      <td>(3.028, -8.849, -3.212)</td>\n",
       "      <td>[346, 384, 388, 404, 421, 424, 428, 525]</td>\n",
       "      <td>(1.359, -10.351, -2.495)</td>\n",
       "      <td>2.357043</td>\n",
       "    </tr>\n",
       "    <tr>\n",
       "      <th>2</th>\n",
       "      <td>1a52_A</td>\n",
       "      <td>3</td>\n",
       "      <td>5</td>\n",
       "      <td>0.903405</td>\n",
       "      <td>(106.92, 14.314, 96.059)</td>\n",
       "      <td>[50, 88, 92, 108, 125, 229]</td>\n",
       "      <td>6</td>\n",
       "      <td>7.79</td>\n",
       "      <td>(1.669, -9.473, -1.796)</td>\n",
       "      <td>[346, 384, 388, 404, 421, 525]</td>\n",
       "      <td>(1.164, -10.161, -1.915)</td>\n",
       "      <td>0.861702</td>\n",
       "    </tr>\n",
       "    <tr>\n",
       "      <th>3</th>\n",
       "      <td>1a52_A</td>\n",
       "      <td>4</td>\n",
       "      <td>2</td>\n",
       "      <td>0.916810</td>\n",
       "      <td>(106.841, 14.052, 96.027)</td>\n",
       "      <td>[50, 88, 92, 108, 125, 229]</td>\n",
       "      <td>6</td>\n",
       "      <td>7.79</td>\n",
       "      <td>(1.669, -9.473, -1.796)</td>\n",
       "      <td>[346, 384, 388, 404, 421, 525]</td>\n",
       "      <td>(0.979, -10.347, -2.003)</td>\n",
       "      <td>1.132619</td>\n",
       "    </tr>\n",
       "    <tr>\n",
       "      <th>4</th>\n",
       "      <td>1a52_A</td>\n",
       "      <td>5</td>\n",
       "      <td>4</td>\n",
       "      <td>0.908655</td>\n",
       "      <td>(106.691, 14.264, 96.407)</td>\n",
       "      <td>[50, 54, 88, 91, 92, 108, 229]</td>\n",
       "      <td>7</td>\n",
       "      <td>6.80</td>\n",
       "      <td>(0.465, -7.793, 0.546)</td>\n",
       "      <td>[346, 350, 384, 387, 388, 404, 525]</td>\n",
       "      <td>(0.877, -10.127, -1.611)</td>\n",
       "      <td>3.204676</td>\n",
       "    </tr>\n",
       "    <tr>\n",
       "      <th>...</th>\n",
       "      <td>...</td>\n",
       "      <td>...</td>\n",
       "      <td>...</td>\n",
       "      <td>...</td>\n",
       "      <td>...</td>\n",
       "      <td>...</td>\n",
       "      <td>...</td>\n",
       "      <td>...</td>\n",
       "      <td>...</td>\n",
       "      <td>...</td>\n",
       "      <td>...</td>\n",
       "      <td>...</td>\n",
       "    </tr>\n",
       "    <tr>\n",
       "      <th>21181</th>\n",
       "      <td>8y6o_H</td>\n",
       "      <td>6</td>\n",
       "      <td>4</td>\n",
       "      <td>0.783603</td>\n",
       "      <td>(276.259, 310.187, 255.33)</td>\n",
       "      <td>[28, 30, 73, 81, 82, 83, 84, 89, 100]</td>\n",
       "      <td>9</td>\n",
       "      <td>6.16</td>\n",
       "      <td>(2.137, 1.138, -4.507)</td>\n",
       "      <td>[28, 30, 73, 81, 82, 83, 84, 89, 100]</td>\n",
       "      <td>(3.483, 2.752, -4.83)</td>\n",
       "      <td>2.126274</td>\n",
       "    </tr>\n",
       "    <tr>\n",
       "      <th>21182</th>\n",
       "      <td>8yhh_B</td>\n",
       "      <td>1</td>\n",
       "      <td>3</td>\n",
       "      <td>0.845100</td>\n",
       "      <td>(18.697, 36.156, 36.722)</td>\n",
       "      <td>[80, 112, 113, 114, 115, 116, 117, 118, 119, 120]</td>\n",
       "      <td>10</td>\n",
       "      <td>5.03</td>\n",
       "      <td>(1.432, -2.726, -9.164)</td>\n",
       "      <td>[78, 110, 111, 112, 113, 114, 115, 116, 117, 118]</td>\n",
       "      <td>(3.372, -2.827, -9.808)</td>\n",
       "      <td>2.046592</td>\n",
       "    </tr>\n",
       "    <tr>\n",
       "      <th>21183</th>\n",
       "      <td>8yhh_B</td>\n",
       "      <td>2</td>\n",
       "      <td>1</td>\n",
       "      <td>0.891808</td>\n",
       "      <td>(17.166, 37.219, 33.178)</td>\n",
       "      <td>[26, 110, 111, 112, 113, 114, 115, 116, 117, 337]</td>\n",
       "      <td>10</td>\n",
       "      <td>5.40</td>\n",
       "      <td>(2.449, -6.6, -6.158)</td>\n",
       "      <td>[24, 108, 109, 110, 111, 112, 113, 114, 115, 335]</td>\n",
       "      <td>(3.125, -6.56, -8.381)</td>\n",
       "      <td>2.323856</td>\n",
       "    </tr>\n",
       "    <tr>\n",
       "      <th>21184</th>\n",
       "      <td>8yhh_B</td>\n",
       "      <td>3</td>\n",
       "      <td>4</td>\n",
       "      <td>0.762785</td>\n",
       "      <td>(19.866, 35.354, 39.926)</td>\n",
       "      <td>[114, 115, 116, 117, 118, 119, 120, 136, 139]</td>\n",
       "      <td>9</td>\n",
       "      <td>4.62</td>\n",
       "      <td>(1.009, -0.402, -10.014)</td>\n",
       "      <td>[112, 113, 114, 115, 116, 117, 118, 134, 137]</td>\n",
       "      <td>(3.477, 0.512, -10.862)</td>\n",
       "      <td>2.765054</td>\n",
       "    </tr>\n",
       "    <tr>\n",
       "      <th>21185</th>\n",
       "      <td>8yhh_B</td>\n",
       "      <td>4</td>\n",
       "      <td>2</td>\n",
       "      <td>0.868750</td>\n",
       "      <td>(17.49, 36.832, 34.263)</td>\n",
       "      <td>[111, 112, 113, 114, 115, 116, 117, 119, 120]</td>\n",
       "      <td>9</td>\n",
       "      <td>5.10</td>\n",
       "      <td>(2.577, -3.998, -8.467)</td>\n",
       "      <td>[109, 110, 111, 112, 113, 114, 115, 117, 118]</td>\n",
       "      <td>(3.284, -5.414, -8.685)</td>\n",
       "      <td>1.597632</td>\n",
       "    </tr>\n",
       "  </tbody>\n",
       "</table>\n",
       "<p>21186 rows × 12 columns</p>\n",
       "</div>"
      ],
      "text/plain": [
       "      rep_chain  ID  RANK     score                      centre  \\\n",
       "0        1a52_A   1     3  0.914543   (107.237, 13.743, 95.017)   \n",
       "1        1a52_A   2     1  0.921467   (107.113, 14.138, 95.474)   \n",
       "2        1a52_A   3     5  0.903405    (106.92, 14.314, 96.059)   \n",
       "3        1a52_A   4     2  0.916810   (106.841, 14.052, 96.027)   \n",
       "4        1a52_A   5     4  0.908655   (106.691, 14.264, 96.407)   \n",
       "...         ...  ..   ...       ...                         ...   \n",
       "21181    8y6o_H   6     4  0.783603  (276.259, 310.187, 255.33)   \n",
       "21182    8yhh_B   1     3  0.845100    (18.697, 36.156, 36.722)   \n",
       "21183    8yhh_B   2     1  0.891808    (17.166, 37.219, 33.178)   \n",
       "21184    8yhh_B   3     4  0.762785    (19.866, 35.354, 39.926)   \n",
       "21185    8yhh_B   4     2  0.868750     (17.49, 36.832, 34.263)   \n",
       "\n",
       "                                                     aas  n_aas   RoG  \\\n",
       "0             [50, 88, 92, 108, 125, 128, 225, 228, 229]      9  7.55   \n",
       "1                  [50, 88, 92, 108, 125, 128, 132, 229]      8  7.79   \n",
       "2                            [50, 88, 92, 108, 125, 229]      6  7.79   \n",
       "3                            [50, 88, 92, 108, 125, 229]      6  7.79   \n",
       "4                         [50, 54, 88, 91, 92, 108, 229]      7  6.80   \n",
       "...                                                  ...    ...   ...   \n",
       "21181              [28, 30, 73, 81, 82, 83, 84, 89, 100]      9  6.16   \n",
       "21182  [80, 112, 113, 114, 115, 116, 117, 118, 119, 120]     10  5.03   \n",
       "21183  [26, 110, 111, 112, 113, 114, 115, 116, 117, 337]     10  5.40   \n",
       "21184      [114, 115, 116, 117, 118, 119, 120, 136, 139]      9  4.62   \n",
       "21185      [111, 112, 113, 114, 115, 116, 117, 119, 120]      9  5.10   \n",
       "\n",
       "                   centre_trans  \\\n",
       "0        (1.394, -9.77, -4.104)   \n",
       "1       (3.028, -8.849, -3.212)   \n",
       "2       (1.669, -9.473, -1.796)   \n",
       "3       (1.669, -9.473, -1.796)   \n",
       "4        (0.465, -7.793, 0.546)   \n",
       "...                         ...   \n",
       "21181    (2.137, 1.138, -4.507)   \n",
       "21182   (1.432, -2.726, -9.164)   \n",
       "21183     (2.449, -6.6, -6.158)   \n",
       "21184  (1.009, -0.402, -10.014)   \n",
       "21185   (2.577, -3.998, -8.467)   \n",
       "\n",
       "                                                  up_aas  \\\n",
       "0          [346, 384, 388, 404, 421, 424, 521, 524, 525]   \n",
       "1               [346, 384, 388, 404, 421, 424, 428, 525]   \n",
       "2                         [346, 384, 388, 404, 421, 525]   \n",
       "3                         [346, 384, 388, 404, 421, 525]   \n",
       "4                    [346, 350, 384, 387, 388, 404, 525]   \n",
       "...                                                  ...   \n",
       "21181              [28, 30, 73, 81, 82, 83, 84, 89, 100]   \n",
       "21182  [78, 110, 111, 112, 113, 114, 115, 116, 117, 118]   \n",
       "21183  [24, 108, 109, 110, 111, 112, 113, 114, 115, 335]   \n",
       "21184      [112, 113, 114, 115, 116, 117, 118, 134, 137]   \n",
       "21185      [109, 110, 111, 112, 113, 114, 115, 117, 118]   \n",
       "\n",
       "                     centre_mat  distance  \n",
       "0      (1.368, -10.709, -2.997)  1.451842  \n",
       "1      (1.359, -10.351, -2.495)  2.357043  \n",
       "2      (1.164, -10.161, -1.915)  0.861702  \n",
       "3      (0.979, -10.347, -2.003)  1.132619  \n",
       "4      (0.877, -10.127, -1.611)  3.204676  \n",
       "...                         ...       ...  \n",
       "21181     (3.483, 2.752, -4.83)  2.126274  \n",
       "21182   (3.372, -2.827, -9.808)  2.046592  \n",
       "21183    (3.125, -6.56, -8.381)  2.323856  \n",
       "21184   (3.477, 0.512, -10.862)  2.765054  \n",
       "21185   (3.284, -5.414, -8.685)  1.597632  \n",
       "\n",
       "[21186 rows x 12 columns]"
      ]
     },
     "execution_count": 142,
     "metadata": {},
     "output_type": "execute_result"
    }
   ],
   "source": [
    "all_vnegnn_pockets_w_sifts #centre_mat is the translated and rotated centre as reported by VN-EGNN"
   ]
  },
  {
   "cell_type": "markdown",
   "id": "a2f01711-62d1-4016-b79e-b821bf88a8ad",
   "metadata": {},
   "source": [
    "## Mapping PDB residues to UP residues"
   ]
  },
  {
   "cell_type": "code",
   "execution_count": 47,
   "id": "935a3a84-3677-4e2b-9e4e-e305d4518f29",
   "metadata": {},
   "outputs": [],
   "source": [
    "up_aas = {}\n",
    "errors = []\n",
    "no_sifts = []\n",
    "for i, row in all_vnegnn_pockets.iterrows():\n",
    "    b = 0\n",
    "    rep_chain = row.rep_chain\n",
    "    site_ress = row.aas\n",
    "    rank = row[\"RANK\"]\n",
    "    try:\n",
    "        #mapping_dict = read_from_pickle(f'./../../mappings_label/{rep_chain}.pkl')\n",
    "        mapping_dict = read_from_pickle(f'./../DATA/mappings_label_full/{rep_chain}.pkl')\n",
    "    except:\n",
    "        no_sifts.append(rep_chain)\n",
    "    site_up_aas = []\n",
    "    for res in site_ress:\n",
    "        try:\n",
    "            site_up_aas.append(mapping_dict[str(res)]) # I think there are integers here as it is not working with AltLocs, so none are present\n",
    "        except:\n",
    "            errors.append(rep_chain)\n",
    "            #print(site_ress)\n",
    "            #print(f'Residue {res} has no mapping for {i}th {rep_chain}')\n",
    "            #raise\n",
    "            b = 1\n",
    "            break\n",
    "    if b ==1:\n",
    "        continue\n",
    "    up_aas[(rep_chain, rank)] = site_up_aas\n",
    "    #break"
   ]
  },
  {
   "cell_type": "code",
   "execution_count": 49,
   "id": "37643e8d-2313-486d-928e-d37806ee8424",
   "metadata": {},
   "outputs": [
    {
     "name": "stdout",
     "output_type": "stream",
     "text": [
      "21386\n",
      "246\n",
      "1995\n",
      "246\n"
     ]
    }
   ],
   "source": [
    "print(len(up_aas)) #21386\n",
    "print(len(errors)) #1025\n",
    "print(len(no_sifts)) #1995\n",
    "errors = list(set(errors)) # 31chains have issues with SIFTS mapping, e.g, 1nav_A. For some reason, the last 40 residues lack residue mapping to UniProt\n",
    "print(len(errors)) #246\n",
    "save_to_pickle(errors, \"./results/VNEGNN_no_sifts_TRANS.pkl\")"
   ]
  },
  {
   "cell_type": "code",
   "execution_count": 50,
   "id": "2ae64126-90ef-4d12-b85e-f859abd3523a",
   "metadata": {},
   "outputs": [],
   "source": [
    "all_vnegnn_pockets_w_sifts = all_vnegnn_pockets.query('rep_chain not in @errors').copy().reset_index(drop = True)\n",
    "all_vnegnn_pockets_w_sifts[\"up_aas\"] = all_vnegnn_pockets_w_sifts.set_index(['rep_chain', 'RANK']).index.map(up_aas)\n",
    "\n",
    "all_vnegnn_pockets_w_sifts[\"n_up_aas\"] = all_vnegnn_pockets_w_sifts['up_aas'].apply(lambda x: len(x))\n",
    "assert all_vnegnn_pockets_w_sifts.n_aas.equals(all_vnegnn_pockets_w_sifts.n_up_aas)\n",
    "all_vnegnn_pockets_w_sifts.drop(columns = [\"n_up_aas\"], inplace = True)"
   ]
  },
  {
   "cell_type": "code",
   "execution_count": 51,
   "id": "918f820c-a0a2-4da0-a336-a8e24ed960b9",
   "metadata": {},
   "outputs": [
    {
     "data": {
      "text/html": [
       "<div>\n",
       "<style scoped>\n",
       "    .dataframe tbody tr th:only-of-type {\n",
       "        vertical-align: middle;\n",
       "    }\n",
       "\n",
       "    .dataframe tbody tr th {\n",
       "        vertical-align: top;\n",
       "    }\n",
       "\n",
       "    .dataframe thead th {\n",
       "        text-align: right;\n",
       "    }\n",
       "</style>\n",
       "<table border=\"1\" class=\"dataframe\">\n",
       "  <thead>\n",
       "    <tr style=\"text-align: right;\">\n",
       "      <th></th>\n",
       "      <th>rep_chain</th>\n",
       "      <th>ID</th>\n",
       "      <th>RANK</th>\n",
       "      <th>score</th>\n",
       "      <th>centre</th>\n",
       "      <th>aas</th>\n",
       "      <th>n_aas</th>\n",
       "      <th>RoG</th>\n",
       "      <th>centre_trans</th>\n",
       "      <th>up_aas</th>\n",
       "    </tr>\n",
       "  </thead>\n",
       "  <tbody>\n",
       "    <tr>\n",
       "      <th>0</th>\n",
       "      <td>1a52_A</td>\n",
       "      <td>1</td>\n",
       "      <td>3</td>\n",
       "      <td>0.914543</td>\n",
       "      <td>(107.237, 13.743, 95.017)</td>\n",
       "      <td>[50, 88, 92, 108, 125, 128, 225, 228, 229]</td>\n",
       "      <td>9</td>\n",
       "      <td>7.55</td>\n",
       "      <td>(1.394, -9.77, -4.104)</td>\n",
       "      <td>[346, 384, 388, 404, 421, 424, 521, 524, 525]</td>\n",
       "    </tr>\n",
       "    <tr>\n",
       "      <th>1</th>\n",
       "      <td>1a52_A</td>\n",
       "      <td>2</td>\n",
       "      <td>1</td>\n",
       "      <td>0.921467</td>\n",
       "      <td>(107.113, 14.138, 95.474)</td>\n",
       "      <td>[50, 88, 92, 108, 125, 128, 132, 229]</td>\n",
       "      <td>8</td>\n",
       "      <td>7.79</td>\n",
       "      <td>(3.028, -8.849, -3.212)</td>\n",
       "      <td>[346, 384, 388, 404, 421, 424, 428, 525]</td>\n",
       "    </tr>\n",
       "    <tr>\n",
       "      <th>2</th>\n",
       "      <td>1a52_A</td>\n",
       "      <td>3</td>\n",
       "      <td>5</td>\n",
       "      <td>0.903405</td>\n",
       "      <td>(106.92, 14.314, 96.059)</td>\n",
       "      <td>[50, 88, 92, 108, 125, 229]</td>\n",
       "      <td>6</td>\n",
       "      <td>7.79</td>\n",
       "      <td>(1.669, -9.473, -1.796)</td>\n",
       "      <td>[346, 384, 388, 404, 421, 525]</td>\n",
       "    </tr>\n",
       "    <tr>\n",
       "      <th>3</th>\n",
       "      <td>1a52_A</td>\n",
       "      <td>4</td>\n",
       "      <td>2</td>\n",
       "      <td>0.916810</td>\n",
       "      <td>(106.841, 14.052, 96.027)</td>\n",
       "      <td>[50, 88, 92, 108, 125, 229]</td>\n",
       "      <td>6</td>\n",
       "      <td>7.79</td>\n",
       "      <td>(1.669, -9.473, -1.796)</td>\n",
       "      <td>[346, 384, 388, 404, 421, 525]</td>\n",
       "    </tr>\n",
       "    <tr>\n",
       "      <th>4</th>\n",
       "      <td>1a52_A</td>\n",
       "      <td>5</td>\n",
       "      <td>4</td>\n",
       "      <td>0.908655</td>\n",
       "      <td>(106.691, 14.264, 96.407)</td>\n",
       "      <td>[50, 54, 88, 91, 92, 108, 229]</td>\n",
       "      <td>7</td>\n",
       "      <td>6.80</td>\n",
       "      <td>(0.465, -7.793, 0.546)</td>\n",
       "      <td>[346, 350, 384, 387, 388, 404, 525]</td>\n",
       "    </tr>\n",
       "  </tbody>\n",
       "</table>\n",
       "</div>"
      ],
      "text/plain": [
       "  rep_chain  ID  RANK     score                     centre  \\\n",
       "0    1a52_A   1     3  0.914543  (107.237, 13.743, 95.017)   \n",
       "1    1a52_A   2     1  0.921467  (107.113, 14.138, 95.474)   \n",
       "2    1a52_A   3     5  0.903405   (106.92, 14.314, 96.059)   \n",
       "3    1a52_A   4     2  0.916810  (106.841, 14.052, 96.027)   \n",
       "4    1a52_A   5     4  0.908655  (106.691, 14.264, 96.407)   \n",
       "\n",
       "                                          aas  n_aas   RoG  \\\n",
       "0  [50, 88, 92, 108, 125, 128, 225, 228, 229]      9  7.55   \n",
       "1       [50, 88, 92, 108, 125, 128, 132, 229]      8  7.79   \n",
       "2                 [50, 88, 92, 108, 125, 229]      6  7.79   \n",
       "3                 [50, 88, 92, 108, 125, 229]      6  7.79   \n",
       "4              [50, 54, 88, 91, 92, 108, 229]      7  6.80   \n",
       "\n",
       "              centre_trans                                         up_aas  \n",
       "0   (1.394, -9.77, -4.104)  [346, 384, 388, 404, 421, 424, 521, 524, 525]  \n",
       "1  (3.028, -8.849, -3.212)       [346, 384, 388, 404, 421, 424, 428, 525]  \n",
       "2  (1.669, -9.473, -1.796)                 [346, 384, 388, 404, 421, 525]  \n",
       "3  (1.669, -9.473, -1.796)                 [346, 384, 388, 404, 421, 525]  \n",
       "4   (0.465, -7.793, 0.546)            [346, 350, 384, 387, 388, 404, 525]  "
      ]
     },
     "execution_count": 51,
     "metadata": {},
     "output_type": "execute_result"
    }
   ],
   "source": [
    "all_vnegnn_pockets_w_sifts.head(5)"
   ]
  },
  {
   "cell_type": "code",
   "execution_count": 53,
   "id": "2f0596d9-4f30-40a9-808a-3ca298386e8d",
   "metadata": {},
   "outputs": [
    {
     "data": {
      "text/plain": [
       "4184"
      ]
     },
     "execution_count": 53,
     "metadata": {},
     "output_type": "execute_result"
    }
   ],
   "source": [
    "len(all_vnegnn_pockets_w_sifts.rep_chain.unique()) #4184"
   ]
  },
  {
   "cell_type": "code",
   "execution_count": 54,
   "id": "0f24cea0-e8c3-40c9-8977-2deffd24397e",
   "metadata": {},
   "outputs": [
    {
     "data": {
      "text/plain": [
       "3404"
      ]
     },
     "execution_count": 54,
     "metadata": {},
     "output_type": "execute_result"
    }
   ],
   "source": [
    "len(set(LIGYSIS_reps).intersection(set(all_vnegnn_pockets_w_sifts.rep_chain.tolist())))"
   ]
  },
  {
   "cell_type": "code",
   "execution_count": 143,
   "id": "85681641-8b84-45ac-bafb-495663f757dc",
   "metadata": {},
   "outputs": [],
   "source": [
    "#all_vnegnn_pockets_w_sifts.to_pickle(\"./results/VNEGNN_pockets_sifted_V2_6A.pkl\")"
   ]
  },
  {
   "cell_type": "markdown",
   "id": "7301973d-7f7c-44ff-9868-9726d320ad9d",
   "metadata": {},
   "source": [
    "## Get all ligand binding residues for each representative chain"
   ]
  },
  {
   "cell_type": "code",
   "execution_count": 143,
   "id": "62470675-9783-46df-b9d3-3b5898d478d2",
   "metadata": {},
   "outputs": [
    {
     "data": {
      "text/html": [
       "<div>\n",
       "<style scoped>\n",
       "    .dataframe tbody tr th:only-of-type {\n",
       "        vertical-align: middle;\n",
       "    }\n",
       "\n",
       "    .dataframe tbody tr th {\n",
       "        vertical-align: top;\n",
       "    }\n",
       "\n",
       "    .dataframe thead th {\n",
       "        text-align: right;\n",
       "    }\n",
       "</style>\n",
       "<table border=\"1\" class=\"dataframe\">\n",
       "  <thead>\n",
       "    <tr style=\"text-align: right;\">\n",
       "      <th></th>\n",
       "      <th>rep_chain</th>\n",
       "      <th>ID</th>\n",
       "      <th>RANK</th>\n",
       "      <th>score</th>\n",
       "      <th>centre</th>\n",
       "      <th>aas</th>\n",
       "      <th>n_aas</th>\n",
       "      <th>RoG</th>\n",
       "      <th>centre_trans</th>\n",
       "      <th>up_aas</th>\n",
       "      <th>centre_mat</th>\n",
       "      <th>distance</th>\n",
       "    </tr>\n",
       "  </thead>\n",
       "  <tbody>\n",
       "    <tr>\n",
       "      <th>0</th>\n",
       "      <td>1a52_A</td>\n",
       "      <td>1</td>\n",
       "      <td>3</td>\n",
       "      <td>0.914543</td>\n",
       "      <td>(107.237, 13.743, 95.017)</td>\n",
       "      <td>[50, 88, 92, 108, 125, 128, 225, 228, 229]</td>\n",
       "      <td>9</td>\n",
       "      <td>7.55</td>\n",
       "      <td>(1.394, -9.77, -4.104)</td>\n",
       "      <td>[346, 384, 388, 404, 421, 424, 521, 524, 525]</td>\n",
       "      <td>(1.368, -10.709, -2.997)</td>\n",
       "      <td>1.451842</td>\n",
       "    </tr>\n",
       "    <tr>\n",
       "      <th>1</th>\n",
       "      <td>1a52_A</td>\n",
       "      <td>2</td>\n",
       "      <td>1</td>\n",
       "      <td>0.921467</td>\n",
       "      <td>(107.113, 14.138, 95.474)</td>\n",
       "      <td>[50, 88, 92, 108, 125, 128, 132, 229]</td>\n",
       "      <td>8</td>\n",
       "      <td>7.79</td>\n",
       "      <td>(3.028, -8.849, -3.212)</td>\n",
       "      <td>[346, 384, 388, 404, 421, 424, 428, 525]</td>\n",
       "      <td>(1.359, -10.351, -2.495)</td>\n",
       "      <td>2.357043</td>\n",
       "    </tr>\n",
       "    <tr>\n",
       "      <th>2</th>\n",
       "      <td>1a52_A</td>\n",
       "      <td>3</td>\n",
       "      <td>5</td>\n",
       "      <td>0.903405</td>\n",
       "      <td>(106.92, 14.314, 96.059)</td>\n",
       "      <td>[50, 88, 92, 108, 125, 229]</td>\n",
       "      <td>6</td>\n",
       "      <td>7.79</td>\n",
       "      <td>(1.669, -9.473, -1.796)</td>\n",
       "      <td>[346, 384, 388, 404, 421, 525]</td>\n",
       "      <td>(1.164, -10.161, -1.915)</td>\n",
       "      <td>0.861702</td>\n",
       "    </tr>\n",
       "  </tbody>\n",
       "</table>\n",
       "</div>"
      ],
      "text/plain": [
       "  rep_chain  ID  RANK     score                     centre  \\\n",
       "0    1a52_A   1     3  0.914543  (107.237, 13.743, 95.017)   \n",
       "1    1a52_A   2     1  0.921467  (107.113, 14.138, 95.474)   \n",
       "2    1a52_A   3     5  0.903405   (106.92, 14.314, 96.059)   \n",
       "\n",
       "                                          aas  n_aas   RoG  \\\n",
       "0  [50, 88, 92, 108, 125, 128, 225, 228, 229]      9  7.55   \n",
       "1       [50, 88, 92, 108, 125, 128, 132, 229]      8  7.79   \n",
       "2                 [50, 88, 92, 108, 125, 229]      6  7.79   \n",
       "\n",
       "              centre_trans                                         up_aas  \\\n",
       "0   (1.394, -9.77, -4.104)  [346, 384, 388, 404, 421, 424, 521, 524, 525]   \n",
       "1  (3.028, -8.849, -3.212)       [346, 384, 388, 404, 421, 424, 428, 525]   \n",
       "2  (1.669, -9.473, -1.796)                 [346, 384, 388, 404, 421, 525]   \n",
       "\n",
       "                 centre_mat  distance  \n",
       "0  (1.368, -10.709, -2.997)  1.451842  \n",
       "1  (1.359, -10.351, -2.495)  2.357043  \n",
       "2  (1.164, -10.161, -1.915)  0.861702  "
      ]
     },
     "execution_count": 143,
     "metadata": {},
     "output_type": "execute_result"
    }
   ],
   "source": [
    "all_vnegnn_pockets_w_sifts.head(3)"
   ]
  },
  {
   "cell_type": "code",
   "execution_count": 154,
   "id": "3f78f0ee-17c1-4b05-be63-0790d053e5af",
   "metadata": {},
   "outputs": [],
   "source": [
    "binding_ress_dict = all_vnegnn_pockets_w_sifts.groupby('rep_chain')['up_aas'].agg(lambda x: list(set(y for lst in x for y in lst))).to_dict()"
   ]
  },
  {
   "cell_type": "markdown",
   "id": "93d2b19a-b2c2-4c69-a715-dff66edaaa7c",
   "metadata": {},
   "source": [
    "## Add pocket surfaces and volumes"
   ]
  },
  {
   "cell_type": "code",
   "execution_count": 147,
   "id": "b07142dd-adc0-4b72-b85e-f4912207ff1a",
   "metadata": {},
   "outputs": [],
   "source": [
    "import importlib\n",
    "import JSU_lib\n",
    "importlib.reload(JSU_lib)\n",
    "from JSU_lib import *\n",
    "\n",
    "bad_reps = read_from_pickle(\"./results/OLD/other_errrors_reps.pkl\")\n",
    "\n",
    "#all_vnegnn_pockets_w_sifts = pd.read_pickle(\"./results/vnegnn_pockets_sifted_V2_6A.pkl\")\n",
    "\n",
    "master_SASA_dict = read_from_pickle(\"./results/master_SASA_dict.pkl\")\n",
    "\n",
    "combined_SASA_df = calculate_total_sasa(all_vnegnn_pockets_w_sifts, master_SASA_dict)\n",
    "\n",
    "vols_dict = read_from_pickle(\"./results/VNEGNN_volumes_dict.pkl\")\n",
    "\n",
    "combined_SASA_df[\"VOL\"] = combined_SASA_df.set_index(['rep_chain', 'ID']).index.map(vols_dict)"
   ]
  },
  {
   "cell_type": "code",
   "execution_count": 148,
   "id": "abca2409-9c9d-4afc-95d4-68222e2941d5",
   "metadata": {},
   "outputs": [
    {
     "data": {
      "text/html": [
       "<div>\n",
       "<style scoped>\n",
       "    .dataframe tbody tr th:only-of-type {\n",
       "        vertical-align: middle;\n",
       "    }\n",
       "\n",
       "    .dataframe tbody tr th {\n",
       "        vertical-align: top;\n",
       "    }\n",
       "\n",
       "    .dataframe thead th {\n",
       "        text-align: right;\n",
       "    }\n",
       "</style>\n",
       "<table border=\"1\" class=\"dataframe\">\n",
       "  <thead>\n",
       "    <tr style=\"text-align: right;\">\n",
       "      <th></th>\n",
       "      <th>rep_chain</th>\n",
       "      <th>ID</th>\n",
       "      <th>RANK</th>\n",
       "      <th>score</th>\n",
       "      <th>centre</th>\n",
       "      <th>aas</th>\n",
       "      <th>n_aas</th>\n",
       "      <th>RoG</th>\n",
       "      <th>centre_trans</th>\n",
       "      <th>up_aas</th>\n",
       "      <th>centre_mat</th>\n",
       "      <th>distance</th>\n",
       "      <th>SASA</th>\n",
       "      <th>VOL</th>\n",
       "    </tr>\n",
       "  </thead>\n",
       "  <tbody>\n",
       "  </tbody>\n",
       "</table>\n",
       "</div>"
      ],
      "text/plain": [
       "Empty DataFrame\n",
       "Columns: [rep_chain, ID, RANK, score, centre, aas, n_aas, RoG, centre_trans, up_aas, centre_mat, distance, SASA, VOL]\n",
       "Index: []"
      ]
     },
     "execution_count": 148,
     "metadata": {},
     "output_type": "execute_result"
    }
   ],
   "source": [
    "combined_SASA_df.query('VOL != VOL & rep_chain not in @bad_reps & n_aas != 0') "
   ]
  },
  {
   "cell_type": "code",
   "execution_count": 149,
   "id": "6118ea39-f22c-4a32-a551-3ef2fb01236d",
   "metadata": {},
   "outputs": [],
   "source": [
    "combined_SASA_df.to_pickle(\"./results/VNEGNN_pockets_DEF_TRANS.pkl\")"
   ]
  }
 ],
 "metadata": {
  "kernelspec": {
   "display_name": "Python [conda env:myenv2]",
   "language": "python",
   "name": "conda-env-myenv2-py"
  },
  "language_info": {
   "codemirror_mode": {
    "name": "ipython",
    "version": 3
   },
   "file_extension": ".py",
   "mimetype": "text/x-python",
   "name": "python",
   "nbconvert_exporter": "python",
   "pygments_lexer": "ipython3",
   "version": "3.10.0"
  }
 },
 "nbformat": 4,
 "nbformat_minor": 5
}
