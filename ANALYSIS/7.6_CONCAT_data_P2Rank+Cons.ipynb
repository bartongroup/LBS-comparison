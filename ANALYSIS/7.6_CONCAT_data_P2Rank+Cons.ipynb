{
 "cells": [
  {
   "cell_type": "markdown",
   "metadata": {},
   "source": [
    "## Imports"
   ]
  },
  {
   "cell_type": "code",
   "execution_count": 1,
   "metadata": {},
   "outputs": [],
   "source": [
    "from JSU_lib import *"
   ]
  },
  {
   "cell_type": "markdown",
   "metadata": {},
   "source": [
    "## Utils functions"
   ]
  },
  {
   "cell_type": "markdown",
   "metadata": {},
   "source": [
    "## Concatenating P2RANK predictions for LIGYSIS representative chains"
   ]
  },
  {
   "cell_type": "code",
   "execution_count": 2,
   "metadata": {},
   "outputs": [],
   "source": [
    "rep_chains_files = read_from_pickle(\"./results/PDB_rep_chains_files.pkl\")\n",
    "\n",
    "LIGYSIS_rep_chains = [el.split(\".\")[0] for el in rep_chains_files]\n",
    "\n",
    "preds_dir = \"/Users/2394007/Documents/PHD/LOCAL/JSU_site_predictors/PROGRAMS/p2rank_2.4.2-beta.1/test_output/predict_trans_rep_chains_V2_CONS\"\n",
    "all_rep_chains_LIGYSIS = [el.split(\".\")[0] for el in os.listdir(preds_dir) if el.endswith(\"_predictions.csv\")]"
   ]
  },
  {
   "cell_type": "code",
   "execution_count": 19,
   "metadata": {},
   "outputs": [],
   "source": [
    "all_rep_chains_LIGYSIS = [el for el in all_rep_chains_LIGYSIS if el in LIGYSIS_rep_chains]"
   ]
  },
  {
   "cell_type": "code",
   "execution_count": 10,
   "metadata": {},
   "outputs": [
    {
     "data": {
      "text/plain": [
       "4037"
      ]
     },
     "execution_count": 10,
     "metadata": {},
     "output_type": "execute_result"
    }
   ],
   "source": [
    "len(LIGYSIS_rep_chains)"
   ]
  },
  {
   "cell_type": "code",
   "execution_count": 21,
   "metadata": {},
   "outputs": [
    {
     "data": {
      "text/plain": [
       "4037"
      ]
     },
     "execution_count": 21,
     "metadata": {},
     "output_type": "execute_result"
    }
   ],
   "source": [
    "len(set(all_rep_chains_LIGYSIS))"
   ]
  },
  {
   "cell_type": "code",
   "execution_count": 22,
   "metadata": {
    "collapsed": true,
    "jupyter": {
     "outputs_hidden": true
    }
   },
   "outputs": [
    {
     "name": "stdout",
     "output_type": "stream",
     "text": [
      "0\n",
      "100\n",
      "200\n",
      "300\n",
      "400\n",
      "500\n",
      "600\n",
      "700\n",
      "800\n",
      "900\n",
      "1000\n",
      "1100\n",
      "1200\n",
      "1300\n",
      "1400\n",
      "1500\n",
      "1600\n",
      "1700\n",
      "1800\n",
      "1900\n",
      "2000\n",
      "2100\n",
      "2200\n",
      "2300\n",
      "2400\n",
      "2500\n",
      "2600\n",
      "2700\n",
      "2800\n",
      "2900\n",
      "3000\n",
      "3100\n",
      "3200\n",
      "3300\n",
      "3400\n",
      "3500\n",
      "3600\n",
      "3700\n",
      "3800\n",
      "3900\n",
      "4000\n",
      "35.74350905418396\n"
     ]
    }
   ],
   "source": [
    "t0 = time.time()\n",
    "\n",
    "pred_dfs = []\n",
    "ress_dfs = []\n",
    "\n",
    "no_preds = []\n",
    "no_ress = []\n",
    "\n",
    "for i, rep_chain in enumerate(all_rep_chains_LIGYSIS):\n",
    "    \n",
    "    if i % 100 == 0:\n",
    "        print(i)\n",
    "        \n",
    "    preds_path = os.path.join(preds_dir, f'{rep_chain}.trans.pdb_predictions.csv')\n",
    "    ress_path = os.path.join(preds_dir, f'{rep_chain}.trans.pdb_residues.csv')\n",
    "    try:\n",
    "        preds_df = pd.read_csv(preds_path)\n",
    "        preds_df[\"rep_chain\"] = rep_chain\n",
    "        pred_dfs.append(preds_df)\n",
    "    except:\n",
    "        print(\"Predictions not found for {}\".format(rep_chain))\n",
    "        no_preds.append(rep_chain)   \n",
    "    try:\n",
    "        ress_df = pd.read_csv(ress_path)\n",
    "        ress_df[\"rep_chain\"] = rep_chain\n",
    "        ress_dfs.append(ress_df)\n",
    "    except:\n",
    "        print(\"Residues not found for {}\".format(rep_chain))\n",
    "        no_ress.append(rep_chain)\n",
    "        \n",
    "all_p2rank_preds = pd.concat(pred_dfs).reset_index(drop = True)\n",
    "all_p2rank_ress = pd.concat(ress_dfs).reset_index(drop = True)\n",
    "\n",
    "tf = time.time()\n",
    "print(tf-t0)"
   ]
  },
  {
   "cell_type": "code",
   "execution_count": 23,
   "metadata": {},
   "outputs": [
    {
     "name": "stdout",
     "output_type": "stream",
     "text": [
      "0\n",
      "0\n"
     ]
    }
   ],
   "source": [
    "print(len(no_preds))\n",
    "print(len(no_ress))"
   ]
  },
  {
   "cell_type": "code",
   "execution_count": 24,
   "metadata": {},
   "outputs": [
    {
     "name": "stdout",
     "output_type": "stream",
     "text": [
      "4037\n",
      "4037\n",
      "4037\n",
      "3749\n"
     ]
    }
   ],
   "source": [
    "print(len(pred_dfs)) #4037\n",
    "print(len(ress_dfs))  #4037\n",
    "p2rank_pred_reps = all_p2rank_preds.query('rep_chain in @LIGYSIS_rep_chains').rep_chain.unique()\n",
    "print(len(all_p2rank_ress.query('rep_chain in @LIGYSIS_rep_chains').rep_chain.unique())) #4037\n",
    "print(len(p2rank_pred_reps)) # P2Rank does not predict any sites in 288 proteins (7.13%) #3193"
   ]
  },
  {
   "cell_type": "code",
   "execution_count": 8,
   "metadata": {},
   "outputs": [
    {
     "data": {
      "text/plain": [
       "3193"
      ]
     },
     "execution_count": 8,
     "metadata": {},
     "output_type": "execute_result"
    }
   ],
   "source": [
    "LIGYSIS_reps = read_from_pickle(\"./results/LIGYSIS_3448_chains.pkl\")\n",
    "len(set(LIGYSIS_reps).intersection(set(p2rank_pred_reps)))"
   ]
  },
  {
   "cell_type": "code",
   "execution_count": 14,
   "metadata": {},
   "outputs": [
    {
     "data": {
      "text/plain": [
       "0.07134010403765172"
      ]
     },
     "execution_count": 14,
     "metadata": {},
     "output_type": "execute_result"
    }
   ],
   "source": [
    "(4037-3749)/4037"
   ]
  },
  {
   "cell_type": "code",
   "execution_count": 25,
   "metadata": {},
   "outputs": [
    {
     "data": {
      "text/plain": [
       "(14225, 12)"
      ]
     },
     "execution_count": 25,
     "metadata": {},
     "output_type": "execute_result"
    }
   ],
   "source": [
    "all_p2rank_preds.shape"
   ]
  },
  {
   "cell_type": "code",
   "execution_count": 26,
   "metadata": {},
   "outputs": [
    {
     "data": {
      "text/plain": [
       "(1147073, 8)"
      ]
     },
     "execution_count": 26,
     "metadata": {},
     "output_type": "execute_result"
    }
   ],
   "source": [
    "all_p2rank_ress.shape"
   ]
  },
  {
   "cell_type": "code",
   "execution_count": 17,
   "metadata": {},
   "outputs": [
    {
     "data": {
      "text/html": [
       "<div>\n",
       "<style scoped>\n",
       "    .dataframe tbody tr th:only-of-type {\n",
       "        vertical-align: middle;\n",
       "    }\n",
       "\n",
       "    .dataframe tbody tr th {\n",
       "        vertical-align: top;\n",
       "    }\n",
       "\n",
       "    .dataframe thead th {\n",
       "        text-align: right;\n",
       "    }\n",
       "</style>\n",
       "<table border=\"1\" class=\"dataframe\">\n",
       "  <thead>\n",
       "    <tr style=\"text-align: right;\">\n",
       "      <th></th>\n",
       "      <th>name</th>\n",
       "      <th>rank</th>\n",
       "      <th>score</th>\n",
       "      <th>probability</th>\n",
       "      <th>sas_points</th>\n",
       "      <th>surf_atoms</th>\n",
       "      <th>center_x</th>\n",
       "      <th>center_y</th>\n",
       "      <th>center_z</th>\n",
       "      <th>residue_ids</th>\n",
       "      <th>surf_atom_ids</th>\n",
       "      <th>rep_chain</th>\n",
       "    </tr>\n",
       "  </thead>\n",
       "  <tbody>\n",
       "    <tr>\n",
       "      <th>0</th>\n",
       "      <td>pocket1</td>\n",
       "      <td>1</td>\n",
       "      <td>2.90</td>\n",
       "      <td>0.093</td>\n",
       "      <td>32</td>\n",
       "      <td>23</td>\n",
       "      <td>5.4987</td>\n",
       "      <td>-6.5148</td>\n",
       "      <td>4.5887</td>\n",
       "      <td>C_106 C_110 C_139 C_140 C_142 C_171 C_174 C_2...</td>\n",
       "      <td>266 267 392 403 407 409 612 644 858 862 870 8...</td>\n",
       "      <td>2b0o_G</td>\n",
       "    </tr>\n",
       "    <tr>\n",
       "      <th>1</th>\n",
       "      <td>pocket1</td>\n",
       "      <td>1</td>\n",
       "      <td>24.38</td>\n",
       "      <td>0.879</td>\n",
       "      <td>116</td>\n",
       "      <td>50</td>\n",
       "      <td>-6.8088</td>\n",
       "      <td>7.4438</td>\n",
       "      <td>0.1750</td>\n",
       "      <td>A_102 A_108 A_127 A_128 A_178 A_179 A_27 A_29...</td>\n",
       "      <td>218 219 221 223 237 363 373 377 379 380 411 4...</td>\n",
       "      <td>5qhh_A</td>\n",
       "    </tr>\n",
       "    <tr>\n",
       "      <th>2</th>\n",
       "      <td>pocket1</td>\n",
       "      <td>1</td>\n",
       "      <td>1.92</td>\n",
       "      <td>0.038</td>\n",
       "      <td>32</td>\n",
       "      <td>18</td>\n",
       "      <td>-11.3402</td>\n",
       "      <td>11.2421</td>\n",
       "      <td>3.9851</td>\n",
       "      <td>A_103 A_12 A_15 A_16 A_8 A_95 A_96 A_98</td>\n",
       "      <td>21 22 45 46 54 76 90 694 705 723 724 760 761 ...</td>\n",
       "      <td>6yih_A</td>\n",
       "    </tr>\n",
       "  </tbody>\n",
       "</table>\n",
       "</div>"
      ],
      "text/plain": [
       "   name        rank     score   probability  sas_points  surf_atoms  \\\n",
       "0  pocket1        1      2.90         0.093          32          23   \n",
       "1  pocket1        1     24.38         0.879         116          50   \n",
       "2  pocket1        1      1.92         0.038          32          18   \n",
       "\n",
       "      center_x     center_y     center_z  \\\n",
       "0       5.4987      -6.5148       4.5887   \n",
       "1      -6.8088       7.4438       0.1750   \n",
       "2     -11.3402      11.2421       3.9851   \n",
       "\n",
       "                                         residue_ids  \\\n",
       "0   C_106 C_110 C_139 C_140 C_142 C_171 C_174 C_2...   \n",
       "1   A_102 A_108 A_127 A_128 A_178 A_179 A_27 A_29...   \n",
       "2            A_103 A_12 A_15 A_16 A_8 A_95 A_96 A_98   \n",
       "\n",
       "                                       surf_atom_ids rep_chain  \n",
       "0   266 267 392 403 407 409 612 644 858 862 870 8...    2b0o_G  \n",
       "1   218 219 221 223 237 363 373 377 379 380 411 4...    5qhh_A  \n",
       "2   21 22 45 46 54 76 90 694 705 723 724 760 761 ...    6yih_A  "
      ]
     },
     "execution_count": 17,
     "metadata": {},
     "output_type": "execute_result"
    }
   ],
   "source": [
    "all_p2rank_preds.head(3)"
   ]
  },
  {
   "cell_type": "code",
   "execution_count": 27,
   "metadata": {},
   "outputs": [],
   "source": [
    "i_cols = [\"rep_chain\", \"name\", \"rank\", \"score\", \"probability\", \"sas_points\", \"surf_atoms\", \"residue_ids\", \"center_x\", \"center_y\", \"center_z\"]\n",
    "\n",
    "p2rank_pockets_df = fix_col_names(all_p2rank_preds)\n",
    "p2rank_pockets_df = reformat_sites_df(p2rank_pockets_df[i_cols])"
   ]
  },
  {
   "cell_type": "code",
   "execution_count": 28,
   "metadata": {},
   "outputs": [
    {
     "data": {
      "text/html": [
       "<div>\n",
       "<style scoped>\n",
       "    .dataframe tbody tr th:only-of-type {\n",
       "        vertical-align: middle;\n",
       "    }\n",
       "\n",
       "    .dataframe tbody tr th {\n",
       "        vertical-align: top;\n",
       "    }\n",
       "\n",
       "    .dataframe thead th {\n",
       "        text-align: right;\n",
       "    }\n",
       "</style>\n",
       "<table border=\"1\" class=\"dataframe\">\n",
       "  <thead>\n",
       "    <tr style=\"text-align: right;\">\n",
       "      <th></th>\n",
       "      <th>rep_chain</th>\n",
       "      <th>ID</th>\n",
       "      <th>RANK</th>\n",
       "      <th>score</th>\n",
       "      <th>prob</th>\n",
       "      <th>n_sas_points</th>\n",
       "      <th>n_surf_atoms</th>\n",
       "      <th>aas</th>\n",
       "      <th>centre</th>\n",
       "      <th>n_aas</th>\n",
       "    </tr>\n",
       "  </thead>\n",
       "  <tbody>\n",
       "    <tr>\n",
       "      <th>0</th>\n",
       "      <td>6yih_A</td>\n",
       "      <td>1</td>\n",
       "      <td>1</td>\n",
       "      <td>1.92</td>\n",
       "      <td>0.038</td>\n",
       "      <td>32</td>\n",
       "      <td>18</td>\n",
       "      <td>[103, 12, 15, 16, 8, 95, 96, 98]</td>\n",
       "      <td>(-11.3402, 11.2421, 3.9851)</td>\n",
       "      <td>8</td>\n",
       "    </tr>\n",
       "    <tr>\n",
       "      <th>1</th>\n",
       "      <td>4gnk_D</td>\n",
       "      <td>1</td>\n",
       "      <td>1</td>\n",
       "      <td>6.82</td>\n",
       "      <td>0.382</td>\n",
       "      <td>65</td>\n",
       "      <td>38</td>\n",
       "      <td>[313, 318, 328, 663, 666, 690, 693, 694, 700, ...</td>\n",
       "      <td>(-11.3104, -0.06, -0.2259)</td>\n",
       "      <td>17</td>\n",
       "    </tr>\n",
       "    <tr>\n",
       "      <th>2</th>\n",
       "      <td>4gnk_D</td>\n",
       "      <td>2</td>\n",
       "      <td>2</td>\n",
       "      <td>4.46</td>\n",
       "      <td>0.202</td>\n",
       "      <td>64</td>\n",
       "      <td>35</td>\n",
       "      <td>[150, 151, 154, 215, 218, 219, 222, 224, 227, ...</td>\n",
       "      <td>(11.0049, -21.288, 3.3336)</td>\n",
       "      <td>15</td>\n",
       "    </tr>\n",
       "  </tbody>\n",
       "</table>\n",
       "</div>"
      ],
      "text/plain": [
       "  rep_chain  ID RANK  score   prob  n_sas_points  n_surf_atoms  \\\n",
       "0    6yih_A   1    1   1.92  0.038            32            18   \n",
       "1    4gnk_D   1    1   6.82  0.382            65            38   \n",
       "2    4gnk_D   2    2   4.46  0.202            64            35   \n",
       "\n",
       "                                                 aas  \\\n",
       "0                   [103, 12, 15, 16, 8, 95, 96, 98]   \n",
       "1  [313, 318, 328, 663, 666, 690, 693, 694, 700, ...   \n",
       "2  [150, 151, 154, 215, 218, 219, 222, 224, 227, ...   \n",
       "\n",
       "                        centre  n_aas  \n",
       "0  (-11.3402, 11.2421, 3.9851)      8  \n",
       "1   (-11.3104, -0.06, -0.2259)     17  \n",
       "2   (11.0049, -21.288, 3.3336)     15  "
      ]
     },
     "execution_count": 28,
     "metadata": {},
     "output_type": "execute_result"
    }
   ],
   "source": [
    "p2rank_pockets_df.head(3)"
   ]
  },
  {
   "cell_type": "code",
   "execution_count": 19,
   "metadata": {},
   "outputs": [],
   "source": [
    "#p2rank_pockets_df.to_pickle(\"./results/P2RANK_sites_V2.pkl\")\n",
    "#p2rank_pockets_df.to_pickle(\"./results/P2RANK_ress_V2.pkl\")"
   ]
  },
  {
   "cell_type": "markdown",
   "metadata": {},
   "source": [
    "## Calcualte RoG of P2RANK pockets"
   ]
  },
  {
   "cell_type": "code",
   "execution_count": 29,
   "metadata": {},
   "outputs": [],
   "source": [
    "target_dir = './../DATA/trans_rep_chains'"
   ]
  },
  {
   "cell_type": "code",
   "execution_count": 30,
   "metadata": {},
   "outputs": [],
   "source": [
    "rep_chains_sites = p2rank_pockets_df.rep_chain.unique().tolist()"
   ]
  },
  {
   "cell_type": "code",
   "execution_count": 31,
   "metadata": {},
   "outputs": [
    {
     "data": {
      "text/plain": [
       "3749"
      ]
     },
     "execution_count": 31,
     "metadata": {},
     "output_type": "execute_result"
    }
   ],
   "source": [
    "len(rep_chains_sites) # all rep chains with P2Rank predictions"
   ]
  },
  {
   "cell_type": "code",
   "execution_count": 32,
   "metadata": {},
   "outputs": [
    {
     "data": {
      "text/html": [
       "<div>\n",
       "<style scoped>\n",
       "    .dataframe tbody tr th:only-of-type {\n",
       "        vertical-align: middle;\n",
       "    }\n",
       "\n",
       "    .dataframe tbody tr th {\n",
       "        vertical-align: top;\n",
       "    }\n",
       "\n",
       "    .dataframe thead th {\n",
       "        text-align: right;\n",
       "    }\n",
       "</style>\n",
       "<table border=\"1\" class=\"dataframe\">\n",
       "  <thead>\n",
       "    <tr style=\"text-align: right;\">\n",
       "      <th></th>\n",
       "      <th>rep_chain</th>\n",
       "      <th>ID</th>\n",
       "      <th>RANK</th>\n",
       "      <th>score</th>\n",
       "      <th>prob</th>\n",
       "      <th>n_sas_points</th>\n",
       "      <th>n_surf_atoms</th>\n",
       "      <th>aas</th>\n",
       "      <th>centre</th>\n",
       "      <th>n_aas</th>\n",
       "    </tr>\n",
       "  </thead>\n",
       "  <tbody>\n",
       "    <tr>\n",
       "      <th>0</th>\n",
       "      <td>6yih_A</td>\n",
       "      <td>1</td>\n",
       "      <td>1</td>\n",
       "      <td>1.92</td>\n",
       "      <td>0.038</td>\n",
       "      <td>32</td>\n",
       "      <td>18</td>\n",
       "      <td>[103, 12, 15, 16, 8, 95, 96, 98]</td>\n",
       "      <td>(-11.3402, 11.2421, 3.9851)</td>\n",
       "      <td>8</td>\n",
       "    </tr>\n",
       "    <tr>\n",
       "      <th>1</th>\n",
       "      <td>4gnk_D</td>\n",
       "      <td>1</td>\n",
       "      <td>1</td>\n",
       "      <td>6.82</td>\n",
       "      <td>0.382</td>\n",
       "      <td>65</td>\n",
       "      <td>38</td>\n",
       "      <td>[313, 318, 328, 663, 666, 690, 693, 694, 700, ...</td>\n",
       "      <td>(-11.3104, -0.06, -0.2259)</td>\n",
       "      <td>17</td>\n",
       "    </tr>\n",
       "    <tr>\n",
       "      <th>2</th>\n",
       "      <td>4gnk_D</td>\n",
       "      <td>2</td>\n",
       "      <td>2</td>\n",
       "      <td>4.46</td>\n",
       "      <td>0.202</td>\n",
       "      <td>64</td>\n",
       "      <td>35</td>\n",
       "      <td>[150, 151, 154, 215, 218, 219, 222, 224, 227, ...</td>\n",
       "      <td>(11.0049, -21.288, 3.3336)</td>\n",
       "      <td>15</td>\n",
       "    </tr>\n",
       "  </tbody>\n",
       "</table>\n",
       "</div>"
      ],
      "text/plain": [
       "  rep_chain  ID RANK  score   prob  n_sas_points  n_surf_atoms  \\\n",
       "0    6yih_A   1    1   1.92  0.038            32            18   \n",
       "1    4gnk_D   1    1   6.82  0.382            65            38   \n",
       "2    4gnk_D   2    2   4.46  0.202            64            35   \n",
       "\n",
       "                                                 aas  \\\n",
       "0                   [103, 12, 15, 16, 8, 95, 96, 98]   \n",
       "1  [313, 318, 328, 663, 666, 690, 693, 694, 700, ...   \n",
       "2  [150, 151, 154, 215, 218, 219, 222, 224, 227, ...   \n",
       "\n",
       "                        centre  n_aas  \n",
       "0  (-11.3402, 11.2421, 3.9851)      8  \n",
       "1   (-11.3104, -0.06, -0.2259)     17  \n",
       "2   (11.0049, -21.288, 3.3336)     15  "
      ]
     },
     "execution_count": 32,
     "metadata": {},
     "output_type": "execute_result"
    }
   ],
   "source": [
    "p2rank_pockets_df.head(3)"
   ]
  },
  {
   "cell_type": "code",
   "execution_count": 33,
   "metadata": {},
   "outputs": [
    {
     "data": {
      "text/plain": [
       "14225"
      ]
     },
     "execution_count": 33,
     "metadata": {},
     "output_type": "execute_result"
    }
   ],
   "source": [
    "len(p2rank_pockets_df)"
   ]
  },
  {
   "cell_type": "code",
   "execution_count": 34,
   "metadata": {},
   "outputs": [],
   "source": [
    "cc = [\n",
    "    'label_seq_id_full', 'label_comp_id', 'type_symbol',\n",
    "    'label_atom_id', 'Cartn_x', 'Cartn_y', 'Cartn_z'\n",
    "]"
   ]
  },
  {
   "cell_type": "markdown",
   "metadata": {},
   "source": [
    "## Using transformed structures to calculate RoG and centroid derived from residues"
   ]
  },
  {
   "cell_type": "code",
   "execution_count": 35,
   "metadata": {
    "collapsed": true,
    "jupyter": {
     "outputs_hidden": true
    }
   },
   "outputs": [
    {
     "name": "stdout",
     "output_type": "stream",
     "text": [
      "0\n",
      "100\n",
      "200\n",
      "300\n",
      "400\n",
      "500\n",
      "600\n",
      "700\n",
      "800\n",
      "900\n",
      "1000\n",
      "1100\n",
      "1200\n",
      "1300\n",
      "1400\n",
      "1500\n",
      "1600\n",
      "1700\n",
      "1800\n",
      "1900\n",
      "2000\n",
      "2100\n",
      "2200\n",
      "2300\n",
      "2400\n",
      "2500\n",
      "2600\n",
      "2700\n",
      "2800\n",
      "2900\n",
      "3000\n",
      "3100\n",
      "3200\n",
      "3300\n",
      "3400\n",
      "3500\n",
      "3600\n",
      "3700\n"
     ]
    }
   ],
   "source": [
    "T0 = time.time()\n",
    "RoG_dict = {}\n",
    "centres_dict_ress = {}\n",
    "errors = []\n",
    "for i, rep_chain in enumerate(rep_chains_sites):\n",
    "    if i % 100 == 0:\n",
    "        print(i)\n",
    "    pdb_path = os.path.join(target_dir, f'{rep_chain}.trans.pdb')\n",
    "    df = PDBXreader(inputfile=pdb_path).atoms(format_type=\"pdb\", excluded=())[cc].query('label_atom_id == \"CA\"').reset_index(drop = True)\n",
    "    rep_chain_df = p2rank_pockets_df.query('rep_chain == @rep_chain')\n",
    "    for _, row in rep_chain_df.iterrows():\n",
    "        site_ress = row.aas\n",
    "        ress_CAs = df.query('label_seq_id_full in @site_ress')\n",
    "        CAs_coords = np.array(list((zip(ress_CAs.Cartn_x, ress_CAs.Cartn_y, ress_CAs.Cartn_z))))\n",
    "        try:\n",
    "            center_of_mass = np.mean(CAs_coords, axis=0)\n",
    "            distances_squared = np.sum((CAs_coords - center_of_mass)**2, axis=1)\n",
    "            radius_of_gyration = round(np.sqrt(np.mean(distances_squared)), 2)\n",
    "            RoG_dict[(rep_chain, row[\"RANK\"])] = radius_of_gyration\n",
    "            centres_dict_ress[(rep_chain, row[\"RANK\"])] = tuple([round(v, 3) for v in center_of_mass])\n",
    "        except:\n",
    "            raise\n",
    "TF = time.time()"
   ]
  },
  {
   "cell_type": "code",
   "execution_count": 36,
   "metadata": {},
   "outputs": [
    {
     "name": "stdout",
     "output_type": "stream",
     "text": [
      "14225\n",
      "5.43\n",
      "0.02289\n"
     ]
    }
   ],
   "source": [
    "dTs = TF-T0\n",
    "\n",
    "dTm = dTs/60\n",
    "\n",
    "N_RoG = len(RoG_dict) #17009\n",
    "\n",
    "print(N_RoG)\n",
    "\n",
    "print(round(dTm,2))\n",
    "\n",
    "print(round(dTs/N_RoG, 5))"
   ]
  },
  {
   "cell_type": "code",
   "execution_count": 37,
   "metadata": {},
   "outputs": [
    {
     "data": {
      "text/plain": [
       "5.42688"
      ]
     },
     "execution_count": 37,
     "metadata": {},
     "output_type": "execute_result"
    }
   ],
   "source": [
    "round((N_RoG*(dTs/N_RoG))/60, 5) # 5 minutes"
   ]
  },
  {
   "cell_type": "code",
   "execution_count": 38,
   "metadata": {},
   "outputs": [],
   "source": [
    "save_to_pickle(RoG_dict, \"./results/P2Rank_CONS_RoG_TRANS.pkl\")"
   ]
  },
  {
   "cell_type": "code",
   "execution_count": 39,
   "metadata": {},
   "outputs": [],
   "source": [
    "p2rank_pockets_df[\"RoG\"] = p2rank_pockets_df.set_index(['rep_chain', 'RANK']).index.map(RoG_dict)"
   ]
  },
  {
   "cell_type": "code",
   "execution_count": 40,
   "metadata": {},
   "outputs": [
    {
     "name": "stdout",
     "output_type": "stream",
     "text": [
      "0\n"
     ]
    }
   ],
   "source": [
    "p2rank_pockets_df[\"centre_trans\"] = np.nan\n",
    "centres = []\n",
    "errs = 0\n",
    "err_chains = []\n",
    "for i, row in p2rank_pockets_df.iterrows():\n",
    "    try:\n",
    "        centre = centres_dict_ress[(row.rep_chain, row.RANK)]\n",
    "        centres.append(centre)\n",
    "    except:\n",
    "        errs += 1\n",
    "        centres.append(np.nan)\n",
    "        err_chains.append(row.rep_chain)\n",
    "print(errs) # 0"
   ]
  },
  {
   "cell_type": "code",
   "execution_count": 41,
   "metadata": {},
   "outputs": [],
   "source": [
    "p2rank_pockets_df[\"centre_trans\"] = centres"
   ]
  },
  {
   "cell_type": "code",
   "execution_count": 42,
   "metadata": {},
   "outputs": [
    {
     "data": {
      "text/html": [
       "<div>\n",
       "<style scoped>\n",
       "    .dataframe tbody tr th:only-of-type {\n",
       "        vertical-align: middle;\n",
       "    }\n",
       "\n",
       "    .dataframe tbody tr th {\n",
       "        vertical-align: top;\n",
       "    }\n",
       "\n",
       "    .dataframe thead th {\n",
       "        text-align: right;\n",
       "    }\n",
       "</style>\n",
       "<table border=\"1\" class=\"dataframe\">\n",
       "  <thead>\n",
       "    <tr style=\"text-align: right;\">\n",
       "      <th></th>\n",
       "      <th>rep_chain</th>\n",
       "      <th>ID</th>\n",
       "      <th>RANK</th>\n",
       "      <th>score</th>\n",
       "      <th>prob</th>\n",
       "      <th>n_sas_points</th>\n",
       "      <th>n_surf_atoms</th>\n",
       "      <th>aas</th>\n",
       "      <th>centre</th>\n",
       "      <th>n_aas</th>\n",
       "      <th>RoG</th>\n",
       "      <th>centre_trans</th>\n",
       "    </tr>\n",
       "  </thead>\n",
       "  <tbody>\n",
       "    <tr>\n",
       "      <th>0</th>\n",
       "      <td>6yih_A</td>\n",
       "      <td>1</td>\n",
       "      <td>1</td>\n",
       "      <td>1.92</td>\n",
       "      <td>0.038</td>\n",
       "      <td>32</td>\n",
       "      <td>18</td>\n",
       "      <td>[103, 12, 15, 16, 8, 95, 96, 98]</td>\n",
       "      <td>(-11.3402, 11.2421, 3.9851)</td>\n",
       "      <td>8</td>\n",
       "      <td>6.29</td>\n",
       "      <td>(-8.772, 11.617, 3.058)</td>\n",
       "    </tr>\n",
       "    <tr>\n",
       "      <th>1</th>\n",
       "      <td>4gnk_D</td>\n",
       "      <td>1</td>\n",
       "      <td>1</td>\n",
       "      <td>6.82</td>\n",
       "      <td>0.382</td>\n",
       "      <td>65</td>\n",
       "      <td>38</td>\n",
       "      <td>[313, 318, 328, 663, 666, 690, 693, 694, 700, ...</td>\n",
       "      <td>(-11.3104, -0.06, -0.2259)</td>\n",
       "      <td>17</td>\n",
       "      <td>8.11</td>\n",
       "      <td>(-11.628, -1.277, -1.525)</td>\n",
       "    </tr>\n",
       "    <tr>\n",
       "      <th>2</th>\n",
       "      <td>4gnk_D</td>\n",
       "      <td>2</td>\n",
       "      <td>2</td>\n",
       "      <td>4.46</td>\n",
       "      <td>0.202</td>\n",
       "      <td>64</td>\n",
       "      <td>35</td>\n",
       "      <td>[150, 151, 154, 215, 218, 219, 222, 224, 227, ...</td>\n",
       "      <td>(11.0049, -21.288, 3.3336)</td>\n",
       "      <td>15</td>\n",
       "      <td>8.10</td>\n",
       "      <td>(10.073, -21.422, 2.802)</td>\n",
       "    </tr>\n",
       "  </tbody>\n",
       "</table>\n",
       "</div>"
      ],
      "text/plain": [
       "  rep_chain  ID RANK  score   prob  n_sas_points  n_surf_atoms  \\\n",
       "0    6yih_A   1    1   1.92  0.038            32            18   \n",
       "1    4gnk_D   1    1   6.82  0.382            65            38   \n",
       "2    4gnk_D   2    2   4.46  0.202            64            35   \n",
       "\n",
       "                                                 aas  \\\n",
       "0                   [103, 12, 15, 16, 8, 95, 96, 98]   \n",
       "1  [313, 318, 328, 663, 666, 690, 693, 694, 700, ...   \n",
       "2  [150, 151, 154, 215, 218, 219, 222, 224, 227, ...   \n",
       "\n",
       "                        centre  n_aas   RoG               centre_trans  \n",
       "0  (-11.3402, 11.2421, 3.9851)      8  6.29    (-8.772, 11.617, 3.058)  \n",
       "1   (-11.3104, -0.06, -0.2259)     17  8.11  (-11.628, -1.277, -1.525)  \n",
       "2   (11.0049, -21.288, 3.3336)     15  8.10   (10.073, -21.422, 2.802)  "
      ]
     },
     "execution_count": 42,
     "metadata": {},
     "output_type": "execute_result"
    }
   ],
   "source": [
    "p2rank_pockets_df.head(3)"
   ]
  },
  {
   "cell_type": "markdown",
   "metadata": {},
   "source": [
    "## Translating and rotating P2Rank predicted pockets' centroids"
   ]
  },
  {
   "cell_type": "code",
   "execution_count": 32,
   "metadata": {},
   "outputs": [],
   "source": [
    "import importlib\n",
    "import JSU_lib\n",
    "importlib.reload(JSU_lib)\n",
    "from JSU_lib import *"
   ]
  },
  {
   "cell_type": "code",
   "execution_count": 34,
   "metadata": {},
   "outputs": [],
   "source": [
    "#p2rank_pockets_df['centre_mat'] = p2rank_pockets_df.apply(apply_rotation, axis=1)\n",
    "#p2rank_pockets_df['distance'] = p2rank_pockets_df.apply(calculate_distance, axis=1)"
   ]
  },
  {
   "cell_type": "code",
   "execution_count": 63,
   "metadata": {
    "collapsed": true,
    "jupyter": {
     "outputs_hidden": true,
     "source_hidden": true
    }
   },
   "outputs": [
    {
     "data": {
      "image/png": "[encoded data removed]",
      "text/plain": [
       "<Figure size 900x450 with 1 Axes>"
      ]
     },
     "metadata": {},
     "output_type": "display_data"
    }
   ],
   "source": [
    "plt.figure(figsize = (6,3), dpi = 150)\n",
    "\n",
    "sns.histplot(p2rank_pockets_df.distance, bins = 100, stat = \"proportion\", color = \"orchid\")\n",
    "#plt.xlim(-30, 20)\n",
    "plt.title(\"P2Rank pockets\")\n",
    "plt.xlabel(\"Distance between reported centroid and pocket residues centroid\")\n",
    "plt.ylabel(\"p\")\n",
    "plt.show()"
   ]
  },
  {
   "cell_type": "code",
   "execution_count": 43,
   "metadata": {},
   "outputs": [
    {
     "data": {
      "text/html": [
       "<div>\n",
       "<style scoped>\n",
       "    .dataframe tbody tr th:only-of-type {\n",
       "        vertical-align: middle;\n",
       "    }\n",
       "\n",
       "    .dataframe tbody tr th {\n",
       "        vertical-align: top;\n",
       "    }\n",
       "\n",
       "    .dataframe thead th {\n",
       "        text-align: right;\n",
       "    }\n",
       "</style>\n",
       "<table border=\"1\" class=\"dataframe\">\n",
       "  <thead>\n",
       "    <tr style=\"text-align: right;\">\n",
       "      <th></th>\n",
       "      <th>rep_chain</th>\n",
       "      <th>ID</th>\n",
       "      <th>RANK</th>\n",
       "      <th>score</th>\n",
       "      <th>prob</th>\n",
       "      <th>n_sas_points</th>\n",
       "      <th>n_surf_atoms</th>\n",
       "      <th>aas</th>\n",
       "      <th>centre</th>\n",
       "      <th>n_aas</th>\n",
       "      <th>RoG</th>\n",
       "      <th>centre_trans</th>\n",
       "    </tr>\n",
       "  </thead>\n",
       "  <tbody>\n",
       "    <tr>\n",
       "      <th>8108</th>\n",
       "      <td>1a52_A</td>\n",
       "      <td>1</td>\n",
       "      <td>1</td>\n",
       "      <td>24.51</td>\n",
       "      <td>0.88</td>\n",
       "      <td>78</td>\n",
       "      <td>48</td>\n",
       "      <td>[108, 125, 128, 129, 132, 225, 228, 229, 233, ...</td>\n",
       "      <td>(1.2707, -9.8294, -1.6516)</td>\n",
       "      <td>21</td>\n",
       "      <td>8.82</td>\n",
       "      <td>(0.591, -9.425, -1.076)</td>\n",
       "    </tr>\n",
       "  </tbody>\n",
       "</table>\n",
       "</div>"
      ],
      "text/plain": [
       "     rep_chain  ID RANK  score  prob  n_sas_points  n_surf_atoms  \\\n",
       "8108    1a52_A   1    1  24.51  0.88            78            48   \n",
       "\n",
       "                                                    aas  \\\n",
       "8108  [108, 125, 128, 129, 132, 225, 228, 229, 233, ...   \n",
       "\n",
       "                          centre  n_aas   RoG             centre_trans  \n",
       "8108  (1.2707, -9.8294, -1.6516)     21  8.82  (0.591, -9.425, -1.076)  "
      ]
     },
     "execution_count": 43,
     "metadata": {},
     "output_type": "execute_result"
    }
   ],
   "source": [
    "p2rank_pockets_df.query('rep_chain == \"1a52_A\"')"
   ]
  },
  {
   "cell_type": "code",
   "execution_count": 38,
   "metadata": {},
   "outputs": [],
   "source": [
    "#p2rank_pockets_df.to_pickle(\"./results/P2RANK_pockets_RoG_V2.pkl\")"
   ]
  },
  {
   "cell_type": "markdown",
   "metadata": {},
   "source": [
    "## Mapping PDB residues to UP residues"
   ]
  },
  {
   "cell_type": "code",
   "execution_count": 44,
   "metadata": {},
   "outputs": [],
   "source": [
    "up_aas = {}\n",
    "\n",
    "errors = []\n",
    "\n",
    "for _, row in p2rank_pockets_df.iterrows():\n",
    "    b = 0\n",
    "    rep_chain = row.rep_chain\n",
    "    site_ress = row.aas\n",
    "    rank = row[\"RANK\"]\n",
    "    mapping_dict = read_from_pickle(f'./../DATA/mappings_label_full/{rep_chain}.pkl')\n",
    "    site_up_aas = []\n",
    "    for res in site_ress:\n",
    "        try:\n",
    "            site_up_aas.append(mapping_dict[str(res)]) # I think there are integers here as it is not working with AltLocs, so none are present\n",
    "        except:\n",
    "            errors.append(rep_chain)\n",
    "            b = 1\n",
    "            break\n",
    "    if b ==1:\n",
    "        continue\n",
    "    up_aas[(rep_chain, rank)] = site_up_aas"
   ]
  },
  {
   "cell_type": "code",
   "execution_count": 45,
   "metadata": {},
   "outputs": [
    {
     "data": {
      "text/plain": [
       "14105"
      ]
     },
     "execution_count": 45,
     "metadata": {},
     "output_type": "execute_result"
    }
   ],
   "source": [
    "len(up_aas) #16871"
   ]
  },
  {
   "cell_type": "code",
   "execution_count": 46,
   "metadata": {},
   "outputs": [
    {
     "data": {
      "text/plain": [
       "120"
      ]
     },
     "execution_count": 46,
     "metadata": {},
     "output_type": "execute_result"
    }
   ],
   "source": [
    "len(errors) #138"
   ]
  },
  {
   "cell_type": "code",
   "execution_count": 47,
   "metadata": {},
   "outputs": [
    {
     "name": "stdout",
     "output_type": "stream",
     "text": [
      "84\n"
     ]
    }
   ],
   "source": [
    "errors = list(set(errors)) # 84 chains have issues with SIFTS mapping, e.g, 1nav_A. For some reason, the last 40 residues lack residue mapping to UniProt, 119 pockets\n",
    "print(len(errors)) #99"
   ]
  },
  {
   "cell_type": "code",
   "execution_count": 48,
   "metadata": {},
   "outputs": [],
   "source": [
    "save_to_pickle(errors, \"./results/P2Rank_CONS_no_sifts_TRANS.pkl\")"
   ]
  },
  {
   "cell_type": "code",
   "execution_count": 49,
   "metadata": {},
   "outputs": [],
   "source": [
    "p2rank_pockets_df_w_sifts = p2rank_pockets_df.query('rep_chain not in @errors').copy().reset_index(drop = True)\n",
    "p2rank_pockets_df_w_sifts[\"up_aas\"] = p2rank_pockets_df_w_sifts.set_index(['rep_chain', 'RANK']).index.map(up_aas)"
   ]
  },
  {
   "cell_type": "code",
   "execution_count": 50,
   "metadata": {},
   "outputs": [],
   "source": [
    "p2rank_pockets_df_w_sifts[\"n_up_aas\"] = p2rank_pockets_df_w_sifts['up_aas'].apply(lambda x: len(x))\n",
    "assert p2rank_pockets_df_w_sifts.n_aas.equals(p2rank_pockets_df_w_sifts.n_up_aas)\n",
    "p2rank_pockets_df_w_sifts.drop(columns = [\"n_up_aas\"], inplace = True)"
   ]
  },
  {
   "cell_type": "code",
   "execution_count": 51,
   "metadata": {},
   "outputs": [],
   "source": [
    "p2rank_pockets_df_w_sifts = p2rank_pockets_df_w_sifts.sort_values(by=[\"rep_chain\", \"ID\"]).reset_index(drop = True)"
   ]
  },
  {
   "cell_type": "code",
   "execution_count": 54,
   "metadata": {},
   "outputs": [],
   "source": [
    "p2rank_pockets_df_w_sifts.to_pickle(\"./results/P2RANK_CONS_pockets_sifted_V2.pkl\")"
   ]
  },
  {
   "cell_type": "code",
   "execution_count": 52,
   "metadata": {},
   "outputs": [
    {
     "data": {
      "text/plain": [
       "3665"
      ]
     },
     "execution_count": 52,
     "metadata": {},
     "output_type": "execute_result"
    }
   ],
   "source": [
    "len(p2rank_pockets_df_w_sifts.rep_chain.unique()) #3386"
   ]
  },
  {
   "cell_type": "code",
   "execution_count": 2,
   "metadata": {},
   "outputs": [
    {
     "ename": "NameError",
     "evalue": "name 'LIGYSIS_reps' is not defined",
     "output_type": "error",
     "traceback": [
      "\u001b[0;31m---------------------------------------------------------------------------\u001b[0m",
      "\u001b[0;31mNameError\u001b[0m                                 Traceback (most recent call last)",
      "Cell \u001b[0;32mIn[2], line 1\u001b[0m\n\u001b[0;32m----> 1\u001b[0m \u001b[38;5;28mlen\u001b[39m(\u001b[38;5;28mset\u001b[39m(\u001b[43mLIGYSIS_reps\u001b[49m)\u001b[38;5;241m.\u001b[39mintersection(\u001b[38;5;28mset\u001b[39m(p2rank_pockets_df_w_sifts\u001b[38;5;241m.\u001b[39mrep_chain\u001b[38;5;241m.\u001b[39munique())))\n",
      "\u001b[0;31mNameError\u001b[0m: name 'LIGYSIS_reps' is not defined"
     ]
    }
   ],
   "source": [
    "len(set(LIGYSIS_reps).intersection(set(p2rank_pockets_df_w_sifts.rep_chain.unique()))) #2863"
   ]
  },
  {
   "cell_type": "markdown",
   "metadata": {},
   "source": [
    "## Add pocket surfaces and volumes"
   ]
  },
  {
   "cell_type": "code",
   "execution_count": 3,
   "metadata": {},
   "outputs": [],
   "source": [
    "import importlib\n",
    "import JSU_lib\n",
    "importlib.reload(JSU_lib)\n",
    "from JSU_lib import *"
   ]
  },
  {
   "cell_type": "code",
   "execution_count": 4,
   "metadata": {},
   "outputs": [],
   "source": [
    "p2rank_pockets_df_w_sifts = pd.read_pickle(\"./results/P2RANK_CONS_pockets_sifted_V2.pkl\")"
   ]
  },
  {
   "cell_type": "code",
   "execution_count": 5,
   "metadata": {},
   "outputs": [],
   "source": [
    "master_SASA_dict = read_from_pickle(\"./results/master_SASA_dict.pkl\")"
   ]
  },
  {
   "cell_type": "code",
   "execution_count": 6,
   "metadata": {},
   "outputs": [],
   "source": [
    "p2rank_pockets_df_w_sifts_SASA = calculate_total_sasa(p2rank_pockets_df_w_sifts, master_SASA_dict)"
   ]
  },
  {
   "cell_type": "code",
   "execution_count": 7,
   "metadata": {},
   "outputs": [],
   "source": [
    "vols_dict = read_from_pickle(\"./results/P2Rank_CONS_volumes_dict.pkl\")"
   ]
  },
  {
   "cell_type": "code",
   "execution_count": 8,
   "metadata": {},
   "outputs": [],
   "source": [
    "p2rank_pockets_df_w_sifts_SASA[\"VOL\"] = p2rank_pockets_df_w_sifts_SASA.set_index(['rep_chain', 'ID']).index.map(vols_dict)"
   ]
  },
  {
   "cell_type": "code",
   "execution_count": 10,
   "metadata": {},
   "outputs": [],
   "source": [
    "bad_reps = read_from_pickle(\"./results/OLD/other_errrors_reps.pkl\")"
   ]
  },
  {
   "cell_type": "code",
   "execution_count": 11,
   "metadata": {},
   "outputs": [
    {
     "data": {
      "text/html": [
       "<div>\n",
       "<style scoped>\n",
       "    .dataframe tbody tr th:only-of-type {\n",
       "        vertical-align: middle;\n",
       "    }\n",
       "\n",
       "    .dataframe tbody tr th {\n",
       "        vertical-align: top;\n",
       "    }\n",
       "\n",
       "    .dataframe thead th {\n",
       "        text-align: right;\n",
       "    }\n",
       "</style>\n",
       "<table border=\"1\" class=\"dataframe\">\n",
       "  <thead>\n",
       "    <tr style=\"text-align: right;\">\n",
       "      <th></th>\n",
       "      <th>rep_chain</th>\n",
       "      <th>ID</th>\n",
       "      <th>RANK</th>\n",
       "      <th>score</th>\n",
       "      <th>prob</th>\n",
       "      <th>n_sas_points</th>\n",
       "      <th>n_surf_atoms</th>\n",
       "      <th>aas</th>\n",
       "      <th>centre</th>\n",
       "      <th>n_aas</th>\n",
       "      <th>RoG</th>\n",
       "      <th>centre_trans</th>\n",
       "      <th>up_aas</th>\n",
       "      <th>SASA</th>\n",
       "      <th>VOL</th>\n",
       "    </tr>\n",
       "  </thead>\n",
       "  <tbody>\n",
       "  </tbody>\n",
       "</table>\n",
       "</div>"
      ],
      "text/plain": [
       "Empty DataFrame\n",
       "Columns: [rep_chain, ID, RANK, score, prob, n_sas_points, n_surf_atoms, aas, centre, n_aas, RoG, centre_trans, up_aas, SASA, VOL]\n",
       "Index: []"
      ]
     },
     "execution_count": 11,
     "metadata": {},
     "output_type": "execute_result"
    }
   ],
   "source": [
    "p2rank_pockets_df_w_sifts_SASA.query('VOL != VOL & rep_chain not in @bad_reps')"
   ]
  },
  {
   "cell_type": "code",
   "execution_count": 14,
   "metadata": {},
   "outputs": [
    {
     "data": {
      "text/html": [
       "<div>\n",
       "<style scoped>\n",
       "    .dataframe tbody tr th:only-of-type {\n",
       "        vertical-align: middle;\n",
       "    }\n",
       "\n",
       "    .dataframe tbody tr th {\n",
       "        vertical-align: top;\n",
       "    }\n",
       "\n",
       "    .dataframe thead th {\n",
       "        text-align: right;\n",
       "    }\n",
       "</style>\n",
       "<table border=\"1\" class=\"dataframe\">\n",
       "  <thead>\n",
       "    <tr style=\"text-align: right;\">\n",
       "      <th></th>\n",
       "      <th>rep_chain</th>\n",
       "      <th>ID</th>\n",
       "      <th>RANK</th>\n",
       "      <th>score</th>\n",
       "      <th>prob</th>\n",
       "      <th>n_sas_points</th>\n",
       "      <th>n_surf_atoms</th>\n",
       "      <th>aas</th>\n",
       "      <th>centre</th>\n",
       "      <th>n_aas</th>\n",
       "      <th>RoG</th>\n",
       "      <th>centre_trans</th>\n",
       "      <th>up_aas</th>\n",
       "      <th>SASA</th>\n",
       "      <th>VOL</th>\n",
       "    </tr>\n",
       "  </thead>\n",
       "  <tbody>\n",
       "    <tr>\n",
       "      <th>1</th>\n",
       "      <td>1a5h_B</td>\n",
       "      <td>1</td>\n",
       "      <td>1</td>\n",
       "      <td>14.56</td>\n",
       "      <td>0.736</td>\n",
       "      <td>83</td>\n",
       "      <td>49</td>\n",
       "      <td>[149, 197, 198, 199, 200, 201, 203, 221, 222, ...</td>\n",
       "      <td>(2.6347, 4.4691, -8.0903)</td>\n",
       "      <td>25</td>\n",
       "      <td>9.61</td>\n",
       "      <td>(2.323, 2.829, -7.111)</td>\n",
       "      <td>[459, 507, 508, 509, 510, 511, 513, 531, 532, ...</td>\n",
       "      <td>823.17</td>\n",
       "      <td>1507.0</td>\n",
       "    </tr>\n",
       "    <tr>\n",
       "      <th>7</th>\n",
       "      <td>1aii_A</td>\n",
       "      <td>1</td>\n",
       "      <td>1</td>\n",
       "      <td>2.37</td>\n",
       "      <td>0.062</td>\n",
       "      <td>40</td>\n",
       "      <td>22</td>\n",
       "      <td>[119, 120, 121, 124, 250, 251, 279, 282, 283, ...</td>\n",
       "      <td>(2.4154, -2.0563, 7.6232)</td>\n",
       "      <td>14</td>\n",
       "      <td>7.61</td>\n",
       "      <td>(2.596, -0.22, 7.586)</td>\n",
       "      <td>[119, 120, 121, 124, 250, 251, 279, 282, 283, ...</td>\n",
       "      <td>611.73</td>\n",
       "      <td>643.0</td>\n",
       "    </tr>\n",
       "    <tr>\n",
       "      <th>8</th>\n",
       "      <td>1aii_A</td>\n",
       "      <td>2</td>\n",
       "      <td>2</td>\n",
       "      <td>2.30</td>\n",
       "      <td>0.058</td>\n",
       "      <td>36</td>\n",
       "      <td>23</td>\n",
       "      <td>[117, 118, 120, 121, 122, 164, 165, 206, 207, ...</td>\n",
       "      <td>(-0.8619, -8.9589, 8.8216)</td>\n",
       "      <td>10</td>\n",
       "      <td>7.61</td>\n",
       "      <td>(-2.281, -10.163, 7.093)</td>\n",
       "      <td>[117, 118, 120, 121, 122, 164, 165, 206, 207, ...</td>\n",
       "      <td>408.65</td>\n",
       "      <td>863.0</td>\n",
       "    </tr>\n",
       "    <tr>\n",
       "      <th>9</th>\n",
       "      <td>1aii_A</td>\n",
       "      <td>3</td>\n",
       "      <td>3</td>\n",
       "      <td>2.01</td>\n",
       "      <td>0.042</td>\n",
       "      <td>39</td>\n",
       "      <td>23</td>\n",
       "      <td>[101, 270, 273, 69, 82, 85, 86, 89, 94, 97, 98]</td>\n",
       "      <td>(-5.2377, 10.1955, -5.9293)</td>\n",
       "      <td>11</td>\n",
       "      <td>7.27</td>\n",
       "      <td>(-4.755, 10.138, -4.328)</td>\n",
       "      <td>[101, 270, 273, 69, 82, 85, 86, 89, 94, 97, 98]</td>\n",
       "      <td>449.58</td>\n",
       "      <td>602.0</td>\n",
       "    </tr>\n",
       "    <tr>\n",
       "      <th>12</th>\n",
       "      <td>1aii_A</td>\n",
       "      <td>6</td>\n",
       "      <td>6</td>\n",
       "      <td>1.48</td>\n",
       "      <td>0.020</td>\n",
       "      <td>32</td>\n",
       "      <td>21</td>\n",
       "      <td>[111, 114, 238, 241, 242, 245, 253, 256, 257]</td>\n",
       "      <td>(4.392, -8.873, -6.6738)</td>\n",
       "      <td>9</td>\n",
       "      <td>6.66</td>\n",
       "      <td>(3.989, -8.495, -4.906)</td>\n",
       "      <td>[111, 114, 238, 241, 242, 245, 253, 256, 257]</td>\n",
       "      <td>372.67</td>\n",
       "      <td>488.0</td>\n",
       "    </tr>\n",
       "    <tr>\n",
       "      <th>...</th>\n",
       "      <td>...</td>\n",
       "      <td>...</td>\n",
       "      <td>...</td>\n",
       "      <td>...</td>\n",
       "      <td>...</td>\n",
       "      <td>...</td>\n",
       "      <td>...</td>\n",
       "      <td>...</td>\n",
       "      <td>...</td>\n",
       "      <td>...</td>\n",
       "      <td>...</td>\n",
       "      <td>...</td>\n",
       "      <td>...</td>\n",
       "      <td>...</td>\n",
       "      <td>...</td>\n",
       "    </tr>\n",
       "    <tr>\n",
       "      <th>13875</th>\n",
       "      <td>8x72_A</td>\n",
       "      <td>1</td>\n",
       "      <td>1</td>\n",
       "      <td>23.14</td>\n",
       "      <td>0.870</td>\n",
       "      <td>167</td>\n",
       "      <td>71</td>\n",
       "      <td>[102, 118, 119, 121, 124, 128, 164, 166, 168, ...</td>\n",
       "      <td>(1.2434, -8.0117, -3.9127)</td>\n",
       "      <td>29</td>\n",
       "      <td>10.09</td>\n",
       "      <td>(0.44, -7.724, -3.247)</td>\n",
       "      <td>[114, 130, 131, 133, 136, 140, 176, 178, 180, ...</td>\n",
       "      <td>1343.95</td>\n",
       "      <td>2435.0</td>\n",
       "    </tr>\n",
       "    <tr>\n",
       "      <th>13877</th>\n",
       "      <td>8x88_B</td>\n",
       "      <td>1</td>\n",
       "      <td>1</td>\n",
       "      <td>5.26</td>\n",
       "      <td>0.258</td>\n",
       "      <td>73</td>\n",
       "      <td>40</td>\n",
       "      <td>[142, 143, 144, 145, 165, 169, 174, 177, 178, ...</td>\n",
       "      <td>(6.7669, 3.1895, 4.338)</td>\n",
       "      <td>17</td>\n",
       "      <td>8.24</td>\n",
       "      <td>(7.908, 3.844, 3.841)</td>\n",
       "      <td>[152, 153, 154, 155, 175, 179, 184, 187, 188, ...</td>\n",
       "      <td>762.88</td>\n",
       "      <td>840.0</td>\n",
       "    </tr>\n",
       "    <tr>\n",
       "      <th>13878</th>\n",
       "      <td>8xov_A</td>\n",
       "      <td>1</td>\n",
       "      <td>1</td>\n",
       "      <td>15.57</td>\n",
       "      <td>0.760</td>\n",
       "      <td>101</td>\n",
       "      <td>46</td>\n",
       "      <td>[107, 109, 110, 111, 112, 116, 159, 162, 172, ...</td>\n",
       "      <td>(-2.5311, -10.1511, -0.3272)</td>\n",
       "      <td>23</td>\n",
       "      <td>9.28</td>\n",
       "      <td>(-2.282, -10.311, -0.336)</td>\n",
       "      <td>[139, 141, 142, 143, 144, 148, 191, 194, 204, ...</td>\n",
       "      <td>1031.85</td>\n",
       "      <td>1317.0</td>\n",
       "    </tr>\n",
       "    <tr>\n",
       "      <th>13882</th>\n",
       "      <td>8y6b_F</td>\n",
       "      <td>1</td>\n",
       "      <td>1</td>\n",
       "      <td>7.22</td>\n",
       "      <td>0.415</td>\n",
       "      <td>88</td>\n",
       "      <td>37</td>\n",
       "      <td>[206, 207, 208, 209, 253, 254, 256, 302, 303, ...</td>\n",
       "      <td>(-0.9131, 20.4898, -2.4302)</td>\n",
       "      <td>23</td>\n",
       "      <td>8.31</td>\n",
       "      <td>(-1.221, 20.396, -4.647)</td>\n",
       "      <td>[237, 238, 239, 240, 284, 285, 287, 333, 334, ...</td>\n",
       "      <td>516.18</td>\n",
       "      <td>849.0</td>\n",
       "    </tr>\n",
       "    <tr>\n",
       "      <th>13887</th>\n",
       "      <td>8yhh_B</td>\n",
       "      <td>1</td>\n",
       "      <td>1</td>\n",
       "      <td>18.83</td>\n",
       "      <td>0.823</td>\n",
       "      <td>118</td>\n",
       "      <td>56</td>\n",
       "      <td>[109, 110, 111, 112, 113, 114, 115, 118, 119, ...</td>\n",
       "      <td>(8.0282, -4.8182, -7.4139)</td>\n",
       "      <td>22</td>\n",
       "      <td>9.69</td>\n",
       "      <td>(5.078, -4.775, -6.921)</td>\n",
       "      <td>[107, 108, 109, 110, 111, 112, 113, 116, 117, ...</td>\n",
       "      <td>817.94</td>\n",
       "      <td>2287.0</td>\n",
       "    </tr>\n",
       "  </tbody>\n",
       "</table>\n",
       "<p>5498 rows × 15 columns</p>\n",
       "</div>"
      ],
      "text/plain": [
       "      rep_chain  ID RANK  score   prob  n_sas_points  n_surf_atoms  \\\n",
       "1        1a5h_B   1    1  14.56  0.736            83            49   \n",
       "7        1aii_A   1    1   2.37  0.062            40            22   \n",
       "8        1aii_A   2    2   2.30  0.058            36            23   \n",
       "9        1aii_A   3    3   2.01  0.042            39            23   \n",
       "12       1aii_A   6    6   1.48  0.020            32            21   \n",
       "...         ...  ..  ...    ...    ...           ...           ...   \n",
       "13875    8x72_A   1    1  23.14  0.870           167            71   \n",
       "13877    8x88_B   1    1   5.26  0.258            73            40   \n",
       "13878    8xov_A   1    1  15.57  0.760           101            46   \n",
       "13882    8y6b_F   1    1   7.22  0.415            88            37   \n",
       "13887    8yhh_B   1    1  18.83  0.823           118            56   \n",
       "\n",
       "                                                     aas  \\\n",
       "1      [149, 197, 198, 199, 200, 201, 203, 221, 222, ...   \n",
       "7      [119, 120, 121, 124, 250, 251, 279, 282, 283, ...   \n",
       "8      [117, 118, 120, 121, 122, 164, 165, 206, 207, ...   \n",
       "9        [101, 270, 273, 69, 82, 85, 86, 89, 94, 97, 98]   \n",
       "12         [111, 114, 238, 241, 242, 245, 253, 256, 257]   \n",
       "...                                                  ...   \n",
       "13875  [102, 118, 119, 121, 124, 128, 164, 166, 168, ...   \n",
       "13877  [142, 143, 144, 145, 165, 169, 174, 177, 178, ...   \n",
       "13878  [107, 109, 110, 111, 112, 116, 159, 162, 172, ...   \n",
       "13882  [206, 207, 208, 209, 253, 254, 256, 302, 303, ...   \n",
       "13887  [109, 110, 111, 112, 113, 114, 115, 118, 119, ...   \n",
       "\n",
       "                             centre  n_aas    RoG               centre_trans  \\\n",
       "1         (2.6347, 4.4691, -8.0903)     25   9.61     (2.323, 2.829, -7.111)   \n",
       "7         (2.4154, -2.0563, 7.6232)     14   7.61      (2.596, -0.22, 7.586)   \n",
       "8        (-0.8619, -8.9589, 8.8216)     10   7.61   (-2.281, -10.163, 7.093)   \n",
       "9       (-5.2377, 10.1955, -5.9293)     11   7.27   (-4.755, 10.138, -4.328)   \n",
       "12         (4.392, -8.873, -6.6738)      9   6.66    (3.989, -8.495, -4.906)   \n",
       "...                             ...    ...    ...                        ...   \n",
       "13875    (1.2434, -8.0117, -3.9127)     29  10.09     (0.44, -7.724, -3.247)   \n",
       "13877       (6.7669, 3.1895, 4.338)     17   8.24      (7.908, 3.844, 3.841)   \n",
       "13878  (-2.5311, -10.1511, -0.3272)     23   9.28  (-2.282, -10.311, -0.336)   \n",
       "13882   (-0.9131, 20.4898, -2.4302)     23   8.31   (-1.221, 20.396, -4.647)   \n",
       "13887    (8.0282, -4.8182, -7.4139)     22   9.69    (5.078, -4.775, -6.921)   \n",
       "\n",
       "                                                  up_aas     SASA     VOL  \n",
       "1      [459, 507, 508, 509, 510, 511, 513, 531, 532, ...   823.17  1507.0  \n",
       "7      [119, 120, 121, 124, 250, 251, 279, 282, 283, ...   611.73   643.0  \n",
       "8      [117, 118, 120, 121, 122, 164, 165, 206, 207, ...   408.65   863.0  \n",
       "9        [101, 270, 273, 69, 82, 85, 86, 89, 94, 97, 98]   449.58   602.0  \n",
       "12         [111, 114, 238, 241, 242, 245, 253, 256, 257]   372.67   488.0  \n",
       "...                                                  ...      ...     ...  \n",
       "13875  [114, 130, 131, 133, 136, 140, 176, 178, 180, ...  1343.95  2435.0  \n",
       "13877  [152, 153, 154, 155, 175, 179, 184, 187, 188, ...   762.88   840.0  \n",
       "13878  [139, 141, 142, 143, 144, 148, 191, 194, 204, ...  1031.85  1317.0  \n",
       "13882  [237, 238, 239, 240, 284, 285, 287, 333, 334, ...   516.18   849.0  \n",
       "13887  [107, 108, 109, 110, 111, 112, 113, 116, 117, ...   817.94  2287.0  \n",
       "\n",
       "[5498 rows x 15 columns]"
      ]
     },
     "execution_count": 14,
     "metadata": {},
     "output_type": "execute_result"
    }
   ],
   "source": [
    "p2rank_pockets_df_w_sifts_SASA.query('VOL > SASA')."
   ]
  },
  {
   "cell_type": "code",
   "execution_count": 13,
   "metadata": {},
   "outputs": [],
   "source": [
    "p2rank_pockets_df_w_sifts_SASA.to_pickle(\"./results/P2Rank_CONS_pockets_DEF_TRANS.pkl\")"
   ]
  },
  {
   "cell_type": "code",
   "execution_count": 14,
   "metadata": {},
   "outputs": [
    {
     "name": "stdout",
     "output_type": "stream",
     "text": [
      "2obd_A_1: 19.51 --> 11+125+127+129+13+136+138+15+187+191+194+195+197+198+199+20+201+202+205+206+207+208+211+215+228+23+230+232+236+24+26+261+263+265+269+27+270+273+274+277+282+283+284+285+287+292+295+296+30+31+321+323+324+325+329+331+338+340+342+344+346+367+369+371+373+375+380+382+412+413+416+417+418+420+421+422+425+428+429+432+433+436+437+438+440+441+443+446+448+450+455+457+459+461+463+467+468+471+74+82+84\n"
     ]
    }
   ],
   "source": [
    "for _i, row in combined_SASA_df.iterrows():\n",
    "    RoG = row.RoG\n",
    "    rep_chain = row.rep_chain\n",
    "    aas = row.aas\n",
    "    ID = row.ID\n",
    "    if RoG > 19:\n",
    "        print(f\"{rep_chain}_{ID}: {RoG} --> {'+'.join(aas)}\")"
   ]
  },
  {
   "cell_type": "code",
   "execution_count": 16,
   "metadata": {},
   "outputs": [],
   "source": [
    "p2rank_pockets_df_w_sifts_SASA_FILT = p2rank_pockets_df_w_sifts_SASA.query('SASA == SASA & VOL == VOL').copy().reset_index(drop = True)"
   ]
  },
  {
   "cell_type": "code",
   "execution_count": 18,
   "metadata": {},
   "outputs": [],
   "source": [
    "p2rank_pockets_df_w_sifts_SASA_FILT[\"SVR\"] = p2rank_pockets_df_w_sifts_SASA_FILT.SASA/p2rank_pockets_df_w_sifts_SASA_FILT.VOL"
   ]
  },
  {
   "cell_type": "code",
   "execution_count": 21,
   "metadata": {
    "collapsed": true,
    "jupyter": {
     "outputs_hidden": true
    }
   },
   "outputs": [
    {
     "data": {
      "text/html": [
       "<div>\n",
       "<style scoped>\n",
       "    .dataframe tbody tr th:only-of-type {\n",
       "        vertical-align: middle;\n",
       "    }\n",
       "\n",
       "    .dataframe tbody tr th {\n",
       "        vertical-align: top;\n",
       "    }\n",
       "\n",
       "    .dataframe thead th {\n",
       "        text-align: right;\n",
       "    }\n",
       "</style>\n",
       "<table border=\"1\" class=\"dataframe\">\n",
       "  <thead>\n",
       "    <tr style=\"text-align: right;\">\n",
       "      <th></th>\n",
       "      <th>rep_chain</th>\n",
       "      <th>ID</th>\n",
       "      <th>RANK</th>\n",
       "      <th>score</th>\n",
       "      <th>prob</th>\n",
       "      <th>n_sas_points</th>\n",
       "      <th>n_surf_atoms</th>\n",
       "      <th>aas</th>\n",
       "      <th>centre</th>\n",
       "      <th>n_aas</th>\n",
       "      <th>RoG</th>\n",
       "      <th>centre_trans</th>\n",
       "      <th>up_aas</th>\n",
       "      <th>SASA</th>\n",
       "      <th>VOL</th>\n",
       "      <th>SVR</th>\n",
       "    </tr>\n",
       "  </thead>\n",
       "  <tbody>\n",
       "    <tr>\n",
       "      <th>7342</th>\n",
       "      <td>6bh8_A</td>\n",
       "      <td>3</td>\n",
       "      <td>3</td>\n",
       "      <td>7.14</td>\n",
       "      <td>0.408</td>\n",
       "      <td>70</td>\n",
       "      <td>33</td>\n",
       "      <td>[127, 181, 182, 185, 186, 204, 355, 356, 359, ...</td>\n",
       "      <td>(2.8152, -13.5869, 5.8872)</td>\n",
       "      <td>17</td>\n",
       "      <td>10.20</td>\n",
       "      <td>(2.009, -14.587, 6.032)</td>\n",
       "      <td>[127, 181, 182, 185, 186, 204, 355, 356, 359, ...</td>\n",
       "      <td>603.55</td>\n",
       "      <td>3545.0</td>\n",
       "      <td>0.170254</td>\n",
       "    </tr>\n",
       "    <tr>\n",
       "      <th>3226</th>\n",
       "      <td>3ddu_A</td>\n",
       "      <td>1</td>\n",
       "      <td>1</td>\n",
       "      <td>19.05</td>\n",
       "      <td>0.826</td>\n",
       "      <td>100</td>\n",
       "      <td>57</td>\n",
       "      <td>[172, 234, 251, 253, 254, 470, 472, 475, 477, ...</td>\n",
       "      <td>(5.3788, -2.4081, 1.9029)</td>\n",
       "      <td>23</td>\n",
       "      <td>10.51</td>\n",
       "      <td>(6.153, -3.266, 2.601)</td>\n",
       "      <td>[173, 235, 252, 254, 255, 471, 473, 476, 478, ...</td>\n",
       "      <td>726.97</td>\n",
       "      <td>4150.0</td>\n",
       "      <td>0.175173</td>\n",
       "    </tr>\n",
       "    <tr>\n",
       "      <th>7648</th>\n",
       "      <td>6en6_D</td>\n",
       "      <td>2</td>\n",
       "      <td>2</td>\n",
       "      <td>9.29</td>\n",
       "      <td>0.543</td>\n",
       "      <td>45</td>\n",
       "      <td>23</td>\n",
       "      <td>[100, 111, 115, 178, 182, 186, 194, 197, 198, ...</td>\n",
       "      <td>(9.4375, -13.1465, -3.7013)</td>\n",
       "      <td>12</td>\n",
       "      <td>8.59</td>\n",
       "      <td>(10.448, -12.614, -5.403)</td>\n",
       "      <td>[129, 140, 144, 207, 211, 215, 223, 226, 227, ...</td>\n",
       "      <td>344.22</td>\n",
       "      <td>1921.0</td>\n",
       "      <td>0.179188</td>\n",
       "    </tr>\n",
       "    <tr>\n",
       "      <th>5332</th>\n",
       "      <td>4twe_B</td>\n",
       "      <td>1</td>\n",
       "      <td>1</td>\n",
       "      <td>16.18</td>\n",
       "      <td>0.775</td>\n",
       "      <td>117</td>\n",
       "      <td>63</td>\n",
       "      <td>[200, 201, 248, 251, 255, 256, 371, 381, 419, ...</td>\n",
       "      <td>(2.2906, -3.75, -0.3046)</td>\n",
       "      <td>28</td>\n",
       "      <td>10.94</td>\n",
       "      <td>(2.822, -3.083, -1.461)</td>\n",
       "      <td>[197, 198, 245, 248, 252, 253, 368, 378, 416, ...</td>\n",
       "      <td>780.80</td>\n",
       "      <td>4132.0</td>\n",
       "      <td>0.188964</td>\n",
       "    </tr>\n",
       "    <tr>\n",
       "      <th>5434</th>\n",
       "      <td>4x0q_B</td>\n",
       "      <td>1</td>\n",
       "      <td>1</td>\n",
       "      <td>28.58</td>\n",
       "      <td>0.908</td>\n",
       "      <td>224</td>\n",
       "      <td>103</td>\n",
       "      <td>[423, 432, 434, 436, 497, 512, 513, 514, 515, ...</td>\n",
       "      <td>(-3.7337, 13.329, -5.8744)</td>\n",
       "      <td>35</td>\n",
       "      <td>12.27</td>\n",
       "      <td>(-4.303, 12.383, -4.994)</td>\n",
       "      <td>[2241, 2250, 2252, 2254, 2315, 2330, 2331, 233...</td>\n",
       "      <td>1418.36</td>\n",
       "      <td>6970.0</td>\n",
       "      <td>0.203495</td>\n",
       "    </tr>\n",
       "    <tr>\n",
       "      <th>...</th>\n",
       "      <td>...</td>\n",
       "      <td>...</td>\n",
       "      <td>...</td>\n",
       "      <td>...</td>\n",
       "      <td>...</td>\n",
       "      <td>...</td>\n",
       "      <td>...</td>\n",
       "      <td>...</td>\n",
       "      <td>...</td>\n",
       "      <td>...</td>\n",
       "      <td>...</td>\n",
       "      <td>...</td>\n",
       "      <td>...</td>\n",
       "      <td>...</td>\n",
       "      <td>...</td>\n",
       "      <td>...</td>\n",
       "    </tr>\n",
       "    <tr>\n",
       "      <th>4376</th>\n",
       "      <td>4ae8_A</td>\n",
       "      <td>1</td>\n",
       "      <td>1</td>\n",
       "      <td>7.96</td>\n",
       "      <td>0.467</td>\n",
       "      <td>85</td>\n",
       "      <td>44</td>\n",
       "      <td>[114, 115, 116, 118, 122, 123, 124, 125, 126, ...</td>\n",
       "      <td>(15.0156, 3.7188, 4.5803)</td>\n",
       "      <td>17</td>\n",
       "      <td>7.82</td>\n",
       "      <td>(10.305, 6.076, 3.248)</td>\n",
       "      <td>[143, 144, 145, 147, 151, 152, 153, 154, 155, ...</td>\n",
       "      <td>981.53</td>\n",
       "      <td>11.0</td>\n",
       "      <td>89.230000</td>\n",
       "    </tr>\n",
       "    <tr>\n",
       "      <th>1686</th>\n",
       "      <td>2epv_A</td>\n",
       "      <td>1</td>\n",
       "      <td>1</td>\n",
       "      <td>7.24</td>\n",
       "      <td>0.416</td>\n",
       "      <td>76</td>\n",
       "      <td>29</td>\n",
       "      <td>[17, 18, 20, 21, 22, 27, 30, 31, 34, 35, 38]</td>\n",
       "      <td>(-1.8097, 3.6145, -3.6294)</td>\n",
       "      <td>11</td>\n",
       "      <td>7.56</td>\n",
       "      <td>(1.553, 3.669, -0.51)</td>\n",
       "      <td>[812, 813, 815, 816, 817, 822, 825, 826, 829, ...</td>\n",
       "      <td>870.39</td>\n",
       "      <td>4.0</td>\n",
       "      <td>217.597500</td>\n",
       "    </tr>\n",
       "    <tr>\n",
       "      <th>1570</th>\n",
       "      <td>2ebt_A</td>\n",
       "      <td>2</td>\n",
       "      <td>2</td>\n",
       "      <td>6.38</td>\n",
       "      <td>0.347</td>\n",
       "      <td>64</td>\n",
       "      <td>29</td>\n",
       "      <td>[20, 21, 22, 23, 24, 25, 27, 32, 35, 36, 39, 40]</td>\n",
       "      <td>(3.5151, -10.2512, 5.2831)</td>\n",
       "      <td>12</td>\n",
       "      <td>7.61</td>\n",
       "      <td>(4.025, -13.286, 1.929)</td>\n",
       "      <td>[377, 378, 379, 380, 381, 382, 384, 389, 392, ...</td>\n",
       "      <td>976.57</td>\n",
       "      <td>0.0</td>\n",
       "      <td>inf</td>\n",
       "    </tr>\n",
       "    <tr>\n",
       "      <th>6674</th>\n",
       "      <td>5syn_D</td>\n",
       "      <td>1</td>\n",
       "      <td>1</td>\n",
       "      <td>29.87</td>\n",
       "      <td>0.916</td>\n",
       "      <td>157</td>\n",
       "      <td>77</td>\n",
       "      <td>[121, 122, 123, 148, 149, 152, 178, 179, 183, ...</td>\n",
       "      <td>(-0.4389, 10.0115, -6.205)</td>\n",
       "      <td>29</td>\n",
       "      <td>11.12</td>\n",
       "      <td>(1.009, 10.04, -3.12)</td>\n",
       "      <td>[121, 122, 123, 148, 149, 152, 178, 179, 183, ...</td>\n",
       "      <td>1375.93</td>\n",
       "      <td>0.0</td>\n",
       "      <td>inf</td>\n",
       "    </tr>\n",
       "    <tr>\n",
       "      <th>526</th>\n",
       "      <td>1m36_A</td>\n",
       "      <td>1</td>\n",
       "      <td>1</td>\n",
       "      <td>6.25</td>\n",
       "      <td>0.337</td>\n",
       "      <td>84</td>\n",
       "      <td>36</td>\n",
       "      <td>[12, 13, 15, 16, 17, 22, 26, 29, 30, 32, 33]</td>\n",
       "      <td>(4.4854, 5.4119, 6.1975)</td>\n",
       "      <td>11</td>\n",
       "      <td>7.68</td>\n",
       "      <td>(1.819, 5.197, 1.801)</td>\n",
       "      <td>[542, 543, 545, 546, 547, 552, 556, 559, 560, ...</td>\n",
       "      <td>1052.32</td>\n",
       "      <td>0.0</td>\n",
       "      <td>inf</td>\n",
       "    </tr>\n",
       "  </tbody>\n",
       "</table>\n",
       "<p>5893 rows × 16 columns</p>\n",
       "</div>"
      ],
      "text/plain": [
       "     rep_chain  ID RANK  score   prob  n_sas_points  n_surf_atoms  \\\n",
       "7342    6bh8_A   3    3   7.14  0.408            70            33   \n",
       "3226    3ddu_A   1    1  19.05  0.826           100            57   \n",
       "7648    6en6_D   2    2   9.29  0.543            45            23   \n",
       "5332    4twe_B   1    1  16.18  0.775           117            63   \n",
       "5434    4x0q_B   1    1  28.58  0.908           224           103   \n",
       "...        ...  ..  ...    ...    ...           ...           ...   \n",
       "4376    4ae8_A   1    1   7.96  0.467            85            44   \n",
       "1686    2epv_A   1    1   7.24  0.416            76            29   \n",
       "1570    2ebt_A   2    2   6.38  0.347            64            29   \n",
       "6674    5syn_D   1    1  29.87  0.916           157            77   \n",
       "526     1m36_A   1    1   6.25  0.337            84            36   \n",
       "\n",
       "                                                    aas  \\\n",
       "7342  [127, 181, 182, 185, 186, 204, 355, 356, 359, ...   \n",
       "3226  [172, 234, 251, 253, 254, 470, 472, 475, 477, ...   \n",
       "7648  [100, 111, 115, 178, 182, 186, 194, 197, 198, ...   \n",
       "5332  [200, 201, 248, 251, 255, 256, 371, 381, 419, ...   \n",
       "5434  [423, 432, 434, 436, 497, 512, 513, 514, 515, ...   \n",
       "...                                                 ...   \n",
       "4376  [114, 115, 116, 118, 122, 123, 124, 125, 126, ...   \n",
       "1686       [17, 18, 20, 21, 22, 27, 30, 31, 34, 35, 38]   \n",
       "1570   [20, 21, 22, 23, 24, 25, 27, 32, 35, 36, 39, 40]   \n",
       "6674  [121, 122, 123, 148, 149, 152, 178, 179, 183, ...   \n",
       "526        [12, 13, 15, 16, 17, 22, 26, 29, 30, 32, 33]   \n",
       "\n",
       "                           centre  n_aas    RoG               centre_trans  \\\n",
       "7342   (2.8152, -13.5869, 5.8872)     17  10.20    (2.009, -14.587, 6.032)   \n",
       "3226    (5.3788, -2.4081, 1.9029)     23  10.51     (6.153, -3.266, 2.601)   \n",
       "7648  (9.4375, -13.1465, -3.7013)     12   8.59  (10.448, -12.614, -5.403)   \n",
       "5332     (2.2906, -3.75, -0.3046)     28  10.94    (2.822, -3.083, -1.461)   \n",
       "5434   (-3.7337, 13.329, -5.8744)     35  12.27   (-4.303, 12.383, -4.994)   \n",
       "...                           ...    ...    ...                        ...   \n",
       "4376    (15.0156, 3.7188, 4.5803)     17   7.82     (10.305, 6.076, 3.248)   \n",
       "1686   (-1.8097, 3.6145, -3.6294)     11   7.56      (1.553, 3.669, -0.51)   \n",
       "1570   (3.5151, -10.2512, 5.2831)     12   7.61    (4.025, -13.286, 1.929)   \n",
       "6674   (-0.4389, 10.0115, -6.205)     29  11.12      (1.009, 10.04, -3.12)   \n",
       "526      (4.4854, 5.4119, 6.1975)     11   7.68      (1.819, 5.197, 1.801)   \n",
       "\n",
       "                                                 up_aas     SASA     VOL  \\\n",
       "7342  [127, 181, 182, 185, 186, 204, 355, 356, 359, ...   603.55  3545.0   \n",
       "3226  [173, 235, 252, 254, 255, 471, 473, 476, 478, ...   726.97  4150.0   \n",
       "7648  [129, 140, 144, 207, 211, 215, 223, 226, 227, ...   344.22  1921.0   \n",
       "5332  [197, 198, 245, 248, 252, 253, 368, 378, 416, ...   780.80  4132.0   \n",
       "5434  [2241, 2250, 2252, 2254, 2315, 2330, 2331, 233...  1418.36  6970.0   \n",
       "...                                                 ...      ...     ...   \n",
       "4376  [143, 144, 145, 147, 151, 152, 153, 154, 155, ...   981.53    11.0   \n",
       "1686  [812, 813, 815, 816, 817, 822, 825, 826, 829, ...   870.39     4.0   \n",
       "1570  [377, 378, 379, 380, 381, 382, 384, 389, 392, ...   976.57     0.0   \n",
       "6674  [121, 122, 123, 148, 149, 152, 178, 179, 183, ...  1375.93     0.0   \n",
       "526   [542, 543, 545, 546, 547, 552, 556, 559, 560, ...  1052.32     0.0   \n",
       "\n",
       "             SVR  \n",
       "7342    0.170254  \n",
       "3226    0.175173  \n",
       "7648    0.179188  \n",
       "5332    0.188964  \n",
       "5434    0.203495  \n",
       "...          ...  \n",
       "4376   89.230000  \n",
       "1686  217.597500  \n",
       "1570         inf  \n",
       "6674         inf  \n",
       "526          inf  \n",
       "\n",
       "[5893 rows x 16 columns]"
      ]
     },
     "execution_count": 21,
     "metadata": {},
     "output_type": "execute_result"
    }
   ],
   "source": [
    "p2rank_pockets_df_w_sifts_SASA_FILT.query('n_aas > 10').sort_values(by = \"SVR\")"
   ]
  },
  {
   "cell_type": "code",
   "execution_count": null,
   "metadata": {},
   "outputs": [],
   "source": []
  }
 ],
 "metadata": {
  "kernelspec": {
   "display_name": "Python [conda env:myenv2]",
   "language": "python",
   "name": "conda-env-myenv2-py"
  },
  "language_info": {
   "codemirror_mode": {
    "name": "ipython",
    "version": 3
   },
   "file_extension": ".py",
   "mimetype": "text/x-python",
   "name": "python",
   "nbconvert_exporter": "python",
   "pygments_lexer": "ipython3",
   "version": "3.10.0"
  }
 },
 "nbformat": 4,
 "nbformat_minor": 4
}
