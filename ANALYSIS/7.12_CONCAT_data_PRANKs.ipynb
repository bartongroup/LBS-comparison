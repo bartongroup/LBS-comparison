{
 "cells": [
  {
   "cell_type": "code",
   "execution_count": 1,
   "id": "6fd251f2-f84f-4327-bc72-3886826808e6",
   "metadata": {},
   "outputs": [],
   "source": [
    "from JSU_lib import *"
   ]
  },
  {
   "cell_type": "markdown",
   "id": "932ed2c6-8217-4e77-bf86-aa6151948a66",
   "metadata": {},
   "source": [
    "# PUResNet scoring"
   ]
  },
  {
   "cell_type": "markdown",
   "id": "29ba949c-e6be-40a6-8ab3-bc6f1a56f615",
   "metadata": {},
   "source": [
    "## PUResNet + PRANK"
   ]
  },
  {
   "cell_type": "code",
   "execution_count": 48,
   "id": "431d02f1-1db9-4a54-9673-1e7b436aaf17",
   "metadata": {},
   "outputs": [
    {
     "name": "stdout",
     "output_type": "stream",
     "text": [
      "Error with .DS_Store\n",
      "Error with params.txt\n",
      "Error with run.log\n"
     ]
    }
   ],
   "source": [
    "puresnet_pranked = get_PRANKED_df(\"./../DATA/puresnet_preds_rescored\", change_id = False)"
   ]
  },
  {
   "cell_type": "code",
   "execution_count": 45,
   "id": "dbc6644f-5f42-42eb-9973-1db00c3e3a33",
   "metadata": {},
   "outputs": [],
   "source": [
    "puresnet_pranked = pd.read_pickle(\"./results/puresnet_pranked_pockets_DEF_TRANS.pkl\")"
   ]
  },
  {
   "cell_type": "code",
   "execution_count": 46,
   "id": "9edabe62-4713-450a-8a5a-a8e45f4623c1",
   "metadata": {},
   "outputs": [
    {
     "data": {
      "text/html": [
       "<div>\n",
       "<style scoped>\n",
       "    .dataframe tbody tr th:only-of-type {\n",
       "        vertical-align: middle;\n",
       "    }\n",
       "\n",
       "    .dataframe tbody tr th {\n",
       "        vertical-align: top;\n",
       "    }\n",
       "\n",
       "    .dataframe thead th {\n",
       "        text-align: right;\n",
       "    }\n",
       "</style>\n",
       "<table border=\"1\" class=\"dataframe\">\n",
       "  <thead>\n",
       "    <tr style=\"text-align: right;\">\n",
       "      <th></th>\n",
       "      <th>rep_chain</th>\n",
       "      <th>OLD_ID</th>\n",
       "      <th>score</th>\n",
       "      <th>RANK</th>\n",
       "      <th>OLD_RANK</th>\n",
       "      <th>CHANGE</th>\n",
       "      <th></th>\n",
       "      <th>ID</th>\n",
       "    </tr>\n",
       "  </thead>\n",
       "  <tbody>\n",
       "    <tr>\n",
       "      <th>0</th>\n",
       "      <td>1a52_A</td>\n",
       "      <td>0_A_pkt</td>\n",
       "      <td>32.0635</td>\n",
       "      <td>1</td>\n",
       "      <td>1</td>\n",
       "      <td>0</td>\n",
       "      <td></td>\n",
       "      <td>1</td>\n",
       "    </tr>\n",
       "    <tr>\n",
       "      <th>1</th>\n",
       "      <td>1a5h_B</td>\n",
       "      <td>0_D_pkt</td>\n",
       "      <td>9.4200</td>\n",
       "      <td>1</td>\n",
       "      <td>1</td>\n",
       "      <td>0</td>\n",
       "      <td></td>\n",
       "      <td>1</td>\n",
       "    </tr>\n",
       "    <tr>\n",
       "      <th>2</th>\n",
       "      <td>1a9w_E</td>\n",
       "      <td>0_B_pkt</td>\n",
       "      <td>56.5060</td>\n",
       "      <td>1</td>\n",
       "      <td>1</td>\n",
       "      <td>0</td>\n",
       "      <td></td>\n",
       "      <td>1</td>\n",
       "    </tr>\n",
       "    <tr>\n",
       "      <th>3</th>\n",
       "      <td>1au1_A</td>\n",
       "      <td>0_A_pkt</td>\n",
       "      <td>0.9604</td>\n",
       "      <td>1</td>\n",
       "      <td>1</td>\n",
       "      <td>0</td>\n",
       "      <td></td>\n",
       "      <td>1</td>\n",
       "    </tr>\n",
       "    <tr>\n",
       "      <th>4</th>\n",
       "      <td>1aue_B</td>\n",
       "      <td>0_B_pkt</td>\n",
       "      <td>6.8550</td>\n",
       "      <td>1</td>\n",
       "      <td>1</td>\n",
       "      <td>0</td>\n",
       "      <td></td>\n",
       "      <td>1</td>\n",
       "    </tr>\n",
       "  </tbody>\n",
       "</table>\n",
       "</div>"
      ],
      "text/plain": [
       "  rep_chain   OLD_ID    score RANK OLD_RANK CHANGE      ID\n",
       "0    1a52_A  0_A_pkt  32.0635    1        1      0       1\n",
       "1    1a5h_B  0_D_pkt   9.4200    1        1      0       1\n",
       "2    1a9w_E  0_B_pkt  56.5060    1        1      0       1\n",
       "3    1au1_A  0_A_pkt   0.9604    1        1      0       1\n",
       "4    1aue_B  0_B_pkt   6.8550    1        1      0       1"
      ]
     },
     "execution_count": 46,
     "metadata": {},
     "output_type": "execute_result"
    }
   ],
   "source": [
    "puresnet_pranked.head(5)"
   ]
  },
  {
   "cell_type": "code",
   "execution_count": 47,
   "id": "e37b326b-ee31-4e7a-acad-0e10bde2f09e",
   "metadata": {},
   "outputs": [],
   "source": [
    "puresnet_prank_changes = np.array(puresnet_pranked.CHANGE.tolist())"
   ]
  },
  {
   "cell_type": "code",
   "execution_count": 53,
   "id": "124d3591-2474-493c-9018-5d20689ccc95",
   "metadata": {},
   "outputs": [],
   "source": [
    "puresnet_pranked.rename(columns = {\"ID\": \"OLD_ID\"}, inplace = True)"
   ]
  },
  {
   "cell_type": "code",
   "execution_count": 136,
   "id": "ec2287fa-0c6b-4aa2-9ec0-be13121c8da4",
   "metadata": {},
   "outputs": [],
   "source": [
    "pocket_id_dict = read_from_pickle(\"./results/puresnet_pocket_name_dict.pkl\")"
   ]
  },
  {
   "cell_type": "code",
   "execution_count": 55,
   "id": "db7f12db-705e-45c5-ba5c-2d969349a92b",
   "metadata": {},
   "outputs": [],
   "source": [
    "puresnet_pranked[\"ID\"] = puresnet_pranked.set_index([\"rep_chain\", \"OLD_ID\"]).index.map(pocket_id_dict)"
   ]
  },
  {
   "cell_type": "code",
   "execution_count": 57,
   "id": "5e684595-88be-4342-88ee-d12c927922a6",
   "metadata": {},
   "outputs": [
    {
     "data": {
      "text/html": [
       "<div>\n",
       "<style scoped>\n",
       "    .dataframe tbody tr th:only-of-type {\n",
       "        vertical-align: middle;\n",
       "    }\n",
       "\n",
       "    .dataframe tbody tr th {\n",
       "        vertical-align: top;\n",
       "    }\n",
       "\n",
       "    .dataframe thead th {\n",
       "        text-align: right;\n",
       "    }\n",
       "</style>\n",
       "<table border=\"1\" class=\"dataframe\">\n",
       "  <thead>\n",
       "    <tr style=\"text-align: right;\">\n",
       "      <th></th>\n",
       "      <th>rep_chain</th>\n",
       "      <th>OLD_ID</th>\n",
       "      <th>score</th>\n",
       "      <th>RANK</th>\n",
       "      <th>OLD_RANK</th>\n",
       "      <th>CHANGE</th>\n",
       "      <th></th>\n",
       "      <th>ID</th>\n",
       "    </tr>\n",
       "  </thead>\n",
       "  <tbody>\n",
       "  </tbody>\n",
       "</table>\n",
       "</div>"
      ],
      "text/plain": [
       "Empty DataFrame\n",
       "Columns: [rep_chain, OLD_ID, score, RANK, OLD_RANK, CHANGE,    , ID]\n",
       "Index: []"
      ]
     },
     "execution_count": 57,
     "metadata": {},
     "output_type": "execute_result"
    }
   ],
   "source": [
    "puresnet_pranked.query('ID != ID')"
   ]
  },
  {
   "cell_type": "code",
   "execution_count": 60,
   "id": "d32cea8f-067e-488b-977e-0d45c5a59bb8",
   "metadata": {},
   "outputs": [
    {
     "data": {
      "text/html": [
       "<div>\n",
       "<style scoped>\n",
       "    .dataframe tbody tr th:only-of-type {\n",
       "        vertical-align: middle;\n",
       "    }\n",
       "\n",
       "    .dataframe tbody tr th {\n",
       "        vertical-align: top;\n",
       "    }\n",
       "\n",
       "    .dataframe thead th {\n",
       "        text-align: right;\n",
       "    }\n",
       "</style>\n",
       "<table border=\"1\" class=\"dataframe\">\n",
       "  <thead>\n",
       "    <tr style=\"text-align: right;\">\n",
       "      <th></th>\n",
       "      <th>rep_chain</th>\n",
       "      <th>OLD_ID</th>\n",
       "      <th>score</th>\n",
       "      <th>RANK</th>\n",
       "      <th>OLD_RANK</th>\n",
       "      <th>CHANGE</th>\n",
       "      <th></th>\n",
       "      <th>ID</th>\n",
       "    </tr>\n",
       "  </thead>\n",
       "  <tbody>\n",
       "    <tr>\n",
       "      <th>0</th>\n",
       "      <td>1a52_A</td>\n",
       "      <td>0_A_pkt</td>\n",
       "      <td>32.0635</td>\n",
       "      <td>1</td>\n",
       "      <td>1</td>\n",
       "      <td>0</td>\n",
       "      <td></td>\n",
       "      <td>1</td>\n",
       "    </tr>\n",
       "    <tr>\n",
       "      <th>1</th>\n",
       "      <td>1a5h_B</td>\n",
       "      <td>0_D_pkt</td>\n",
       "      <td>9.4200</td>\n",
       "      <td>1</td>\n",
       "      <td>1</td>\n",
       "      <td>0</td>\n",
       "      <td></td>\n",
       "      <td>1</td>\n",
       "    </tr>\n",
       "    <tr>\n",
       "      <th>2</th>\n",
       "      <td>1a9w_E</td>\n",
       "      <td>0_B_pkt</td>\n",
       "      <td>56.5060</td>\n",
       "      <td>1</td>\n",
       "      <td>1</td>\n",
       "      <td>0</td>\n",
       "      <td></td>\n",
       "      <td>1</td>\n",
       "    </tr>\n",
       "    <tr>\n",
       "      <th>3</th>\n",
       "      <td>1au1_A</td>\n",
       "      <td>0_A_pkt</td>\n",
       "      <td>0.9604</td>\n",
       "      <td>1</td>\n",
       "      <td>1</td>\n",
       "      <td>0</td>\n",
       "      <td></td>\n",
       "      <td>1</td>\n",
       "    </tr>\n",
       "    <tr>\n",
       "      <th>4</th>\n",
       "      <td>1aue_B</td>\n",
       "      <td>0_B_pkt</td>\n",
       "      <td>6.8550</td>\n",
       "      <td>1</td>\n",
       "      <td>1</td>\n",
       "      <td>0</td>\n",
       "      <td></td>\n",
       "      <td>1</td>\n",
       "    </tr>\n",
       "  </tbody>\n",
       "</table>\n",
       "</div>"
      ],
      "text/plain": [
       "  rep_chain   OLD_ID    score RANK OLD_RANK CHANGE      ID\n",
       "0    1a52_A  0_A_pkt  32.0635    1        1      0       1\n",
       "1    1a5h_B  0_D_pkt   9.4200    1        1      0       1\n",
       "2    1a9w_E  0_B_pkt  56.5060    1        1      0       1\n",
       "3    1au1_A  0_A_pkt   0.9604    1        1      0       1\n",
       "4    1aue_B  0_B_pkt   6.8550    1        1      0       1"
      ]
     },
     "execution_count": 60,
     "metadata": {},
     "output_type": "execute_result"
    }
   ],
   "source": [
    "puresnet_pranked.head(5)"
   ]
  },
  {
   "cell_type": "code",
   "execution_count": 58,
   "id": "97df150e-64bd-4644-af90-d9ea1bec44c8",
   "metadata": {},
   "outputs": [
    {
     "data": {
      "text/plain": [
       "3167"
      ]
     },
     "execution_count": 58,
     "metadata": {},
     "output_type": "execute_result"
    }
   ],
   "source": [
    "len(puresnet_pranked)"
   ]
  },
  {
   "cell_type": "code",
   "execution_count": 61,
   "id": "dd02b6d5-fdbd-4ef5-8bba-460a529c33ec",
   "metadata": {},
   "outputs": [],
   "source": [
    "puresnet_pranked.to_pickle(\"./results/puresnet_pranked_pockets_DEF_TRANS.pkl\")"
   ]
  },
  {
   "cell_type": "markdown",
   "id": "24c510e9-3cf8-42a4-998a-a7df3866d940",
   "metadata": {},
   "source": [
    "## PUResNet + PRANK + Cons"
   ]
  },
  {
   "cell_type": "code",
   "execution_count": 48,
   "id": "01e8af7d-453f-4e5b-b41e-640eee6ba886",
   "metadata": {},
   "outputs": [
    {
     "name": "stdout",
     "output_type": "stream",
     "text": [
      "Error with params.txt\n",
      "Error with run.log\n"
     ]
    }
   ],
   "source": [
    "puresnet_pranked_CONS = get_PRANKED_df(\"./../DATA/puresnet_preds_rescored_cons\", change_id = False) # 0 hours 2 minutes 40.706 seconds"
   ]
  },
  {
   "cell_type": "code",
   "execution_count": 137,
   "id": "f94f0d7e-86e3-4ce3-9da0-4f7346657ae9",
   "metadata": {},
   "outputs": [],
   "source": [
    "puresnet_pranked_CONS.rename(columns = {\"ID\": \"OLD_ID\"}, inplace = True)\n",
    "\n",
    "puresnet_pranked_CONS[\"ID\"] = puresnet_pranked_CONS.set_index([\"rep_chain\", \"OLD_ID\"]).index.map(pocket_id_dict)"
   ]
  },
  {
   "cell_type": "code",
   "execution_count": 131,
   "id": "1ee7ef21-b882-4956-88af-69ddd1b0ae1b",
   "metadata": {},
   "outputs": [
    {
     "data": {
      "text/plain": [
       "3167"
      ]
     },
     "execution_count": 131,
     "metadata": {},
     "output_type": "execute_result"
    }
   ],
   "source": [
    "len(puresnet_pranked_CONS)"
   ]
  },
  {
   "cell_type": "code",
   "execution_count": 138,
   "id": "ca856214-07bf-4ceb-a8d8-66a0303fe603",
   "metadata": {},
   "outputs": [
    {
     "data": {
      "text/html": [
       "<div>\n",
       "<style scoped>\n",
       "    .dataframe tbody tr th:only-of-type {\n",
       "        vertical-align: middle;\n",
       "    }\n",
       "\n",
       "    .dataframe tbody tr th {\n",
       "        vertical-align: top;\n",
       "    }\n",
       "\n",
       "    .dataframe thead th {\n",
       "        text-align: right;\n",
       "    }\n",
       "</style>\n",
       "<table border=\"1\" class=\"dataframe\">\n",
       "  <thead>\n",
       "    <tr style=\"text-align: right;\">\n",
       "      <th></th>\n",
       "      <th>rep_chain</th>\n",
       "      <th>OLD_ID</th>\n",
       "      <th>score</th>\n",
       "      <th>RANK</th>\n",
       "      <th>OLD_RANK</th>\n",
       "      <th>CHANGE</th>\n",
       "      <th></th>\n",
       "      <th>ID</th>\n",
       "    </tr>\n",
       "  </thead>\n",
       "  <tbody>\n",
       "    <tr>\n",
       "      <th>0</th>\n",
       "      <td>1a52_A</td>\n",
       "      <td>0_A_pkt</td>\n",
       "      <td>85.9202</td>\n",
       "      <td>1</td>\n",
       "      <td>1</td>\n",
       "      <td>0</td>\n",
       "      <td></td>\n",
       "      <td>1</td>\n",
       "    </tr>\n",
       "    <tr>\n",
       "      <th>1</th>\n",
       "      <td>1a5h_B</td>\n",
       "      <td>0_D_pkt</td>\n",
       "      <td>20.5193</td>\n",
       "      <td>1</td>\n",
       "      <td>1</td>\n",
       "      <td>0</td>\n",
       "      <td></td>\n",
       "      <td>1</td>\n",
       "    </tr>\n",
       "    <tr>\n",
       "      <th>2</th>\n",
       "      <td>1a9w_E</td>\n",
       "      <td>0_B_pkt</td>\n",
       "      <td>110.2308</td>\n",
       "      <td>1</td>\n",
       "      <td>1</td>\n",
       "      <td>0</td>\n",
       "      <td></td>\n",
       "      <td>1</td>\n",
       "    </tr>\n",
       "    <tr>\n",
       "      <th>3</th>\n",
       "      <td>1au1_A</td>\n",
       "      <td>0_A_pkt</td>\n",
       "      <td>0.6340</td>\n",
       "      <td>1</td>\n",
       "      <td>1</td>\n",
       "      <td>0</td>\n",
       "      <td></td>\n",
       "      <td>1</td>\n",
       "    </tr>\n",
       "    <tr>\n",
       "      <th>4</th>\n",
       "      <td>1aue_B</td>\n",
       "      <td>0_B_pkt</td>\n",
       "      <td>7.3013</td>\n",
       "      <td>1</td>\n",
       "      <td>1</td>\n",
       "      <td>0</td>\n",
       "      <td></td>\n",
       "      <td>1</td>\n",
       "    </tr>\n",
       "  </tbody>\n",
       "</table>\n",
       "</div>"
      ],
      "text/plain": [
       "  rep_chain   OLD_ID     score RANK OLD_RANK CHANGE      ID\n",
       "0    1a52_A  0_A_pkt   85.9202    1        1      0       1\n",
       "1    1a5h_B  0_D_pkt   20.5193    1        1      0       1\n",
       "2    1a9w_E  0_B_pkt  110.2308    1        1      0       1\n",
       "3    1au1_A  0_A_pkt    0.6340    1        1      0       1\n",
       "4    1aue_B  0_B_pkt    7.3013    1        1      0       1"
      ]
     },
     "execution_count": 138,
     "metadata": {},
     "output_type": "execute_result"
    }
   ],
   "source": [
    "puresnet_pranked_CONS.head(5)"
   ]
  },
  {
   "cell_type": "code",
   "execution_count": 139,
   "id": "8ababf62-ec29-42e8-ad2c-f1330a967b6e",
   "metadata": {},
   "outputs": [],
   "source": [
    "puresnet_pranked_CONS.to_pickle(\"./results/puresnet_pranked_CONS_pockets_DEF_TRANS.pkl\")"
   ]
  },
  {
   "cell_type": "code",
   "execution_count": 50,
   "id": "cc9fb06b-2546-4a03-93c2-5a4a2cebec92",
   "metadata": {},
   "outputs": [],
   "source": [
    "puresnet_prank_cons_changes = np.array(puresnet_pranked_CONS.CHANGE.tolist())"
   ]
  },
  {
   "cell_type": "code",
   "execution_count": 103,
   "id": "caf5a1fb-6c13-43a1-9326-d651dc7daf40",
   "metadata": {},
   "outputs": [
    {
     "name": "stdout",
     "output_type": "stream",
     "text": [
      "96.65\n"
     ]
    },
    {
     "data": {
      "image/png": "[encoded data removed]",
      "text/plain": [
       "<Figure size 640x480 with 1 Axes>"
      ]
     },
     "metadata": {},
     "output_type": "display_data"
    }
   ],
   "source": [
    "DIFFS_puresnet = puresnet_prank_cons_changes - puresnet_prank_changes\n",
    "\n",
    "print(round(100*list(DIFFS_puresnet).count(0)/len(DIFFS_puresnet), 2))\n",
    "\n",
    "sns.histplot(DIFFS_puresnet, bins=7, stat=\"percent\", color=\"royalblue\", binrange=(-3,3))\n",
    "#plt.xlim(-100, 100)\n",
    "plt.xlabel(\"PRANK+Cons - PRANK new rank\")\n",
    "plt.ylabel(\"%\")\n",
    "plt.show()"
   ]
  },
  {
   "cell_type": "code",
   "execution_count": 113,
   "id": "f1806421-019a-4d27-be23-4064bf4f9f4a",
   "metadata": {},
   "outputs": [
    {
     "data": {
      "image/png": "[encoded data removed]",
      "text/plain": [
       "<Figure size 640x480 with 1 Axes>"
      ]
     },
     "metadata": {},
     "output_type": "display_data"
    }
   ],
   "source": [
    "plt.scatter(puresnet_prank_changes, puresnet_prank_cons_changes, s = 5, c = \"gray\")\n",
    "plt.ylim(-3, 3)\n",
    "plt.xlim(-3, 3)\n",
    "\n",
    "# Plot a diagonal dashed line\n",
    "plt.plot([-3, 3], [-3, 3], linestyle='--', color='red')\n",
    "plt.xlabel(\"PRANK rank change\")\n",
    "plt.ylabel(\"PRANK+Cons rank change\")\n",
    "plt.show()"
   ]
  },
  {
   "cell_type": "markdown",
   "id": "b5ea05ae-6bf6-45c2-90ab-a24a5af186ae",
   "metadata": {},
   "source": [
    "# fpocket rescoring"
   ]
  },
  {
   "cell_type": "markdown",
   "id": "fd6c2b30-ee8e-4134-b012-eec98f8aa824",
   "metadata": {},
   "source": [
    "## fpocket + PRANK"
   ]
  },
  {
   "cell_type": "code",
   "execution_count": 31,
   "id": "e903c38c-1133-4aa2-b0ae-eba5b088a2b1",
   "metadata": {},
   "outputs": [
    {
     "name": "stdout",
     "output_type": "stream",
     "text": [
      "Error with params.txt\n",
      "Error with run.log\n"
     ]
    }
   ],
   "source": [
    "fpocket_pranked = get_PRANKED_df(\"./../DATA/fpocket_rescored\")"
   ]
  },
  {
   "cell_type": "code",
   "execution_count": 45,
   "id": "4529f4cb-9c08-4149-8cf7-b4840cb351cb",
   "metadata": {},
   "outputs": [
    {
     "data": {
      "text/html": [
       "<div>\n",
       "<style scoped>\n",
       "    .dataframe tbody tr th:only-of-type {\n",
       "        vertical-align: middle;\n",
       "    }\n",
       "\n",
       "    .dataframe tbody tr th {\n",
       "        vertical-align: top;\n",
       "    }\n",
       "\n",
       "    .dataframe thead th {\n",
       "        text-align: right;\n",
       "    }\n",
       "</style>\n",
       "<table border=\"1\" class=\"dataframe\">\n",
       "  <thead>\n",
       "    <tr style=\"text-align: right;\">\n",
       "      <th></th>\n",
       "      <th>rep_chain</th>\n",
       "      <th>ID</th>\n",
       "      <th>score</th>\n",
       "      <th>RANK</th>\n",
       "      <th>OLD_RANK</th>\n",
       "      <th>CHANGE</th>\n",
       "      <th></th>\n",
       "    </tr>\n",
       "  </thead>\n",
       "  <tbody>\n",
       "    <tr>\n",
       "      <th>0</th>\n",
       "      <td>1a52_A</td>\n",
       "      <td>1</td>\n",
       "      <td>44.2707</td>\n",
       "      <td>1</td>\n",
       "      <td>1</td>\n",
       "      <td>0</td>\n",
       "      <td></td>\n",
       "    </tr>\n",
       "    <tr>\n",
       "      <th>1</th>\n",
       "      <td>1a52_A</td>\n",
       "      <td>11</td>\n",
       "      <td>5.9334</td>\n",
       "      <td>2</td>\n",
       "      <td>11</td>\n",
       "      <td>9</td>\n",
       "      <td>++++++++++</td>\n",
       "    </tr>\n",
       "    <tr>\n",
       "      <th>2</th>\n",
       "      <td>1a52_A</td>\n",
       "      <td>4</td>\n",
       "      <td>3.6748</td>\n",
       "      <td>3</td>\n",
       "      <td>4</td>\n",
       "      <td>1</td>\n",
       "      <td>+</td>\n",
       "    </tr>\n",
       "    <tr>\n",
       "      <th>3</th>\n",
       "      <td>1a52_A</td>\n",
       "      <td>5</td>\n",
       "      <td>1.7828</td>\n",
       "      <td>4</td>\n",
       "      <td>5</td>\n",
       "      <td>1</td>\n",
       "      <td>+</td>\n",
       "    </tr>\n",
       "    <tr>\n",
       "      <th>4</th>\n",
       "      <td>1a52_A</td>\n",
       "      <td>6</td>\n",
       "      <td>1.5094</td>\n",
       "      <td>5</td>\n",
       "      <td>6</td>\n",
       "      <td>1</td>\n",
       "      <td>+</td>\n",
       "    </tr>\n",
       "  </tbody>\n",
       "</table>\n",
       "</div>"
      ],
      "text/plain": [
       "  rep_chain  ID    score RANK OLD_RANK CHANGE             \n",
       "0    1a52_A   1  44.2707    1        1      0             \n",
       "1    1a52_A  11   5.9334    2       11      9  ++++++++++ \n",
       "2    1a52_A   4   3.6748    3        4      1           + \n",
       "3    1a52_A   5   1.7828    4        5      1           + \n",
       "4    1a52_A   6   1.5094    5        6      1           + "
      ]
     },
     "execution_count": 45,
     "metadata": {},
     "output_type": "execute_result"
    }
   ],
   "source": [
    "fpocket_pranked.head(5)"
   ]
  },
  {
   "cell_type": "code",
   "execution_count": 35,
   "id": "b0a57ef0-01c7-400f-93e8-0e5587349033",
   "metadata": {},
   "outputs": [
    {
     "name": "stdout",
     "output_type": "stream",
     "text": [
      "-294\n",
      "343\n"
     ]
    }
   ],
   "source": [
    "print(fpocket_pranked.CHANGE.min())\n",
    "print(fpocket_pranked.CHANGE.max())"
   ]
  },
  {
   "cell_type": "code",
   "execution_count": 58,
   "id": "562c85e0-4518-493f-924a-cf5dc891212f",
   "metadata": {},
   "outputs": [],
   "source": [
    "fpocket_pranked.to_pickle(\"./results/fpocket_pranked_pockets_DEF_TRANS.pkl\")"
   ]
  },
  {
   "cell_type": "code",
   "execution_count": 6,
   "id": "889aa48c-49cd-43ce-aec9-10057d8912d4",
   "metadata": {},
   "outputs": [],
   "source": [
    "fpocket_pranked = pd.read_pickle(\"./results/fpocket_pranked_pockets_DEF_TRANS.pkl\")"
   ]
  },
  {
   "cell_type": "code",
   "execution_count": 27,
   "id": "64514b19-98ba-45d0-851d-30ad0cdb6916",
   "metadata": {},
   "outputs": [],
   "source": [
    "prank_changes = np.array(fpocket_pranked.CHANGE.tolist())"
   ]
  },
  {
   "cell_type": "markdown",
   "id": "5594309b-fdc6-4c51-827f-a31a22882267",
   "metadata": {},
   "source": [
    "## fpocket + PRANK + CONS"
   ]
  },
  {
   "cell_type": "code",
   "execution_count": 2,
   "id": "f00fdd10-174c-4aa0-93f2-322e4af202a7",
   "metadata": {},
   "outputs": [
    {
     "name": "stdout",
     "output_type": "stream",
     "text": [
      "Error with params.txt\n",
      "Error with run.log\n"
     ]
    }
   ],
   "source": [
    "fpocket_pranked_CONS = get_PRANKED_df(\"./../DATA/fpocket_rescored_cons\") # 0 hours 6 minutes 43.878 seconds"
   ]
  },
  {
   "cell_type": "code",
   "execution_count": 4,
   "id": "1eb163c1-d7e3-4598-8c61-b5683eb661d3",
   "metadata": {},
   "outputs": [
    {
     "data": {
      "text/html": [
       "<div>\n",
       "<style scoped>\n",
       "    .dataframe tbody tr th:only-of-type {\n",
       "        vertical-align: middle;\n",
       "    }\n",
       "\n",
       "    .dataframe tbody tr th {\n",
       "        vertical-align: top;\n",
       "    }\n",
       "\n",
       "    .dataframe thead th {\n",
       "        text-align: right;\n",
       "    }\n",
       "</style>\n",
       "<table border=\"1\" class=\"dataframe\">\n",
       "  <thead>\n",
       "    <tr style=\"text-align: right;\">\n",
       "      <th></th>\n",
       "      <th>rep_chain</th>\n",
       "      <th>ID</th>\n",
       "      <th>score</th>\n",
       "      <th>RANK</th>\n",
       "      <th>OLD_RANK</th>\n",
       "      <th>CHANGE</th>\n",
       "      <th></th>\n",
       "    </tr>\n",
       "  </thead>\n",
       "  <tbody>\n",
       "    <tr>\n",
       "      <th>0</th>\n",
       "      <td>1a52_A</td>\n",
       "      <td>1</td>\n",
       "      <td>76.0657</td>\n",
       "      <td>1</td>\n",
       "      <td>1</td>\n",
       "      <td>0</td>\n",
       "      <td></td>\n",
       "    </tr>\n",
       "    <tr>\n",
       "      <th>1</th>\n",
       "      <td>1a52_A</td>\n",
       "      <td>11</td>\n",
       "      <td>13.4611</td>\n",
       "      <td>2</td>\n",
       "      <td>11</td>\n",
       "      <td>9</td>\n",
       "      <td>++++++++++</td>\n",
       "    </tr>\n",
       "    <tr>\n",
       "      <th>2</th>\n",
       "      <td>1a52_A</td>\n",
       "      <td>6</td>\n",
       "      <td>3.0971</td>\n",
       "      <td>3</td>\n",
       "      <td>6</td>\n",
       "      <td>3</td>\n",
       "      <td>+++</td>\n",
       "    </tr>\n",
       "    <tr>\n",
       "      <th>3</th>\n",
       "      <td>1a52_A</td>\n",
       "      <td>4</td>\n",
       "      <td>2.7441</td>\n",
       "      <td>4</td>\n",
       "      <td>4</td>\n",
       "      <td>0</td>\n",
       "      <td></td>\n",
       "    </tr>\n",
       "    <tr>\n",
       "      <th>4</th>\n",
       "      <td>1a52_A</td>\n",
       "      <td>12</td>\n",
       "      <td>1.6281</td>\n",
       "      <td>5</td>\n",
       "      <td>12</td>\n",
       "      <td>7</td>\n",
       "      <td>+++++++</td>\n",
       "    </tr>\n",
       "  </tbody>\n",
       "</table>\n",
       "</div>"
      ],
      "text/plain": [
       "  rep_chain  ID    score RANK OLD_RANK CHANGE             \n",
       "0    1a52_A   1  76.0657    1        1      0             \n",
       "1    1a52_A  11  13.4611    2       11      9  ++++++++++ \n",
       "2    1a52_A   6   3.0971    3        6      3         +++ \n",
       "3    1a52_A   4   2.7441    4        4      0             \n",
       "4    1a52_A  12   1.6281    5       12      7     +++++++ "
      ]
     },
     "execution_count": 4,
     "metadata": {},
     "output_type": "execute_result"
    }
   ],
   "source": [
    "fpocket_pranked_CONS.head()"
   ]
  },
  {
   "cell_type": "code",
   "execution_count": 5,
   "id": "9a1f33e7-7bfe-494d-8e78-dec7f93f72b2",
   "metadata": {
    "collapsed": true,
    "jupyter": {
     "outputs_hidden": true
    }
   },
   "outputs": [
    {
     "data": {
      "image/png": "[encoded data removed]",
      "text/plain": [
       "<Figure size 600x300 with 1 Axes>"
      ]
     },
     "metadata": {},
     "output_type": "display_data"
    }
   ],
   "source": [
    "# Plotting the histogram\n",
    "plt.figure(figsize=(6,3), dpi=100)\n",
    "sns.histplot(fpocket_pranked_CONS.CHANGE, bins=175, stat=\"proportion\", color=\"orchid\")\n",
    "#plt.title(\"Distance Histogram\")\n",
    "plt.xlabel(f\"OLD RANK - NEW RANK\")\n",
    "plt.ylabel(\"p\")\n",
    "plt.xlim(-100, 100)\n",
    "plt.axvline(x = 0, linestyle = \"--\", linewidth = 1, color = \"r\")\n",
    "plt.show()"
   ]
  },
  {
   "cell_type": "code",
   "execution_count": 26,
   "id": "0c920c4f-f96f-4496-872e-0a0d8a37fd11",
   "metadata": {},
   "outputs": [],
   "source": [
    "prank_cons_changes = np.array(fpocket_pranked_CONS.CHANGE.tolist())"
   ]
  },
  {
   "cell_type": "code",
   "execution_count": 24,
   "id": "1e65ac3b-42a8-4b74-be3a-6fdd1ec82b97",
   "metadata": {},
   "outputs": [
    {
     "data": {
      "text/html": [
       "<div>\n",
       "<style scoped>\n",
       "    .dataframe tbody tr th:only-of-type {\n",
       "        vertical-align: middle;\n",
       "    }\n",
       "\n",
       "    .dataframe tbody tr th {\n",
       "        vertical-align: top;\n",
       "    }\n",
       "\n",
       "    .dataframe thead th {\n",
       "        text-align: right;\n",
       "    }\n",
       "</style>\n",
       "<table border=\"1\" class=\"dataframe\">\n",
       "  <thead>\n",
       "    <tr style=\"text-align: right;\">\n",
       "      <th></th>\n",
       "      <th>rep_chain</th>\n",
       "      <th>ID</th>\n",
       "      <th>score</th>\n",
       "      <th>RANK</th>\n",
       "      <th>OLD_RANK</th>\n",
       "      <th>CHANGE</th>\n",
       "      <th></th>\n",
       "      <th>abs_change</th>\n",
       "    </tr>\n",
       "  </thead>\n",
       "  <tbody>\n",
       "  </tbody>\n",
       "</table>\n",
       "</div>"
      ],
      "text/plain": [
       "Empty DataFrame\n",
       "Columns: [rep_chain, ID, score, RANK, OLD_RANK, CHANGE,    , abs_change]\n",
       "Index: []"
      ]
     },
     "execution_count": 24,
     "metadata": {},
     "output_type": "execute_result"
    }
   ],
   "source": [
    "fpocket_pranked.query('CHANGE != CHANGE')"
   ]
  },
  {
   "cell_type": "code",
   "execution_count": 23,
   "id": "aa5c351a-c400-4d13-acff-7a8c2bc53a93",
   "metadata": {},
   "outputs": [
    {
     "data": {
      "text/html": [
       "<div>\n",
       "<style scoped>\n",
       "    .dataframe tbody tr th:only-of-type {\n",
       "        vertical-align: middle;\n",
       "    }\n",
       "\n",
       "    .dataframe tbody tr th {\n",
       "        vertical-align: top;\n",
       "    }\n",
       "\n",
       "    .dataframe thead th {\n",
       "        text-align: right;\n",
       "    }\n",
       "</style>\n",
       "<table border=\"1\" class=\"dataframe\">\n",
       "  <thead>\n",
       "    <tr style=\"text-align: right;\">\n",
       "      <th></th>\n",
       "      <th>rep_chain</th>\n",
       "      <th>ID</th>\n",
       "      <th>score</th>\n",
       "      <th>RANK</th>\n",
       "      <th>OLD_RANK</th>\n",
       "      <th>CHANGE</th>\n",
       "      <th></th>\n",
       "    </tr>\n",
       "  </thead>\n",
       "  <tbody>\n",
       "  </tbody>\n",
       "</table>\n",
       "</div>"
      ],
      "text/plain": [
       "Empty DataFrame\n",
       "Columns: [rep_chain, ID, score, RANK, OLD_RANK, CHANGE,    ]\n",
       "Index: []"
      ]
     },
     "execution_count": 23,
     "metadata": {},
     "output_type": "execute_result"
    }
   ],
   "source": [
    "fpocket_pranked_CONS.query('CHANGE != CHANGE')"
   ]
  },
  {
   "cell_type": "code",
   "execution_count": 110,
   "id": "0ffd2d03-fbc7-43ba-b91d-7f41d005ef67",
   "metadata": {},
   "outputs": [
    {
     "name": "stdout",
     "output_type": "stream",
     "text": [
      "21.66\n"
     ]
    },
    {
     "data": {
      "image/png": "[encoded data removed]",
      "text/plain": [
       "<Figure size 640x480 with 1 Axes>"
      ]
     },
     "metadata": {},
     "output_type": "display_data"
    }
   ],
   "source": [
    "DIFFS_fpocket = prank_cons_changes - prank_changes\n",
    "\n",
    "print(round(100*list(DIFFS_fpocket).count(0)/len(DIFFS_fpocket), 2))\n",
    "\n",
    "sns.histplot(DIFFS_fpocket, bins = 150, stat=\"percent\", color=\"gray\")#, binrange=(-3,3))\n",
    "#plt.xlim(-100, 100)\n",
    "plt.xlabel(\"PRANK+Cons - PRANK new rank\")\n",
    "plt.ylabel(\"%\")\n",
    "plt.show()"
   ]
  },
  {
   "cell_type": "code",
   "execution_count": 80,
   "id": "1aa8a327-2e03-4c75-b27a-594a328abf81",
   "metadata": {
    "collapsed": true,
    "jupyter": {
     "outputs_hidden": true
    }
   },
   "outputs": [
    {
     "name": "stdout",
     "output_type": "stream",
     "text": [
      "21.66\n"
     ]
    },
    {
     "data": {
      "image/png": "[encoded data removed]",
      "text/plain": [
       "<Figure size 640x480 with 1 Axes>"
      ]
     },
     "metadata": {},
     "output_type": "display_data"
    }
   ],
   "source": [
    "abs_DIFFS = [abs(el) for el in DIFFS]\n",
    "\n",
    "print(round(100*list(abs_DIFFS).count(0)/len(abs_DIFFS), 2))\n",
    "\n",
    "sns.histplot(abs_DIFFS, bins=350, stat=\"percent\", color=\"gray\")\n",
    "plt.xlim(0, 100)\n",
    "plt.xlabel(\"|PRANK+Cons - PRANK new rank|\")\n",
    "plt.ylabel(\"%\")\n",
    "plt.show()"
   ]
  },
  {
   "cell_type": "code",
   "execution_count": 51,
   "id": "7669dc4e-0e17-4e4c-adb0-3739d545513c",
   "metadata": {},
   "outputs": [
    {
     "data": {
      "image/png": "[encoded data removed]",
      "text/plain": [
       "<Figure size 640x480 with 1 Axes>"
      ]
     },
     "metadata": {},
     "output_type": "display_data"
    }
   ],
   "source": [
    "plt.scatter(prank_changes, prank_cons_changes, s = 5, c = \"gray\")\n",
    "plt.ylim(-350, 350)\n",
    "plt.xlim(-350, 350)\n",
    "\n",
    "# Plot a diagonal dashed line\n",
    "plt.plot([-350, 350], [-350, 350], linestyle='--', color='red')\n",
    "plt.xlabel(\"PRANK rank change\")\n",
    "plt.ylabel(\"PRANK+Cons rank change\")\n",
    "plt.show()"
   ]
  },
  {
   "cell_type": "code",
   "execution_count": 52,
   "id": "6cf508e5-3359-4a73-a2d7-b6362202f540",
   "metadata": {},
   "outputs": [],
   "source": [
    "fpocket_pranked_CONS.to_pickle(\"./results/fpocket_pranked_CONS_pockets_DEF_TRANS.pkl\")"
   ]
  },
  {
   "cell_type": "markdown",
   "id": "e9ca65cc-d754-49b1-a153-dd858f99fe36",
   "metadata": {},
   "source": [
    "# PocketFinder scoring"
   ]
  },
  {
   "cell_type": "markdown",
   "id": "b2f438fd-bb7f-4924-b89d-b61987b5f34c",
   "metadata": {},
   "source": [
    "## PocketFinder + PRANK"
   ]
  },
  {
   "cell_type": "code",
   "execution_count": 116,
   "id": "e3a63c52-25d2-43cc-8aab-daeaa1fe58c4",
   "metadata": {},
   "outputs": [
    {
     "name": "stdout",
     "output_type": "stream",
     "text": [
      "Error with params.txt\n",
      "Error with run.log\n"
     ]
    }
   ],
   "source": [
    "pocketfinder_pranked = get_PRANKED_df(\"./../DATA/pocketfinder_preds_rescored\")"
   ]
  },
  {
   "cell_type": "code",
   "execution_count": 117,
   "id": "95d852af-b971-42ab-b30b-17840c658f3e",
   "metadata": {},
   "outputs": [
    {
     "data": {
      "text/html": [
       "<div>\n",
       "<style scoped>\n",
       "    .dataframe tbody tr th:only-of-type {\n",
       "        vertical-align: middle;\n",
       "    }\n",
       "\n",
       "    .dataframe tbody tr th {\n",
       "        vertical-align: top;\n",
       "    }\n",
       "\n",
       "    .dataframe thead th {\n",
       "        text-align: right;\n",
       "    }\n",
       "</style>\n",
       "<table border=\"1\" class=\"dataframe\">\n",
       "  <thead>\n",
       "    <tr style=\"text-align: right;\">\n",
       "      <th></th>\n",
       "      <th>rep_chain</th>\n",
       "      <th>ID</th>\n",
       "      <th>score</th>\n",
       "      <th>RANK</th>\n",
       "      <th>OLD_RANK</th>\n",
       "      <th>CHANGE</th>\n",
       "      <th></th>\n",
       "    </tr>\n",
       "  </thead>\n",
       "  <tbody>\n",
       "    <tr>\n",
       "      <th>0</th>\n",
       "      <td>1a52_A</td>\n",
       "      <td>3</td>\n",
       "      <td>30.4977</td>\n",
       "      <td>1</td>\n",
       "      <td>3</td>\n",
       "      <td>2</td>\n",
       "      <td>++</td>\n",
       "    </tr>\n",
       "    <tr>\n",
       "      <th>1</th>\n",
       "      <td>1a52_A</td>\n",
       "      <td>2</td>\n",
       "      <td>7.2364</td>\n",
       "      <td>2</td>\n",
       "      <td>2</td>\n",
       "      <td>0</td>\n",
       "      <td></td>\n",
       "    </tr>\n",
       "    <tr>\n",
       "      <th>2</th>\n",
       "      <td>1a52_A</td>\n",
       "      <td>4</td>\n",
       "      <td>5.8188</td>\n",
       "      <td>3</td>\n",
       "      <td>4</td>\n",
       "      <td>1</td>\n",
       "      <td>+</td>\n",
       "    </tr>\n",
       "    <tr>\n",
       "      <th>3</th>\n",
       "      <td>1a52_A</td>\n",
       "      <td>5</td>\n",
       "      <td>1.3985</td>\n",
       "      <td>4</td>\n",
       "      <td>5</td>\n",
       "      <td>1</td>\n",
       "      <td>+</td>\n",
       "    </tr>\n",
       "    <tr>\n",
       "      <th>4</th>\n",
       "      <td>1a52_A</td>\n",
       "      <td>1</td>\n",
       "      <td>0.5820</td>\n",
       "      <td>5</td>\n",
       "      <td>1</td>\n",
       "      <td>-4</td>\n",
       "      <td>----</td>\n",
       "    </tr>\n",
       "  </tbody>\n",
       "</table>\n",
       "</div>"
      ],
      "text/plain": [
       "  rep_chain  ID    score  RANK  OLD_RANK  CHANGE       \n",
       "0    1a52_A   3  30.4977     1         3       2    ++ \n",
       "1    1a52_A   2   7.2364     2         2       0       \n",
       "2    1a52_A   4   5.8188     3         4       1     + \n",
       "3    1a52_A   5   1.3985     4         5       1     + \n",
       "4    1a52_A   1   0.5820     5         1      -4  ---- "
      ]
     },
     "execution_count": 117,
     "metadata": {},
     "output_type": "execute_result"
    }
   ],
   "source": [
    "pocketfinder_pranked.head(5)"
   ]
  },
  {
   "cell_type": "code",
   "execution_count": 39,
   "id": "1fc6e626-fc41-4093-baeb-39c38b4ff8fb",
   "metadata": {},
   "outputs": [],
   "source": [
    "pocketfinder_pranked.to_pickle(\"./results/pocketfinder_pranked_pockets_DEF_TRANS.pkl\")"
   ]
  },
  {
   "cell_type": "markdown",
   "id": "24f0ba1a-c87c-4ac6-9812-25ab270da645",
   "metadata": {},
   "source": [
    "## PocketFinder + PRANK + Cons"
   ]
  },
  {
   "cell_type": "code",
   "execution_count": 82,
   "id": "ad02bc56-fc1b-40c5-82aa-786e61e9c10b",
   "metadata": {},
   "outputs": [
    {
     "name": "stdout",
     "output_type": "stream",
     "text": [
      "Error with params.txt\n",
      "Error with run.log\n"
     ]
    }
   ],
   "source": [
    "pocketfinder_pranked_cons = get_PRANKED_df(\"./../DATA/pocketfinder_preds_rescored_cons\") # 0 hours 2 minutes 58.769 seconds"
   ]
  },
  {
   "cell_type": "code",
   "execution_count": 91,
   "id": "cf90b4c9-7445-455f-abfb-966836581220",
   "metadata": {},
   "outputs": [
    {
     "data": {
      "text/html": [
       "<div>\n",
       "<style scoped>\n",
       "    .dataframe tbody tr th:only-of-type {\n",
       "        vertical-align: middle;\n",
       "    }\n",
       "\n",
       "    .dataframe tbody tr th {\n",
       "        vertical-align: top;\n",
       "    }\n",
       "\n",
       "    .dataframe thead th {\n",
       "        text-align: right;\n",
       "    }\n",
       "</style>\n",
       "<table border=\"1\" class=\"dataframe\">\n",
       "  <thead>\n",
       "    <tr style=\"text-align: right;\">\n",
       "      <th></th>\n",
       "      <th>rep_chain</th>\n",
       "      <th>ID</th>\n",
       "      <th>score</th>\n",
       "      <th>RANK</th>\n",
       "      <th>OLD_RANK</th>\n",
       "      <th>CHANGE</th>\n",
       "      <th></th>\n",
       "    </tr>\n",
       "  </thead>\n",
       "  <tbody>\n",
       "    <tr>\n",
       "      <th>0</th>\n",
       "      <td>1a52_A</td>\n",
       "      <td>3</td>\n",
       "      <td>77.6260</td>\n",
       "      <td>1</td>\n",
       "      <td>3</td>\n",
       "      <td>2</td>\n",
       "      <td>++</td>\n",
       "    </tr>\n",
       "    <tr>\n",
       "      <th>1</th>\n",
       "      <td>1a52_A</td>\n",
       "      <td>4</td>\n",
       "      <td>9.2178</td>\n",
       "      <td>2</td>\n",
       "      <td>4</td>\n",
       "      <td>2</td>\n",
       "      <td>++</td>\n",
       "    </tr>\n",
       "    <tr>\n",
       "      <th>2</th>\n",
       "      <td>1a52_A</td>\n",
       "      <td>2</td>\n",
       "      <td>8.4033</td>\n",
       "      <td>3</td>\n",
       "      <td>2</td>\n",
       "      <td>-1</td>\n",
       "      <td>-</td>\n",
       "    </tr>\n",
       "    <tr>\n",
       "      <th>3</th>\n",
       "      <td>1a52_A</td>\n",
       "      <td>5</td>\n",
       "      <td>0.6062</td>\n",
       "      <td>4</td>\n",
       "      <td>5</td>\n",
       "      <td>1</td>\n",
       "      <td>+</td>\n",
       "    </tr>\n",
       "    <tr>\n",
       "      <th>4</th>\n",
       "      <td>1a52_A</td>\n",
       "      <td>1</td>\n",
       "      <td>0.6043</td>\n",
       "      <td>5</td>\n",
       "      <td>1</td>\n",
       "      <td>-4</td>\n",
       "      <td>----</td>\n",
       "    </tr>\n",
       "  </tbody>\n",
       "</table>\n",
       "</div>"
      ],
      "text/plain": [
       "  rep_chain  ID    score  RANK  OLD_RANK  CHANGE       \n",
       "0    1a52_A   3  77.6260     1         3       2    ++ \n",
       "1    1a52_A   4   9.2178     2         4       2    ++ \n",
       "2    1a52_A   2   8.4033     3         2      -1     - \n",
       "3    1a52_A   5   0.6062     4         5       1     + \n",
       "4    1a52_A   1   0.6043     5         1      -4  ---- "
      ]
     },
     "execution_count": 91,
     "metadata": {},
     "output_type": "execute_result"
    }
   ],
   "source": [
    "pocketfinder_pranked_cons.head(5)"
   ]
  },
  {
   "cell_type": "code",
   "execution_count": 133,
   "id": "1efefdb7-12df-4141-bca3-4b44822e8ff1",
   "metadata": {},
   "outputs": [],
   "source": [
    "pocketfinder_pranked_cons.to_pickle(\"./results/pocketfinder_pranked_CONS_pockets_DEF_TRANS.pkl\")"
   ]
  },
  {
   "cell_type": "code",
   "execution_count": 118,
   "id": "a3015d49-638e-4712-96ea-266bd015e70f",
   "metadata": {},
   "outputs": [
    {
     "name": "stdout",
     "output_type": "stream",
     "text": [
      "72.61\n"
     ]
    },
    {
     "data": {
      "image/png": "[encoded data removed]",
      "text/plain": [
       "<Figure size 640x480 with 1 Axes>"
      ]
     },
     "metadata": {},
     "output_type": "display_data"
    }
   ],
   "source": [
    "prank_changes_pocketfinder = np.array(pocketfinder_pranked.CHANGE.tolist())\n",
    "prank_cons_changes_pocketfinder = np.array(pocketfinder_pranked_cons.CHANGE.tolist())\n",
    "\n",
    "DIFFS_pocketfinder = prank_cons_changes_pocketfinder - prank_changes_pocketfinder\n",
    "\n",
    "print(round(100*list(DIFFS_pocketfinder).count(0)/len(DIFFS_pocketfinder), 2))\n",
    "\n",
    "sns.histplot(DIFFS_pocketfinder, bins = 150, stat=\"percent\", color=\"blue\")#, binrange=(-3,3))\n",
    "#plt.xlim(-100, 100)\n",
    "plt.xlabel(\"PRANK+Cons - PRANK new rank\")\n",
    "plt.ylabel(\"%\")\n",
    "plt.show()"
   ]
  },
  {
   "cell_type": "markdown",
   "id": "d87208f1-e944-4b3f-982d-2d79c0189d55",
   "metadata": {},
   "source": [
    "# Ligsite scoring"
   ]
  },
  {
   "cell_type": "code",
   "execution_count": 92,
   "id": "4d9796cc-15cb-4a20-ae8b-c6d067e95cd6",
   "metadata": {},
   "outputs": [],
   "source": [
    "pocketfinder_pranked_cons.to_pickle(\"./results/pocketfinder_pranked_CONS_pockets_DEF_TRANS.pkl\")"
   ]
  },
  {
   "cell_type": "markdown",
   "id": "27d55cf1-ca8f-4975-98bd-786f07bc46b9",
   "metadata": {},
   "source": [
    "## LigSite + PRANK"
   ]
  },
  {
   "cell_type": "code",
   "execution_count": 120,
   "id": "34a12a20-4d56-438c-bce0-3c5206e9fd12",
   "metadata": {},
   "outputs": [
    {
     "name": "stdout",
     "output_type": "stream",
     "text": [
      "Error with .DS_Store\n",
      "Error with params.txt\n",
      "Error with run.log\n"
     ]
    }
   ],
   "source": [
    "ligsite_pranked = get_PRANKED_df(\"./../DATA/ligsite_preds_rescored\")"
   ]
  },
  {
   "cell_type": "code",
   "execution_count": 121,
   "id": "06cffabb-6109-444e-a1e5-e41315eb27d3",
   "metadata": {},
   "outputs": [
    {
     "data": {
      "text/html": [
       "<div>\n",
       "<style scoped>\n",
       "    .dataframe tbody tr th:only-of-type {\n",
       "        vertical-align: middle;\n",
       "    }\n",
       "\n",
       "    .dataframe tbody tr th {\n",
       "        vertical-align: top;\n",
       "    }\n",
       "\n",
       "    .dataframe thead th {\n",
       "        text-align: right;\n",
       "    }\n",
       "</style>\n",
       "<table border=\"1\" class=\"dataframe\">\n",
       "  <thead>\n",
       "    <tr style=\"text-align: right;\">\n",
       "      <th></th>\n",
       "      <th>rep_chain</th>\n",
       "      <th>ID</th>\n",
       "      <th>score</th>\n",
       "      <th>RANK</th>\n",
       "      <th>OLD_RANK</th>\n",
       "      <th>CHANGE</th>\n",
       "      <th></th>\n",
       "    </tr>\n",
       "  </thead>\n",
       "  <tbody>\n",
       "    <tr>\n",
       "      <th>0</th>\n",
       "      <td>1a52_A</td>\n",
       "      <td>1</td>\n",
       "      <td>35.8552</td>\n",
       "      <td>1</td>\n",
       "      <td>1</td>\n",
       "      <td>0</td>\n",
       "      <td></td>\n",
       "    </tr>\n",
       "    <tr>\n",
       "      <th>1</th>\n",
       "      <td>1a52_A</td>\n",
       "      <td>2</td>\n",
       "      <td>7.4068</td>\n",
       "      <td>2</td>\n",
       "      <td>2</td>\n",
       "      <td>0</td>\n",
       "      <td></td>\n",
       "    </tr>\n",
       "    <tr>\n",
       "      <th>2</th>\n",
       "      <td>1a5h_B</td>\n",
       "      <td>2</td>\n",
       "      <td>14.4832</td>\n",
       "      <td>1</td>\n",
       "      <td>2</td>\n",
       "      <td>1</td>\n",
       "      <td>+</td>\n",
       "    </tr>\n",
       "    <tr>\n",
       "      <th>3</th>\n",
       "      <td>1a5h_B</td>\n",
       "      <td>1</td>\n",
       "      <td>10.8580</td>\n",
       "      <td>2</td>\n",
       "      <td>1</td>\n",
       "      <td>-1</td>\n",
       "      <td>-</td>\n",
       "    </tr>\n",
       "    <tr>\n",
       "      <th>4</th>\n",
       "      <td>1a9w_E</td>\n",
       "      <td>1</td>\n",
       "      <td>65.8163</td>\n",
       "      <td>1</td>\n",
       "      <td>1</td>\n",
       "      <td>0</td>\n",
       "      <td></td>\n",
       "    </tr>\n",
       "  </tbody>\n",
       "</table>\n",
       "</div>"
      ],
      "text/plain": [
       "  rep_chain  ID    score  RANK  OLD_RANK  CHANGE    \n",
       "0    1a52_A   1  35.8552     1         1       0    \n",
       "1    1a52_A   2   7.4068     2         2       0    \n",
       "2    1a5h_B   2  14.4832     1         2       1  + \n",
       "3    1a5h_B   1  10.8580     2         1      -1  - \n",
       "4    1a9w_E   1  65.8163     1         1       0    "
      ]
     },
     "execution_count": 121,
     "metadata": {},
     "output_type": "execute_result"
    }
   ],
   "source": [
    "ligsite_pranked.head(5)"
   ]
  },
  {
   "cell_type": "code",
   "execution_count": 37,
   "id": "c72fce60-07ec-472b-acb3-4d8e4434708b",
   "metadata": {},
   "outputs": [],
   "source": [
    "ligsite_pranked.to_pickle(\"./results/ligsite_pranked_pockets_DEF_TRANS.pkl\")"
   ]
  },
  {
   "cell_type": "markdown",
   "id": "ec302329-161b-42f3-96f3-c332b3ba8b23",
   "metadata": {},
   "source": [
    "## Ligsite + PRANK + Cons"
   ]
  },
  {
   "cell_type": "code",
   "execution_count": 122,
   "id": "c29ebda1-4a16-42db-a558-2114edde8b58",
   "metadata": {},
   "outputs": [
    {
     "name": "stdout",
     "output_type": "stream",
     "text": [
      "Error with params.txt\n",
      "Error with run.log\n"
     ]
    }
   ],
   "source": [
    "ligsite_pranked_cons = get_PRANKED_df(\"./../DATA/ligsite_preds_rescored_cons\") # 0 hours 2 minutes 55.365 seconds"
   ]
  },
  {
   "cell_type": "code",
   "execution_count": 123,
   "id": "42cccb27-a654-4929-8aa3-78e94b2a2cc0",
   "metadata": {},
   "outputs": [
    {
     "data": {
      "text/html": [
       "<div>\n",
       "<style scoped>\n",
       "    .dataframe tbody tr th:only-of-type {\n",
       "        vertical-align: middle;\n",
       "    }\n",
       "\n",
       "    .dataframe tbody tr th {\n",
       "        vertical-align: top;\n",
       "    }\n",
       "\n",
       "    .dataframe thead th {\n",
       "        text-align: right;\n",
       "    }\n",
       "</style>\n",
       "<table border=\"1\" class=\"dataframe\">\n",
       "  <thead>\n",
       "    <tr style=\"text-align: right;\">\n",
       "      <th></th>\n",
       "      <th>rep_chain</th>\n",
       "      <th>ID</th>\n",
       "      <th>score</th>\n",
       "      <th>RANK</th>\n",
       "      <th>OLD_RANK</th>\n",
       "      <th>CHANGE</th>\n",
       "      <th></th>\n",
       "    </tr>\n",
       "  </thead>\n",
       "  <tbody>\n",
       "    <tr>\n",
       "      <th>0</th>\n",
       "      <td>1a52_A</td>\n",
       "      <td>1</td>\n",
       "      <td>85.4594</td>\n",
       "      <td>1</td>\n",
       "      <td>1</td>\n",
       "      <td>0</td>\n",
       "      <td></td>\n",
       "    </tr>\n",
       "    <tr>\n",
       "      <th>1</th>\n",
       "      <td>1a52_A</td>\n",
       "      <td>2</td>\n",
       "      <td>13.8353</td>\n",
       "      <td>2</td>\n",
       "      <td>2</td>\n",
       "      <td>0</td>\n",
       "      <td></td>\n",
       "    </tr>\n",
       "    <tr>\n",
       "      <th>2</th>\n",
       "      <td>1a5h_B</td>\n",
       "      <td>2</td>\n",
       "      <td>26.5277</td>\n",
       "      <td>1</td>\n",
       "      <td>2</td>\n",
       "      <td>1</td>\n",
       "      <td>+</td>\n",
       "    </tr>\n",
       "    <tr>\n",
       "      <th>3</th>\n",
       "      <td>1a5h_B</td>\n",
       "      <td>1</td>\n",
       "      <td>20.0653</td>\n",
       "      <td>2</td>\n",
       "      <td>1</td>\n",
       "      <td>-1</td>\n",
       "      <td>-</td>\n",
       "    </tr>\n",
       "    <tr>\n",
       "      <th>4</th>\n",
       "      <td>1a9w_E</td>\n",
       "      <td>1</td>\n",
       "      <td>126.3950</td>\n",
       "      <td>1</td>\n",
       "      <td>1</td>\n",
       "      <td>0</td>\n",
       "      <td></td>\n",
       "    </tr>\n",
       "  </tbody>\n",
       "</table>\n",
       "</div>"
      ],
      "text/plain": [
       "  rep_chain  ID     score  RANK  OLD_RANK  CHANGE    \n",
       "0    1a52_A   1   85.4594     1         1       0    \n",
       "1    1a52_A   2   13.8353     2         2       0    \n",
       "2    1a5h_B   2   26.5277     1         2       1  + \n",
       "3    1a5h_B   1   20.0653     2         1      -1  - \n",
       "4    1a9w_E   1  126.3950     1         1       0    "
      ]
     },
     "execution_count": 123,
     "metadata": {},
     "output_type": "execute_result"
    }
   ],
   "source": [
    "ligsite_pranked_cons.head(5)"
   ]
  },
  {
   "cell_type": "code",
   "execution_count": 90,
   "id": "35c4948d-071d-4c2a-82ff-2164339a8460",
   "metadata": {},
   "outputs": [],
   "source": [
    "ligsite_pranked_cons.to_pickle(\"./results/ligsite_pranked_CONS_pockets_DEF_TRANS.pkl\")"
   ]
  },
  {
   "cell_type": "code",
   "execution_count": 125,
   "id": "73ac5641-bd56-4da7-ba1e-2eb16d091131",
   "metadata": {},
   "outputs": [
    {
     "name": "stdout",
     "output_type": "stream",
     "text": [
      "77.75\n"
     ]
    },
    {
     "data": {
      "image/png": "[encoded data removed]",
      "text/plain": [
       "<Figure size 640x480 with 1 Axes>"
      ]
     },
     "metadata": {},
     "output_type": "display_data"
    }
   ],
   "source": [
    "prank_changes_ligsite = np.array(ligsite_pranked.CHANGE.tolist())\n",
    "prank_cons_changes_ligsite = np.array(ligsite_pranked_cons.CHANGE.tolist())\n",
    "\n",
    "DIFFS_ligsite = prank_cons_changes_ligsite - prank_changes_ligsite\n",
    "\n",
    "print(round(100*list(DIFFS_ligsite).count(0)/len(DIFFS_ligsite), 2))\n",
    "\n",
    "sns.histplot(DIFFS_ligsite, bins = 150, stat=\"percent\", color=\"red\")#, binrange=(-3,3))\n",
    "#plt.xlim(-100, 100)\n",
    "plt.xlabel(\"PRANK+Cons - PRANK new rank\")\n",
    "plt.ylabel(\"%\")\n",
    "plt.show()"
   ]
  },
  {
   "cell_type": "markdown",
   "id": "5a070281-a8d4-4902-ae34-6e095476d0b8",
   "metadata": {},
   "source": [
    "## SurfNet + PRANK"
   ]
  },
  {
   "cell_type": "code",
   "execution_count": 128,
   "id": "f134fc77-18b8-4c0c-95bc-03fd98600b29",
   "metadata": {},
   "outputs": [
    {
     "name": "stdout",
     "output_type": "stream",
     "text": [
      "Error with params.txt\n",
      "Error with run.log\n"
     ]
    }
   ],
   "source": [
    "surfnet_pranked = get_PRANKED_df(\"./../DATA/surfnet_preds_rescored\")"
   ]
  },
  {
   "cell_type": "code",
   "execution_count": 129,
   "id": "529a258d-c492-4653-9b3a-4a52d069e228",
   "metadata": {},
   "outputs": [
    {
     "data": {
      "text/html": [
       "<div>\n",
       "<style scoped>\n",
       "    .dataframe tbody tr th:only-of-type {\n",
       "        vertical-align: middle;\n",
       "    }\n",
       "\n",
       "    .dataframe tbody tr th {\n",
       "        vertical-align: top;\n",
       "    }\n",
       "\n",
       "    .dataframe thead th {\n",
       "        text-align: right;\n",
       "    }\n",
       "</style>\n",
       "<table border=\"1\" class=\"dataframe\">\n",
       "  <thead>\n",
       "    <tr style=\"text-align: right;\">\n",
       "      <th></th>\n",
       "      <th>rep_chain</th>\n",
       "      <th>ID</th>\n",
       "      <th>score</th>\n",
       "      <th>RANK</th>\n",
       "      <th>OLD_RANK</th>\n",
       "      <th>CHANGE</th>\n",
       "      <th></th>\n",
       "    </tr>\n",
       "  </thead>\n",
       "  <tbody>\n",
       "    <tr>\n",
       "      <th>0</th>\n",
       "      <td>1a52_A</td>\n",
       "      <td>3</td>\n",
       "      <td>35.9118</td>\n",
       "      <td>1</td>\n",
       "      <td>3</td>\n",
       "      <td>2</td>\n",
       "      <td>++</td>\n",
       "    </tr>\n",
       "    <tr>\n",
       "      <th>1</th>\n",
       "      <td>1a52_A</td>\n",
       "      <td>2</td>\n",
       "      <td>7.6292</td>\n",
       "      <td>2</td>\n",
       "      <td>2</td>\n",
       "      <td>0</td>\n",
       "      <td></td>\n",
       "    </tr>\n",
       "    <tr>\n",
       "      <th>2</th>\n",
       "      <td>1a52_A</td>\n",
       "      <td>1</td>\n",
       "      <td>5.1668</td>\n",
       "      <td>3</td>\n",
       "      <td>1</td>\n",
       "      <td>-2</td>\n",
       "      <td>--</td>\n",
       "    </tr>\n",
       "    <tr>\n",
       "      <th>3</th>\n",
       "      <td>1a52_A</td>\n",
       "      <td>4</td>\n",
       "      <td>3.7534</td>\n",
       "      <td>4</td>\n",
       "      <td>4</td>\n",
       "      <td>0</td>\n",
       "      <td></td>\n",
       "    </tr>\n",
       "    <tr>\n",
       "      <th>4</th>\n",
       "      <td>1a5h_B</td>\n",
       "      <td>2</td>\n",
       "      <td>8.4763</td>\n",
       "      <td>1</td>\n",
       "      <td>2</td>\n",
       "      <td>1</td>\n",
       "      <td>+</td>\n",
       "    </tr>\n",
       "  </tbody>\n",
       "</table>\n",
       "</div>"
      ],
      "text/plain": [
       "  rep_chain  ID    score  RANK  OLD_RANK  CHANGE     \n",
       "0    1a52_A   3  35.9118     1         3       2  ++ \n",
       "1    1a52_A   2   7.6292     2         2       0     \n",
       "2    1a52_A   1   5.1668     3         1      -2  -- \n",
       "3    1a52_A   4   3.7534     4         4       0     \n",
       "4    1a5h_B   2   8.4763     1         2       1   + "
      ]
     },
     "execution_count": 129,
     "metadata": {},
     "output_type": "execute_result"
    }
   ],
   "source": [
    "surfnet_pranked.head(5)"
   ]
  },
  {
   "cell_type": "code",
   "execution_count": 38,
   "id": "8a27e5c0-d16d-4406-89d2-f56ccbfb4574",
   "metadata": {},
   "outputs": [],
   "source": [
    "surfnet_pranked.to_pickle(\"./results/surfnet_pranked_pockets_DEF_TRANS.pkl\")"
   ]
  },
  {
   "cell_type": "markdown",
   "id": "63e34dd8-9c80-40f7-99b6-354d8b6af682",
   "metadata": {},
   "source": [
    "## SurfNet + PRANK + Cons"
   ]
  },
  {
   "cell_type": "code",
   "execution_count": 126,
   "id": "77f317a2-30de-468c-a76a-d7c2e38b2d30",
   "metadata": {},
   "outputs": [
    {
     "name": "stdout",
     "output_type": "stream",
     "text": [
      "Error with params.txt\n",
      "Error with run.log\n"
     ]
    }
   ],
   "source": [
    "surfnet_pranked_CONS = get_PRANKED_df(\"./../DATA/surfnet_rescored_cons\") # 0 hours 3 minutes 5.015 seconds"
   ]
  },
  {
   "cell_type": "code",
   "execution_count": 127,
   "id": "62b013ed-ffd1-4819-8db2-0f93e1deab2e",
   "metadata": {},
   "outputs": [
    {
     "data": {
      "text/html": [
       "<div>\n",
       "<style scoped>\n",
       "    .dataframe tbody tr th:only-of-type {\n",
       "        vertical-align: middle;\n",
       "    }\n",
       "\n",
       "    .dataframe tbody tr th {\n",
       "        vertical-align: top;\n",
       "    }\n",
       "\n",
       "    .dataframe thead th {\n",
       "        text-align: right;\n",
       "    }\n",
       "</style>\n",
       "<table border=\"1\" class=\"dataframe\">\n",
       "  <thead>\n",
       "    <tr style=\"text-align: right;\">\n",
       "      <th></th>\n",
       "      <th>rep_chain</th>\n",
       "      <th>ID</th>\n",
       "      <th>score</th>\n",
       "      <th>RANK</th>\n",
       "      <th>OLD_RANK</th>\n",
       "      <th>CHANGE</th>\n",
       "      <th></th>\n",
       "    </tr>\n",
       "  </thead>\n",
       "  <tbody>\n",
       "    <tr>\n",
       "      <th>0</th>\n",
       "      <td>1a52_A</td>\n",
       "      <td>3</td>\n",
       "      <td>97.3518</td>\n",
       "      <td>1</td>\n",
       "      <td>3</td>\n",
       "      <td>2</td>\n",
       "      <td>++</td>\n",
       "    </tr>\n",
       "    <tr>\n",
       "      <th>1</th>\n",
       "      <td>1a52_A</td>\n",
       "      <td>1</td>\n",
       "      <td>11.2193</td>\n",
       "      <td>2</td>\n",
       "      <td>1</td>\n",
       "      <td>-1</td>\n",
       "      <td>-</td>\n",
       "    </tr>\n",
       "    <tr>\n",
       "      <th>2</th>\n",
       "      <td>1a52_A</td>\n",
       "      <td>2</td>\n",
       "      <td>8.2490</td>\n",
       "      <td>3</td>\n",
       "      <td>2</td>\n",
       "      <td>-1</td>\n",
       "      <td>-</td>\n",
       "    </tr>\n",
       "    <tr>\n",
       "      <th>3</th>\n",
       "      <td>1a52_A</td>\n",
       "      <td>4</td>\n",
       "      <td>2.5027</td>\n",
       "      <td>4</td>\n",
       "      <td>4</td>\n",
       "      <td>0</td>\n",
       "      <td></td>\n",
       "    </tr>\n",
       "    <tr>\n",
       "      <th>4</th>\n",
       "      <td>1a5h_B</td>\n",
       "      <td>2</td>\n",
       "      <td>18.5924</td>\n",
       "      <td>1</td>\n",
       "      <td>2</td>\n",
       "      <td>1</td>\n",
       "      <td>+</td>\n",
       "    </tr>\n",
       "  </tbody>\n",
       "</table>\n",
       "</div>"
      ],
      "text/plain": [
       "  rep_chain  ID    score  RANK  OLD_RANK  CHANGE     \n",
       "0    1a52_A   3  97.3518     1         3       2  ++ \n",
       "1    1a52_A   1  11.2193     2         1      -1   - \n",
       "2    1a52_A   2   8.2490     3         2      -1   - \n",
       "3    1a52_A   4   2.5027     4         4       0     \n",
       "4    1a5h_B   2  18.5924     1         2       1   + "
      ]
     },
     "execution_count": 127,
     "metadata": {},
     "output_type": "execute_result"
    }
   ],
   "source": [
    "surfnet_pranked_CONS.head(5)"
   ]
  },
  {
   "cell_type": "code",
   "execution_count": 86,
   "id": "b100727b-6233-49a6-a71b-3070317e710d",
   "metadata": {},
   "outputs": [],
   "source": [
    "surfnet_pranked_CONS.to_pickle(\"./results/surfnet_pranked_CONS_pockets_DEF_TRANS.pkl\")"
   ]
  },
  {
   "cell_type": "code",
   "execution_count": 130,
   "id": "4aced927-b469-4fd2-9020-a8d98b1b4433",
   "metadata": {},
   "outputs": [
    {
     "name": "stdout",
     "output_type": "stream",
     "text": [
      "67.72\n"
     ]
    },
    {
     "data": {
      "image/png": "[encoded data removed]",
      "text/plain": [
       "<Figure size 640x480 with 1 Axes>"
      ]
     },
     "metadata": {},
     "output_type": "display_data"
    }
   ],
   "source": [
    "prank_changes_surfnet = np.array(surfnet_pranked.CHANGE.tolist())\n",
    "prank_cons_changes_surfnet = np.array(surfnet_pranked_CONS.CHANGE.tolist())\n",
    "\n",
    "DIFFS_surfnet = prank_cons_changes_surfnet - prank_changes_surfnet\n",
    "\n",
    "print(round(100*list(DIFFS_surfnet).count(0)/len(DIFFS_surfnet), 2))\n",
    "\n",
    "sns.histplot(DIFFS_surfnet, bins = 150, stat=\"percent\", color=\"green\")#, binrange=(-3,3))\n",
    "#plt.xlim(-100, 100)\n",
    "plt.xlabel(\"PRANK+Cons - PRANK new rank\")\n",
    "plt.ylabel(\"%\")\n",
    "plt.show()"
   ]
  },
  {
   "cell_type": "code",
   "execution_count": null,
   "id": "e8a8f252-506f-4b33-8e13-43827694f3cd",
   "metadata": {},
   "outputs": [],
   "source": []
  }
 ],
 "metadata": {
  "kernelspec": {
   "display_name": "Python [conda env:myenv2]",
   "language": "python",
   "name": "conda-env-myenv2-py"
  },
  "language_info": {
   "codemirror_mode": {
    "name": "ipython",
    "version": 3
   },
   "file_extension": ".py",
   "mimetype": "text/x-python",
   "name": "python",
   "nbconvert_exporter": "python",
   "pygments_lexer": "ipython3",
   "version": "3.10.0"
  }
 },
 "nbformat": 4,
 "nbformat_minor": 5
}
