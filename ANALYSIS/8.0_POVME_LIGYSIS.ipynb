{
 "cells": [
  {
   "cell_type": "markdown",
   "id": "1e6c552b-dec3-467b-add6-48f4f70c19ed",
   "metadata": {},
   "source": [
    "## Imports"
   ]
  },
  {
   "cell_type": "code",
   "execution_count": null,
   "id": "6f36b175-2f79-469b-99db-bbcffa4d876f",
   "metadata": {},
   "outputs": [],
   "source": [
    "import pickle\n",
    "import os\n",
    "import time\n",
    "import numpy as np\n",
    "import pandas as pd\n",
    "import matplotlib.pyplot as plt\n",
    "from scipy.spatial.distance import pdist\n",
    "import warnings\n",
    "import logging\n",
    "warnings.filterwarnings('ignore') # ignores warnings\n",
    "logging.disable(logging.CRITICAL) # disables logging\n",
    "\n",
    "from prointvar.pdbx import PDBXreader, PDBXwriter\n",
    "\n",
    "import subprocess\n",
    "import shutil\n",
    "from tempfile import NamedTemporaryFile\n",
    "from subprocess import CalledProcessError, run, PIPE"
   ]
  },
  {
   "cell_type": "markdown",
   "id": "090e4472-add7-476f-a520-1e0860b283ff",
   "metadata": {},
   "source": [
    "## Functions"
   ]
  },
  {
   "cell_type": "code",
   "execution_count": 63,
   "id": "3233a674-e800-4c91-9c1b-ce92b42a06b5",
   "metadata": {},
   "outputs": [],
   "source": [
    "def save_to_pickle(variable, file_path):\n",
    "    with open(file_path, 'wb') as file:\n",
    "        pickle.dump(variable, file)\n",
    "\n",
    "def read_from_pickle(file_path):\n",
    "    with open(file_path, 'rb') as file:\n",
    "        return pickle.load(file)\n",
    "\n",
    "def find_center_and_dimensions(coords, buffer = 5):\n",
    "    xs, ys, zs = zip(*coords)\n",
    "    min_x, max_x = min(xs), max(xs)\n",
    "    min_y, max_y = min(ys), max(ys)\n",
    "    min_z, max_z = min(zs), max(zs)\n",
    "    \n",
    "    # Calculate center\n",
    "    center_x = round((max_x + min_x) / 2, 2)\n",
    "    center_y = round((max_y + min_y) / 2, 2)\n",
    "    center_z = round((max_z + min_z) / 2, 2)\n",
    "    \n",
    "    # Calculate dimensions\n",
    "    width_x = round(max_x - min_x + buffer, 2) \n",
    "    width_y = round(max_y - min_y + buffer, 2) \n",
    "    width_z = round(max_z - min_z + buffer, 2) \n",
    "    \n",
    "    return (center_x, center_y, center_z, width_x, width_y, width_z)\n",
    "\n",
    "def run_povme(command, site_id, retries=3, delay=2):\n",
    "    for attempt in range(retries):\n",
    "        try:\n",
    "            result = run(command, check=True, stdout=PIPE, stderr=PIPE)\n",
    "            return result\n",
    "        except CalledProcessError as e:\n",
    "            print(f\"Attempt {attempt+1} failed for {site_id}\")\n",
    "            time.sleep(delay)  # wait before retrying\n",
    "    raise Exception(\"All attempts to run POVME failed.\")\n",
    "\n",
    "def extract_values_from_file(filename):\n",
    "    with open(filename, 'r') as file:\n",
    "        lines = file.readlines()  # Read all lines from the file\n",
    "\n",
    "    # Assert that there is exactly one line in the file\n",
    "    assert len(lines) == 1, \"File must contain exactly one line\"\n",
    "\n",
    "    # Split the line into parts and convert them to the appropriate types\n",
    "    line = lines[0].strip()  # Remove any trailing whitespace\n",
    "    parts = line.split()     # Split the line into parts by whitespace\n",
    "\n",
    "    # Convert the first part to integer and the second part to float\n",
    "    first_value = int(parts[0])\n",
    "    second_value = float(parts[1])\n",
    "\n",
    "    return first_value, second_value"
   ]
  },
  {
   "cell_type": "markdown",
   "id": "2e1b0967-1787-4821-a0b6-f30b15a5cdea",
   "metadata": {},
   "source": [
    "## Input data"
   ]
  },
  {
   "cell_type": "code",
   "execution_count": 4,
   "id": "4a7ddc71-8289-4bfa-a81b-2a706a62d682",
   "metadata": {},
   "outputs": [],
   "source": [
    "clean_rep_chains_dir = './../../clean_rep_chains'"
   ]
  },
  {
   "cell_type": "code",
   "execution_count": 5,
   "id": "ade8a0fc-5620-4357-b802-8dbf3d9e29f5",
   "metadata": {},
   "outputs": [],
   "source": [
    "pockets_df = pd.read_pickle(\"./results/PDB_sites_sifted_V2.pkl\").sort_values([\"rep_chain\", \"ID\"]).reset_index(drop = True)"
   ]
  },
  {
   "cell_type": "code",
   "execution_count": 6,
   "id": "489edc69-37ce-4399-91d2-30afcd703e7e",
   "metadata": {},
   "outputs": [],
   "source": [
    "pockets_df_reps = pockets_df.rep_chain.unique().tolist()"
   ]
  },
  {
   "cell_type": "code",
   "execution_count": 7,
   "id": "3be6d196-151c-4f9e-ac7d-20f2fdef37ff",
   "metadata": {},
   "outputs": [
    {
     "data": {
      "text/plain": [
       "3448"
      ]
     },
     "execution_count": 7,
     "metadata": {},
     "output_type": "execute_result"
    }
   ],
   "source": [
    "len(pockets_df_reps)"
   ]
  },
  {
   "cell_type": "code",
   "execution_count": 8,
   "id": "e1264951-118d-4179-8b41-dfb920affcf2",
   "metadata": {},
   "outputs": [],
   "source": [
    "bad_reps = read_from_pickle(\"./results/other_errrors_reps.pkl\")"
   ]
  },
  {
   "cell_type": "code",
   "execution_count": 9,
   "id": "8c5adcce-2720-40e8-9df4-7317e4df4f8a",
   "metadata": {},
   "outputs": [],
   "source": [
    "pockets_df_reps_filt = [el for el in pockets_df_reps if el not in bad_reps]"
   ]
  },
  {
   "cell_type": "code",
   "execution_count": 10,
   "id": "3340d120-cadb-4771-b2af-dba594bdaec1",
   "metadata": {},
   "outputs": [
    {
     "data": {
      "text/plain": [
       "3416"
      ]
     },
     "execution_count": 10,
     "metadata": {},
     "output_type": "execute_result"
    }
   ],
   "source": [
    "len(pockets_df_reps_filt)"
   ]
  },
  {
   "cell_type": "markdown",
   "id": "57a20b72-d903-4f8b-bbb6-a6f403e1ad51",
   "metadata": {},
   "source": [
    "## Running POVME on all LIGYSIS defined sites"
   ]
  },
  {
   "cell_type": "code",
   "execution_count": 36,
   "id": "951bd188-8c47-4ce4-9273-b0fe7ec3129b",
   "metadata": {},
   "outputs": [],
   "source": [
    "site_average_dists = {}"
   ]
  },
  {
   "cell_type": "code",
   "execution_count": 50,
   "id": "5c73079d-66df-44ae-b872-b4175094ec3f",
   "metadata": {
    "collapsed": true,
    "jupyter": {
     "outputs_hidden": true
    }
   },
   "outputs": [
    {
     "name": "stdout",
     "output_type": "stream",
     "text": [
      "0\n",
      "100\n",
      "200\n",
      "300\n",
      "400\n",
      "Skipping Pocket 0 of 2b48_A as its average CA-atom distance is 25.13\n",
      "Skipping Pocket 1 of 2ch9_A as its average CA-atom distance is 35.04\n",
      "500\n",
      "600\n",
      "Skipping Pocket 2 of 2ffu_A as its average CA-atom distance is 32.28\n",
      "700\n",
      "800\n",
      "900\n",
      "1000\n",
      "Skipping Pocket 0 of 2ydx_D as its average CA-atom distance is 28.82\n",
      "1100\n",
      "Skipping Pocket 0 of 3ff6_D as its average CA-atom distance is 25.19\n",
      "1200\n",
      "Skipping Pocket 0 of 3j0a_A as its average CA-atom distance is 30.36\n",
      "Skipping Pocket 0 of 3k2s_B as its average CA-atom distance is 28.95\n",
      "Skipping Pocket 1 of 3k2s_B as its average CA-atom distance is 68.07\n",
      "Skipping Pocket 4 of 3k2s_B as its average CA-atom distance is 31.64\n",
      "Skipping Pocket 7 of 3k2s_B as its average CA-atom distance is 58.61\n",
      "Skipping Pocket 9 of 3k2s_B as its average CA-atom distance is 29.28\n",
      "Skipping Pocket 12 of 3k2s_B as its average CA-atom distance is 39.24\n",
      "Skipping Pocket 13 of 3k2s_B as its average CA-atom distance is 51.81\n",
      "Skipping Pocket 14 of 3k2s_B as its average CA-atom distance is 52.11\n",
      "Skipping Pocket 16 of 3k2s_B as its average CA-atom distance is 28.81\n",
      "Skipping Pocket 19 of 3k2s_B as its average CA-atom distance is 34.16\n",
      "Skipping Pocket 21 of 3k2s_B as its average CA-atom distance is 34.28\n",
      "Skipping Pocket 22 of 3k2s_B as its average CA-atom distance is 27.48\n",
      "Skipping Pocket 25 of 3k2s_B as its average CA-atom distance is 44.94\n",
      "Skipping Pocket 27 of 3k2s_B as its average CA-atom distance is 39.22\n",
      "1300\n",
      "1317: POVME completed for 3o0g_A SITE: 0\n",
      "1369: POVME completed for 3rq4_A SITE: 0\n",
      "1394: POVME completed for 3uh4_B SITE: 1\n",
      "1400\n",
      "1479: POVME completed for 4bv3_A SITE: 1\n",
      "1493: POVME completed for 4c6m_A SITE: 2\n",
      "1500\n",
      "1507: POVME completed for 4crs_A SITE: 0\n",
      "1515: POVME completed for 4d1p_B SITE: 3\n",
      "1524: POVME completed for 4dgl_C SITE: 4\n",
      "1545: POVME completed for 4f7n_B SITE: 0\n",
      "1570: POVME completed for 4gqq_A SITE: 0\n",
      "1600\n",
      "1648: POVME completed for 4nqa_I SITE: 3\n",
      "1650: POVME completed for 4nsq_C SITE: 0\n",
      "1679: POVME completed for 4q4d_A SITE: 5\n",
      "1700\n",
      "1779: POVME completed for 4ybh_A SITE: 1\n",
      "1800\n",
      "1900\n",
      "1900: POVME completed for 5fma_A SITE: 1\n",
      "1939: POVME completed for 5htk_A SITE: 1\n",
      "1948: POVME completed for 5iko_A SITE: 1\n",
      "1951: POVME completed for 5iyd_A SITE: 1\n",
      "Attempt 1 failed for 5j6s_A_5\n",
      "Attempt 2 failed for 5j6s_A_5\n",
      "Attempt 3 failed for 5j6s_A_5\n",
      "Attempt 4 failed for 5j6s_A_5\n",
      "Attempt 5 failed for 5j6s_A_5\n",
      "1959: An error occurred processing 5j6s_A SITE: 5: All attempts to run POVME failed.\n",
      "2000\n",
      "Skipping Pocket 0 of 5mkf_D as its average CA-atom distance is 25.01\n",
      "Skipping Pocket 1 of 5mkf_D as its average CA-atom distance is 26.01\n",
      "Skipping Pocket 3 of 5mkf_D as its average CA-atom distance is 27.46\n",
      "Skipping Pocket 4 of 5qqr_A as its average CA-atom distance is 27.09\n",
      "Skipping Pocket 6 of 5qqr_A as its average CA-atom distance is 29.83\n",
      "2084: POVME completed for 5te8_C SITE: 6\n",
      "2100\n",
      "Skipping Pocket 8 of 5ulo_B as its average CA-atom distance is 29.08\n",
      "2136: POVME completed for 5w21_B SITE: 0\n",
      "2199: POVME completed for 5yf2_B SITE: 3\n",
      "2200\n",
      "Skipping Pocket 3 of 5yx9_B as its average CA-atom distance is 28.69\n",
      "Skipping Pocket 2 of 6crf_A as its average CA-atom distance is 32.21\n",
      "2279: POVME completed for 6cvo_A SITE: 0\n",
      "Skipping Pocket 17 of 6e2g_E as its average CA-atom distance is 26.85\n",
      "2300\n",
      "2323: POVME completed for 6fw0_B SITE: 3\n",
      "Skipping Pocket 6 of 6fxh_A as its average CA-atom distance is 25.26\n",
      "Skipping Pocket 0 of 6gfb_B as its average CA-atom distance is 28.9\n",
      "2400\n",
      "Skipping Pocket 0 of 6l5m_C as its average CA-atom distance is 27.62\n",
      "2461: POVME completed for 6miz_B SITE: 2\n",
      "2500\n",
      "2505: POVME completed for 6ob7_A SITE: 0\n",
      "2524: POVME completed for 6p7i_B SITE: 0\n",
      "2531: POVME completed for 6pjx_A SITE: 0\n",
      "Skipping Pocket 1 of 6qeb_A as its average CA-atom distance is 27.06\n",
      "2555: POVME completed for 6qeb_A SITE: 7\n",
      "Skipping Pocket 10 of 6qeb_A as its average CA-atom distance is 30.98\n",
      "Skipping Pocket 11 of 6qeb_A as its average CA-atom distance is 35.84\n",
      "Skipping Pocket 17 of 6qeb_A as its average CA-atom distance is 27.46\n",
      "2565: POVME completed for 6r2u_D SITE: 1\n",
      "2600\n",
      "2645: POVME completed for 6v35_C SITE: 1\n",
      "Skipping Pocket 5 of 6v35_C as its average CA-atom distance is 36.01\n",
      "2647: POVME completed for 6v5c_A SITE: 1\n",
      "Skipping Pocket 0 of 6wmz_C as its average CA-atom distance is 65.32\n",
      "2700\n",
      "2733: POVME completed for 6ypx_DDD SITE: 0\n",
      "2797: POVME completed for 7ce3_D SITE: 0\n",
      "2800\n",
      "2823: POVME completed for 7dbk_G SITE: 0\n",
      "2834: POVME completed for 7dtv_B SITE: 2\n",
      "2863: POVME completed for 7fha_A SITE: 3\n",
      "2864: POVME completed for 7fjj_A SITE: 3\n",
      "2900\n",
      "2926: POVME completed for 7meq_A SITE: 0\n",
      "Skipping Pocket 5 of 7noz_F as its average CA-atom distance is 79.92\n",
      "3000\n",
      "Skipping Pocket 4 of 7qid_A as its average CA-atom distance is 48.82\n",
      "3026: POVME completed for 7qne_A SITE: 2\n",
      "Skipping Pocket 1 of 7sa5_A as its average CA-atom distance is 25.53\n",
      "3069: POVME completed for 7sk6_A SITE: 0\n",
      "Skipping Pocket 6 of 7syd_A as its average CA-atom distance is 37.26\n",
      "Skipping Pocket 1 of 7sz8_A as its average CA-atom distance is 47.08\n",
      "Skipping Pocket 4 of 7sz8_A as its average CA-atom distance is 46.78\n",
      "3100\n",
      "3107: POVME completed for 7uhy_B SITE: 1\n",
      "Skipping Pocket 0 of 7ujn_C as its average CA-atom distance is 26.79\n",
      "3122: POVME completed for 7uy0_A SITE: 0\n",
      "Skipping Pocket 0 of 7w1y_D as its average CA-atom distance is 26.04\n",
      "3140: POVME completed for 7w1y_D SITE: 1\n",
      "Skipping Pocket 0 of 7w68_E as its average CA-atom distance is 28.09\n",
      "3155: POVME completed for 7wld_U SITE: 6\n",
      "3200\n",
      "Skipping Pocket 0 of 8ayf_A as its average CA-atom distance is 28.7\n",
      "3275: POVME completed for 8cv5_A SITE: 0\n",
      "3281: POVME completed for 8d3c_E SITE: 0\n",
      "3300\n",
      "Skipping Pocket 5 of 8ffv_A as its average CA-atom distance is 33.42\n",
      "3400\n"
     ]
    }
   ],
   "source": [
    "# Path variables\n",
    "template_ini_path = '/Users/2394007/Documents/PHD/LOCAL/JSU_P2RANK/POVME-2.2.2/POVME_JSU.ini'\n",
    "povme_path = '/Users/2394007/Documents/PHD/LOCAL/JSU_P2RANK/POVME-2.2.2/POVME2.py'\n",
    "povme_output_dir = '/Users/2394007/Documents/PHD/LOCAL/JSU_P2RANK/POVME-2.2.2/out/ligysis'\n",
    "\n",
    "# Read the template INI file once\n",
    "with open(template_ini_path, 'r') as file:\n",
    "    ini_content = file.readlines()\n",
    "\n",
    "errors = []\n",
    "for i, rep_chain in enumerate(pockets_df_reps_filt):\n",
    "    if i % 100 == 0:\n",
    "        print(i)\n",
    "    pdb_path = os.path.join(clean_rep_chains_dir, f'{rep_chain}.clean.pdb')\n",
    "    \n",
    "    try:\n",
    "        df = PDBXreader(inputfile=pdb_path).atoms(format_type=\"pdb\", excluded=()).reset_index(drop=True)\n",
    "\n",
    "    except Exception as e:\n",
    "        print(f\"Error reading PDB: {e}\")\n",
    "        errors.append(rep_chain)\n",
    "        continue\n",
    "\n",
    "    rep_chain_sites_df = pockets_df.query('rep_chain == @rep_chain')\n",
    "    \n",
    "    for _, row in rep_chain_sites_df.iterrows():\n",
    "        site_ress = [str(el) for el in row.aas if el]\n",
    "        if not site_ress:\n",
    "            continue\n",
    "        \n",
    "        site_atoms = df.query('label_seq_id_full in @site_ress')\n",
    "        site_coords = np.array(list(zip(site_atoms.Cartn_x, site_atoms.Cartn_y, site_atoms.Cartn_z)))\n",
    "        CA_atoms = site_atoms.query('label_atom_id == \"CA\"')\n",
    "        CA_dists = pdist(CA_atoms[[\"Cartn_x\", \"Cartn_y\", \"Cartn_z\"]].values, metric='euclidean')\n",
    "        average_distance = round(np.mean(CA_dists), 2)\n",
    "        site_average_dists[rep_chain+\"_\"+str(row.ID)] = average_distance\n",
    "        if average_distance > 25:\n",
    "            print(f'Skipping Pocket {row.ID} of {rep_chain} as its average CA-atom distance is {average_distance}')\n",
    "            errors.append(site_id)\n",
    "            continue\n",
    "        #print(average_distance)\n",
    "        #continue\n",
    "        \n",
    "        \n",
    "        center_dims = find_center_and_dimensions(site_coords, buffer=0)\n",
    "        center = ' '.join(map(str, center_dims[:3]))\n",
    "        dims_str = \" \".join([str(el) for el in center_dims])\n",
    "        output_file_name = os.path.join(povme_output_dir, f\"{rep_chain}_{row.ID}\", f\"{rep_chain}_{row.ID}_\")\n",
    "        main_output_file_path = os.path.join(output_file_name + \"volumes.tabbed.txt\")\n",
    "        \n",
    "        if os.path.isfile(main_output_file_path):\n",
    "            # print(f'{i}: Output exists for {rep_chain}_{row.ID}')\n",
    "            continue\n",
    "\n",
    "        try:\n",
    "            with NamedTemporaryFile(delete=False, mode='w', suffix='.ini', dir='./', prefix='POVME_ligysis_') as temp_ini:\n",
    "                for line in ini_content:\n",
    "                    if \"PointsInclusionBox\" in line:\n",
    "                        line = f\"PointsInclusionBox {dims_str} #CHANGE FOR EACH INPUT\\n\"\n",
    "                    elif \"PDBFileName \" in line:\n",
    "                        line = f\"PDBFileName {pdb_path}\\n\"\n",
    "                    elif \"ContiguousPocketSeedSphere \" in line:\n",
    "                        line = f\"ContiguousPocketSeedSphere {center} 5.0\\n\"\n",
    "                    elif \"OutputFilenamePrefix\" in line:\n",
    "                        line = f\"OutputFilenamePrefix {output_file_name}\\n\"\n",
    "                    temp_ini.write(line)\n",
    "\n",
    "            command = ['python', povme_path, temp_ini.name]\n",
    "            site_id = f\"{rep_chain}_{row.ID}\"\n",
    "            run_povme(command, site_id, retries=5, delay=1)\n",
    "            print(f\"{i}: POVME completed for {rep_chain} SITE: {row.ID}\")\n",
    "\n",
    "        except CalledProcessError as e:\n",
    "            print(f\"{i}: POVME execution failed for {rep_chain} SITE: {row.ID}: {e}\")\n",
    "            print(' '.join(command))\n",
    "            errors.append(site_id)\n",
    "        except Exception as e:\n",
    "            print(f\"{i}: An error occurred processing {rep_chain} SITE: {row.ID}: {e}\")\n",
    "            errors.append(site_id)\n",
    "        finally:\n",
    "            if os.path.exists(temp_ini.name):\n",
    "                os.unlink(temp_ini.name)\n",
    "\n"
   ]
  },
  {
   "cell_type": "code",
   "execution_count": 51,
   "id": "693bb208-2de0-4c47-801b-767961fd900e",
   "metadata": {},
   "outputs": [
    {
     "data": {
      "text/plain": [
       "8168"
      ]
     },
     "execution_count": 51,
     "metadata": {},
     "output_type": "execute_result"
    }
   ],
   "source": [
    "len(site_average_dists)"
   ]
  },
  {
   "cell_type": "code",
   "execution_count": 58,
   "id": "ef4ba640-681d-4f8e-8640-bbb64ffd3fe0",
   "metadata": {},
   "outputs": [
    {
     "data": {
      "image/png": "[encoded data removed]",
      "text/plain": [
       "<Figure size 640x480 with 1 Axes>"
      ]
     },
     "metadata": {},
     "output_type": "display_data"
    }
   ],
   "source": [
    "plt.hist(site_average_dists.values())\n",
    "plt.show()"
   ]
  },
  {
   "cell_type": "code",
   "execution_count": 59,
   "id": "e679554b-7e5c-4033-9e9a-0b385300665a",
   "metadata": {},
   "outputs": [
    {
     "name": "stdout",
     "output_type": "stream",
     "text": [
      "50\n"
     ]
    }
   ],
   "source": [
    "print(len(errors)) #429 --> 51 --> mostly massive sites probably incorrect (due to conformational changes in PDB structures)"
   ]
  },
  {
   "cell_type": "code",
   "execution_count": 60,
   "id": "0f476972-7cd4-44b6-9868-13287edfa07a",
   "metadata": {},
   "outputs": [],
   "source": [
    "pocket_dirs = sorted(os.listdir(povme_output_dir))[1:]"
   ]
  },
  {
   "cell_type": "code",
   "execution_count": 64,
   "id": "75d6f8cc-8815-4447-958c-3f6f84102896",
   "metadata": {},
   "outputs": [],
   "source": [
    "vols_dict = {}\n",
    "errors = []\n",
    "for i, pocket_dir in enumerate(pocket_dirs):\n",
    "    #if i % 1000 == 0:\n",
    "    #    print(i)\n",
    "    pocket_dir_path = os.path.join(povme_output_dir, pocket_dir)\n",
    "    pocket_d = pocket_dir.split(\"_\")\n",
    "    rep_chain = \"_\".join(pocket_d[:2])\n",
    "    vol_file = os.path.join(pocket_dir_path, f'{pocket_dir}_volumes.tabbed.txt')\n",
    "    try:\n",
    "        _, vol = extract_values_from_file(vol_file)\n",
    "        vols_dict[(rep_chain, int(pocket_d[2]))] = int(vol)\n",
    "    except:\n",
    "        #raise\n",
    "        #print(f'No pocket volume for {pocket_dir}')\n",
    "        errors.append(pocket_dir)\n",
    "    #break"
   ]
  },
  {
   "cell_type": "code",
   "execution_count": 65,
   "id": "b8b4895c-13d8-4421-95e1-7df2f65f3271",
   "metadata": {},
   "outputs": [
    {
     "name": "stdout",
     "output_type": "stream",
     "text": [
      "6\n"
     ]
    }
   ],
   "source": [
    "print(len(errors))"
   ]
  },
  {
   "cell_type": "code",
   "execution_count": 66,
   "id": "07d796e8-9834-47d6-af14-0658f57b9dfe",
   "metadata": {},
   "outputs": [
    {
     "name": "stdout",
     "output_type": "stream",
     "text": [
      "8238\n"
     ]
    }
   ],
   "source": [
    "print(len(vols_dict))"
   ]
  },
  {
   "cell_type": "code",
   "execution_count": 67,
   "id": "3aa147db-cf0f-45a8-978c-88e262ec8e7f",
   "metadata": {},
   "outputs": [
    {
     "name": "stdout",
     "output_type": "stream",
     "text": [
      "8244\n"
     ]
    }
   ],
   "source": [
    "print(len(pockets_df))"
   ]
  },
  {
   "cell_type": "code",
   "execution_count": 68,
   "id": "9cba5400-4ce1-48de-90e6-083afac4156f",
   "metadata": {},
   "outputs": [],
   "source": [
    "pockets_df[\"volume\"] = pockets_df.set_index([\"rep_chain\", \"ID\"]).index.map(vols_dict)"
   ]
  },
  {
   "cell_type": "code",
   "execution_count": 69,
   "id": "1eabe83f-c361-4668-8188-4a8af7317229",
   "metadata": {},
   "outputs": [
    {
     "data": {
      "text/html": [
       "<div>\n",
       "<style scoped>\n",
       "    .dataframe tbody tr th:only-of-type {\n",
       "        vertical-align: middle;\n",
       "    }\n",
       "\n",
       "    .dataframe tbody tr th {\n",
       "        vertical-align: top;\n",
       "    }\n",
       "\n",
       "    .dataframe thead th {\n",
       "        text-align: right;\n",
       "    }\n",
       "</style>\n",
       "<table border=\"1\" class=\"dataframe\">\n",
       "  <thead>\n",
       "    <tr style=\"text-align: right;\">\n",
       "      <th></th>\n",
       "      <th>ACC</th>\n",
       "      <th>SEG</th>\n",
       "      <th>ID</th>\n",
       "      <th>up_aas</th>\n",
       "      <th>n_aas</th>\n",
       "      <th>SEG_ID</th>\n",
       "      <th>SITE_NAME</th>\n",
       "      <th>pdb_id</th>\n",
       "      <th>auth_asym_id</th>\n",
       "      <th>struct_asym_id</th>\n",
       "      <th>rep_chain</th>\n",
       "      <th>RoG</th>\n",
       "      <th>aas</th>\n",
       "      <th>centre</th>\n",
       "      <th>volume</th>\n",
       "    </tr>\n",
       "  </thead>\n",
       "  <tbody>\n",
       "    <tr>\n",
       "      <th>2603</th>\n",
       "      <td>P02647</td>\n",
       "      <td>1</td>\n",
       "      <td>14</td>\n",
       "      <td>[118, 121, 122, 125, 190, 194]</td>\n",
       "      <td>6</td>\n",
       "      <td>P02647_1</td>\n",
       "      <td>P02647_1_14</td>\n",
       "      <td>3k2s</td>\n",
       "      <td>B</td>\n",
       "      <td>B</td>\n",
       "      <td>3k2s_B</td>\n",
       "      <td>43.06</td>\n",
       "      <td>[94, 97, 98, 101, 166, 170]</td>\n",
       "      <td>(42.59, 105.452, 60.175)</td>\n",
       "      <td>NaN</td>\n",
       "    </tr>\n",
       "    <tr>\n",
       "      <th>2616</th>\n",
       "      <td>P02647</td>\n",
       "      <td>1</td>\n",
       "      <td>27</td>\n",
       "      <td>[66, 226, 227, 230, 231, 234, 235, 237, 238, 242]</td>\n",
       "      <td>10</td>\n",
       "      <td>P02647_1</td>\n",
       "      <td>P02647_1_27</td>\n",
       "      <td>3k2s</td>\n",
       "      <td>B</td>\n",
       "      <td>B</td>\n",
       "      <td>3k2s_B</td>\n",
       "      <td>45.16</td>\n",
       "      <td>[42, 202, 203, 206, 207, 210, 211, 213, 214, 218]</td>\n",
       "      <td>(57.21, 40.613, 74.367)</td>\n",
       "      <td>NaN</td>\n",
       "    </tr>\n",
       "  </tbody>\n",
       "</table>\n",
       "</div>"
      ],
      "text/plain": [
       "         ACC SEG  ID                                             up_aas  \\\n",
       "2603  P02647   1  14                     [118, 121, 122, 125, 190, 194]   \n",
       "2616  P02647   1  27  [66, 226, 227, 230, 231, 234, 235, 237, 238, 242]   \n",
       "\n",
       "      n_aas    SEG_ID    SITE_NAME pdb_id auth_asym_id struct_asym_id  \\\n",
       "2603      6  P02647_1  P02647_1_14   3k2s            B              B   \n",
       "2616     10  P02647_1  P02647_1_27   3k2s            B              B   \n",
       "\n",
       "     rep_chain    RoG                                                aas  \\\n",
       "2603    3k2s_B  43.06                        [94, 97, 98, 101, 166, 170]   \n",
       "2616    3k2s_B  45.16  [42, 202, 203, 206, 207, 210, 211, 213, 214, 218]   \n",
       "\n",
       "                        centre  volume  \n",
       "2603  (42.59, 105.452, 60.175)     NaN  \n",
       "2616   (57.21, 40.613, 74.367)     NaN  "
      ]
     },
     "execution_count": 69,
     "metadata": {},
     "output_type": "execute_result"
    }
   ],
   "source": [
    "pockets_df.query('volume != volume & n_aas != 0 & rep_chain not in @bad_reps') # ALL VN-EGNN POCKETS HAVE CALCULATED VOLUME"
   ]
  },
  {
   "cell_type": "code",
   "execution_count": 70,
   "id": "e377e96a-e305-4cae-80eb-50784ab7b0e3",
   "metadata": {},
   "outputs": [],
   "source": [
    "save_to_pickle(vols_dict, \"./results/LIGYSIS_volumes_dict.pkl\")"
   ]
  },
  {
   "cell_type": "code",
   "execution_count": null,
   "id": "0a16fa93-fb00-4fb4-9b18-b680100737ef",
   "metadata": {},
   "outputs": [],
   "source": []
  }
 ],
 "metadata": {
  "kernelspec": {
   "display_name": "Python [conda env:myenv2]",
   "language": "python",
   "name": "conda-env-myenv2-py"
  },
  "language_info": {
   "codemirror_mode": {
    "name": "ipython",
    "version": 3
   },
   "file_extension": ".py",
   "mimetype": "text/x-python",
   "name": "python",
   "nbconvert_exporter": "python",
   "pygments_lexer": "ipython3",
   "version": "3.10.0"
  }
 },
 "nbformat": 4,
 "nbformat_minor": 5
}
