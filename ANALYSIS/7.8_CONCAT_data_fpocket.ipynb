{
 "cells": [
  {
   "cell_type": "markdown",
   "id": "c29707d7-00e7-44dd-87b1-4edafead328f",
   "metadata": {},
   "source": [
    "## Imports"
   ]
  },
  {
   "cell_type": "code",
   "execution_count": 68,
   "id": "c40fb549-3126-410d-ae46-7d1e7331a0e1",
   "metadata": {},
   "outputs": [],
   "source": [
    "from JSU_lib import *"
   ]
  },
  {
   "cell_type": "code",
   "execution_count": 38,
   "id": "f8cce899-0763-48d7-b679-27555f5c1595",
   "metadata": {},
   "outputs": [],
   "source": [
    "def parse_fpocket_output(filepath):\n",
    "    # Read the content of the file\n",
    "    with open(filepath, 'r') as file:\n",
    "        data = file.read()\n",
    "    \n",
    "    # Regular expression to split the input data by \"Pocket <number> :\"\n",
    "    pockets = re.split(r'Pocket \\d+ :', data)\n",
    "    pockets = [pocket.strip() for pocket in pockets if pocket.strip()]  # Remove any empty entries\n",
    "\n",
    "    if pockets == []:\n",
    "        return pd.DataFrame()\n",
    "\n",
    "    # List to hold each pocket's dictionary of metrics\n",
    "    pocket_list = []\n",
    "    detail_keys = set()\n",
    "\n",
    "    # Regex pattern to find all key-value pairs in each pocket's text block\n",
    "    pattern = re.compile(r'(.*?):\\s*([-\\d\\.]+)')\n",
    "\n",
    "    for pocket in pockets:\n",
    "        # Dictionary to store the data for this pocket\n",
    "        pocket_data = {}\n",
    "        \n",
    "        # Find all key-value pairs in this pocket\n",
    "        details = pattern.findall(pocket)\n",
    "        for key, value in details:\n",
    "            cleaned_key = key.strip().lower().replace(' - ', '_').replace(' ', '_').replace('.', '').replace('__', '_')\n",
    "            pocket_data[cleaned_key] = float(value)\n",
    "            detail_keys.add(cleaned_key)\n",
    "\n",
    "        pocket_list.append(pocket_data)\n",
    "\n",
    "    # Convert list of dictionaries into a DataFrame\n",
    "    df = pd.DataFrame(pocket_list)\n",
    "\n",
    "    # Rename the DataFrame columns to the desired names\n",
    "    df.columns = [\n",
    "        'score', 'drug_score', 'n_alpha_spheres',\n",
    "        'total_sasa', 'polar_sasa', 'apolar_sasa', 'volume',\n",
    "        'mean_hydro_density', 'mean_alpha_sphere_r',\n",
    "        'mean_alpha_sphere_solvent_acc', 'apolar_alpha_sphere_prop',\n",
    "        'hydro_score', 'vol_score', 'polarity_score', 'charge_score',\n",
    "        'prop_polar_atoms', 'alpha_sphere_density', 'max_dist', 'flexibility'\n",
    "    ]\n",
    "\n",
    "    # Add ID column, starting at 1 and incrementing by 1 for each row\n",
    "    df[\"ID\"] = list(range(1, len(df)+1))\n",
    "\n",
    "    # Add a RANK column based on the 'drug_score', highest first\n",
    "    df['RANK'] = df['score'].rank(ascending=False, method='first').astype(int)\n",
    "\n",
    "    return df\n",
    "\n",
    "def plot_hexbin(x, y, xlab, ylab, xlim = None, ylim = None, x_text_coord = 5, y_text_coord = 0.5, gridsize=1000, cmap='viridis', addTline=True, addcorr = False):\n",
    "    plt.figure(figsize=(8, 6))\n",
    "    plt.hexbin(x, y, gridsize=gridsize, cmap=cmap, bins='log')\n",
    "    plt.colorbar()\n",
    "    plt.xlabel(xlab)\n",
    "    plt.ylabel(ylab)\n",
    "    \n",
    "    if addTline:\n",
    "        plt.axhline(y=1, linestyle = \"--\", color = \"k\")\n",
    "\n",
    "    if addcorr:\n",
    "        r, p = pearsonr(x, y)\n",
    "        slope, intercept = np.polyfit(x, y, 1)\n",
    "        line = slope * np.array([min(x), max(x)]) + intercept\n",
    "        plt.plot([min(x), max(x)], line, color='r', lw=0.5)\n",
    "        \n",
    "        # Annotations for r, p-value, CI, and minimum count\n",
    "        plt.text(x_text_coord, y_text_coord, 'r={:.2f}, p={:.3f}'.format(r, p),\n",
    "                      color='k', fontsize=12)\n",
    "\n",
    "    if xlim != None:\n",
    "        plt.xlim(xlim)\n",
    "    if ylim != None:\n",
    "        plt.ylim(ylim)\n",
    "    plt.show()"
   ]
  },
  {
   "cell_type": "code",
   "execution_count": 46,
   "id": "a7c0ab50-0ed6-4e37-9513-7b030a341b5f",
   "metadata": {},
   "outputs": [],
   "source": [
    "trans_rep_chains_dir = \"/Users/2394007/Documents/PHD/LOCAL/JSU_site_predictors/DATA/trans_rep_chains\""
   ]
  },
  {
   "cell_type": "code",
   "execution_count": 47,
   "id": "d035f93d-3659-473e-8239-4f782621ed28",
   "metadata": {},
   "outputs": [],
   "source": [
    "fpocket_out_dirs = sorted([el for el in os.listdir(trans_rep_chains_dir) if el.endswith(\"out\")])"
   ]
  },
  {
   "cell_type": "code",
   "execution_count": 48,
   "id": "decf2d0c-0e01-49ad-b25e-60088a7b1880",
   "metadata": {},
   "outputs": [
    {
     "data": {
      "text/plain": [
       "4435"
      ]
     },
     "execution_count": 48,
     "metadata": {},
     "output_type": "execute_result"
    }
   ],
   "source": [
    "len(fpocket_out_dirs)"
   ]
  },
  {
   "cell_type": "code",
   "execution_count": 49,
   "id": "29741146-84e2-4a27-ad47-20ea1fa287ff",
   "metadata": {},
   "outputs": [
    {
     "data": {
      "text/plain": [
       "['1a52_A.trans_out',\n",
       " '1a5h_B.trans_out',\n",
       " '1a9w_E.trans_out',\n",
       " '1ags_B.trans_out',\n",
       " '1aii_A.trans_out']"
      ]
     },
     "execution_count": 49,
     "metadata": {},
     "output_type": "execute_result"
    }
   ],
   "source": [
    "fpocket_out_dirs[:5]"
   ]
  },
  {
   "cell_type": "markdown",
   "id": "2f8e9508-3c4c-481e-ac63-ec816c3b4f36",
   "metadata": {},
   "source": [
    "## Get Pocket descriptors"
   ]
  },
  {
   "cell_type": "code",
   "execution_count": 50,
   "id": "05131f2b-c8c8-4cbe-a6d7-25f461cd35ac",
   "metadata": {},
   "outputs": [],
   "source": [
    "errors = []\n",
    "success = []\n",
    "no_pockets = []\n",
    "fpocket_dfs = []"
   ]
  },
  {
   "cell_type": "code",
   "execution_count": 51,
   "id": "bc8c7aca-3371-4299-8668-e4c37cc1e34d",
   "metadata": {},
   "outputs": [],
   "source": [
    "for i, fpocket_dir in enumerate(fpocket_out_dirs):\n",
    "    \n",
    "    #if i % 100 == 0:\n",
    "    #    print(i) \n",
    "    \n",
    "    if fpocket_dir in success:\n",
    "        continue\n",
    "        \n",
    "    try:\n",
    "        fpocket_dir_path = os.path.join(trans_rep_chains_dir, fpocket_dir)\n",
    "        input_name = fpocket_dir[:-4]\n",
    "        file_path = os.path.join(fpocket_dir_path, f'{input_name}_info.txt')\n",
    "        pocket_df = parse_fpocket_output(file_path)\n",
    "        \n",
    "        if pocket_df.empty:\n",
    "            #print(f'No pockets in {input_name}')\n",
    "            if fpocket_dir not in no_pockets:\n",
    "                no_pockets.append(fpocket_dir)\n",
    "            continue\n",
    "        \n",
    "        pocket_df[\"rep_chain\"] = input_name.split(\".\")[0]\n",
    "        success.append(fpocket_dir)\n",
    "        fpocket_dfs.append(pocket_df)\n",
    "    except:\n",
    "        print(f'ERROR with {fpocket_dir}')\n",
    "        #raise\n",
    "        if fpocket_dir not in errors:\n",
    "            errors.append(fpocket_dir)\n",
    "        \n",
    "        "
   ]
  },
  {
   "cell_type": "code",
   "execution_count": 52,
   "id": "b293eb76-0d13-4edd-becc-a47fccabe6cc",
   "metadata": {},
   "outputs": [
    {
     "name": "stdout",
     "output_type": "stream",
     "text": [
      "4378\n",
      "57\n",
      "4378\n",
      "0\n"
     ]
    }
   ],
   "source": [
    "print(len(success)) #4378\n",
    "print(len(no_pockets)) #57\n",
    "print(len(fpocket_dfs)) #4378\n",
    "print(len(errors)) #0"
   ]
  },
  {
   "cell_type": "code",
   "execution_count": 53,
   "id": "49f75a59-a4e5-4b00-8931-5f3df9495efb",
   "metadata": {},
   "outputs": [],
   "source": [
    "all_fpockets = pd.concat(fpocket_dfs).reset_index(drop = True)"
   ]
  },
  {
   "cell_type": "code",
   "execution_count": 54,
   "id": "c9e7db98-cbf8-4e02-9eaf-aefb4dffb8f7",
   "metadata": {},
   "outputs": [
    {
     "data": {
      "text/plain": [
       "Index(['score', 'drug_score', 'n_alpha_spheres', 'total_sasa', 'polar_sasa',\n",
       "       'apolar_sasa', 'volume', 'mean_hydro_density', 'mean_alpha_sphere_r',\n",
       "       'mean_alpha_sphere_solvent_acc', 'apolar_alpha_sphere_prop',\n",
       "       'hydro_score', 'vol_score', 'polarity_score', 'charge_score',\n",
       "       'prop_polar_atoms', 'alpha_sphere_density', 'max_dist', 'flexibility',\n",
       "       'ID', 'RANK', 'rep_chain'],\n",
       "      dtype='object')"
      ]
     },
     "execution_count": 54,
     "metadata": {},
     "output_type": "execute_result"
    }
   ],
   "source": [
    "all_fpockets.columns"
   ]
  },
  {
   "cell_type": "code",
   "execution_count": 55,
   "id": "f132fcb1-b055-45a6-bd99-bd9f6d7aa180",
   "metadata": {},
   "outputs": [],
   "source": [
    "fpocket_cols = [\"rep_chain\", \"ID\", \"RANK\", \"score\", \"drug_score\", \"total_sasa\", \"volume\"]"
   ]
  },
  {
   "cell_type": "code",
   "execution_count": 43,
   "id": "cd6d12db-68ec-484b-96b8-9e4cb9e598bc",
   "metadata": {},
   "outputs": [],
   "source": [
    "#all_fpockets.to_pickle(\"./results/fpocket_pockets.pkl\")"
   ]
  },
  {
   "cell_type": "code",
   "execution_count": 94,
   "id": "05520206-3fa5-40d8-91c4-79c0814d6560",
   "metadata": {},
   "outputs": [],
   "source": [
    "#all_fpockets = pd.read_pickle(\"./results/fpocket_pockets.pkl\")"
   ]
  },
  {
   "cell_type": "markdown",
   "id": "ea354e2c-6242-4a0f-badd-06154c074432",
   "metadata": {},
   "source": [
    "## Get pocket residues"
   ]
  },
  {
   "cell_type": "code",
   "execution_count": 56,
   "id": "c582c3d0-a056-4fb1-b8b1-89469bebc5c5",
   "metadata": {},
   "outputs": [],
   "source": [
    "errors = []\n",
    "success = []\n",
    "no_pockets = []\n",
    "fpocket_ress_dict = {}\n",
    "centres_dict = {}"
   ]
  },
  {
   "cell_type": "code",
   "execution_count": 60,
   "id": "b1becae5-c446-4e81-a915-2b9f59b289fa",
   "metadata": {
    "collapsed": true,
    "jupyter": {
     "outputs_hidden": true
    }
   },
   "outputs": [
    {
     "name": "stdout",
     "output_type": "stream",
     "text": [
      "0\n",
      "100\n",
      "200\n",
      "300\n",
      "400\n",
      "500\n",
      "600\n",
      "700\n",
      "800\n",
      "900\n",
      "1000\n",
      "1100\n",
      "1200\n",
      "1300\n",
      "1400\n",
      "1500\n",
      "1600\n",
      "1700\n",
      "1800\n",
      "1900\n",
      "2000\n",
      "2100\n",
      "2200\n",
      "2300\n",
      "2400\n",
      "2500\n",
      "2600\n",
      "2700\n",
      "2800\n",
      "2900\n",
      "3000\n",
      "3100\n",
      "3200\n",
      "3300\n",
      "3400\n",
      "3500\n",
      "3600\n",
      "3700\n",
      "3800\n",
      "3900\n",
      "4000\n",
      "4100\n",
      "4200\n",
      "4300\n",
      "4400\n"
     ]
    }
   ],
   "source": [
    "for i, fpocket_dir in enumerate(fpocket_out_dirs):\n",
    "    \n",
    "    if i % 100 == 0:\n",
    "        print(i) \n",
    "    \n",
    "    if fpocket_dir in success:\n",
    "        continue\n",
    "        \n",
    "    try:\n",
    "        fpocket_dir_path = os.path.join(trans_rep_chains_dir, fpocket_dir)\n",
    "        input_name = fpocket_dir[:-4]\n",
    "        rep_chain = input_name.split(\".\")[0]\n",
    "        #print(input_name)\n",
    "        pockets_dir = os.path.join(fpocket_dir_path, \"pockets\")\n",
    "        pockets_pdb = [el for el in os.listdir(pockets_dir) if el.endswith(\".pdb\")]\n",
    "        #print(pockets_pdb)\n",
    "        for pocket_file in pockets_pdb:\n",
    "            pocket_id = int(pocket_file.split(\"_\")[0][6:])\n",
    "            pocket_path = os.path.join(pockets_dir, pocket_file)\n",
    "            pocket_df = PDBXreader(inputfile=pocket_path).atoms(format_type=\"pdb\", excluded=())\n",
    "            pocket_ress = sorted(pocket_df.label_seq_id_full.unique().tolist(), key=custom_sort)\n",
    "            fpocket_ress_dict[(rep_chain, pocket_id)] = pocket_ress\n",
    "\n",
    "            pocket_coords = np.array(list((zip(pocket_df.Cartn_x, pocket_df.Cartn_y, pocket_df.Cartn_z))))\n",
    "            center_of_mass = np.mean(pocket_coords, axis=0)\n",
    "            centres_dict[(rep_chain, pocket_id)] = tuple([round(v, 3) for v in center_of_mass])\n",
    "            \n",
    "        #break\n",
    "        \n",
    "        if pocket_df.empty:\n",
    "            #print(f'No pockets in {input_name}')\n",
    "            if fpocket_dir not in no_pockets:\n",
    "                no_pockets.append(fpocket_dir)\n",
    "            continue\n",
    "            \n",
    "        success.append(fpocket_dir)\n",
    "    except:\n",
    "        raise\n",
    "        print(f'ERROR with {fpocket_dir}')\n",
    "        if fpocket_dir not in errors:\n",
    "            errors.append(fpocket_dir)\n",
    "    #break"
   ]
  },
  {
   "cell_type": "code",
   "execution_count": 61,
   "id": "703921b3-faf2-4eed-9985-39b03efe65d7",
   "metadata": {},
   "outputs": [
    {
     "name": "stdout",
     "output_type": "stream",
     "text": [
      "4435\n",
      "0\n",
      "84390\n",
      "84390\n",
      "4378\n"
     ]
    }
   ],
   "source": [
    "print(len(success)) #4435 \n",
    "print(len(no_pockets)) #0\n",
    "print(len(fpocket_ress_dict)) #84390\n",
    "print(len(centres_dict)) #84390\n",
    "print(len(errors)) #0"
   ]
  },
  {
   "cell_type": "code",
   "execution_count": 62,
   "id": "c362c668-ebf6-43be-8f7c-c06671b9583b",
   "metadata": {},
   "outputs": [],
   "source": [
    "success_reps = [el.split(\".\")[0] for el in success]"
   ]
  },
  {
   "cell_type": "code",
   "execution_count": 63,
   "id": "7504ff33-dcf0-41dd-8082-ff4c0a80eeee",
   "metadata": {},
   "outputs": [],
   "source": [
    "LIGYSIS_reps = read_from_pickle(\"./results/LIGYSIS_3448_chains.pkl\")"
   ]
  },
  {
   "cell_type": "code",
   "execution_count": 64,
   "id": "91fb4e88-34d0-4658-911b-c97573d924ff",
   "metadata": {},
   "outputs": [
    {
     "data": {
      "text/plain": [
       "3448"
      ]
     },
     "execution_count": 64,
     "metadata": {},
     "output_type": "execute_result"
    }
   ],
   "source": [
    "len(set(LIGYSIS_reps).intersection(set(success_reps))) #3448"
   ]
  },
  {
   "cell_type": "code",
   "execution_count": 65,
   "id": "2f3979a6-43e0-429d-99ab-7f4a26026d3a",
   "metadata": {},
   "outputs": [],
   "source": [
    "save_to_pickle(fpocket_ress_dict, \"./results/fpocket_pocket_ress_TRANS.pkl\")\n",
    "save_to_pickle(centres_dict, \"./results/fpocket_pocket_centres_TRANS.pkl\")"
   ]
  },
  {
   "cell_type": "code",
   "execution_count": 66,
   "id": "9dae3288-d27d-42ce-98c0-8176aa711f89",
   "metadata": {},
   "outputs": [],
   "source": [
    "all_fpockets[\"aas\"] = all_fpockets.set_index([\"rep_chain\", \"ID\"]).index.map(fpocket_ress_dict)"
   ]
  },
  {
   "cell_type": "code",
   "execution_count": 67,
   "id": "2baef032-f9a4-4e81-963e-e2ce0a22ed06",
   "metadata": {},
   "outputs": [
    {
     "name": "stdout",
     "output_type": "stream",
     "text": [
      "0\n"
     ]
    }
   ],
   "source": [
    "centres = []\n",
    "errs = 0\n",
    "for i, row in all_fpockets.iterrows():\n",
    "    try:\n",
    "        centre = centres_dict[(row.rep_chain, row.RANK)]\n",
    "        centres.append(centre)\n",
    "    except:\n",
    "        errs += 1\n",
    "        centres.append(np.nan)\n",
    "print(errs)\n",
    "\n",
    "all_fpockets[\"centre\"] = centres"
   ]
  },
  {
   "cell_type": "code",
   "execution_count": 69,
   "id": "77572439-780f-43ed-b5dc-11a96b45720c",
   "metadata": {},
   "outputs": [],
   "source": [
    "all_fpockets[\"n_aas\"] = all_fpockets['aas'].apply(lambda x: len(x)) "
   ]
  },
  {
   "cell_type": "markdown",
   "id": "e6dd021a-6baa-4344-8547-19edede744ae",
   "metadata": {},
   "source": [
    "## Calculate RoG of fpocket pockets"
   ]
  },
  {
   "cell_type": "code",
   "execution_count": 70,
   "id": "60c01442-c92e-4085-afec-8cc2467b3fa4",
   "metadata": {},
   "outputs": [
    {
     "data": {
      "text/plain": [
       "4378"
      ]
     },
     "execution_count": 70,
     "metadata": {},
     "output_type": "execute_result"
    }
   ],
   "source": [
    "site_targets = all_fpockets.rep_chain.unique().tolist()\n",
    "len(site_targets)"
   ]
  },
  {
   "cell_type": "code",
   "execution_count": 71,
   "id": "48c7cee1-e615-4a94-8ab2-1aa2937a28b0",
   "metadata": {},
   "outputs": [
    {
     "data": {
      "text/plain": [
       "84390"
      ]
     },
     "execution_count": 71,
     "metadata": {},
     "output_type": "execute_result"
    }
   ],
   "source": [
    "all_fpockets.shape[0]"
   ]
  },
  {
   "cell_type": "code",
   "execution_count": 72,
   "id": "574b0e08-d8b3-47e7-8a33-9bd892cd687c",
   "metadata": {},
   "outputs": [],
   "source": [
    "target_dir = './../DATA/trans_rep_chains'"
   ]
  },
  {
   "cell_type": "code",
   "execution_count": 73,
   "id": "c28614e1-9aaf-42e8-ad80-29ab56f10b7f",
   "metadata": {},
   "outputs": [],
   "source": [
    "cc = [\n",
    "    'label_seq_id_full', 'label_comp_id', 'type_symbol',\n",
    "    'label_atom_id', 'Cartn_x', 'Cartn_y', 'Cartn_z'\n",
    "]"
   ]
  },
  {
   "cell_type": "code",
   "execution_count": 74,
   "id": "c731174d-2489-459c-84c0-11afaa7854cc",
   "metadata": {},
   "outputs": [
    {
     "name": "stdout",
     "output_type": "stream",
     "text": [
      "0\n",
      "500\n",
      "1000\n",
      "1500\n",
      "2000\n",
      "2500\n",
      "3000\n",
      "3500\n",
      "4000\n"
     ]
    }
   ],
   "source": [
    "T0 = time.time()\n",
    "RoG_dict = {}\n",
    "for i, target in enumerate(site_targets):\n",
    "    if i % 500 == 0:\n",
    "        print(i)\n",
    "    pdb_path = os.path.join(target_dir, f'{target}.trans.pdb')\n",
    "    df = PDBXreader(inputfile=pdb_path).atoms(format_type=\"pdb\", excluded=())[cc].query('label_atom_id == \"CA\"').reset_index(drop = True)\n",
    "    #df.label_seq_id = df.label_seq_id.astype(int)\n",
    "    target_sites_df = all_fpockets.query('rep_chain == @target')\n",
    "    #print(len(acc_sites_df))\n",
    "    for _, row in target_sites_df.iterrows():\n",
    "        site_ress = row.aas\n",
    "        #print(site_ress)\n",
    "        ress_CAs = df.query('label_seq_id_full in @site_ress')\n",
    "        CAs_coords = np.array(list((zip(ress_CAs.Cartn_x, ress_CAs.Cartn_y, ress_CAs.Cartn_z))))\n",
    "        center_of_mass = np.mean(CAs_coords, axis=0)\n",
    "        distances_squared = np.sum((CAs_coords - center_of_mass)**2, axis=1)\n",
    "        radius_of_gyration = round(np.sqrt(np.mean(distances_squared)), 2)\n",
    "        RoG_dict[(target, row[\"ID\"])] = radius_of_gyration\n",
    "\n",
    "    #break\n",
    "TF = time.time()"
   ]
  },
  {
   "cell_type": "code",
   "execution_count": 75,
   "id": "6a4e3b2e-6dfe-43fa-9877-ea03fbdf4c3a",
   "metadata": {},
   "outputs": [
    {
     "name": "stdout",
     "output_type": "stream",
     "text": [
      "84390\n",
      "7.08\n",
      "0.00504\n"
     ]
    }
   ],
   "source": [
    "dTs = TF-T0\n",
    "\n",
    "dTm = dTs/60\n",
    "\n",
    "N_RoG = len(RoG_dict)\n",
    "\n",
    "print(N_RoG)\n",
    "\n",
    "print(round(dTm,2))\n",
    "\n",
    "print(round(dTs/N_RoG, 5))"
   ]
  },
  {
   "cell_type": "code",
   "execution_count": 128,
   "id": "1ed00e0e-d5a4-4496-9bc8-9dd0c0c7520c",
   "metadata": {},
   "outputs": [],
   "source": [
    "save_to_pickle(RoG_dict, \"./results/fpocket_RoG_TRANS.pkl\")"
   ]
  },
  {
   "cell_type": "code",
   "execution_count": 77,
   "id": "e57a709d-41c1-4c75-a72a-c164ba0e69ca",
   "metadata": {},
   "outputs": [],
   "source": [
    "all_fpockets[\"RoG\"] = all_fpockets.set_index(['rep_chain', 'ID']).index.map(RoG_dict)"
   ]
  },
  {
   "cell_type": "code",
   "execution_count": 78,
   "id": "5ad3c41a-fd80-4133-9aad-5783e7f88918",
   "metadata": {},
   "outputs": [
    {
     "data": {
      "text/html": [
       "<div>\n",
       "<style scoped>\n",
       "    .dataframe tbody tr th:only-of-type {\n",
       "        vertical-align: middle;\n",
       "    }\n",
       "\n",
       "    .dataframe tbody tr th {\n",
       "        vertical-align: top;\n",
       "    }\n",
       "\n",
       "    .dataframe thead th {\n",
       "        text-align: right;\n",
       "    }\n",
       "</style>\n",
       "<table border=\"1\" class=\"dataframe\">\n",
       "  <thead>\n",
       "    <tr style=\"text-align: right;\">\n",
       "      <th></th>\n",
       "      <th>rep_chain</th>\n",
       "      <th>ID</th>\n",
       "      <th>RANK</th>\n",
       "      <th>score</th>\n",
       "      <th>drug_score</th>\n",
       "      <th>total_sasa</th>\n",
       "      <th>volume</th>\n",
       "      <th>aas</th>\n",
       "      <th>n_aas</th>\n",
       "      <th>centre</th>\n",
       "      <th>RoG</th>\n",
       "    </tr>\n",
       "  </thead>\n",
       "  <tbody>\n",
       "    <tr>\n",
       "      <th>0</th>\n",
       "      <td>1a52_A</td>\n",
       "      <td>1</td>\n",
       "      <td>1</td>\n",
       "      <td>0.268</td>\n",
       "      <td>0.996</td>\n",
       "      <td>336.777</td>\n",
       "      <td>1218.873</td>\n",
       "      <td>[47, 50, 51, 53, 54, 55, 57, 58, 62, 66, 71, 7...</td>\n",
       "      <td>32</td>\n",
       "      <td>(-4.199, -6.401, 0.526)</td>\n",
       "      <td>11.82</td>\n",
       "    </tr>\n",
       "    <tr>\n",
       "      <th>1</th>\n",
       "      <td>1a52_A</td>\n",
       "      <td>2</td>\n",
       "      <td>2</td>\n",
       "      <td>0.120</td>\n",
       "      <td>0.000</td>\n",
       "      <td>82.334</td>\n",
       "      <td>364.130</td>\n",
       "      <td>[34, 35, 36, 39, 40, 41, 44, 45, 48, 49, 52]</td>\n",
       "      <td>11</td>\n",
       "      <td>(3.676, -20.883, 5.447)</td>\n",
       "      <td>6.86</td>\n",
       "    </tr>\n",
       "    <tr>\n",
       "      <th>2</th>\n",
       "      <td>1a52_A</td>\n",
       "      <td>3</td>\n",
       "      <td>3</td>\n",
       "      <td>0.111</td>\n",
       "      <td>0.024</td>\n",
       "      <td>193.766</td>\n",
       "      <td>714.792</td>\n",
       "      <td>[17, 20, 21, 142, 143, 145, 147, 148, 193, 194...</td>\n",
       "      <td>14</td>\n",
       "      <td>(11.031, 16.01, 3.905)</td>\n",
       "      <td>8.41</td>\n",
       "    </tr>\n",
       "  </tbody>\n",
       "</table>\n",
       "</div>"
      ],
      "text/plain": [
       "  rep_chain  ID  RANK  score  drug_score  total_sasa    volume  \\\n",
       "0    1a52_A   1     1  0.268       0.996     336.777  1218.873   \n",
       "1    1a52_A   2     2  0.120       0.000      82.334   364.130   \n",
       "2    1a52_A   3     3  0.111       0.024     193.766   714.792   \n",
       "\n",
       "                                                 aas  n_aas  \\\n",
       "0  [47, 50, 51, 53, 54, 55, 57, 58, 62, 66, 71, 7...     32   \n",
       "1       [34, 35, 36, 39, 40, 41, 44, 45, 48, 49, 52]     11   \n",
       "2  [17, 20, 21, 142, 143, 145, 147, 148, 193, 194...     14   \n",
       "\n",
       "                    centre    RoG  \n",
       "0  (-4.199, -6.401, 0.526)  11.82  \n",
       "1  (3.676, -20.883, 5.447)   6.86  \n",
       "2   (11.031, 16.01, 3.905)   8.41  "
      ]
     },
     "execution_count": 78,
     "metadata": {},
     "output_type": "execute_result"
    }
   ],
   "source": [
    "all_fpockets[fpocket_cols+[\"aas\", \"n_aas\", \"centre\", \"RoG\"]].head(3)"
   ]
  },
  {
   "cell_type": "markdown",
   "id": "1d4a06aa-2815-47d9-8bd7-d2503dfecabb",
   "metadata": {},
   "source": [
    "## Mapping PDB residues to UP residues"
   ]
  },
  {
   "cell_type": "code",
   "execution_count": 79,
   "id": "a43f3a20-e2a8-4c51-a0b9-28cc27f63f46",
   "metadata": {},
   "outputs": [],
   "source": [
    "up_aas = {}\n",
    "errors = []\n",
    "no_sifts = []\n",
    "for _, row in all_fpockets.iterrows():\n",
    "    b = 0\n",
    "    rep_chain = row.rep_chain\n",
    "    site_ress = row.aas\n",
    "    rank = row[\"RANK\"]\n",
    "    try:\n",
    "        mapping_dict = read_from_pickle(f'./../DATA/mappings_label_full/{rep_chain}.pkl')\n",
    "    except:\n",
    "        no_sifts.append(rep_chain)\n",
    "    site_up_aas = []\n",
    "    for res in site_ress:\n",
    "        try:\n",
    "            site_up_aas.append(mapping_dict[str(res)]) # I think there are integers here as it is not working with AltLocs, so none are present\n",
    "        except:\n",
    "            errors.append(rep_chain)\n",
    "            b = 1\n",
    "            break\n",
    "    if b ==1:\n",
    "        continue\n",
    "    up_aas[(rep_chain, rank)] = site_up_aas"
   ]
  },
  {
   "cell_type": "code",
   "execution_count": 80,
   "id": "acf8f145-22d8-41e7-bd09-df409b5ce392",
   "metadata": {},
   "outputs": [
    {
     "name": "stdout",
     "output_type": "stream",
     "text": [
      "81246\n",
      "3144\n",
      "4576\n",
      "806\n"
     ]
    }
   ],
   "source": [
    "print(len(up_aas)) #81246\n",
    "print(len(errors)) #3144\n",
    "print(len(no_sifts)) #4576\n",
    "errors = list(set(errors)) # 31chains have issues with SIFTS mapping, e.g, 1nav_A. For some reason, the last 40 residues lack residue mapping to UniProt\n",
    "print(len(errors)) #806\n",
    "save_to_pickle(errors, \"./results/fpocket_no_sifts_TRANS.pkl\")"
   ]
  },
  {
   "cell_type": "code",
   "execution_count": 81,
   "id": "7f08ed31-6d44-462a-b90a-d8a1343fde9f",
   "metadata": {},
   "outputs": [],
   "source": [
    "all_fpockets_w_sifts = all_fpockets.query('rep_chain not in @errors').copy().reset_index(drop = True)\n",
    "all_fpockets_w_sifts[\"up_aas\"] = all_fpockets_w_sifts.set_index(['rep_chain', 'RANK']).index.map(up_aas)\n",
    "\n",
    "all_fpockets_w_sifts[\"n_up_aas\"] = all_fpockets_w_sifts['up_aas'].apply(lambda x: len(x))\n",
    "assert all_fpockets_w_sifts.n_aas.equals(all_fpockets_w_sifts.n_up_aas)\n",
    "all_fpockets_w_sifts.drop(columns = [\"n_up_aas\"], inplace = True)"
   ]
  },
  {
   "cell_type": "code",
   "execution_count": 82,
   "id": "d384a99b-6bb8-42e8-96e7-8d3c4602c719",
   "metadata": {},
   "outputs": [],
   "source": [
    "fpocket_cols = fpocket_cols + [\"n_aas\", \"centre\", \"RoG\", \"aas\", \"up_aas\"]"
   ]
  },
  {
   "cell_type": "code",
   "execution_count": 83,
   "id": "2a2b6dcd-44ef-456d-9a09-3477c5f63651",
   "metadata": {},
   "outputs": [
    {
     "data": {
      "text/html": [
       "<div>\n",
       "<style scoped>\n",
       "    .dataframe tbody tr th:only-of-type {\n",
       "        vertical-align: middle;\n",
       "    }\n",
       "\n",
       "    .dataframe tbody tr th {\n",
       "        vertical-align: top;\n",
       "    }\n",
       "\n",
       "    .dataframe thead th {\n",
       "        text-align: right;\n",
       "    }\n",
       "</style>\n",
       "<table border=\"1\" class=\"dataframe\">\n",
       "  <thead>\n",
       "    <tr style=\"text-align: right;\">\n",
       "      <th></th>\n",
       "      <th>rep_chain</th>\n",
       "      <th>ID</th>\n",
       "      <th>RANK</th>\n",
       "      <th>score</th>\n",
       "      <th>drug_score</th>\n",
       "      <th>total_sasa</th>\n",
       "      <th>volume</th>\n",
       "      <th>n_aas</th>\n",
       "      <th>centre</th>\n",
       "      <th>RoG</th>\n",
       "      <th>aas</th>\n",
       "      <th>up_aas</th>\n",
       "    </tr>\n",
       "  </thead>\n",
       "  <tbody>\n",
       "    <tr>\n",
       "      <th>0</th>\n",
       "      <td>1a52_A</td>\n",
       "      <td>1</td>\n",
       "      <td>1</td>\n",
       "      <td>0.268</td>\n",
       "      <td>0.996</td>\n",
       "      <td>336.777</td>\n",
       "      <td>1218.873</td>\n",
       "      <td>32</td>\n",
       "      <td>(-4.199, -6.401, 0.526)</td>\n",
       "      <td>11.82</td>\n",
       "      <td>[47, 50, 51, 53, 54, 55, 57, 58, 62, 66, 71, 7...</td>\n",
       "      <td>[343, 346, 347, 349, 350, 351, 353, 354, 358, ...</td>\n",
       "    </tr>\n",
       "    <tr>\n",
       "      <th>1</th>\n",
       "      <td>1a52_A</td>\n",
       "      <td>2</td>\n",
       "      <td>2</td>\n",
       "      <td>0.120</td>\n",
       "      <td>0.000</td>\n",
       "      <td>82.334</td>\n",
       "      <td>364.130</td>\n",
       "      <td>11</td>\n",
       "      <td>(3.676, -20.883, 5.447)</td>\n",
       "      <td>6.86</td>\n",
       "      <td>[34, 35, 36, 39, 40, 41, 44, 45, 48, 49, 52]</td>\n",
       "      <td>[330, 331, 332, 335, 336, 337, 340, 341, 344, ...</td>\n",
       "    </tr>\n",
       "    <tr>\n",
       "      <th>2</th>\n",
       "      <td>1a52_A</td>\n",
       "      <td>3</td>\n",
       "      <td>3</td>\n",
       "      <td>0.111</td>\n",
       "      <td>0.024</td>\n",
       "      <td>193.766</td>\n",
       "      <td>714.792</td>\n",
       "      <td>14</td>\n",
       "      <td>(11.031, 16.01, 3.905)</td>\n",
       "      <td>8.41</td>\n",
       "      <td>[17, 20, 21, 142, 143, 145, 147, 148, 193, 194...</td>\n",
       "      <td>[313, 316, 317, 438, 439, 441, 443, 444, 489, ...</td>\n",
       "    </tr>\n",
       "    <tr>\n",
       "      <th>3</th>\n",
       "      <td>1a52_A</td>\n",
       "      <td>4</td>\n",
       "      <td>4</td>\n",
       "      <td>0.086</td>\n",
       "      <td>0.041</td>\n",
       "      <td>129.477</td>\n",
       "      <td>466.333</td>\n",
       "      <td>15</td>\n",
       "      <td>(1.479, -0.948, 6.948)</td>\n",
       "      <td>7.62</td>\n",
       "      <td>[27, 28, 29, 30, 31, 57, 60, 61, 90, 91, 94, 9...</td>\n",
       "      <td>[323, 324, 325, 326, 327, 353, 356, 357, 386, ...</td>\n",
       "    </tr>\n",
       "    <tr>\n",
       "      <th>4</th>\n",
       "      <td>1a52_A</td>\n",
       "      <td>5</td>\n",
       "      <td>5</td>\n",
       "      <td>0.055</td>\n",
       "      <td>0.004</td>\n",
       "      <td>115.814</td>\n",
       "      <td>445.439</td>\n",
       "      <td>10</td>\n",
       "      <td>(-1.437, 8.638, -6.879)</td>\n",
       "      <td>6.97</td>\n",
       "      <td>[155, 156, 159, 160, 183, 187, 212, 215, 216, ...</td>\n",
       "      <td>[451, 452, 455, 456, 479, 483, 508, 511, 512, ...</td>\n",
       "    </tr>\n",
       "  </tbody>\n",
       "</table>\n",
       "</div>"
      ],
      "text/plain": [
       "  rep_chain  ID  RANK  score  drug_score  total_sasa    volume  n_aas  \\\n",
       "0    1a52_A   1     1  0.268       0.996     336.777  1218.873     32   \n",
       "1    1a52_A   2     2  0.120       0.000      82.334   364.130     11   \n",
       "2    1a52_A   3     3  0.111       0.024     193.766   714.792     14   \n",
       "3    1a52_A   4     4  0.086       0.041     129.477   466.333     15   \n",
       "4    1a52_A   5     5  0.055       0.004     115.814   445.439     10   \n",
       "\n",
       "                    centre    RoG  \\\n",
       "0  (-4.199, -6.401, 0.526)  11.82   \n",
       "1  (3.676, -20.883, 5.447)   6.86   \n",
       "2   (11.031, 16.01, 3.905)   8.41   \n",
       "3   (1.479, -0.948, 6.948)   7.62   \n",
       "4  (-1.437, 8.638, -6.879)   6.97   \n",
       "\n",
       "                                                 aas  \\\n",
       "0  [47, 50, 51, 53, 54, 55, 57, 58, 62, 66, 71, 7...   \n",
       "1       [34, 35, 36, 39, 40, 41, 44, 45, 48, 49, 52]   \n",
       "2  [17, 20, 21, 142, 143, 145, 147, 148, 193, 194...   \n",
       "3  [27, 28, 29, 30, 31, 57, 60, 61, 90, 91, 94, 9...   \n",
       "4  [155, 156, 159, 160, 183, 187, 212, 215, 216, ...   \n",
       "\n",
       "                                              up_aas  \n",
       "0  [343, 346, 347, 349, 350, 351, 353, 354, 358, ...  \n",
       "1  [330, 331, 332, 335, 336, 337, 340, 341, 344, ...  \n",
       "2  [313, 316, 317, 438, 439, 441, 443, 444, 489, ...  \n",
       "3  [323, 324, 325, 326, 327, 353, 356, 357, 386, ...  \n",
       "4  [451, 452, 455, 456, 479, 483, 508, 511, 512, ...  "
      ]
     },
     "execution_count": 83,
     "metadata": {},
     "output_type": "execute_result"
    }
   ],
   "source": [
    "all_fpockets_w_sifts[fpocket_cols].head(5)"
   ]
  },
  {
   "cell_type": "code",
   "execution_count": 84,
   "id": "4e8b4e90-882b-446c-b1bb-461266a760d6",
   "metadata": {},
   "outputs": [
    {
     "data": {
      "text/plain": [
       "3572"
      ]
     },
     "execution_count": 84,
     "metadata": {},
     "output_type": "execute_result"
    }
   ],
   "source": [
    "len(all_fpockets_w_sifts.rep_chain.unique()) #3572"
   ]
  },
  {
   "cell_type": "code",
   "execution_count": 85,
   "id": "9e28a6f0-09b6-41c7-9384-71a9b8cb4f6f",
   "metadata": {},
   "outputs": [
    {
     "data": {
      "text/plain": [
       "2931"
      ]
     },
     "execution_count": 85,
     "metadata": {},
     "output_type": "execute_result"
    }
   ],
   "source": [
    "len(set(LIGYSIS_reps).intersection(set(list(all_fpockets_w_sifts.rep_chain.unique())))) #2931"
   ]
  },
  {
   "cell_type": "code",
   "execution_count": 86,
   "id": "95c4af1e-8dfd-4363-a3c3-98bf1eac4e2c",
   "metadata": {},
   "outputs": [],
   "source": [
    "#all_fpockets_w_sifts.to_pickle(\"./results/fpocket_pockets_sifted_V2.pkl\")"
   ]
  },
  {
   "cell_type": "markdown",
   "id": "522aeb17-cd20-4b59-aba4-028ddb33c74d",
   "metadata": {},
   "source": [
    "## Add pocket surface and volume"
   ]
  },
  {
   "cell_type": "code",
   "execution_count": 88,
   "id": "342c7bd2-aa07-40c5-a907-5dbbb9449381",
   "metadata": {},
   "outputs": [],
   "source": [
    "bad_reps = read_from_pickle(\"./results/OLD/other_errrors_reps.pkl\")\n",
    "\n",
    "#all_fpockets_w_sifts = pd.read_pickle(\"./results/fpocket_pockets_sifted_V2.pkl\")\n",
    "\n",
    "master_SASA_dict = read_from_pickle(\"./results/master_SASA_dict.pkl\")\n",
    "\n",
    "all_fpockets_w_sifts_SASA = calculate_total_sasa(all_fpockets_w_sifts, master_SASA_dict)\n",
    "\n",
    "vols_dict = read_from_pickle(\"./results/fpocket_volumes_dict.pkl\")\n",
    "\n",
    "all_fpockets_w_sifts_SASA[\"VOL\"] = all_fpockets_w_sifts_SASA.set_index(['rep_chain', 'ID']).index.map(vols_dict)"
   ]
  },
  {
   "cell_type": "code",
   "execution_count": 89,
   "id": "96fa8c25-0463-426c-87e5-ef99b132ba0b",
   "metadata": {},
   "outputs": [
    {
     "data": {
      "text/plain": [
       "202.0"
      ]
     },
     "execution_count": 89,
     "metadata": {},
     "output_type": "execute_result"
    }
   ],
   "source": [
    "avg_max_sasa"
   ]
  },
  {
   "cell_type": "code",
   "execution_count": 90,
   "id": "c1e828c8-12d0-48ee-8306-cbe09983e7d2",
   "metadata": {},
   "outputs": [
    {
     "data": {
      "text/html": [
       "<div>\n",
       "<style scoped>\n",
       "    .dataframe tbody tr th:only-of-type {\n",
       "        vertical-align: middle;\n",
       "    }\n",
       "\n",
       "    .dataframe tbody tr th {\n",
       "        vertical-align: top;\n",
       "    }\n",
       "\n",
       "    .dataframe thead th {\n",
       "        text-align: right;\n",
       "    }\n",
       "</style>\n",
       "<table border=\"1\" class=\"dataframe\">\n",
       "  <thead>\n",
       "    <tr style=\"text-align: right;\">\n",
       "      <th></th>\n",
       "      <th>score</th>\n",
       "      <th>drug_score</th>\n",
       "      <th>n_alpha_spheres</th>\n",
       "      <th>total_sasa</th>\n",
       "      <th>polar_sasa</th>\n",
       "      <th>apolar_sasa</th>\n",
       "      <th>volume</th>\n",
       "      <th>mean_hydro_density</th>\n",
       "      <th>mean_alpha_sphere_r</th>\n",
       "      <th>mean_alpha_sphere_solvent_acc</th>\n",
       "      <th>...</th>\n",
       "      <th>ID</th>\n",
       "      <th>RANK</th>\n",
       "      <th>rep_chain</th>\n",
       "      <th>aas</th>\n",
       "      <th>centre</th>\n",
       "      <th>n_aas</th>\n",
       "      <th>RoG</th>\n",
       "      <th>up_aas</th>\n",
       "      <th>SASA</th>\n",
       "      <th>VOL</th>\n",
       "    </tr>\n",
       "  </thead>\n",
       "  <tbody>\n",
       "  </tbody>\n",
       "</table>\n",
       "<p>0 rows × 29 columns</p>\n",
       "</div>"
      ],
      "text/plain": [
       "Empty DataFrame\n",
       "Columns: [score, drug_score, n_alpha_spheres, total_sasa, polar_sasa, apolar_sasa, volume, mean_hydro_density, mean_alpha_sphere_r, mean_alpha_sphere_solvent_acc, apolar_alpha_sphere_prop, hydro_score, vol_score, polarity_score, charge_score, prop_polar_atoms, alpha_sphere_density, max_dist, flexibility, ID, RANK, rep_chain, aas, centre, n_aas, RoG, up_aas, SASA, VOL]\n",
       "Index: []\n",
       "\n",
       "[0 rows x 29 columns]"
      ]
     },
     "execution_count": 90,
     "metadata": {},
     "output_type": "execute_result"
    }
   ],
   "source": [
    "all_fpockets_w_sifts_SASA.query('SASA != SASA & rep_chain not in @bad_reps & n_aas != 0') "
   ]
  },
  {
   "cell_type": "code",
   "execution_count": 91,
   "id": "6f9077e9-4e97-4167-a0e9-032527b5d048",
   "metadata": {},
   "outputs": [],
   "source": [
    "all_fpockets_w_sifts_SASA.to_pickle(\"./results/fpocket_pockets_DEF_TRANS.pkl\")"
   ]
  },
  {
   "cell_type": "code",
   "execution_count": 99,
   "id": "9e71c7b8-347d-4694-9855-baa2401fab86",
   "metadata": {},
   "outputs": [
    {
     "data": {
      "text/plain": [
       "Index(['score', 'drug_score', 'n_alpha_spheres', 'total_sasa', 'polar_sasa',\n",
       "       'apolar_sasa', 'volume', 'mean_hydro_density', 'mean_alpha_sphere_r',\n",
       "       'mean_alpha_sphere_solvent_acc', 'apolar_alpha_sphere_prop',\n",
       "       'hydro_score', 'vol_score', 'polarity_score', 'charge_score',\n",
       "       'prop_polar_atoms', 'alpha_sphere_density', 'max_dist', 'flexibility',\n",
       "       'ID', 'RANK', 'rep_chain', 'aas', 'centre', 'n_aas', 'RoG', 'up_aas',\n",
       "       'SASA', 'VOL'],\n",
       "      dtype='object')"
      ]
     },
     "execution_count": 99,
     "metadata": {},
     "output_type": "execute_result"
    }
   ],
   "source": [
    "all_fpockets_w_sifts_SASA.columns"
   ]
  },
  {
   "cell_type": "code",
   "execution_count": 101,
   "id": "95a39c63-baa7-4e24-be8e-bc422032e4fb",
   "metadata": {},
   "outputs": [
    {
     "data": {
      "text/html": [
       "<div>\n",
       "<style scoped>\n",
       "    .dataframe tbody tr th:only-of-type {\n",
       "        vertical-align: middle;\n",
       "    }\n",
       "\n",
       "    .dataframe tbody tr th {\n",
       "        vertical-align: top;\n",
       "    }\n",
       "\n",
       "    .dataframe thead th {\n",
       "        text-align: right;\n",
       "    }\n",
       "</style>\n",
       "<table border=\"1\" class=\"dataframe\">\n",
       "  <thead>\n",
       "    <tr style=\"text-align: right;\">\n",
       "      <th></th>\n",
       "      <th>rep_chain</th>\n",
       "      <th>RANK</th>\n",
       "      <th>score</th>\n",
       "      <th>total_sasa</th>\n",
       "      <th>SASA</th>\n",
       "      <th>volume</th>\n",
       "      <th>VOL</th>\n",
       "      <th>aas</th>\n",
       "    </tr>\n",
       "  </thead>\n",
       "  <tbody>\n",
       "    <tr>\n",
       "      <th>0</th>\n",
       "      <td>1a52_A</td>\n",
       "      <td>1</td>\n",
       "      <td>0.268</td>\n",
       "      <td>336.777</td>\n",
       "      <td>1388.33</td>\n",
       "      <td>1218.873</td>\n",
       "      <td>1981</td>\n",
       "      <td>[47, 50, 51, 53, 54, 55, 57, 58, 62, 66, 71, 7...</td>\n",
       "    </tr>\n",
       "    <tr>\n",
       "      <th>1</th>\n",
       "      <td>1a52_A</td>\n",
       "      <td>2</td>\n",
       "      <td>0.120</td>\n",
       "      <td>82.334</td>\n",
       "      <td>792.26</td>\n",
       "      <td>364.130</td>\n",
       "      <td>244</td>\n",
       "      <td>[34, 35, 36, 39, 40, 41, 44, 45, 48, 49, 52]</td>\n",
       "    </tr>\n",
       "    <tr>\n",
       "      <th>2</th>\n",
       "      <td>1a52_A</td>\n",
       "      <td>3</td>\n",
       "      <td>0.111</td>\n",
       "      <td>193.766</td>\n",
       "      <td>744.08</td>\n",
       "      <td>714.792</td>\n",
       "      <td>304</td>\n",
       "      <td>[17, 20, 21, 142, 143, 145, 147, 148, 193, 194...</td>\n",
       "    </tr>\n",
       "    <tr>\n",
       "      <th>3</th>\n",
       "      <td>1a52_A</td>\n",
       "      <td>4</td>\n",
       "      <td>0.086</td>\n",
       "      <td>129.477</td>\n",
       "      <td>559.21</td>\n",
       "      <td>466.333</td>\n",
       "      <td>399</td>\n",
       "      <td>[27, 28, 29, 30, 31, 57, 60, 61, 90, 91, 94, 9...</td>\n",
       "    </tr>\n",
       "    <tr>\n",
       "      <th>4</th>\n",
       "      <td>1a52_A</td>\n",
       "      <td>5</td>\n",
       "      <td>0.055</td>\n",
       "      <td>115.814</td>\n",
       "      <td>348.38</td>\n",
       "      <td>445.439</td>\n",
       "      <td>413</td>\n",
       "      <td>[155, 156, 159, 160, 183, 187, 212, 215, 216, ...</td>\n",
       "    </tr>\n",
       "    <tr>\n",
       "      <th>...</th>\n",
       "      <td>...</td>\n",
       "      <td>...</td>\n",
       "      <td>...</td>\n",
       "      <td>...</td>\n",
       "      <td>...</td>\n",
       "      <td>...</td>\n",
       "      <td>...</td>\n",
       "      <td>...</td>\n",
       "    </tr>\n",
       "    <tr>\n",
       "      <th>72337</th>\n",
       "      <td>8yhh_B</td>\n",
       "      <td>22</td>\n",
       "      <td>-0.026</td>\n",
       "      <td>85.188</td>\n",
       "      <td>347.01</td>\n",
       "      <td>296.222</td>\n",
       "      <td>95</td>\n",
       "      <td>[223, 224, 227, 233, 234, 235]</td>\n",
       "    </tr>\n",
       "    <tr>\n",
       "      <th>72338</th>\n",
       "      <td>8yhh_B</td>\n",
       "      <td>23</td>\n",
       "      <td>-0.039</td>\n",
       "      <td>173.836</td>\n",
       "      <td>682.37</td>\n",
       "      <td>526.418</td>\n",
       "      <td>290</td>\n",
       "      <td>[106, 109, 235, 236, 269, 270, 271, 272, 291, ...</td>\n",
       "    </tr>\n",
       "    <tr>\n",
       "      <th>72339</th>\n",
       "      <td>8yhh_B</td>\n",
       "      <td>24</td>\n",
       "      <td>-0.058</td>\n",
       "      <td>69.362</td>\n",
       "      <td>382.34</td>\n",
       "      <td>184.189</td>\n",
       "      <td>41</td>\n",
       "      <td>[173, 174, 175, 176, 218, 221, 222]</td>\n",
       "    </tr>\n",
       "    <tr>\n",
       "      <th>72340</th>\n",
       "      <td>8yhh_B</td>\n",
       "      <td>25</td>\n",
       "      <td>-0.064</td>\n",
       "      <td>139.088</td>\n",
       "      <td>894.06</td>\n",
       "      <td>608.181</td>\n",
       "      <td>959</td>\n",
       "      <td>[159, 187, 189, 191, 196, 197, 198, 199, 200, ...</td>\n",
       "    </tr>\n",
       "    <tr>\n",
       "      <th>72341</th>\n",
       "      <td>8yhh_B</td>\n",
       "      <td>26</td>\n",
       "      <td>-0.105</td>\n",
       "      <td>113.805</td>\n",
       "      <td>661.13</td>\n",
       "      <td>269.800</td>\n",
       "      <td>282</td>\n",
       "      <td>[171, 172, 173, 177, 182, 222, 225, 226, 229, ...</td>\n",
       "    </tr>\n",
       "  </tbody>\n",
       "</table>\n",
       "<p>72342 rows × 8 columns</p>\n",
       "</div>"
      ],
      "text/plain": [
       "      rep_chain  RANK  score  total_sasa     SASA    volume   VOL  \\\n",
       "0        1a52_A     1  0.268     336.777  1388.33  1218.873  1981   \n",
       "1        1a52_A     2  0.120      82.334   792.26   364.130   244   \n",
       "2        1a52_A     3  0.111     193.766   744.08   714.792   304   \n",
       "3        1a52_A     4  0.086     129.477   559.21   466.333   399   \n",
       "4        1a52_A     5  0.055     115.814   348.38   445.439   413   \n",
       "...         ...   ...    ...         ...      ...       ...   ...   \n",
       "72337    8yhh_B    22 -0.026      85.188   347.01   296.222    95   \n",
       "72338    8yhh_B    23 -0.039     173.836   682.37   526.418   290   \n",
       "72339    8yhh_B    24 -0.058      69.362   382.34   184.189    41   \n",
       "72340    8yhh_B    25 -0.064     139.088   894.06   608.181   959   \n",
       "72341    8yhh_B    26 -0.105     113.805   661.13   269.800   282   \n",
       "\n",
       "                                                     aas  \n",
       "0      [47, 50, 51, 53, 54, 55, 57, 58, 62, 66, 71, 7...  \n",
       "1           [34, 35, 36, 39, 40, 41, 44, 45, 48, 49, 52]  \n",
       "2      [17, 20, 21, 142, 143, 145, 147, 148, 193, 194...  \n",
       "3      [27, 28, 29, 30, 31, 57, 60, 61, 90, 91, 94, 9...  \n",
       "4      [155, 156, 159, 160, 183, 187, 212, 215, 216, ...  \n",
       "...                                                  ...  \n",
       "72337                     [223, 224, 227, 233, 234, 235]  \n",
       "72338  [106, 109, 235, 236, 269, 270, 271, 272, 291, ...  \n",
       "72339                [173, 174, 175, 176, 218, 221, 222]  \n",
       "72340  [159, 187, 189, 191, 196, 197, 198, 199, 200, ...  \n",
       "72341  [171, 172, 173, 177, 182, 222, 225, 226, 229, ...  \n",
       "\n",
       "[72342 rows x 8 columns]"
      ]
     },
     "execution_count": 101,
     "metadata": {},
     "output_type": "execute_result"
    }
   ],
   "source": [
    "all_fpockets_w_sifts_SASA[[\"rep_chain\", \"RANK\", \"score\", \"total_sasa\", \"SASA\", \"volume\", \"VOL\", \"aas\"]]"
   ]
  },
  {
   "cell_type": "code",
   "execution_count": 102,
   "id": "b5c26e63-5e7d-4293-a806-dd8fb018f1e7",
   "metadata": {},
   "outputs": [
    {
     "name": "stdout",
     "output_type": "stream",
     "text": [
      "2.415 2113.359\n",
      "13.010000000000002 6026.9299999999985\n"
     ]
    }
   ],
   "source": [
    "print(all_fpockets_w_sifts_SASA.total_sasa.min(), all_fpockets_w_sifts_SASA.total_sasa.max())\n",
    "print(all_fpockets_w_sifts_SASA.SASA.min(), all_fpockets_w_sifts_SASA.SASA.max())"
   ]
  },
  {
   "cell_type": "code",
   "execution_count": 103,
   "id": "a54e7fc9-6b77-45b3-9ae2-87492e999922",
   "metadata": {},
   "outputs": [
    {
     "data": {
      "text/plain": [
       "2.415"
      ]
     },
     "execution_count": 103,
     "metadata": {},
     "output_type": "execute_result"
    }
   ],
   "source": [
    "all_fpockets_w_sifts_SASA.total_sasa.min()"
   ]
  },
  {
   "cell_type": "code",
   "execution_count": 104,
   "id": "5a5fab69-4fea-4d66-a159-d42bc05a86f1",
   "metadata": {},
   "outputs": [
    {
     "data": {
      "image/png": "[encoded data removed]",
      "text/plain": [
       "<Figure size 800x600 with 2 Axes>"
      ]
     },
     "metadata": {},
     "output_type": "display_data"
    }
   ],
   "source": [
    "plot_hexbin(\n",
    "    combined_SASA_df.query('SASA != 0').total_sasa.tolist(),\n",
    "    combined_SASA_df.query('SASA != 0').SASA.tolist(),\n",
    "    xlab = \"fpocket SASA\",\n",
    "    ylab = \"freeSASA SASA\",\n",
    "    xlim = (0, 2120), ylim = (0, 6030),\n",
    "    x_text_coord = 1000, y_text_coord = 1000, gridsize=100, cmap='viridis', addTline=False, addcorr = True)"
   ]
  },
  {
   "cell_type": "code",
   "execution_count": 106,
   "id": "2dd5cb9c-c5b9-421f-a978-70348faabe25",
   "metadata": {},
   "outputs": [
    {
     "name": "stdout",
     "output_type": "stream",
     "text": [
      "46.303 8288.43\n",
      "0 20341\n"
     ]
    }
   ],
   "source": [
    "print(all_fpockets_w_sifts_SASA.volume.min(), all_fpockets_w_sifts_SASA.volume.max())\n",
    "print(all_fpockets_w_sifts_SASA.VOL.min(), all_fpockets_w_sifts_SASA.VOL.max())"
   ]
  },
  {
   "cell_type": "code",
   "execution_count": 107,
   "id": "40988590-e8cb-48f4-b3f1-bebbeba91189",
   "metadata": {},
   "outputs": [
    {
     "data": {
      "image/png": "[encoded data removed]",
      "text/plain": [
       "<Figure size 800x600 with 2 Axes>"
      ]
     },
     "metadata": {},
     "output_type": "display_data"
    }
   ],
   "source": [
    "plot_hexbin(\n",
    "    all_fpockets_w_sifts_SASA.query('SASA != 0').volume.tolist(),\n",
    "    all_fpockets_w_sifts_SASA.query('SASA != 0').VOL.tolist(),\n",
    "    xlab = \"fpocket volume\",\n",
    "    ylab = \"POVME volume\",\n",
    "    xlim = (0, 8300), ylim = (0, 20400),\n",
    "    x_text_coord = 5000, y_text_coord = 5000, gridsize=100, cmap='viridis', addTline=False, addcorr = True)"
   ]
  },
  {
   "cell_type": "code",
   "execution_count": 108,
   "id": "95fceafe-fde8-4167-b9e4-1de32cca8cbe",
   "metadata": {},
   "outputs": [],
   "source": [
    "all_fpockets_w_sifts_SASA[\"vol_diff\"] = all_fpockets_w_sifts_SASA.VOL - all_fpockets_w_sifts_SASA.volume"
   ]
  },
  {
   "cell_type": "code",
   "execution_count": 116,
   "id": "eea89f84-8d4a-44a1-9eac-10c428c49107",
   "metadata": {},
   "outputs": [],
   "source": [
    "all_fpockets_w_sifts_SASA[\"SASA_diff\"] = all_fpockets_w_sifts_SASA.SASA - all_fpockets_w_sifts_SASA.total_sasa"
   ]
  },
  {
   "cell_type": "code",
   "execution_count": 109,
   "id": "38226e4f-ce9f-4294-8a7f-a93287fb4db4",
   "metadata": {},
   "outputs": [
    {
     "data": {
      "text/html": [
       "<div>\n",
       "<style scoped>\n",
       "    .dataframe tbody tr th:only-of-type {\n",
       "        vertical-align: middle;\n",
       "    }\n",
       "\n",
       "    .dataframe tbody tr th {\n",
       "        vertical-align: top;\n",
       "    }\n",
       "\n",
       "    .dataframe thead th {\n",
       "        text-align: right;\n",
       "    }\n",
       "</style>\n",
       "<table border=\"1\" class=\"dataframe\">\n",
       "  <thead>\n",
       "    <tr style=\"text-align: right;\">\n",
       "      <th></th>\n",
       "      <th>rep_chain</th>\n",
       "      <th>RANK</th>\n",
       "      <th>score</th>\n",
       "      <th>total_sasa</th>\n",
       "      <th>SASA</th>\n",
       "      <th>volume</th>\n",
       "      <th>VOL</th>\n",
       "      <th>vol_diff</th>\n",
       "      <th>aas</th>\n",
       "    </tr>\n",
       "  </thead>\n",
       "  <tbody>\n",
       "    <tr>\n",
       "      <th>56232</th>\n",
       "      <td>7mix_A</td>\n",
       "      <td>1</td>\n",
       "      <td>1.161</td>\n",
       "      <td>1061.035</td>\n",
       "      <td>2820.15</td>\n",
       "      <td>3724.729</td>\n",
       "      <td>20341</td>\n",
       "      <td>16616.271</td>\n",
       "      <td>[229, 232, 233, 235, 236, 237, 240, 320, 321, ...</td>\n",
       "    </tr>\n",
       "    <tr>\n",
       "      <th>66474</th>\n",
       "      <td>8ajo_A</td>\n",
       "      <td>100</td>\n",
       "      <td>-1.261</td>\n",
       "      <td>1505.433</td>\n",
       "      <td>4610.15</td>\n",
       "      <td>4392.094</td>\n",
       "      <td>17578</td>\n",
       "      <td>13185.906</td>\n",
       "      <td>[31, 32, 33, 34, 380, 383, 385, 386, 387, 388,...</td>\n",
       "    </tr>\n",
       "    <tr>\n",
       "      <th>48119</th>\n",
       "      <td>6vhh_A</td>\n",
       "      <td>85</td>\n",
       "      <td>-0.137</td>\n",
       "      <td>935.423</td>\n",
       "      <td>2726.32</td>\n",
       "      <td>3772.596</td>\n",
       "      <td>16236</td>\n",
       "      <td>12463.404</td>\n",
       "      <td>[186, 187, 188, 189, 190, 191, 193, 194, 195, ...</td>\n",
       "    </tr>\n",
       "    <tr>\n",
       "      <th>33018</th>\n",
       "      <td>5o9z_C</td>\n",
       "      <td>115</td>\n",
       "      <td>-1.668</td>\n",
       "      <td>1440.087</td>\n",
       "      <td>4509.17</td>\n",
       "      <td>4364.053</td>\n",
       "      <td>16061</td>\n",
       "      <td>11696.947</td>\n",
       "      <td>[1191, 1192, 1193, 1194, 1195, 1196, 1199, 129...</td>\n",
       "    </tr>\n",
       "    <tr>\n",
       "      <th>71745</th>\n",
       "      <td>8tar_N</td>\n",
       "      <td>24</td>\n",
       "      <td>-1.458</td>\n",
       "      <td>1702.430</td>\n",
       "      <td>5159.80</td>\n",
       "      <td>6302.484</td>\n",
       "      <td>17859</td>\n",
       "      <td>11556.516</td>\n",
       "      <td>[169, 170, 173, 174, 177, 178, 181, 182, 256, ...</td>\n",
       "    </tr>\n",
       "    <tr>\n",
       "      <th>...</th>\n",
       "      <td>...</td>\n",
       "      <td>...</td>\n",
       "      <td>...</td>\n",
       "      <td>...</td>\n",
       "      <td>...</td>\n",
       "      <td>...</td>\n",
       "      <td>...</td>\n",
       "      <td>...</td>\n",
       "      <td>...</td>\n",
       "    </tr>\n",
       "    <tr>\n",
       "      <th>4589</th>\n",
       "      <td>1uwy_A</td>\n",
       "      <td>3</td>\n",
       "      <td>0.119</td>\n",
       "      <td>382.244</td>\n",
       "      <td>1610.96</td>\n",
       "      <td>1413.932</td>\n",
       "      <td>552</td>\n",
       "      <td>-861.932</td>\n",
       "      <td>[3, 4, 5, 119, 120, 121, 122, 177, 216, 218, 2...</td>\n",
       "    </tr>\n",
       "    <tr>\n",
       "      <th>8035</th>\n",
       "      <td>2ghf_A</td>\n",
       "      <td>1</td>\n",
       "      <td>0.694</td>\n",
       "      <td>191.617</td>\n",
       "      <td>951.78</td>\n",
       "      <td>915.037</td>\n",
       "      <td>0</td>\n",
       "      <td>-915.037</td>\n",
       "      <td>[16, 17, 18, 19, 23, 29, 31, 34, 35, 38, 45, 5...</td>\n",
       "    </tr>\n",
       "    <tr>\n",
       "      <th>70996</th>\n",
       "      <td>8iys_R</td>\n",
       "      <td>13</td>\n",
       "      <td>-0.226</td>\n",
       "      <td>334.848</td>\n",
       "      <td>1196.13</td>\n",
       "      <td>961.342</td>\n",
       "      <td>0</td>\n",
       "      <td>-961.342</td>\n",
       "      <td>[53, 57, 60, 61, 64, 65, 67, 68, 136, 265, 266...</td>\n",
       "    </tr>\n",
       "    <tr>\n",
       "      <th>21691</th>\n",
       "      <td>4e4m_B</td>\n",
       "      <td>3</td>\n",
       "      <td>0.114</td>\n",
       "      <td>232.272</td>\n",
       "      <td>1097.27</td>\n",
       "      <td>1006.195</td>\n",
       "      <td>25</td>\n",
       "      <td>-981.195</td>\n",
       "      <td>[150, 180, 182, 183, 184, 185, 186, 187, 188, ...</td>\n",
       "    </tr>\n",
       "    <tr>\n",
       "      <th>50878</th>\n",
       "      <td>7ad7_B</td>\n",
       "      <td>2</td>\n",
       "      <td>0.141</td>\n",
       "      <td>492.653</td>\n",
       "      <td>1901.98</td>\n",
       "      <td>1732.282</td>\n",
       "      <td>0</td>\n",
       "      <td>-1732.282</td>\n",
       "      <td>[365, 366, 397, 426, 427, 428, 429, 430, 455, ...</td>\n",
       "    </tr>\n",
       "  </tbody>\n",
       "</table>\n",
       "<p>72342 rows × 9 columns</p>\n",
       "</div>"
      ],
      "text/plain": [
       "      rep_chain  RANK  score  total_sasa     SASA    volume    VOL   vol_diff  \\\n",
       "56232    7mix_A     1  1.161    1061.035  2820.15  3724.729  20341  16616.271   \n",
       "66474    8ajo_A   100 -1.261    1505.433  4610.15  4392.094  17578  13185.906   \n",
       "48119    6vhh_A    85 -0.137     935.423  2726.32  3772.596  16236  12463.404   \n",
       "33018    5o9z_C   115 -1.668    1440.087  4509.17  4364.053  16061  11696.947   \n",
       "71745    8tar_N    24 -1.458    1702.430  5159.80  6302.484  17859  11556.516   \n",
       "...         ...   ...    ...         ...      ...       ...    ...        ...   \n",
       "4589     1uwy_A     3  0.119     382.244  1610.96  1413.932    552   -861.932   \n",
       "8035     2ghf_A     1  0.694     191.617   951.78   915.037      0   -915.037   \n",
       "70996    8iys_R    13 -0.226     334.848  1196.13   961.342      0   -961.342   \n",
       "21691    4e4m_B     3  0.114     232.272  1097.27  1006.195     25   -981.195   \n",
       "50878    7ad7_B     2  0.141     492.653  1901.98  1732.282      0  -1732.282   \n",
       "\n",
       "                                                     aas  \n",
       "56232  [229, 232, 233, 235, 236, 237, 240, 320, 321, ...  \n",
       "66474  [31, 32, 33, 34, 380, 383, 385, 386, 387, 388,...  \n",
       "48119  [186, 187, 188, 189, 190, 191, 193, 194, 195, ...  \n",
       "33018  [1191, 1192, 1193, 1194, 1195, 1196, 1199, 129...  \n",
       "71745  [169, 170, 173, 174, 177, 178, 181, 182, 256, ...  \n",
       "...                                                  ...  \n",
       "4589   [3, 4, 5, 119, 120, 121, 122, 177, 216, 218, 2...  \n",
       "8035   [16, 17, 18, 19, 23, 29, 31, 34, 35, 38, 45, 5...  \n",
       "70996  [53, 57, 60, 61, 64, 65, 67, 68, 136, 265, 266...  \n",
       "21691  [150, 180, 182, 183, 184, 185, 186, 187, 188, ...  \n",
       "50878  [365, 366, 397, 426, 427, 428, 429, 430, 455, ...  \n",
       "\n",
       "[72342 rows x 9 columns]"
      ]
     },
     "execution_count": 109,
     "metadata": {},
     "output_type": "execute_result"
    }
   ],
   "source": [
    "all_fpockets_w_sifts_SASA[[\"rep_chain\", \"RANK\", \"score\", \"total_sasa\", \"SASA\", \"volume\", \"VOL\", \"vol_diff\", \"aas\"]].sort_values(by=[\"vol_diff\"], ascending = False)"
   ]
  },
  {
   "cell_type": "code",
   "execution_count": 36,
   "id": "fcef6e8e-8169-4c99-aa7a-e8f80b45cd83",
   "metadata": {
    "collapsed": true,
    "jupyter": {
     "outputs_hidden": true
    }
   },
   "outputs": [
    {
     "data": {
      "text/plain": [
       "'31+32+33+34+380+383+385+386+387+388+394+396+399+401+412+414+415+416+417+627+628+629+635+636+637+651+652+653+654+655+662+673+674+675+679+681+682+683+686+687+688+689+690+691+692+693+694+733+734+735+736+1030+1031+1032+1035+1036+1037+1038+1053+1054+1055+1059+1060+1061+1062+1063+1078+1081+1082+1085+1086+1087+1088+1115+1116+1117+1118+1119+1120+1121+1122+1124+1126+1128+1129+1132+1133+1136+1137+1138+1139+1140+1146+1147+1148+1149+1150+1152+1153+1154+1155+1156+1157+1158+1159+1160+1161+1162+1164'"
      ]
     },
     "execution_count": 36,
     "metadata": {},
     "output_type": "execute_result"
    }
   ],
   "source": [
    "\"+\".join(\n",
    "    combined_SASA_df.sort_values(\n",
    "        by=[\"vol_diff\"], ascending = False\n",
    "    ).loc[66474, \"aas\"]\n",
    ")"
   ]
  },
  {
   "cell_type": "code",
   "execution_count": 127,
   "id": "29c8ebae-7e24-430b-8b41-cf3a89635b50",
   "metadata": {},
   "outputs": [
    {
     "data": {
      "image/png": "[encoded data removed]",
      "text/plain": [
       "<Figure size 640x480 with 1 Axes>"
      ]
     },
     "metadata": {},
     "output_type": "display_data"
    }
   ],
   "source": [
    "plt.hist(all_fpockets_w_sifts_SASA.SASA_diff, bins = 100, density = True, edgecolor = \"k\", color = \"orange\")\n",
    "#plt.xlim(-30, 20)\n",
    "plt.xlabel(\"freeSASA SASA - fpocket SASA\")\n",
    "plt.ylabel(\"log(p)\")\n",
    "plt.yscale(\"log\")\n",
    "plt.show()"
   ]
  },
  {
   "cell_type": "code",
   "execution_count": 126,
   "id": "571b56dc-ad27-4764-9dd6-5a1fce4e3ba7",
   "metadata": {},
   "outputs": [
    {
     "data": {
      "image/png": "[encoded data removed]",
      "text/plain": [
       "<Figure size 640x480 with 1 Axes>"
      ]
     },
     "metadata": {},
     "output_type": "display_data"
    }
   ],
   "source": [
    "plt.hist(all_fpockets_w_sifts_SASA.vol_diff, bins = 100, density = True, edgecolor = \"k\", color = \"orange\")\n",
    "#plt.xlim(-30, 20)\n",
    "plt.xlabel(\"POVME Volume - fpocket Volume\")\n",
    "plt.ylabel(\"log(p)\")\n",
    "plt.yscale(\"log\")\n",
    "plt.ylim(0,0.5)\n",
    "plt.show()"
   ]
  }
 ],
 "metadata": {
  "kernelspec": {
   "display_name": "Python [conda env:myenv2]",
   "language": "python",
   "name": "conda-env-myenv2-py"
  },
  "language_info": {
   "codemirror_mode": {
    "name": "ipython",
    "version": 3
   },
   "file_extension": ".py",
   "mimetype": "text/x-python",
   "name": "python",
   "nbconvert_exporter": "python",
   "pygments_lexer": "ipython3",
   "version": "3.10.0"
  }
 },
 "nbformat": 4,
 "nbformat_minor": 5
}
