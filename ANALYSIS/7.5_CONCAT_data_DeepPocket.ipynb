{
 "cells": [
  {
   "cell_type": "markdown",
   "id": "f44c908b-ff43-456a-8137-670d170557fc",
   "metadata": {},
   "source": [
    "## Imports"
   ]
  },
  {
   "cell_type": "code",
   "execution_count": 3,
   "id": "d0fd7253-79ba-46e6-ad9e-f2d5a17c4ddc",
   "metadata": {},
   "outputs": [],
   "source": [
    "from JSU_lib import *"
   ]
  },
  {
   "cell_type": "code",
   "execution_count": 1,
   "id": "4bc3a80f-7ea3-46b2-923a-85beb9e150c4",
   "metadata": {
    "jupyter": {
     "source_hidden": true
    }
   },
   "outputs": [],
   "source": [
    "import os\n",
    "import re\n",
    "import time\n",
    "import pickle\n",
    "import numpy as np\n",
    "import pandas as pd \n",
    "\n",
    "import warnings\n",
    "import logging\n",
    "warnings.filterwarnings('ignore') # ignores warnings\n",
    "logging.disable(logging.CRITICAL) # disables logging\n",
    "\n",
    "from prointvar.pdbx import PDBXreader"
   ]
  },
  {
   "cell_type": "markdown",
   "id": "3f20c797-9a8c-4a36-95d4-b00f99617c87",
   "metadata": {},
   "source": [
    "## Functions"
   ]
  },
  {
   "cell_type": "code",
   "execution_count": 4,
   "id": "f8cce899-0763-48d7-b679-27555f5c1595",
   "metadata": {},
   "outputs": [],
   "source": [
    "def parse_fpocket_output(filepath):\n",
    "    # Read the content of the file\n",
    "    with open(filepath, 'r') as file:\n",
    "        data = file.read()\n",
    "    \n",
    "    # Regular expression to split the input data by \"Pocket <number> :\"\n",
    "    pockets = re.split(r'Pocket \\d+ :', data)\n",
    "    pockets = [pocket.strip() for pocket in pockets if pocket.strip()]  # Remove any empty entries\n",
    "\n",
    "    if pockets == []:\n",
    "        return pd.DataFrame()\n",
    "\n",
    "    # List to hold each pocket's dictionary of metrics\n",
    "    pocket_list = []\n",
    "    detail_keys = set()\n",
    "\n",
    "    # Regex pattern to find all key-value pairs in each pocket's text block\n",
    "    pattern = re.compile(r'(.*?):\\s*([-\\d\\.]+)')\n",
    "\n",
    "    for pocket in pockets:\n",
    "        # Dictionary to store the data for this pocket\n",
    "        pocket_data = {}\n",
    "        \n",
    "        # Find all key-value pairs in this pocket\n",
    "        details = pattern.findall(pocket)\n",
    "        for key, value in details:\n",
    "            cleaned_key = key.strip().lower().replace(' - ', '_').replace(' ', '_').replace('.', '').replace('__', '_')\n",
    "            pocket_data[cleaned_key] = float(value)\n",
    "            detail_keys.add(cleaned_key)\n",
    "\n",
    "        pocket_list.append(pocket_data)\n",
    "\n",
    "    # Convert list of dictionaries into a DataFrame\n",
    "    df = pd.DataFrame(pocket_list)\n",
    "\n",
    "    # Rename the DataFrame columns to the desired names\n",
    "    df.columns = [\n",
    "        'score_fpocket', 'drug_score', 'n_alpha_spheres',\n",
    "        'total_sasa', 'polar_sasa', 'apolar_sasa', 'volume_fpocket',\n",
    "        'mean_hydro_density', 'mean_alpha_sphere_r',\n",
    "        'mean_alpha_sphere_solvent_acc', 'apolar_alpha_sphere_prop',\n",
    "        'hydro_score', 'vol_score', 'polarity_score', 'charge_score',\n",
    "        'prop_polar_atoms', 'alpha_sphere_density', 'max_dist', 'flexibility'\n",
    "    ]\n",
    "\n",
    "    # Add ID column, starting at 1 and incrementing by 1 for each row\n",
    "    df[\"ID\"] = list(range(1, len(df)+1))\n",
    "\n",
    "    # Add a RANK column based on the 'drug_score', highest first\n",
    "    df['RANK_fpocket'] = df['score_fpocket'].rank(ascending=False, method='first').astype(int)\n",
    "\n",
    "    return df"
   ]
  },
  {
   "cell_type": "markdown",
   "id": "a088566e-9583-4d70-8748-40ff800477fe",
   "metadata": {},
   "source": [
    "## Input data"
   ]
  },
  {
   "cell_type": "code",
   "execution_count": 5,
   "id": "5eb4b878-4ab9-4275-8a27-e059a46915c7",
   "metadata": {},
   "outputs": [],
   "source": [
    "deep_pocket_dir = \"/Users/2394007/Documents/PHD/LOCAL/JSU_site_predictors/DATA/deeppocket_out\""
   ]
  },
  {
   "cell_type": "code",
   "execution_count": 6,
   "id": "61427e61-7232-4fdb-aa58-5225eeb3b701",
   "metadata": {},
   "outputs": [
    {
     "name": "stdout",
     "output_type": "stream",
     "text": [
      "57143\n"
     ]
    }
   ],
   "source": [
    "fs = os.listdir(deep_pocket_dir) #57143\n",
    "print(len(fs))"
   ]
  },
  {
   "cell_type": "code",
   "execution_count": 7,
   "id": "f98cb6de-c2a9-407e-91cb-c0e2f2078c2c",
   "metadata": {},
   "outputs": [],
   "source": [
    "remove_extensions = [\"dx\", \"gninatypes\"]"
   ]
  },
  {
   "cell_type": "code",
   "execution_count": 8,
   "id": "4661d96f-b803-42ff-b708-f01c23cf859a",
   "metadata": {},
   "outputs": [
    {
     "name": "stdout",
     "output_type": "stream",
     "text": [
      "39904\n"
     ]
    }
   ],
   "source": [
    "fs = [f for f in fs if f.split(\".\")[-1] not in remove_extensions] # 39904\n",
    "print(len(fs))"
   ]
  },
  {
   "cell_type": "code",
   "execution_count": 9,
   "id": "1b8cd725-2a35-4df7-8647-71aad3636d99",
   "metadata": {},
   "outputs": [
    {
     "name": "stdout",
     "output_type": "stream",
     "text": [
      "35469\n"
     ]
    }
   ],
   "source": [
    "fs = [f for f in fs if not f.endswith(\".clean.pdb\")] #35469\n",
    "print(len(fs))"
   ]
  },
  {
   "cell_type": "code",
   "execution_count": 10,
   "id": "57bf6aca-e72b-4de1-97ad-24b57eb52aa5",
   "metadata": {},
   "outputs": [
    {
     "name": "stdout",
     "output_type": "stream",
     "text": [
      "31024\n"
     ]
    }
   ],
   "source": [
    "fs = [f for f in fs if not f.endswith(\"nowat.pdb\")] #31024\n",
    "print(len(fs))"
   ]
  },
  {
   "cell_type": "code",
   "execution_count": 11,
   "id": "f329b917-f519-4434-a594-c61f9ba0d831",
   "metadata": {},
   "outputs": [
    {
     "name": "stdout",
     "output_type": "stream",
     "text": [
      "26587\n"
     ]
    }
   ],
   "source": [
    "deeppocket_pdbs = sorted([f for f in fs if f.endswith(\".pdb\")]) #26587\n",
    "print(len(deeppocket_pdbs))"
   ]
  },
  {
   "cell_type": "code",
   "execution_count": 12,
   "id": "f6bd68df-2b88-46be-844e-5b3c81aa364c",
   "metadata": {},
   "outputs": [
    {
     "data": {
      "text/plain": [
       "['1a52_A.clean_nowat_pocket1.pdb', '1a52_A.clean_nowat_pocket10.pdb']"
      ]
     },
     "execution_count": 12,
     "metadata": {},
     "output_type": "execute_result"
    }
   ],
   "source": [
    "deeppocket_pdbs[:2]"
   ]
  },
  {
   "cell_type": "code",
   "execution_count": 13,
   "id": "ea05da09-5694-4b0f-8cfa-df3ce49af6ee",
   "metadata": {},
   "outputs": [
    {
     "name": "stdout",
     "output_type": "stream",
     "text": [
      "4435\n"
     ]
    }
   ],
   "source": [
    "deeppocket_out_dirs = sorted([f for f in fs if f.endswith(\"out\")])\n",
    "print(len(deeppocket_out_dirs))"
   ]
  },
  {
   "cell_type": "code",
   "execution_count": 14,
   "id": "29741146-84e2-4a27-ad47-20ea1fa287ff",
   "metadata": {},
   "outputs": [
    {
     "data": {
      "text/plain": [
       "['1a52_A.clean_nowat_out', '1a5h_B.clean_nowat_out']"
      ]
     },
     "execution_count": 14,
     "metadata": {},
     "output_type": "execute_result"
    }
   ],
   "source": [
    "deeppocket_out_dirs[:2]"
   ]
  },
  {
   "cell_type": "markdown",
   "id": "2f8e9508-3c4c-481e-ac63-ec816c3b4f36",
   "metadata": {},
   "source": [
    "## Get DeepPocket data"
   ]
  },
  {
   "cell_type": "code",
   "execution_count": 15,
   "id": "a7c0ab50-0ed6-4e37-9513-7b030a341b5f",
   "metadata": {},
   "outputs": [],
   "source": [
    "clean_rep_chains_dir = \"/Users/2394007/Documents/PHD/LOCAL/JSU_site_predictors/DATA/clean_rep_chains\"\n",
    "clean_rep_chains_dir = \"/Users/2394007/Documents/PHD/LOCAL/JSU_site_predictors/DATA/trans_rep_chains\""
   ]
  },
  {
   "cell_type": "code",
   "execution_count": 16,
   "id": "05131f2b-c8c8-4cbe-a6d7-25f461cd35ac",
   "metadata": {},
   "outputs": [],
   "source": [
    "errors = []\n",
    "success = []\n",
    "no_pockets = []\n",
    "fpocket_dfs = []"
   ]
  },
  {
   "cell_type": "markdown",
   "id": "1d7b2e9e-8f92-4eda-a5ce-6fad83ef063e",
   "metadata": {},
   "source": [
    "### Phase I: get fpocket pockets data"
   ]
  },
  {
   "cell_type": "code",
   "execution_count": 17,
   "id": "bc8c7aca-3371-4299-8668-e4c37cc1e34d",
   "metadata": {},
   "outputs": [
    {
     "name": "stdout",
     "output_type": "stream",
     "text": [
      "0\n",
      "500\n",
      "1000\n",
      "1500\n",
      "2000\n",
      "2500\n",
      "3000\n",
      "3500\n",
      "4000\n"
     ]
    }
   ],
   "source": [
    "for i, fpocket_dir in enumerate(deeppocket_out_dirs):\n",
    "    \n",
    "    if i % 500 == 0:\n",
    "       print(i) \n",
    "    \n",
    "    if fpocket_dir in success:\n",
    "        continue\n",
    "        \n",
    "    try:\n",
    "        fpocket_dir_path = os.path.join(deep_pocket_dir, fpocket_dir)\n",
    "        input_name = fpocket_dir[:-4]\n",
    "        file_path = os.path.join(fpocket_dir_path, f'{input_name}_info.txt')\n",
    "        pocket_df = parse_fpocket_output(file_path)\n",
    "        \n",
    "        if pocket_df.empty:\n",
    "            #print(f'No pockets in {input_name}')\n",
    "            if fpocket_dir not in no_pockets:\n",
    "                no_pockets.append(fpocket_dir)\n",
    "            continue\n",
    "        \n",
    "        pocket_df[\"rep_chain\"] = input_name.split(\".\")[0]\n",
    "        success.append(fpocket_dir)\n",
    "        fpocket_dfs.append(pocket_df)\n",
    "    except:\n",
    "        raise\n",
    "        print(f'ERROR with {fpocket_dir}')\n",
    "        #raise\n",
    "        if fpocket_dir not in errors:\n",
    "            errors.append(fpocket_dir)\n",
    "\n",
    "    #break\n",
    "        \n",
    "        "
   ]
  },
  {
   "cell_type": "code",
   "execution_count": 18,
   "id": "b293eb76-0d13-4edd-becc-a47fccabe6cc",
   "metadata": {},
   "outputs": [
    {
     "name": "stdout",
     "output_type": "stream",
     "text": [
      "4389\n",
      "46\n",
      "4389\n",
      "0\n"
     ]
    }
   ],
   "source": [
    "print(len(success)) #4389\n",
    "print(len(no_pockets)) #46\n",
    "print(len(fpocket_dfs)) #4389\n",
    "print(len(errors)) #0"
   ]
  },
  {
   "cell_type": "code",
   "execution_count": 19,
   "id": "cc70a9d6-f5ad-4f83-94fc-5d4faeff6ce5",
   "metadata": {},
   "outputs": [
    {
     "data": {
      "text/plain": [
       "[]"
      ]
     },
     "execution_count": 19,
     "metadata": {},
     "output_type": "execute_result"
    }
   ],
   "source": [
    "[el.split(\".\")[0] for el in errors]"
   ]
  },
  {
   "cell_type": "code",
   "execution_count": 20,
   "id": "49f75a59-a4e5-4b00-8931-5f3df9495efb",
   "metadata": {},
   "outputs": [],
   "source": [
    "all_fpockets = pd.concat(fpocket_dfs).reset_index(drop = True)"
   ]
  },
  {
   "cell_type": "code",
   "execution_count": 21,
   "id": "f132fcb1-b055-45a6-bd99-bd9f6d7aa180",
   "metadata": {},
   "outputs": [],
   "source": [
    "fpocket_cols = [\"rep_chain\", \"ID\", \"RANK_fpocket\", \"score_fpocket\", \"volume_fpocket\"] # \"drug_score\", \"total_sasa\","
   ]
  },
  {
   "cell_type": "code",
   "execution_count": 22,
   "id": "9952e050-c0c2-4270-a191-305ee5195af3",
   "metadata": {},
   "outputs": [
    {
     "data": {
      "text/html": [
       "<div>\n",
       "<style scoped>\n",
       "    .dataframe tbody tr th:only-of-type {\n",
       "        vertical-align: middle;\n",
       "    }\n",
       "\n",
       "    .dataframe tbody tr th {\n",
       "        vertical-align: top;\n",
       "    }\n",
       "\n",
       "    .dataframe thead th {\n",
       "        text-align: right;\n",
       "    }\n",
       "</style>\n",
       "<table border=\"1\" class=\"dataframe\">\n",
       "  <thead>\n",
       "    <tr style=\"text-align: right;\">\n",
       "      <th></th>\n",
       "      <th>rep_chain</th>\n",
       "      <th>ID</th>\n",
       "      <th>RANK_fpocket</th>\n",
       "      <th>score_fpocket</th>\n",
       "      <th>volume_fpocket</th>\n",
       "    </tr>\n",
       "  </thead>\n",
       "  <tbody>\n",
       "    <tr>\n",
       "      <th>0</th>\n",
       "      <td>1a52_A</td>\n",
       "      <td>1</td>\n",
       "      <td>1</td>\n",
       "      <td>0.276</td>\n",
       "      <td>1190.393</td>\n",
       "    </tr>\n",
       "    <tr>\n",
       "      <th>1</th>\n",
       "      <td>1a52_A</td>\n",
       "      <td>2</td>\n",
       "      <td>2</td>\n",
       "      <td>0.051</td>\n",
       "      <td>458.269</td>\n",
       "    </tr>\n",
       "    <tr>\n",
       "      <th>2</th>\n",
       "      <td>1a52_A</td>\n",
       "      <td>3</td>\n",
       "      <td>3</td>\n",
       "      <td>0.027</td>\n",
       "      <td>443.436</td>\n",
       "    </tr>\n",
       "    <tr>\n",
       "      <th>3</th>\n",
       "      <td>1a52_A</td>\n",
       "      <td>4</td>\n",
       "      <td>4</td>\n",
       "      <td>0.012</td>\n",
       "      <td>292.336</td>\n",
       "    </tr>\n",
       "    <tr>\n",
       "      <th>4</th>\n",
       "      <td>1a52_A</td>\n",
       "      <td>5</td>\n",
       "      <td>5</td>\n",
       "      <td>0.010</td>\n",
       "      <td>737.698</td>\n",
       "    </tr>\n",
       "    <tr>\n",
       "      <th>5</th>\n",
       "      <td>1a52_A</td>\n",
       "      <td>6</td>\n",
       "      <td>6</td>\n",
       "      <td>0.001</td>\n",
       "      <td>747.562</td>\n",
       "    </tr>\n",
       "    <tr>\n",
       "      <th>6</th>\n",
       "      <td>1a52_A</td>\n",
       "      <td>7</td>\n",
       "      <td>7</td>\n",
       "      <td>-0.031</td>\n",
       "      <td>340.671</td>\n",
       "    </tr>\n",
       "    <tr>\n",
       "      <th>7</th>\n",
       "      <td>1a52_A</td>\n",
       "      <td>8</td>\n",
       "      <td>8</td>\n",
       "      <td>-0.048</td>\n",
       "      <td>359.478</td>\n",
       "    </tr>\n",
       "    <tr>\n",
       "      <th>8</th>\n",
       "      <td>1a52_A</td>\n",
       "      <td>9</td>\n",
       "      <td>9</td>\n",
       "      <td>-0.054</td>\n",
       "      <td>543.718</td>\n",
       "    </tr>\n",
       "    <tr>\n",
       "      <th>9</th>\n",
       "      <td>1a52_A</td>\n",
       "      <td>10</td>\n",
       "      <td>10</td>\n",
       "      <td>-0.063</td>\n",
       "      <td>245.027</td>\n",
       "    </tr>\n",
       "  </tbody>\n",
       "</table>\n",
       "</div>"
      ],
      "text/plain": [
       "  rep_chain  ID  RANK_fpocket  score_fpocket  volume_fpocket\n",
       "0    1a52_A   1             1          0.276        1190.393\n",
       "1    1a52_A   2             2          0.051         458.269\n",
       "2    1a52_A   3             3          0.027         443.436\n",
       "3    1a52_A   4             4          0.012         292.336\n",
       "4    1a52_A   5             5          0.010         737.698\n",
       "5    1a52_A   6             6          0.001         747.562\n",
       "6    1a52_A   7             7         -0.031         340.671\n",
       "7    1a52_A   8             8         -0.048         359.478\n",
       "8    1a52_A   9             9         -0.054         543.718\n",
       "9    1a52_A  10            10         -0.063         245.027"
      ]
     },
     "execution_count": 22,
     "metadata": {},
     "output_type": "execute_result"
    }
   ],
   "source": [
    "all_fpockets[fpocket_cols].head(10) # this should be the same as plain fpocket"
   ]
  },
  {
   "cell_type": "code",
   "execution_count": 23,
   "id": "555bc125-af64-433a-9254-de507052d25e",
   "metadata": {},
   "outputs": [
    {
     "data": {
      "text/plain": [
       "84303"
      ]
     },
     "execution_count": 23,
     "metadata": {},
     "output_type": "execute_result"
    }
   ],
   "source": [
    "len(all_fpockets) #84303"
   ]
  },
  {
   "cell_type": "code",
   "execution_count": 43,
   "id": "cd6d12db-68ec-484b-96b8-9e4cb9e598bc",
   "metadata": {},
   "outputs": [],
   "source": [
    "#all_fpockets.to_pickle(\"./results/fpocket_pockets.pkl\")"
   ]
  },
  {
   "cell_type": "code",
   "execution_count": 94,
   "id": "05520206-3fa5-40d8-91c4-79c0814d6560",
   "metadata": {},
   "outputs": [],
   "source": [
    "#all_fpockets = pd.read_pickle(\"./results/fpocket_pockets.pkl\")"
   ]
  },
  {
   "cell_type": "markdown",
   "id": "081bcbb5-203b-4797-8431-c1f276cb0120",
   "metadata": {},
   "source": [
    "### Phase II: extract DeepPocket re-scoring and re-ranking"
   ]
  },
  {
   "cell_type": "code",
   "execution_count": 24,
   "id": "b2777b7a-4415-48f6-91ea-12e26bdc496f",
   "metadata": {},
   "outputs": [],
   "source": [
    "def extract_data_from_file(file_path):\n",
    "    float_data = {}\n",
    "    order_data = {}\n",
    "    with open(file_path, 'r') as file:\n",
    "        for i, line in enumerate(file, 1):\n",
    "            parts = line.split()\n",
    "            index = int(parts[0])\n",
    "            floats = tuple(round(float(x), 2) for x in parts[1:4])\n",
    "            float_data[index] = floats\n",
    "            order_data[index] = i\n",
    "    return float_data, order_data\n",
    "\n",
    "def extract_values_by_line(file_path):\n",
    "    with open(file_path, 'r') as file:\n",
    "        for i, line in enumerate(file, 1):\n",
    "            # Strip newline characters and any surrounding whitespace\n",
    "            cleaned_line = line.strip()\n",
    "            # Directly use the cleaned line as the value\n",
    "            values = cleaned_line.split(\",\")\n",
    "        vals_dict = {i+1: float(el) for i, el in enumerate(values)}\n",
    "    return vals_dict"
   ]
  },
  {
   "cell_type": "code",
   "execution_count": 31,
   "id": "d362e5d0-5888-45f0-b432-65d8777773d1",
   "metadata": {},
   "outputs": [
    {
     "data": {
      "text/plain": [
       "4389"
      ]
     },
     "execution_count": 31,
     "metadata": {},
     "output_type": "execute_result"
    }
   ],
   "source": [
    "len(success) #4389"
   ]
  },
  {
   "cell_type": "code",
   "execution_count": 32,
   "id": "d3b425e1-f30d-4d4f-b449-23d64e4e2c54",
   "metadata": {},
   "outputs": [
    {
     "data": {
      "text/plain": [
       "4435"
      ]
     },
     "execution_count": 32,
     "metadata": {},
     "output_type": "execute_result"
    }
   ],
   "source": [
    "len(deeppocket_out_dirs) #4435"
   ]
  },
  {
   "cell_type": "code",
   "execution_count": 27,
   "id": "de51e360-8355-4d14-9314-0fa8bee0455c",
   "metadata": {},
   "outputs": [
    {
     "name": "stdout",
     "output_type": "stream",
     "text": [
      "0\n",
      "500\n",
      "1000\n",
      "1500\n",
      "2000\n",
      "2500\n",
      "3000\n",
      "3500\n",
      "4000\n"
     ]
    }
   ],
   "source": [
    "rank_errors = []\n",
    "pocket_centres_dict = {}\n",
    "pocket_new_score_dict = {}\n",
    "pocket_new_rank_dict = {}\n",
    "for i, fpocket_dir in enumerate(deeppocket_out_dirs):\n",
    "    \n",
    "    if i % 500 == 0:\n",
    "       print(i) \n",
    "    \n",
    "    if fpocket_dir not in success:\n",
    "        #print(fpocket_dir)\n",
    "        continue\n",
    "        \n",
    "    try:\n",
    "        fpocket_dir_path = os.path.join(deep_pocket_dir, fpocket_dir)\n",
    "        input_name = fpocket_dir.split(\".\")[0]\n",
    "        #print(input_name)\n",
    "        pockets_subdir = os.path.join(fpocket_dir_path, \"pockets\")\n",
    "        centers_ranked_path = os.path.join(pockets_subdir, \"bary_centers_ranked.types\")\n",
    "        ranked_scores_path = os.path.join(pockets_subdir, \"bary_centers_confidence.txt\")\n",
    "        centre_dict, rank_dict = extract_data_from_file(centers_ranked_path)\n",
    "        scores_dict = extract_values_by_line(ranked_scores_path)\n",
    "    \n",
    "        centre_dict2 = {(input_name, k): v for k, v in centre_dict.items()} # SECOND KEY HERE IS THE ORIGINAL FPOCKET RANKING\n",
    "        rank_dict2 = {(input_name, k): v for k, v in rank_dict.items()} # SECOND KEY HERE IS THE ORIGINAL FPOCKET RANKING\n",
    "        scores_dict2 = {(input_name, k): v for k, v in scores_dict.items()} # SECOND KEY HERE IS NEW RANKING\n",
    "    \n",
    "        for k, v in centre_dict2.items():\n",
    "            pocket_centres_dict[k] = v\n",
    "    \n",
    "        for k, v in rank_dict2.items():\n",
    "            pocket_new_rank_dict[k] = v\n",
    "    \n",
    "        for k, v in scores_dict2.items():\n",
    "            pocket_new_score_dict[k] = v\n",
    "    \n",
    "    \n",
    "    # if i > 5:\n",
    "    #     break\n",
    "    except:\n",
    "        print(f'ERROR with {fpocket_dir}')\n",
    "        #raise\n",
    "        if fpocket_dir not in errors:\n",
    "            rank_errors.append(fpocket_dir)\n"
   ]
  },
  {
   "cell_type": "code",
   "execution_count": 28,
   "id": "3b27412a-4a3b-4fbc-8d5b-17e105c74eab",
   "metadata": {},
   "outputs": [
    {
     "data": {
      "text/plain": [
       "84303"
      ]
     },
     "execution_count": 28,
     "metadata": {},
     "output_type": "execute_result"
    }
   ],
   "source": [
    "len(pocket_centres_dict) #84303"
   ]
  },
  {
   "cell_type": "code",
   "execution_count": 29,
   "id": "2d6e8c65-79ba-4740-90ad-9c81b42e2eee",
   "metadata": {},
   "outputs": [
    {
     "data": {
      "text/plain": [
       "84303"
      ]
     },
     "execution_count": 29,
     "metadata": {},
     "output_type": "execute_result"
    }
   ],
   "source": [
    "len(pocket_new_score_dict) #84303"
   ]
  },
  {
   "cell_type": "code",
   "execution_count": 30,
   "id": "581f2650-c706-4c1d-8b70-8e3b1b62149f",
   "metadata": {},
   "outputs": [
    {
     "data": {
      "text/plain": [
       "84303"
      ]
     },
     "execution_count": 30,
     "metadata": {},
     "output_type": "execute_result"
    }
   ],
   "source": [
    "len(pocket_new_rank_dict) #84303"
   ]
  },
  {
   "cell_type": "code",
   "execution_count": 36,
   "id": "07ad9513-cdb4-4731-8e4c-c6038bb3b668",
   "metadata": {},
   "outputs": [],
   "source": [
    "all_fpockets[\"RANK_deep\"] = all_fpockets.set_index([\"rep_chain\", \"ID\"]).index.map(pocket_new_rank_dict)\n",
    "\n",
    "all_fpockets[\"score_deep\"] = all_fpockets.set_index([\"rep_chain\", \"RANK_deep\"]).index.map(pocket_new_score_dict)"
   ]
  },
  {
   "cell_type": "code",
   "execution_count": 37,
   "id": "2ab6f0cd-7476-4292-ac2c-d84d346ae4bf",
   "metadata": {},
   "outputs": [
    {
     "name": "stdout",
     "output_type": "stream",
     "text": [
      "0\n"
     ]
    }
   ],
   "source": [
    "all_fpockets[\"centre_deep1\"] = np.nan # THIS IS THE BARYCENTRE OF THE FPOCKET CANDIDATE AS CALCULATED BY DEEPPOCKET (PRE-SEGMENTATION)\n",
    "centres = []\n",
    "errs = 0\n",
    "err_chains = []\n",
    "for i, row in all_fpockets.iterrows():\n",
    "    try:\n",
    "        centre = pocket_centres_dict[(row.rep_chain, row.ID)]\n",
    "        centres.append(centre)\n",
    "    except:\n",
    "        errs += 1\n",
    "        centres.append(np.nan)\n",
    "        err_chains.append(row.rep_chain)\n",
    "print(errs) #0"
   ]
  },
  {
   "cell_type": "code",
   "execution_count": 38,
   "id": "e9527234-558c-4196-8022-91889135409d",
   "metadata": {},
   "outputs": [],
   "source": [
    "all_fpockets[\"centre_deep1\"] = centres"
   ]
  },
  {
   "cell_type": "code",
   "execution_count": 39,
   "id": "458f2d63-6e58-43c6-9532-1e11de4f530f",
   "metadata": {},
   "outputs": [
    {
     "data": {
      "text/html": [
       "<div>\n",
       "<style scoped>\n",
       "    .dataframe tbody tr th:only-of-type {\n",
       "        vertical-align: middle;\n",
       "    }\n",
       "\n",
       "    .dataframe tbody tr th {\n",
       "        vertical-align: top;\n",
       "    }\n",
       "\n",
       "    .dataframe thead th {\n",
       "        text-align: right;\n",
       "    }\n",
       "</style>\n",
       "<table border=\"1\" class=\"dataframe\">\n",
       "  <thead>\n",
       "    <tr style=\"text-align: right;\">\n",
       "      <th></th>\n",
       "      <th>rep_chain</th>\n",
       "      <th>ID</th>\n",
       "      <th>RANK_fpocket</th>\n",
       "      <th>score_fpocket</th>\n",
       "      <th>volume_fpocket</th>\n",
       "      <th>RANK_deep</th>\n",
       "      <th>score_deep</th>\n",
       "      <th>centre_deep1</th>\n",
       "    </tr>\n",
       "  </thead>\n",
       "  <tbody>\n",
       "    <tr>\n",
       "      <th>0</th>\n",
       "      <td>1a52_A</td>\n",
       "      <td>1</td>\n",
       "      <td>1</td>\n",
       "      <td>0.276</td>\n",
       "      <td>1190.393</td>\n",
       "      <td>1</td>\n",
       "      <td>0.973307</td>\n",
       "      <td>(101.66, 14.74, 99.13)</td>\n",
       "    </tr>\n",
       "    <tr>\n",
       "      <th>1</th>\n",
       "      <td>1a52_A</td>\n",
       "      <td>2</td>\n",
       "      <td>2</td>\n",
       "      <td>0.051</td>\n",
       "      <td>458.269</td>\n",
       "      <td>3</td>\n",
       "      <td>0.197817</td>\n",
       "      <td>(104.03, 24.26, 104.0)</td>\n",
       "    </tr>\n",
       "    <tr>\n",
       "      <th>2</th>\n",
       "      <td>1a52_A</td>\n",
       "      <td>3</td>\n",
       "      <td>3</td>\n",
       "      <td>0.027</td>\n",
       "      <td>443.436</td>\n",
       "      <td>2</td>\n",
       "      <td>0.200280</td>\n",
       "      <td>(93.83, 28.87, 88.54)</td>\n",
       "    </tr>\n",
       "  </tbody>\n",
       "</table>\n",
       "</div>"
      ],
      "text/plain": [
       "  rep_chain  ID  RANK_fpocket  score_fpocket  volume_fpocket  RANK_deep  \\\n",
       "0    1a52_A   1             1          0.276        1190.393          1   \n",
       "1    1a52_A   2             2          0.051         458.269          3   \n",
       "2    1a52_A   3             3          0.027         443.436          2   \n",
       "\n",
       "   score_deep            centre_deep1  \n",
       "0    0.973307  (101.66, 14.74, 99.13)  \n",
       "1    0.197817  (104.03, 24.26, 104.0)  \n",
       "2    0.200280   (93.83, 28.87, 88.54)  "
      ]
     },
     "execution_count": 39,
     "metadata": {},
     "output_type": "execute_result"
    }
   ],
   "source": [
    "all_fpockets[[\"rep_chain\", \"ID\", \"RANK_fpocket\", \"score_fpocket\", \"volume_fpocket\", \"RANK_deep\", \"score_deep\", \"centre_deep1\"]].head(3)"
   ]
  },
  {
   "cell_type": "markdown",
   "id": "ea354e2c-6242-4a0f-badd-06154c074432",
   "metadata": {},
   "source": [
    "## Get pocket residues (FPOCKET POCKETS)"
   ]
  },
  {
   "cell_type": "code",
   "execution_count": 40,
   "id": "c582c3d0-a056-4fb1-b8b1-89469bebc5c5",
   "metadata": {},
   "outputs": [],
   "source": [
    "errors = []\n",
    "success = []\n",
    "no_pockets = []\n",
    "fpocket_ress_dict = {}\n",
    "centres_dict = {}"
   ]
  },
  {
   "cell_type": "code",
   "execution_count": 62,
   "id": "16e72531-5d5d-468c-9756-6a006f3b10d0",
   "metadata": {},
   "outputs": [],
   "source": [
    "import importlib\n",
    "import JSU_lib\n",
    "importlib.reload(JSU_lib)\n",
    "from JSU_lib import *"
   ]
  },
  {
   "cell_type": "code",
   "execution_count": 41,
   "id": "b1becae5-c446-4e81-a915-2b9f59b289fa",
   "metadata": {},
   "outputs": [
    {
     "name": "stdout",
     "output_type": "stream",
     "text": [
      "0\n",
      "100\n",
      "200\n",
      "300\n",
      "400\n",
      "500\n",
      "600\n",
      "700\n",
      "800\n",
      "900\n",
      "1000\n",
      "1100\n",
      "1200\n",
      "1300\n",
      "1400\n",
      "1500\n",
      "1600\n",
      "1700\n",
      "1800\n",
      "1900\n",
      "2000\n",
      "2100\n",
      "2200\n",
      "2300\n",
      "2400\n",
      "2500\n",
      "2600\n",
      "2700\n",
      "2800\n",
      "2900\n",
      "3000\n",
      "3100\n",
      "3200\n",
      "3300\n",
      "3400\n",
      "3500\n",
      "3600\n",
      "3700\n",
      "3800\n",
      "3900\n",
      "4000\n",
      "4100\n",
      "4200\n",
      "4300\n",
      "4400\n"
     ]
    }
   ],
   "source": [
    "for i, fpocket_dir in enumerate(deeppocket_out_dirs):\n",
    "    \n",
    "    if i % 100 == 0:\n",
    "        print(i) \n",
    "    \n",
    "    if fpocket_dir in success:\n",
    "        continue\n",
    "        \n",
    "    try:\n",
    "        fpocket_dir_path = os.path.join(deep_pocket_dir, fpocket_dir)\n",
    "        input_name = fpocket_dir[:-4]\n",
    "        rep_chain = input_name.split(\".\")[0]\n",
    "        #print(input_name)\n",
    "        pockets_dir = os.path.join(fpocket_dir_path, \"pockets\")\n",
    "        pockets_pdb = [el for el in os.listdir(pockets_dir) if el.endswith(\".pdb\")]\n",
    "        #print(pockets_pdb)\n",
    "        for pocket_file in pockets_pdb:\n",
    "            pocket_id = int(pocket_file.split(\"_\")[0][6:])\n",
    "            pocket_path = os.path.join(pockets_dir, pocket_file)\n",
    "            pocket_df = PDBXreader(inputfile=pocket_path).atoms(format_type=\"pdb\", excluded=())\n",
    "            pocket_ress = sorted(pocket_df.label_seq_id_full.unique().tolist(), key=custom_sort)\n",
    "            fpocket_ress_dict[(rep_chain, pocket_id)] = pocket_ress\n",
    "\n",
    "            pocket_coords = np.array(list((zip(pocket_df.Cartn_x, pocket_df.Cartn_y, pocket_df.Cartn_z))))\n",
    "            center_of_mass = np.mean(pocket_coords, axis=0)\n",
    "            centres_dict[(rep_chain, pocket_id)] = tuple([round(v, 3) for v in center_of_mass])\n",
    "            \n",
    "        #break\n",
    "        \n",
    "        if pocket_df.empty:\n",
    "            #print(f'No pockets in {input_name}')\n",
    "            if fpocket_dir not in no_pockets:\n",
    "                no_pockets.append(fpocket_dir)\n",
    "            continue\n",
    "            \n",
    "        success.append(fpocket_dir)\n",
    "    except:\n",
    "        raise\n",
    "        print(f'ERROR with {fpocket_dir}')\n",
    "        if fpocket_dir not in errors:\n",
    "            errors.append(fpocket_dir)\n",
    "    #break"
   ]
  },
  {
   "cell_type": "code",
   "execution_count": 42,
   "id": "703921b3-faf2-4eed-9985-39b03efe65d7",
   "metadata": {},
   "outputs": [
    {
     "name": "stdout",
     "output_type": "stream",
     "text": [
      "4435\n",
      "0\n",
      "84303\n",
      "84303\n",
      "0\n"
     ]
    }
   ],
   "source": [
    "print(len(success)) #4435\n",
    "print(len(no_pockets)) #0\n",
    "print(len(fpocket_ress_dict)) #84303\n",
    "print(len(centres_dict)) #84303\n",
    "print(len(errors)) #0"
   ]
  },
  {
   "cell_type": "code",
   "execution_count": 43,
   "id": "c362c668-ebf6-43be-8f7c-c06671b9583b",
   "metadata": {},
   "outputs": [],
   "source": [
    "success_reps = [el.split(\".\")[0] for el in success]"
   ]
  },
  {
   "cell_type": "code",
   "execution_count": 44,
   "id": "7504ff33-dcf0-41dd-8082-ff4c0a80eeee",
   "metadata": {},
   "outputs": [],
   "source": [
    "LIGYSIS_reps = read_from_pickle(\"./results/LIGYSIS_3448_chains.pkl\")"
   ]
  },
  {
   "cell_type": "code",
   "execution_count": 45,
   "id": "91fb4e88-34d0-4658-911b-c97573d924ff",
   "metadata": {},
   "outputs": [
    {
     "data": {
      "text/plain": [
       "3448"
      ]
     },
     "execution_count": 45,
     "metadata": {},
     "output_type": "execute_result"
    }
   ],
   "source": [
    "len(set(LIGYSIS_reps).intersection(set(success_reps)))"
   ]
  },
  {
   "cell_type": "code",
   "execution_count": 43,
   "id": "2f3979a6-43e0-429d-99ab-7f4a26026d3a",
   "metadata": {},
   "outputs": [],
   "source": [
    "#save_to_pickle(fpocket_ress_dict, \"./results/deeppocket_fpocket_ress.pkl\")\n",
    "#save_to_pickle(centres_dict, \"./results/deeppocket_fpocket_centres.pkl\")"
   ]
  },
  {
   "cell_type": "code",
   "execution_count": 46,
   "id": "9dae3288-d27d-42ce-98c0-8176aa711f89",
   "metadata": {},
   "outputs": [],
   "source": [
    "all_fpockets[\"aas_fpocket\"] = all_fpockets.set_index([\"rep_chain\", \"ID\"]).index.map(fpocket_ress_dict)"
   ]
  },
  {
   "cell_type": "code",
   "execution_count": 47,
   "id": "77572439-780f-43ed-b5dc-11a96b45720c",
   "metadata": {},
   "outputs": [],
   "source": [
    "all_fpockets[\"n_aas_fpocket\"] = all_fpockets['aas_fpocket'].apply(lambda x: len(x)) "
   ]
  },
  {
   "cell_type": "code",
   "execution_count": 48,
   "id": "2baef032-f9a4-4e81-963e-e2ce0a22ed06",
   "metadata": {},
   "outputs": [
    {
     "name": "stdout",
     "output_type": "stream",
     "text": [
      "0\n"
     ]
    }
   ],
   "source": [
    "centres = []\n",
    "errs = 0\n",
    "for i, row in all_fpockets.iterrows():\n",
    "    try:\n",
    "        centre = centres_dict[(row.rep_chain, row.RANK_fpocket)]\n",
    "        centres.append(centre)\n",
    "    except:\n",
    "        errs += 1\n",
    "        centres.append(np.nan)\n",
    "print(errs)\n",
    "\n",
    "all_fpockets[\"centre_fpocket\"] = centres # THIS IS THE CENTROID OF THE FPOCKET POCKET"
   ]
  },
  {
   "cell_type": "code",
   "execution_count": 49,
   "id": "fb3aaaf7-115c-4ec2-ad86-ae6dbed08671",
   "metadata": {},
   "outputs": [
    {
     "data": {
      "text/html": [
       "<div>\n",
       "<style scoped>\n",
       "    .dataframe tbody tr th:only-of-type {\n",
       "        vertical-align: middle;\n",
       "    }\n",
       "\n",
       "    .dataframe tbody tr th {\n",
       "        vertical-align: top;\n",
       "    }\n",
       "\n",
       "    .dataframe thead th {\n",
       "        text-align: right;\n",
       "    }\n",
       "</style>\n",
       "<table border=\"1\" class=\"dataframe\">\n",
       "  <thead>\n",
       "    <tr style=\"text-align: right;\">\n",
       "      <th></th>\n",
       "      <th>rep_chain</th>\n",
       "      <th>ID</th>\n",
       "      <th>RANK_fpocket</th>\n",
       "      <th>score_fpocket</th>\n",
       "      <th>volume_fpocket</th>\n",
       "      <th>aas_fpocket</th>\n",
       "      <th>n_aas_fpocket</th>\n",
       "      <th>centre_fpocket</th>\n",
       "      <th>RANK_deep</th>\n",
       "      <th>score_deep</th>\n",
       "      <th>centre_deep1</th>\n",
       "    </tr>\n",
       "  </thead>\n",
       "  <tbody>\n",
       "    <tr>\n",
       "      <th>0</th>\n",
       "      <td>1a52_A</td>\n",
       "      <td>1</td>\n",
       "      <td>1</td>\n",
       "      <td>0.276</td>\n",
       "      <td>1190.393</td>\n",
       "      <td>[47, 50, 51, 53, 54, 55, 57, 58, 62, 66, 71, 7...</td>\n",
       "      <td>32</td>\n",
       "      <td>(100.735, 15.502, 99.089)</td>\n",
       "      <td>1</td>\n",
       "      <td>0.973307</td>\n",
       "      <td>(101.66, 14.74, 99.13)</td>\n",
       "    </tr>\n",
       "    <tr>\n",
       "      <th>1</th>\n",
       "      <td>1a52_A</td>\n",
       "      <td>2</td>\n",
       "      <td>2</td>\n",
       "      <td>0.051</td>\n",
       "      <td>458.269</td>\n",
       "      <td>[27, 28, 29, 30, 31, 57, 60, 61, 90, 91, 94, 9...</td>\n",
       "      <td>15</td>\n",
       "      <td>(103.727, 24.016, 103.754)</td>\n",
       "      <td>3</td>\n",
       "      <td>0.197817</td>\n",
       "      <td>(104.03, 24.26, 104.0)</td>\n",
       "    </tr>\n",
       "    <tr>\n",
       "      <th>2</th>\n",
       "      <td>1a52_A</td>\n",
       "      <td>3</td>\n",
       "      <td>3</td>\n",
       "      <td>0.027</td>\n",
       "      <td>443.436</td>\n",
       "      <td>[155, 156, 159, 160, 183, 187, 212, 215, 216, ...</td>\n",
       "      <td>10</td>\n",
       "      <td>(94.882, 28.506, 89.855)</td>\n",
       "      <td>2</td>\n",
       "      <td>0.200280</td>\n",
       "      <td>(93.83, 28.87, 88.54)</td>\n",
       "    </tr>\n",
       "  </tbody>\n",
       "</table>\n",
       "</div>"
      ],
      "text/plain": [
       "  rep_chain  ID  RANK_fpocket  score_fpocket  volume_fpocket  \\\n",
       "0    1a52_A   1             1          0.276        1190.393   \n",
       "1    1a52_A   2             2          0.051         458.269   \n",
       "2    1a52_A   3             3          0.027         443.436   \n",
       "\n",
       "                                         aas_fpocket  n_aas_fpocket  \\\n",
       "0  [47, 50, 51, 53, 54, 55, 57, 58, 62, 66, 71, 7...             32   \n",
       "1  [27, 28, 29, 30, 31, 57, 60, 61, 90, 91, 94, 9...             15   \n",
       "2  [155, 156, 159, 160, 183, 187, 212, 215, 216, ...             10   \n",
       "\n",
       "               centre_fpocket  RANK_deep  score_deep            centre_deep1  \n",
       "0   (100.735, 15.502, 99.089)          1    0.973307  (101.66, 14.74, 99.13)  \n",
       "1  (103.727, 24.016, 103.754)          3    0.197817  (104.03, 24.26, 104.0)  \n",
       "2    (94.882, 28.506, 89.855)          2    0.200280   (93.83, 28.87, 88.54)  "
      ]
     },
     "execution_count": 49,
     "metadata": {},
     "output_type": "execute_result"
    }
   ],
   "source": [
    "all_fpockets[[\n",
    "    \"rep_chain\", \"ID\",\n",
    "    \"RANK_fpocket\", \"score_fpocket\", \"volume_fpocket\", \"aas_fpocket\", \"n_aas_fpocket\", \"centre_fpocket\",\n",
    "    \"RANK_deep\", \"score_deep\", \"centre_deep1\"]\n",
    "].head(3)"
   ]
  },
  {
   "cell_type": "markdown",
   "id": "4a8cd38b-9fa5-47d0-945e-35167e519ac5",
   "metadata": {},
   "source": [
    "## Get pocket residues (DeepPocket pockets)"
   ]
  },
  {
   "cell_type": "code",
   "execution_count": 50,
   "id": "9a0c77a7-9b34-468b-a4e6-91e646ad2025",
   "metadata": {},
   "outputs": [],
   "source": [
    "errors_DEEP = []\n",
    "success_DEEP = []\n",
    "no_pockets_DEEP = []\n",
    "fpocket_ress_dict_DEEP = {}\n",
    "centres_dict_DEEP = {}"
   ]
  },
  {
   "cell_type": "code",
   "execution_count": 51,
   "id": "fa847a27-9560-4bc4-96b2-6be0eca54752",
   "metadata": {
    "collapsed": true,
    "jupyter": {
     "outputs_hidden": true
    }
   },
   "outputs": [
    {
     "name": "stdout",
     "output_type": "stream",
     "text": [
      "0\n",
      "500\n",
      "1000\n",
      "1500\n",
      "2000\n",
      "2500\n",
      "3000\n",
      "3500\n",
      "4000\n",
      "4500\n",
      "5000\n",
      "5500\n",
      "6000\n",
      "6500\n",
      "7000\n",
      "7500\n",
      "8000\n",
      "8500\n",
      "9000\n",
      "9500\n",
      "10000\n",
      "10500\n",
      "11000\n",
      "11500\n",
      "12000\n",
      "12500\n",
      "13000\n",
      "13500\n",
      "14000\n",
      "14500\n",
      "15000\n",
      "15500\n",
      "16000\n",
      "16500\n",
      "17000\n",
      "17500\n",
      "18000\n",
      "18500\n",
      "19000\n",
      "19500\n",
      "20000\n",
      "20500\n",
      "21000\n",
      "21500\n",
      "22000\n",
      "22500\n",
      "23000\n",
      "23500\n",
      "24000\n",
      "24500\n",
      "25000\n",
      "25500\n",
      "26000\n",
      "26500\n",
      "27000\n",
      "27500\n",
      "28000\n",
      "28500\n",
      "29000\n",
      "29500\n",
      "30000\n",
      "30500\n",
      "31000\n",
      "31500\n",
      "32000\n",
      "32500\n",
      "33000\n",
      "33500\n",
      "34000\n",
      "34500\n",
      "35000\n",
      "35500\n",
      "36000\n",
      "36500\n",
      "37000\n",
      "37500\n",
      "38000\n",
      "38500\n",
      "39000\n",
      "39500\n",
      "40000\n",
      "40500\n",
      "41000\n",
      "41500\n",
      "42000\n",
      "42500\n",
      "43000\n",
      "43500\n",
      "44000\n",
      "44500\n",
      "45000\n",
      "45500\n",
      "46000\n",
      "46500\n",
      "47000\n",
      "47500\n",
      "48000\n",
      "48500\n",
      "49000\n",
      "49500\n",
      "50000\n",
      "50500\n",
      "51000\n",
      "51500\n",
      "52000\n",
      "52500\n",
      "53000\n",
      "53500\n",
      "54000\n",
      "54500\n",
      "55000\n",
      "55500\n",
      "56000\n",
      "56500\n",
      "57000\n",
      "57500\n",
      "58000\n",
      "58500\n",
      "59000\n",
      "59500\n",
      "60000\n",
      "60500\n",
      "61000\n",
      "61500\n",
      "62000\n",
      "62500\n",
      "63000\n",
      "63500\n",
      "64000\n",
      "64500\n",
      "65000\n",
      "65500\n",
      "66000\n",
      "66500\n",
      "67000\n",
      "67500\n",
      "68000\n",
      "68500\n",
      "69000\n",
      "69500\n",
      "70000\n",
      "70500\n",
      "71000\n",
      "71500\n",
      "72000\n",
      "72500\n",
      "73000\n",
      "73500\n",
      "74000\n",
      "74500\n",
      "75000\n",
      "75500\n",
      "76000\n",
      "76500\n",
      "77000\n",
      "77500\n",
      "78000\n",
      "78500\n",
      "79000\n",
      "79500\n",
      "80000\n",
      "80500\n",
      "81000\n",
      "81500\n",
      "82000\n",
      "82500\n",
      "83000\n",
      "83500\n",
      "84000\n"
     ]
    }
   ],
   "source": [
    "non_segmented = []\n",
    "for i, row in all_fpockets.iterrows():\n",
    "\n",
    "    if i % 500 == 0:\n",
    "        print(i)\n",
    "        \n",
    "    rep_chain = row.rep_chain\n",
    "    rank_deepp = row.RANK_deep\n",
    "\n",
    "    pocket_path = os.path.join(deep_pocket_dir, f'{rep_chain}.clean_nowat_pocket{rank_deepp}.pdb')\n",
    "    try:\n",
    "        pocket_df = PDBXreader(inputfile=pocket_path).atoms(format_type=\"pdb\", excluded=())\n",
    "    except:\n",
    "        non_segmented.append(f\"{rep_chain}_{rank_deepp}\")\n",
    "        continue\n",
    "    pocket_ress = sorted(pocket_df.label_seq_id_full.unique().tolist(), key=custom_sort)\n",
    "    fpocket_ress_dict_DEEP[(rep_chain, rank_deepp)] = pocket_ress\n",
    "\n",
    "    pocket_coords = np.array(list((zip(pocket_df.Cartn_x, pocket_df.Cartn_y, pocket_df.Cartn_z))))\n",
    "    center_of_mass = np.mean(pocket_coords, axis=0)\n",
    "    centres_dict_DEEP[(rep_chain, rank_deepp)] = tuple([round(v, 3) for v in center_of_mass])\n",
    "\n",
    "    # if i > 100:\n",
    "    #     break"
   ]
  },
  {
   "cell_type": "code",
   "execution_count": 77,
   "id": "b5055c0b-37dd-4f28-b58d-bf2e952eb2f9",
   "metadata": {},
   "outputs": [],
   "source": [
    "save_to_pickle(non_segmented, \"./results/DeepPocket_non_segmented.pkl\")"
   ]
  },
  {
   "cell_type": "code",
   "execution_count": 52,
   "id": "ed553391-6bcd-41cb-8f51-1d1af71215f5",
   "metadata": {},
   "outputs": [
    {
     "name": "stdout",
     "output_type": "stream",
     "text": [
      "26587\n",
      "26587\n",
      "57716\n"
     ]
    }
   ],
   "source": [
    "print(len(fpocket_ress_dict_DEEP)) #26587 \n",
    "print(len(centres_dict_DEEP)) #26587\n",
    "print(len(non_segmented)) #57716"
   ]
  },
  {
   "cell_type": "code",
   "execution_count": 63,
   "id": "a4cc6746-162b-4112-b1ac-b71f560c61a8",
   "metadata": {},
   "outputs": [],
   "source": [
    "#all_fpockets.drop(labels = \"aas_deeppocket\", axis = 1, inplace = True)"
   ]
  },
  {
   "cell_type": "code",
   "execution_count": 53,
   "id": "aa2f180e-c8d6-4a70-a9ec-cd45cebc5504",
   "metadata": {},
   "outputs": [],
   "source": [
    "all_fpockets[\"aas_deep\"] = all_fpockets.set_index([\"rep_chain\", \"RANK_deep\"]).index.map(fpocket_ress_dict_DEEP)"
   ]
  },
  {
   "cell_type": "code",
   "execution_count": 54,
   "id": "942b5c8d-6f78-406c-9852-ac8fe94045f5",
   "metadata": {},
   "outputs": [],
   "source": [
    "all_fpockets[\"n_aas_deep\"] = all_fpockets['aas_deep'].apply(lambda x: len(x) if isinstance(x, list) else (np.nan if pd.isna(x) else np.nan))"
   ]
  },
  {
   "cell_type": "code",
   "execution_count": 55,
   "id": "bd462cf9-f56a-45e3-82c4-cc0c0e189599",
   "metadata": {},
   "outputs": [
    {
     "name": "stdout",
     "output_type": "stream",
     "text": [
      "57716\n"
     ]
    }
   ],
   "source": [
    "centres_DEEP = []\n",
    "errs_DEEP = 0\n",
    "for i, row in all_fpockets.iterrows():\n",
    "    try:\n",
    "        centre = centres_dict_DEEP[(row.rep_chain, row.RANK_deep)]\n",
    "        centres_DEEP.append(centre)\n",
    "    except:\n",
    "        errs_DEEP += 1\n",
    "        centres_DEEP.append(np.nan)\n",
    "print(errs_DEEP)\n",
    "\n",
    "all_fpockets[\"centre_deep2\"] = centres_DEEP # THIS IS THE CENTROID OF THE DEEPPOCKET SEGMENTED POCKET (ONLY 26,587 / 84,303)"
   ]
  },
  {
   "cell_type": "code",
   "execution_count": 77,
   "id": "4ceaa841-2447-48f0-ac91-73d4e7b23bbd",
   "metadata": {},
   "outputs": [],
   "source": [
    "save_to_pickle(fpocket_ress_dict_DEEP, \"./results/deeppocket_deeppocket_ress.pkl\")\n",
    "save_to_pickle(centres_dict_DEEP, \"./results/deeppocket_deeppocket_centres.pkl\")"
   ]
  },
  {
   "cell_type": "code",
   "execution_count": 56,
   "id": "1263396b-d104-4d56-a1d4-a1a5c3b674e3",
   "metadata": {},
   "outputs": [
    {
     "data": {
      "text/plain": [
       "84303"
      ]
     },
     "execution_count": 56,
     "metadata": {},
     "output_type": "execute_result"
    }
   ],
   "source": [
    "57716 + 26587"
   ]
  },
  {
   "cell_type": "code",
   "execution_count": 56,
   "id": "bdba121a-c928-40ef-bd54-f0db73f5deb2",
   "metadata": {},
   "outputs": [
    {
     "data": {
      "text/plain": [
       "31.54"
      ]
     },
     "execution_count": 56,
     "metadata": {},
     "output_type": "execute_result"
    }
   ],
   "source": [
    "round(100*26587/84303, 2)"
   ]
  },
  {
   "cell_type": "code",
   "execution_count": 57,
   "id": "e03af9a9-0af0-4552-beac-d65f3f66c84d",
   "metadata": {},
   "outputs": [
    {
     "data": {
      "text/html": [
       "<div>\n",
       "<style scoped>\n",
       "    .dataframe tbody tr th:only-of-type {\n",
       "        vertical-align: middle;\n",
       "    }\n",
       "\n",
       "    .dataframe tbody tr th {\n",
       "        vertical-align: top;\n",
       "    }\n",
       "\n",
       "    .dataframe thead th {\n",
       "        text-align: right;\n",
       "    }\n",
       "</style>\n",
       "<table border=\"1\" class=\"dataframe\">\n",
       "  <thead>\n",
       "    <tr style=\"text-align: right;\">\n",
       "      <th></th>\n",
       "      <th>rep_chain</th>\n",
       "      <th>ID</th>\n",
       "      <th>RANK_fpocket</th>\n",
       "      <th>score_fpocket</th>\n",
       "      <th>volume_fpocket</th>\n",
       "      <th>aas_fpocket</th>\n",
       "      <th>n_aas_fpocket</th>\n",
       "      <th>centre_fpocket</th>\n",
       "      <th>RANK_deep</th>\n",
       "      <th>score_deep</th>\n",
       "      <th>aas_deep</th>\n",
       "      <th>n_aas_deep</th>\n",
       "      <th>centre_deep1</th>\n",
       "      <th>centre_deep2</th>\n",
       "    </tr>\n",
       "  </thead>\n",
       "  <tbody>\n",
       "    <tr>\n",
       "      <th>0</th>\n",
       "      <td>1a52_A</td>\n",
       "      <td>1</td>\n",
       "      <td>1</td>\n",
       "      <td>0.276</td>\n",
       "      <td>1190.393</td>\n",
       "      <td>[47, 50, 51, 53, 54, 55, 57, 58, 62, 66, 71, 7...</td>\n",
       "      <td>32</td>\n",
       "      <td>(100.735, 15.502, 99.089)</td>\n",
       "      <td>1</td>\n",
       "      <td>0.973307</td>\n",
       "      <td>[47, 50, 51, 53, 54, 55, 57, 58, 87, 88, 91, 9...</td>\n",
       "      <td>29.0</td>\n",
       "      <td>(101.66, 14.74, 99.13)</td>\n",
       "      <td>(105.763, 14.673, 96.183)</td>\n",
       "    </tr>\n",
       "    <tr>\n",
       "      <th>1</th>\n",
       "      <td>1a52_A</td>\n",
       "      <td>2</td>\n",
       "      <td>2</td>\n",
       "      <td>0.051</td>\n",
       "      <td>458.269</td>\n",
       "      <td>[27, 28, 29, 30, 31, 57, 60, 61, 90, 91, 94, 9...</td>\n",
       "      <td>15</td>\n",
       "      <td>(103.727, 24.016, 103.754)</td>\n",
       "      <td>3</td>\n",
       "      <td>0.197817</td>\n",
       "      <td>NaN</td>\n",
       "      <td>NaN</td>\n",
       "      <td>(104.03, 24.26, 104.0)</td>\n",
       "      <td>NaN</td>\n",
       "    </tr>\n",
       "    <tr>\n",
       "      <th>2</th>\n",
       "      <td>1a52_A</td>\n",
       "      <td>3</td>\n",
       "      <td>3</td>\n",
       "      <td>0.027</td>\n",
       "      <td>443.436</td>\n",
       "      <td>[155, 156, 159, 160, 183, 187, 212, 215, 216, ...</td>\n",
       "      <td>10</td>\n",
       "      <td>(94.882, 28.506, 89.855)</td>\n",
       "      <td>2</td>\n",
       "      <td>0.200280</td>\n",
       "      <td>[155, 159, 160, 163, 180, 183, 184, 187, 212, ...</td>\n",
       "      <td>12.0</td>\n",
       "      <td>(93.83, 28.87, 88.54)</td>\n",
       "      <td>(91.899, 29.098, 90.534)</td>\n",
       "    </tr>\n",
       "  </tbody>\n",
       "</table>\n",
       "</div>"
      ],
      "text/plain": [
       "  rep_chain  ID  RANK_fpocket  score_fpocket  volume_fpocket  \\\n",
       "0    1a52_A   1             1          0.276        1190.393   \n",
       "1    1a52_A   2             2          0.051         458.269   \n",
       "2    1a52_A   3             3          0.027         443.436   \n",
       "\n",
       "                                         aas_fpocket  n_aas_fpocket  \\\n",
       "0  [47, 50, 51, 53, 54, 55, 57, 58, 62, 66, 71, 7...             32   \n",
       "1  [27, 28, 29, 30, 31, 57, 60, 61, 90, 91, 94, 9...             15   \n",
       "2  [155, 156, 159, 160, 183, 187, 212, 215, 216, ...             10   \n",
       "\n",
       "               centre_fpocket  RANK_deep  score_deep  \\\n",
       "0   (100.735, 15.502, 99.089)          1    0.973307   \n",
       "1  (103.727, 24.016, 103.754)          3    0.197817   \n",
       "2    (94.882, 28.506, 89.855)          2    0.200280   \n",
       "\n",
       "                                            aas_deep  n_aas_deep  \\\n",
       "0  [47, 50, 51, 53, 54, 55, 57, 58, 87, 88, 91, 9...        29.0   \n",
       "1                                                NaN         NaN   \n",
       "2  [155, 159, 160, 163, 180, 183, 184, 187, 212, ...        12.0   \n",
       "\n",
       "             centre_deep1               centre_deep2  \n",
       "0  (101.66, 14.74, 99.13)  (105.763, 14.673, 96.183)  \n",
       "1  (104.03, 24.26, 104.0)                        NaN  \n",
       "2   (93.83, 28.87, 88.54)   (91.899, 29.098, 90.534)  "
      ]
     },
     "execution_count": 57,
     "metadata": {},
     "output_type": "execute_result"
    }
   ],
   "source": [
    "all_fpockets[[\n",
    "    \"rep_chain\", \"ID\",\n",
    "    \"RANK_fpocket\", \"score_fpocket\", \"volume_fpocket\", \"aas_fpocket\", \"n_aas_fpocket\", \"centre_fpocket\",\n",
    "    \"RANK_deep\", \"score_deep\", \"aas_deep\", \"n_aas_deep\", \"centre_deep1\", \"centre_deep2\"]\n",
    "].head(3)"
   ]
  },
  {
   "cell_type": "markdown",
   "id": "e6dd021a-6baa-4344-8547-19edede744ae",
   "metadata": {},
   "source": [
    "## Calculate RoG (fpocket pockets)"
   ]
  },
  {
   "cell_type": "code",
   "execution_count": 58,
   "id": "60c01442-c92e-4085-afec-8cc2467b3fa4",
   "metadata": {},
   "outputs": [
    {
     "data": {
      "text/plain": [
       "4389"
      ]
     },
     "execution_count": 58,
     "metadata": {},
     "output_type": "execute_result"
    }
   ],
   "source": [
    "site_targets = all_fpockets.rep_chain.unique().tolist()\n",
    "len(site_targets)"
   ]
  },
  {
   "cell_type": "code",
   "execution_count": 59,
   "id": "48c7cee1-e615-4a94-8ab2-1aa2937a28b0",
   "metadata": {},
   "outputs": [
    {
     "data": {
      "text/plain": [
       "84303"
      ]
     },
     "execution_count": 59,
     "metadata": {},
     "output_type": "execute_result"
    }
   ],
   "source": [
    "all_fpockets.shape[0]"
   ]
  },
  {
   "cell_type": "code",
   "execution_count": 60,
   "id": "574b0e08-d8b3-47e7-8a33-9bd892cd687c",
   "metadata": {},
   "outputs": [],
   "source": [
    "target_dir = './../DATA/trans_rep_chains'"
   ]
  },
  {
   "cell_type": "code",
   "execution_count": 61,
   "id": "c28614e1-9aaf-42e8-ad80-29ab56f10b7f",
   "metadata": {},
   "outputs": [],
   "source": [
    "cc = [\n",
    "    'label_seq_id_full', 'label_comp_id', 'type_symbol',\n",
    "    'label_atom_id', 'Cartn_x', 'Cartn_y', 'Cartn_z'\n",
    "]"
   ]
  },
  {
   "cell_type": "code",
   "execution_count": 62,
   "id": "c731174d-2489-459c-84c0-11afaa7854cc",
   "metadata": {},
   "outputs": [
    {
     "name": "stdout",
     "output_type": "stream",
     "text": [
      "0\n",
      "500\n",
      "1000\n",
      "1500\n",
      "2000\n",
      "2500\n",
      "3000\n",
      "3500\n",
      "4000\n"
     ]
    }
   ],
   "source": [
    "T0 = time.time()\n",
    "RoG_dict = {}\n",
    "centres_dict_ress = {}\n",
    "for i, target in enumerate(site_targets):\n",
    "    if i % 500 == 0:\n",
    "        print(i)\n",
    "    pdb_path = os.path.join(target_dir, f'{target}.trans.pdb') # now using TRANS for centroid and RoG\n",
    "    df = PDBXreader(inputfile=pdb_path).atoms(format_type=\"pdb\", excluded=())[cc].query('label_atom_id == \"CA\"').reset_index(drop = True)\n",
    "    #df.label_seq_id = df.label_seq_id.astype(int)\n",
    "    target_sites_df = all_fpockets.query('rep_chain == @target')\n",
    "    #print(len(acc_sites_df))\n",
    "    for _, row in target_sites_df.iterrows():\n",
    "        site_ress = row.aas_fpocket\n",
    "        #print(site_ress)\n",
    "        ress_CAs = df.query('label_seq_id_full in @site_ress')\n",
    "        CAs_coords = np.array(list((zip(ress_CAs.Cartn_x, ress_CAs.Cartn_y, ress_CAs.Cartn_z))))\n",
    "        center_of_mass = np.mean(CAs_coords, axis=0)\n",
    "        distances_squared = np.sum((CAs_coords - center_of_mass)**2, axis=1)\n",
    "        radius_of_gyration = round(np.sqrt(np.mean(distances_squared)), 2)\n",
    "        RoG_dict[(target, row[\"ID\"])] = radius_of_gyration\n",
    "        centres_dict_ress[(target, row[\"ID\"])] = tuple([round(v, 3) for v in center_of_mass])\n",
    "\n",
    "    #break\n",
    "TF = time.time()"
   ]
  },
  {
   "cell_type": "code",
   "execution_count": 63,
   "id": "6a4e3b2e-6dfe-43fa-9877-ea03fbdf4c3a",
   "metadata": {},
   "outputs": [
    {
     "name": "stdout",
     "output_type": "stream",
     "text": [
      "84303\n",
      "43.16\n",
      "0.03072\n"
     ]
    }
   ],
   "source": [
    "dTs = TF-T0\n",
    "\n",
    "dTm = dTs/60\n",
    "\n",
    "N_RoG = len(RoG_dict)\n",
    "\n",
    "print(N_RoG) #84303\n",
    "\n",
    "print(round(dTm,2)) #6.97\n",
    "\n",
    "print(round(dTs/N_RoG, 5)) #0.00496"
   ]
  },
  {
   "cell_type": "code",
   "execution_count": 79,
   "id": "1ed00e0e-d5a4-4496-9bc8-9dd0c0c7520c",
   "metadata": {},
   "outputs": [],
   "source": [
    "save_to_pickle(RoG_dict, \"./results/DeepPocket_RoG_fpockets_TRANS.pkl\")"
   ]
  },
  {
   "cell_type": "code",
   "execution_count": 67,
   "id": "e57a709d-41c1-4c75-a72a-c164ba0e69ca",
   "metadata": {},
   "outputs": [],
   "source": [
    "all_fpockets[\"RoG_fpocket\"] = all_fpockets.set_index(['rep_chain', 'ID']).index.map(RoG_dict)"
   ]
  },
  {
   "cell_type": "code",
   "execution_count": 79,
   "id": "da3e4d98-3b7a-4745-99f1-fd7a9bce41a3",
   "metadata": {},
   "outputs": [
    {
     "name": "stdout",
     "output_type": "stream",
     "text": [
      "0\n"
     ]
    }
   ],
   "source": [
    "all_fpockets[\"centre_fpocket_trans\"] = np.nan # THIS SHOULD BE THE CENTROID OF THE FPOCKET CANDIDATES ON THE TRANSFORMED (ALIGNED) COORDINATES\n",
    "centres = []\n",
    "errs = 0\n",
    "err_chains = []\n",
    "for i, row in all_fpockets.iterrows():\n",
    "    try:\n",
    "        centre = centres_dict_ress[(row.rep_chain, row.ID)]\n",
    "        centres.append(centre)\n",
    "    except:\n",
    "        errs += 1\n",
    "        centres.append(np.nan)\n",
    "        err_chains.append(row.rep_chain)\n",
    "print(errs) # 599\n",
    "all_fpockets[\"centre_fpocket_trans\"] = centres"
   ]
  },
  {
   "cell_type": "code",
   "execution_count": 66,
   "id": "6e1763fb-43f8-4119-830f-f9f99147100b",
   "metadata": {},
   "outputs": [
    {
     "data": {
      "text/plain": [
       "['1a52_A_3']"
      ]
     },
     "execution_count": 66,
     "metadata": {},
     "output_type": "execute_result"
    }
   ],
   "source": [
    "non_segmented[:1]"
   ]
  },
  {
   "cell_type": "markdown",
   "id": "a3605c1e-2d6d-42ff-8b88-b404ac017a80",
   "metadata": {},
   "source": [
    "## Calculate RoG (DeepPocket pockets)"
   ]
  },
  {
   "cell_type": "code",
   "execution_count": 82,
   "id": "b4d99816-5eb2-4c3c-93b6-af99f12b88e3",
   "metadata": {
    "collapsed": true,
    "jupyter": {
     "outputs_hidden": true
    }
   },
   "outputs": [
    {
     "name": "stdout",
     "output_type": "stream",
     "text": [
      "0\n",
      "500\n",
      "1000\n",
      "1500\n",
      "2000\n",
      "2500\n",
      "3000\n",
      "3500\n",
      "4000\n",
      "4500\n",
      "5000\n",
      "5500\n",
      "6000\n",
      "6500\n",
      "7000\n",
      "7500\n",
      "8000\n",
      "8500\n",
      "9000\n",
      "9500\n",
      "10000\n",
      "10500\n",
      "11000\n",
      "11500\n",
      "12000\n",
      "12500\n",
      "13000\n",
      "13500\n",
      "14000\n",
      "14500\n",
      "15000\n",
      "15500\n",
      "16000\n",
      "16500\n",
      "17000\n",
      "17500\n",
      "18000\n",
      "18500\n",
      "19000\n",
      "19500\n",
      "20000\n",
      "20500\n",
      "21000\n",
      "21500\n",
      "22000\n",
      "22500\n",
      "23000\n",
      "23500\n",
      "24000\n",
      "24500\n",
      "25000\n",
      "25500\n",
      "26000\n",
      "26500\n",
      "27000\n",
      "27500\n",
      "28000\n",
      "28500\n",
      "29000\n",
      "29500\n",
      "30000\n",
      "30500\n",
      "31000\n",
      "31500\n",
      "32000\n",
      "32500\n",
      "33000\n",
      "33500\n",
      "34000\n",
      "34500\n",
      "35000\n",
      "35500\n",
      "36000\n",
      "36500\n",
      "37000\n",
      "37500\n",
      "38000\n",
      "38500\n",
      "39000\n",
      "39500\n",
      "40000\n",
      "40500\n",
      "41000\n",
      "41500\n",
      "42000\n",
      "42500\n",
      "43000\n",
      "43500\n",
      "44000\n",
      "44500\n",
      "45000\n",
      "45500\n",
      "46000\n",
      "46500\n",
      "47000\n",
      "47500\n",
      "48000\n",
      "48500\n",
      "49000\n",
      "49500\n",
      "50000\n",
      "50500\n",
      "51000\n",
      "51500\n",
      "52000\n",
      "52500\n",
      "53000\n",
      "53500\n",
      "54000\n",
      "54500\n",
      "55000\n",
      "55500\n",
      "56000\n",
      "56500\n",
      "57000\n",
      "57500\n",
      "58000\n",
      "58500\n",
      "59000\n",
      "59500\n",
      "60000\n",
      "60500\n",
      "61000\n",
      "61500\n",
      "62000\n",
      "62500\n",
      "63000\n",
      "63500\n",
      "64000\n",
      "64500\n",
      "65000\n",
      "65500\n",
      "66000\n",
      "66500\n",
      "67000\n",
      "67500\n",
      "68000\n",
      "68500\n",
      "69000\n",
      "69500\n",
      "70000\n",
      "70500\n",
      "71000\n",
      "71500\n",
      "72000\n",
      "72500\n",
      "73000\n",
      "73500\n",
      "74000\n",
      "74500\n",
      "75000\n",
      "75500\n",
      "76000\n",
      "76500\n",
      "77000\n",
      "77500\n",
      "78000\n",
      "78500\n",
      "79000\n",
      "79500\n",
      "80000\n",
      "80500\n",
      "81000\n",
      "81500\n",
      "82000\n",
      "82500\n",
      "83000\n",
      "83500\n",
      "84000\n"
     ]
    }
   ],
   "source": [
    "T0 = time.time()\n",
    "RoG_dict_DEEP = {}\n",
    "centres_dict_ress_DEEP = {}\n",
    "for i, row in all_fpockets.iterrows():\n",
    "\n",
    "    if i % 500 == 0:\n",
    "        print(i)\n",
    "        \n",
    "    rep_chain = row.rep_chain\n",
    "    rank_deepp = row.RANK_deep\n",
    "    site_ID = f\"{rep_chain}_{rank_deepp}\"\n",
    "\n",
    "    if site_ID in non_segmented:\n",
    "        continue\n",
    "        \n",
    "    pdb_path = os.path.join(target_dir, f'{rep_chain}.trans.pdb')\n",
    "    df = PDBXreader(inputfile=pdb_path).atoms(format_type=\"pdb\", excluded=())[cc].query('label_atom_id == \"CA\"').reset_index(drop = True)\n",
    "    site_ress = row.aas_deep\n",
    "    ress_CAs = df.query('label_seq_id_full in @site_ress')\n",
    "    CAs_coords = np.array(list((zip(ress_CAs.Cartn_x, ress_CAs.Cartn_y, ress_CAs.Cartn_z))))\n",
    "    center_of_mass = np.mean(CAs_coords, axis=0)\n",
    "    distances_squared = np.sum((CAs_coords - center_of_mass)**2, axis=1)\n",
    "    radius_of_gyration = round(np.sqrt(np.mean(distances_squared)), 2)\n",
    "    RoG_dict_DEEP[(rep_chain, rank_deepp)] = radius_of_gyration\n",
    "    centres_dict_ress_DEEP[(rep_chain, rank_deepp)] = tuple([round(v, 3) for v in center_of_mass])\n",
    "    #break"
   ]
  },
  {
   "cell_type": "code",
   "execution_count": 87,
   "id": "15c70229-4571-4878-b184-2e1783292f3b",
   "metadata": {},
   "outputs": [
    {
     "data": {
      "text/plain": [
       "26587"
      ]
     },
     "execution_count": 87,
     "metadata": {},
     "output_type": "execute_result"
    }
   ],
   "source": [
    "len(RoG_dict_DEEP)"
   ]
  },
  {
   "cell_type": "code",
   "execution_count": 88,
   "id": "9038e9cb-7960-47f5-b930-2c8deb4cf13f",
   "metadata": {},
   "outputs": [],
   "source": [
    "#save_to_pickle(RoG_dict_DEEP, \"./results/DeepPocket_RoG_deeppockets_TRANS.pkl\")\n",
    "all_fpockets[\"RoG_deep\"] = all_fpockets.set_index(['rep_chain', 'RANK_deep']).index.map(RoG_dict_DEEP)"
   ]
  },
  {
   "cell_type": "code",
   "execution_count": 89,
   "id": "d629097e-7847-4111-98b1-f08c9bad810d",
   "metadata": {},
   "outputs": [
    {
     "name": "stdout",
     "output_type": "stream",
     "text": [
      "57716\n"
     ]
    }
   ],
   "source": [
    "all_fpockets[\"centre_deep_trans\"] = np.nan\n",
    "centres = []\n",
    "errs = 0\n",
    "err_chains = []\n",
    "for i, row in all_fpockets.iterrows():\n",
    "    try:\n",
    "        centre = centres_dict_ress_DEEP[(row.rep_chain, row.RANK_deep)]\n",
    "        centres.append(centre)\n",
    "    except:\n",
    "        errs += 1\n",
    "        centres.append(np.nan)\n",
    "        err_chains.append(row.rep_chain)\n",
    "print(errs) # 57716\n",
    "\n",
    "all_fpockets[\"centre_deep_trans\"] = centres # THIS IS THE CENTROID OF THE DEEPPOCKET SEGMENTED POCKETS ON THE TRANSFORMED (ALIGNED) COORDINATES"
   ]
  },
  {
   "cell_type": "code",
   "execution_count": 90,
   "id": "779ce8a5-f679-4138-8593-15a0e3a35876",
   "metadata": {},
   "outputs": [
    {
     "data": {
      "text/html": [
       "<div>\n",
       "<style scoped>\n",
       "    .dataframe tbody tr th:only-of-type {\n",
       "        vertical-align: middle;\n",
       "    }\n",
       "\n",
       "    .dataframe tbody tr th {\n",
       "        vertical-align: top;\n",
       "    }\n",
       "\n",
       "    .dataframe thead th {\n",
       "        text-align: right;\n",
       "    }\n",
       "</style>\n",
       "<table border=\"1\" class=\"dataframe\">\n",
       "  <thead>\n",
       "    <tr style=\"text-align: right;\">\n",
       "      <th></th>\n",
       "      <th>rep_chain</th>\n",
       "      <th>ID</th>\n",
       "      <th>RANK_fpocket</th>\n",
       "      <th>score_fpocket</th>\n",
       "      <th>volume_fpocket</th>\n",
       "      <th>RoG_fpocket</th>\n",
       "      <th>aas_fpocket</th>\n",
       "      <th>n_aas_fpocket</th>\n",
       "      <th>centre_fpocket</th>\n",
       "      <th>centre_fpocket_trans</th>\n",
       "      <th>RANK_deep</th>\n",
       "      <th>score_deep</th>\n",
       "      <th>RoG_deep</th>\n",
       "      <th>aas_deep</th>\n",
       "      <th>n_aas_deep</th>\n",
       "      <th>centre_deep1</th>\n",
       "      <th>centre_deep2</th>\n",
       "      <th>centre_deep_trans</th>\n",
       "    </tr>\n",
       "  </thead>\n",
       "  <tbody>\n",
       "    <tr>\n",
       "      <th>0</th>\n",
       "      <td>1a52_A</td>\n",
       "      <td>1</td>\n",
       "      <td>1</td>\n",
       "      <td>0.276</td>\n",
       "      <td>1190.393</td>\n",
       "      <td>11.82</td>\n",
       "      <td>[47, 50, 51, 53, 54, 55, 57, 58, 62, 66, 71, 7...</td>\n",
       "      <td>32</td>\n",
       "      <td>(100.735, 15.502, 99.089)</td>\n",
       "      <td>(-2.796, -5.967, 0.473)</td>\n",
       "      <td>1</td>\n",
       "      <td>0.973307</td>\n",
       "      <td>9.49</td>\n",
       "      <td>[47, 50, 51, 53, 54, 55, 57, 58, 87, 88, 91, 9...</td>\n",
       "      <td>29.0</td>\n",
       "      <td>(101.66, 14.74, 99.13)</td>\n",
       "      <td>(105.763, 14.673, 96.183)</td>\n",
       "      <td>(0.455, -9.152, -1.842)</td>\n",
       "    </tr>\n",
       "    <tr>\n",
       "      <th>1</th>\n",
       "      <td>1a52_A</td>\n",
       "      <td>2</td>\n",
       "      <td>2</td>\n",
       "      <td>0.051</td>\n",
       "      <td>458.269</td>\n",
       "      <td>7.62</td>\n",
       "      <td>[27, 28, 29, 30, 31, 57, 60, 61, 90, 91, 94, 9...</td>\n",
       "      <td>15</td>\n",
       "      <td>(103.727, 24.016, 103.754)</td>\n",
       "      <td>(2.074, -0.175, 6.92)</td>\n",
       "      <td>3</td>\n",
       "      <td>0.197817</td>\n",
       "      <td>NaN</td>\n",
       "      <td>NaN</td>\n",
       "      <td>NaN</td>\n",
       "      <td>(104.03, 24.26, 104.0)</td>\n",
       "      <td>NaN</td>\n",
       "      <td>NaN</td>\n",
       "    </tr>\n",
       "    <tr>\n",
       "      <th>2</th>\n",
       "      <td>1a52_A</td>\n",
       "      <td>3</td>\n",
       "      <td>3</td>\n",
       "      <td>0.027</td>\n",
       "      <td>443.436</td>\n",
       "      <td>6.97</td>\n",
       "      <td>[155, 156, 159, 160, 183, 187, 212, 215, 216, ...</td>\n",
       "      <td>10</td>\n",
       "      <td>(94.882, 28.506, 89.855)</td>\n",
       "      <td>(-1.715, 8.718, -5.534)</td>\n",
       "      <td>2</td>\n",
       "      <td>0.200280</td>\n",
       "      <td>8.15</td>\n",
       "      <td>[155, 159, 160, 163, 180, 183, 184, 187, 212, ...</td>\n",
       "      <td>12.0</td>\n",
       "      <td>(93.83, 28.87, 88.54)</td>\n",
       "      <td>(91.899, 29.098, 90.534)</td>\n",
       "      <td>(-3.342, 10.412, -5.834)</td>\n",
       "    </tr>\n",
       "  </tbody>\n",
       "</table>\n",
       "</div>"
      ],
      "text/plain": [
       "  rep_chain  ID  RANK_fpocket  score_fpocket  volume_fpocket  RoG_fpocket  \\\n",
       "0    1a52_A   1             1          0.276        1190.393        11.82   \n",
       "1    1a52_A   2             2          0.051         458.269         7.62   \n",
       "2    1a52_A   3             3          0.027         443.436         6.97   \n",
       "\n",
       "                                         aas_fpocket  n_aas_fpocket  \\\n",
       "0  [47, 50, 51, 53, 54, 55, 57, 58, 62, 66, 71, 7...             32   \n",
       "1  [27, 28, 29, 30, 31, 57, 60, 61, 90, 91, 94, 9...             15   \n",
       "2  [155, 156, 159, 160, 183, 187, 212, 215, 216, ...             10   \n",
       "\n",
       "               centre_fpocket     centre_fpocket_trans  RANK_deep  score_deep  \\\n",
       "0   (100.735, 15.502, 99.089)  (-2.796, -5.967, 0.473)          1    0.973307   \n",
       "1  (103.727, 24.016, 103.754)    (2.074, -0.175, 6.92)          3    0.197817   \n",
       "2    (94.882, 28.506, 89.855)  (-1.715, 8.718, -5.534)          2    0.200280   \n",
       "\n",
       "   RoG_deep                                           aas_deep  n_aas_deep  \\\n",
       "0      9.49  [47, 50, 51, 53, 54, 55, 57, 58, 87, 88, 91, 9...        29.0   \n",
       "1       NaN                                                NaN         NaN   \n",
       "2      8.15  [155, 159, 160, 163, 180, 183, 184, 187, 212, ...        12.0   \n",
       "\n",
       "             centre_deep1               centre_deep2         centre_deep_trans  \n",
       "0  (101.66, 14.74, 99.13)  (105.763, 14.673, 96.183)   (0.455, -9.152, -1.842)  \n",
       "1  (104.03, 24.26, 104.0)                        NaN                       NaN  \n",
       "2   (93.83, 28.87, 88.54)   (91.899, 29.098, 90.534)  (-3.342, 10.412, -5.834)  "
      ]
     },
     "execution_count": 90,
     "metadata": {},
     "output_type": "execute_result"
    }
   ],
   "source": [
    "all_fpockets[[\n",
    "    \"rep_chain\", \"ID\",\n",
    "    \"RANK_fpocket\", \"score_fpocket\", \"volume_fpocket\", \"RoG_fpocket\", \"aas_fpocket\", \"n_aas_fpocket\", \"centre_fpocket\", \"centre_fpocket_trans\",\n",
    "    \"RANK_deep\", \"score_deep\", \"RoG_deep\", \"aas_deep\", \"n_aas_deep\", \"centre_deep1\", \"centre_deep2\", \"centre_deep_trans\"]\n",
    "].head(3)"
   ]
  },
  {
   "cell_type": "code",
   "execution_count": 107,
   "id": "5ad3c41a-fd80-4133-9aad-5783e7f88918",
   "metadata": {},
   "outputs": [
    {
     "data": {
      "text/html": [
       "<div>\n",
       "<style scoped>\n",
       "    .dataframe tbody tr th:only-of-type {\n",
       "        vertical-align: middle;\n",
       "    }\n",
       "\n",
       "    .dataframe tbody tr th {\n",
       "        vertical-align: top;\n",
       "    }\n",
       "\n",
       "    .dataframe thead th {\n",
       "        text-align: right;\n",
       "    }\n",
       "</style>\n",
       "<table border=\"1\" class=\"dataframe\">\n",
       "  <thead>\n",
       "    <tr style=\"text-align: right;\">\n",
       "      <th></th>\n",
       "      <th>rep_chain</th>\n",
       "      <th>ID</th>\n",
       "      <th>RANK_fpocket</th>\n",
       "      <th>score_fpocket</th>\n",
       "      <th>volume_fpocket</th>\n",
       "      <th>RoG_fpocket</th>\n",
       "      <th>aas_fpocket</th>\n",
       "      <th>n_aas_fpocket</th>\n",
       "      <th>centre_fpocket</th>\n",
       "      <th>centre_fpocket_trans</th>\n",
       "      <th>barycentre_mat</th>\n",
       "      <th>RANK_deep</th>\n",
       "      <th>score_deep</th>\n",
       "      <th>RoG_deep</th>\n",
       "      <th>aas_deep</th>\n",
       "      <th>n_aas_deep</th>\n",
       "      <th>centre_deep1</th>\n",
       "      <th>centre_deep2</th>\n",
       "      <th>centre_deep_trans</th>\n",
       "    </tr>\n",
       "  </thead>\n",
       "  <tbody>\n",
       "    <tr>\n",
       "      <th>0</th>\n",
       "      <td>1a52_A</td>\n",
       "      <td>1</td>\n",
       "      <td>1</td>\n",
       "      <td>0.276</td>\n",
       "      <td>1190.393</td>\n",
       "      <td>11.82</td>\n",
       "      <td>[47, 50, 51, 53, 54, 55, 57, 58, 62, 66, 71, 7...</td>\n",
       "      <td>32</td>\n",
       "      <td>(100.735, 15.502, 99.089)</td>\n",
       "      <td>(-2.796, -5.967, 0.473)</td>\n",
       "      <td>(-3.763, -7.518, 0.54)</td>\n",
       "      <td>1</td>\n",
       "      <td>0.973307</td>\n",
       "      <td>9.49</td>\n",
       "      <td>[47, 50, 51, 53, 54, 55, 57, 58, 87, 88, 91, 9...</td>\n",
       "      <td>29.0</td>\n",
       "      <td>(101.66, 14.74, 99.13)</td>\n",
       "      <td>(105.763, 14.673, 96.183)</td>\n",
       "      <td>(0.455, -9.152, -1.842)</td>\n",
       "    </tr>\n",
       "    <tr>\n",
       "      <th>1</th>\n",
       "      <td>1a52_A</td>\n",
       "      <td>2</td>\n",
       "      <td>2</td>\n",
       "      <td>0.051</td>\n",
       "      <td>458.269</td>\n",
       "      <td>7.62</td>\n",
       "      <td>[27, 28, 29, 30, 31, 57, 60, 61, 90, 91, 94, 9...</td>\n",
       "      <td>15</td>\n",
       "      <td>(103.727, 24.016, 103.754)</td>\n",
       "      <td>(2.074, -0.175, 6.92)</td>\n",
       "      <td>(1.808, -0.909, 7.267)</td>\n",
       "      <td>3</td>\n",
       "      <td>0.197817</td>\n",
       "      <td>NaN</td>\n",
       "      <td>NaN</td>\n",
       "      <td>NaN</td>\n",
       "      <td>(104.03, 24.26, 104.0)</td>\n",
       "      <td>NaN</td>\n",
       "      <td>NaN</td>\n",
       "    </tr>\n",
       "    <tr>\n",
       "      <th>2</th>\n",
       "      <td>1a52_A</td>\n",
       "      <td>3</td>\n",
       "      <td>3</td>\n",
       "      <td>0.027</td>\n",
       "      <td>443.436</td>\n",
       "      <td>6.97</td>\n",
       "      <td>[155, 156, 159, 160, 183, 187, 212, 215, 216, ...</td>\n",
       "      <td>10</td>\n",
       "      <td>(94.882, 28.506, 89.855)</td>\n",
       "      <td>(-1.715, 8.718, -5.534)</td>\n",
       "      <td>(-1.927, 9.598, -8.223)</td>\n",
       "      <td>2</td>\n",
       "      <td>0.200280</td>\n",
       "      <td>8.15</td>\n",
       "      <td>[155, 159, 160, 163, 180, 183, 184, 187, 212, ...</td>\n",
       "      <td>12.0</td>\n",
       "      <td>(93.83, 28.87, 88.54)</td>\n",
       "      <td>(91.899, 29.098, 90.534)</td>\n",
       "      <td>(-3.342, 10.412, -5.834)</td>\n",
       "    </tr>\n",
       "  </tbody>\n",
       "</table>\n",
       "</div>"
      ],
      "text/plain": [
       "  rep_chain  ID  RANK_fpocket  score_fpocket  volume_fpocket  RoG_fpocket  \\\n",
       "0    1a52_A   1             1          0.276        1190.393        11.82   \n",
       "1    1a52_A   2             2          0.051         458.269         7.62   \n",
       "2    1a52_A   3             3          0.027         443.436         6.97   \n",
       "\n",
       "                                         aas_fpocket  n_aas_fpocket  \\\n",
       "0  [47, 50, 51, 53, 54, 55, 57, 58, 62, 66, 71, 7...             32   \n",
       "1  [27, 28, 29, 30, 31, 57, 60, 61, 90, 91, 94, 9...             15   \n",
       "2  [155, 156, 159, 160, 183, 187, 212, 215, 216, ...             10   \n",
       "\n",
       "               centre_fpocket     centre_fpocket_trans  \\\n",
       "0   (100.735, 15.502, 99.089)  (-2.796, -5.967, 0.473)   \n",
       "1  (103.727, 24.016, 103.754)    (2.074, -0.175, 6.92)   \n",
       "2    (94.882, 28.506, 89.855)  (-1.715, 8.718, -5.534)   \n",
       "\n",
       "            barycentre_mat  RANK_deep  score_deep  RoG_deep  \\\n",
       "0   (-3.763, -7.518, 0.54)          1    0.973307      9.49   \n",
       "1   (1.808, -0.909, 7.267)          3    0.197817       NaN   \n",
       "2  (-1.927, 9.598, -8.223)          2    0.200280      8.15   \n",
       "\n",
       "                                            aas_deep  n_aas_deep  \\\n",
       "0  [47, 50, 51, 53, 54, 55, 57, 58, 87, 88, 91, 9...        29.0   \n",
       "1                                                NaN         NaN   \n",
       "2  [155, 159, 160, 163, 180, 183, 184, 187, 212, ...        12.0   \n",
       "\n",
       "             centre_deep1               centre_deep2         centre_deep_trans  \n",
       "0  (101.66, 14.74, 99.13)  (105.763, 14.673, 96.183)   (0.455, -9.152, -1.842)  \n",
       "1  (104.03, 24.26, 104.0)                        NaN                       NaN  \n",
       "2   (93.83, 28.87, 88.54)   (91.899, 29.098, 90.534)  (-3.342, 10.412, -5.834)  "
      ]
     },
     "execution_count": 107,
     "metadata": {},
     "output_type": "execute_result"
    }
   ],
   "source": [
    "all_fpockets[[\n",
    "    \"rep_chain\", \"ID\",\n",
    "    \"RANK_fpocket\", \"score_fpocket\", \"volume_fpocket\", \"RoG_fpocket\", \"aas_fpocket\", \"n_aas_fpocket\", \"centre_fpocket\", \"centre_fpocket_trans\", \"barycentre_mat\",\n",
    "    \"RANK_deep\", \"score_deep\", \"RoG_deep\", \"aas_deep\", \"n_aas_deep\", \"centre_deep1\", \"centre_deep2\", \"centre_deep_trans\"]\n",
    "].head(3)"
   ]
  },
  {
   "cell_type": "code",
   "execution_count": 90,
   "id": "a06f2c25-d86a-4121-959c-383085288ee8",
   "metadata": {},
   "outputs": [],
   "source": [
    "import importlib\n",
    "import JSU_lib\n",
    "importlib.reload(JSU_lib)\n",
    "from JSU_lib import *"
   ]
  },
  {
   "cell_type": "code",
   "execution_count": 176,
   "id": "ce8eecd9-17c7-4220-91bb-78bb515a53b4",
   "metadata": {},
   "outputs": [],
   "source": [
    "#centre_fpocket: fpocket centre (CLEAN)                                                     -->      COM of fpocket pocket atoms                       (CLEAN)\n",
    "#centre_deep1: deeppocket re-scored fpocket barycentre (CLEAN)                              -->      BARYCENTRE of fpocket pocket                      (CLEAN)\n",
    "#centre_deep2: deeppocket segmented pocket centre (CLEAN)                                   -->      COM of DeepPocket segmented pocket                (CLEAN)\n",
    "\n",
    "#centre_fpocket_trans: fpocket centre (TRANS)                                               -->      COM of CA atoms of fpocket residues               (TRANS)\n",
    "#centre_deep_trans: deeppocket segmented pocket centre (TRANS)                              -->      COM of CA atoms of DeepPocket segmented pocket    (TRANS)\n",
    "\n",
    "#centre_fpocket_mat = fpocket centre (CLEAN) transformed with matrix                        -->      centre_fpocket transformed with MATRIX            (\"TRANS\")    THE ONE WE WANT FOR FPOCKET\n",
    "#barycentre_mat = deeppocket re-scored fpocket barycentre transformed with matrix           -->      centre_deep1 transformed with MATRIX              (\"TRANS\")    THE ONE WE WANT FOR DEEPPOCKET RE-SCORED\n",
    "#centre_mat: deeppocket segmented pocket centre transformed with matrix                     -->      centre_deep2 transformed with MATRIX              (\"TRANS\")    THE ONE WE WANT FOR DEEPPOCKET SEGMENTED"
   ]
  },
  {
   "cell_type": "markdown",
   "id": "823d2055-3704-40aa-9d10-33ccc14f5a41",
   "metadata": {},
   "source": [
    "## Translating and rotating the barycentres"
   ]
  },
  {
   "cell_type": "code",
   "execution_count": 124,
   "id": "96830c89-5dfc-491d-a8dd-526ae14c7925",
   "metadata": {},
   "outputs": [],
   "source": [
    "def apply_rotation_fpocket_centre(row):\n",
    "    # Extract the rotation matrix using rep_chain\n",
    "    matrix = rot_matrices[row['rep_chain']]\n",
    "    # Extract the centre tuple and convert to numpy array\n",
    "    centre_vector = np.array(row['centre_fpocket'])\n",
    "    translated_centre = centre_vector - orig_centroids[row['rep_chain']]\n",
    "    # Perform matrix multiplication\n",
    "    transformed_centre = np.dot(matrix, translated_centre)\n",
    "    round_centre = tuple([round(el, 3) for el in transformed_centre])\n",
    "    return round_centre\n",
    "\n",
    "def calculate_fpocket_mat_distance(row):\n",
    "    # Convert tuples to numpy arrays for vector operations\n",
    "    centre_mat_vector = np.array(row['centre_fpocket_mat'])\n",
    "    centre_trans_vector = np.array(row['barycentre_mat'])\n",
    "    # Calculate Euclidean distance using numpy.linalg.norm\n",
    "    distance = np.linalg.norm(centre_mat_vector - centre_trans_vector)\n",
    "    return distance"
   ]
  },
  {
   "cell_type": "code",
   "execution_count": 121,
   "id": "fe974c07-cda9-4a45-b29e-bc2b2b914947",
   "metadata": {},
   "outputs": [],
   "source": [
    "def apply_rotation_barycentre(row):\n",
    "    # Extract the rotation matrix using rep_chain\n",
    "    matrix = rot_matrices[row['rep_chain']]\n",
    "    # Extract the centre tuple and convert to numpy array\n",
    "    centre_vector = np.array(row['centre_deep1'])\n",
    "    translated_centre = centre_vector - orig_centroids[row['rep_chain']]\n",
    "    # Perform matrix multiplication\n",
    "    transformed_centre = np.dot(matrix, translated_centre)\n",
    "    round_centre = tuple([round(el, 3) for el in transformed_centre])\n",
    "    return round_centre\n",
    "\n",
    "def calculate_barycentre_distance(row):\n",
    "    # Convert tuples to numpy arrays for vector operations\n",
    "    centre_mat_vector = np.array(row['barycentre_mat'])\n",
    "    centre_trans_vector = np.array(row['centre_mat'])\n",
    "    # Calculate Euclidean distance using numpy.linalg.norm\n",
    "    distance = np.linalg.norm(centre_mat_vector - centre_trans_vector)\n",
    "    return distance"
   ]
  },
  {
   "cell_type": "code",
   "execution_count": 129,
   "id": "ee345f1e-3185-4b77-89b2-2a4f31a57800",
   "metadata": {},
   "outputs": [
    {
     "data": {
      "text/html": [
       "<div>\n",
       "<style scoped>\n",
       "    .dataframe tbody tr th:only-of-type {\n",
       "        vertical-align: middle;\n",
       "    }\n",
       "\n",
       "    .dataframe tbody tr th {\n",
       "        vertical-align: top;\n",
       "    }\n",
       "\n",
       "    .dataframe thead th {\n",
       "        text-align: right;\n",
       "    }\n",
       "</style>\n",
       "<table border=\"1\" class=\"dataframe\">\n",
       "  <thead>\n",
       "    <tr style=\"text-align: right;\">\n",
       "      <th></th>\n",
       "      <th>score_fpocket</th>\n",
       "      <th>drug_score</th>\n",
       "      <th>n_alpha_spheres</th>\n",
       "      <th>total_sasa</th>\n",
       "      <th>polar_sasa</th>\n",
       "      <th>apolar_sasa</th>\n",
       "      <th>volume_fpocket</th>\n",
       "      <th>mean_hydro_density</th>\n",
       "      <th>mean_alpha_sphere_r</th>\n",
       "      <th>mean_alpha_sphere_solvent_acc</th>\n",
       "      <th>...</th>\n",
       "      <th>RoG_fpocket</th>\n",
       "      <th>centre_fpocket_trans</th>\n",
       "      <th>RoG_deep</th>\n",
       "      <th>centre_deep_trans</th>\n",
       "      <th>centre_mat</th>\n",
       "      <th>distance</th>\n",
       "      <th>barycentre_mat</th>\n",
       "      <th>barycentre_distance</th>\n",
       "      <th>centre_fpocket_mat</th>\n",
       "      <th>dist_fpocket_mat</th>\n",
       "    </tr>\n",
       "  </thead>\n",
       "  <tbody>\n",
       "    <tr>\n",
       "      <th>0</th>\n",
       "      <td>0.276</td>\n",
       "      <td>0.997</td>\n",
       "      <td>134.0</td>\n",
       "      <td>335.271</td>\n",
       "      <td>78.858</td>\n",
       "      <td>256.413</td>\n",
       "      <td>1190.393</td>\n",
       "      <td>49.084</td>\n",
       "      <td>3.930</td>\n",
       "      <td>0.537</td>\n",
       "      <td>...</td>\n",
       "      <td>11.82</td>\n",
       "      <td>(-2.796, -5.967, 0.473)</td>\n",
       "      <td>9.49</td>\n",
       "      <td>(0.455, -9.152, -1.842)</td>\n",
       "      <td>(0.308, -9.296, -1.867)</td>\n",
       "      <td>0.207292</td>\n",
       "      <td>(-3.763, -7.518, 0.54)</td>\n",
       "      <td>5.052522</td>\n",
       "      <td>(-4.198, -6.401, 0.526)</td>\n",
       "      <td>1.198795</td>\n",
       "    </tr>\n",
       "    <tr>\n",
       "      <th>1</th>\n",
       "      <td>0.051</td>\n",
       "      <td>0.065</td>\n",
       "      <td>64.0</td>\n",
       "      <td>138.557</td>\n",
       "      <td>62.477</td>\n",
       "      <td>76.081</td>\n",
       "      <td>458.269</td>\n",
       "      <td>24.077</td>\n",
       "      <td>3.831</td>\n",
       "      <td>0.425</td>\n",
       "      <td>...</td>\n",
       "      <td>7.62</td>\n",
       "      <td>(2.074, -0.175, 6.92)</td>\n",
       "      <td>NaN</td>\n",
       "      <td>NaN</td>\n",
       "      <td>(nan, nan, nan)</td>\n",
       "      <td>NaN</td>\n",
       "      <td>(1.808, -0.909, 7.267)</td>\n",
       "      <td>NaN</td>\n",
       "      <td>(1.478, -0.948, 6.948)</td>\n",
       "      <td>0.460632</td>\n",
       "    </tr>\n",
       "    <tr>\n",
       "      <th>2</th>\n",
       "      <td>0.027</td>\n",
       "      <td>0.007</td>\n",
       "      <td>32.0</td>\n",
       "      <td>122.784</td>\n",
       "      <td>53.949</td>\n",
       "      <td>68.835</td>\n",
       "      <td>443.436</td>\n",
       "      <td>13.765</td>\n",
       "      <td>3.999</td>\n",
       "      <td>0.542</td>\n",
       "      <td>...</td>\n",
       "      <td>6.97</td>\n",
       "      <td>(-1.715, 8.718, -5.534)</td>\n",
       "      <td>8.15</td>\n",
       "      <td>(-3.342, 10.412, -5.834)</td>\n",
       "      <td>(-3.866, 10.545, -6.463)</td>\n",
       "      <td>0.829401</td>\n",
       "      <td>(-1.927, 9.598, -8.223)</td>\n",
       "      <td>2.784624</td>\n",
       "      <td>(-1.437, 8.638, -6.879)</td>\n",
       "      <td>1.722799</td>\n",
       "    </tr>\n",
       "    <tr>\n",
       "      <th>3</th>\n",
       "      <td>0.012</td>\n",
       "      <td>0.001</td>\n",
       "      <td>23.0</td>\n",
       "      <td>77.051</td>\n",
       "      <td>31.161</td>\n",
       "      <td>45.890</td>\n",
       "      <td>292.336</td>\n",
       "      <td>7.000</td>\n",
       "      <td>3.900</td>\n",
       "      <td>0.705</td>\n",
       "      <td>...</td>\n",
       "      <td>6.14</td>\n",
       "      <td>(-8.991, 13.675, 8.656)</td>\n",
       "      <td>6.30</td>\n",
       "      <td>(-8.456, 13.39, 8.7)</td>\n",
       "      <td>(-8.622, 12.35, 9.031)</td>\n",
       "      <td>1.103955</td>\n",
       "      <td>(-9.278, 14.631, 10.88)</td>\n",
       "      <td>3.008670</td>\n",
       "      <td>(-9.022, 14.816, 9.122)</td>\n",
       "      <td>1.786148</td>\n",
       "    </tr>\n",
       "    <tr>\n",
       "      <th>4</th>\n",
       "      <td>0.010</td>\n",
       "      <td>0.057</td>\n",
       "      <td>72.0</td>\n",
       "      <td>219.342</td>\n",
       "      <td>104.618</td>\n",
       "      <td>114.725</td>\n",
       "      <td>737.698</td>\n",
       "      <td>21.034</td>\n",
       "      <td>3.956</td>\n",
       "      <td>0.536</td>\n",
       "      <td>...</td>\n",
       "      <td>8.41</td>\n",
       "      <td>(10.194, 15.764, 2.822)</td>\n",
       "      <td>7.08</td>\n",
       "      <td>(12.084, 15.466, 0.742)</td>\n",
       "      <td>(11.983, 15.093, 0.936)</td>\n",
       "      <td>0.432396</td>\n",
       "      <td>(12.374, 16.213, 4.525)</td>\n",
       "      <td>3.779974</td>\n",
       "      <td>(11.031, 16.01, 3.905)</td>\n",
       "      <td>1.493070</td>\n",
       "    </tr>\n",
       "    <tr>\n",
       "      <th>...</th>\n",
       "      <td>...</td>\n",
       "      <td>...</td>\n",
       "      <td>...</td>\n",
       "      <td>...</td>\n",
       "      <td>...</td>\n",
       "      <td>...</td>\n",
       "      <td>...</td>\n",
       "      <td>...</td>\n",
       "      <td>...</td>\n",
       "      <td>...</td>\n",
       "      <td>...</td>\n",
       "      <td>...</td>\n",
       "      <td>...</td>\n",
       "      <td>...</td>\n",
       "      <td>...</td>\n",
       "      <td>...</td>\n",
       "      <td>...</td>\n",
       "      <td>...</td>\n",
       "      <td>...</td>\n",
       "      <td>...</td>\n",
       "      <td>...</td>\n",
       "    </tr>\n",
       "    <tr>\n",
       "      <th>84298</th>\n",
       "      <td>-0.013</td>\n",
       "      <td>0.048</td>\n",
       "      <td>24.0</td>\n",
       "      <td>91.170</td>\n",
       "      <td>28.057</td>\n",
       "      <td>63.113</td>\n",
       "      <td>259.808</td>\n",
       "      <td>15.000</td>\n",
       "      <td>3.952</td>\n",
       "      <td>0.535</td>\n",
       "      <td>...</td>\n",
       "      <td>6.74</td>\n",
       "      <td>(18.723, 9.265, -4.597)</td>\n",
       "      <td>NaN</td>\n",
       "      <td>NaN</td>\n",
       "      <td>(nan, nan, nan)</td>\n",
       "      <td>NaN</td>\n",
       "      <td>(19.847, 9.786, -4.102)</td>\n",
       "      <td>NaN</td>\n",
       "      <td>(19.691, 9.186, -4.247)</td>\n",
       "      <td>0.636680</td>\n",
       "    </tr>\n",
       "    <tr>\n",
       "      <th>84299</th>\n",
       "      <td>-0.022</td>\n",
       "      <td>0.000</td>\n",
       "      <td>23.0</td>\n",
       "      <td>108.186</td>\n",
       "      <td>63.504</td>\n",
       "      <td>44.682</td>\n",
       "      <td>347.514</td>\n",
       "      <td>2.000</td>\n",
       "      <td>4.138</td>\n",
       "      <td>0.589</td>\n",
       "      <td>...</td>\n",
       "      <td>5.30</td>\n",
       "      <td>(-21.025, 24.726, -0.089)</td>\n",
       "      <td>NaN</td>\n",
       "      <td>NaN</td>\n",
       "      <td>(nan, nan, nan)</td>\n",
       "      <td>NaN</td>\n",
       "      <td>(-21.392, 23.205, 1.78)</td>\n",
       "      <td>NaN</td>\n",
       "      <td>(-20.157, 23.068, 0.075)</td>\n",
       "      <td>2.109744</td>\n",
       "    </tr>\n",
       "    <tr>\n",
       "      <th>84300</th>\n",
       "      <td>-0.023</td>\n",
       "      <td>0.010</td>\n",
       "      <td>27.0</td>\n",
       "      <td>111.083</td>\n",
       "      <td>43.456</td>\n",
       "      <td>67.627</td>\n",
       "      <td>408.231</td>\n",
       "      <td>10.000</td>\n",
       "      <td>4.105</td>\n",
       "      <td>0.531</td>\n",
       "      <td>...</td>\n",
       "      <td>5.38</td>\n",
       "      <td>(1.16, -27.65, -3.856)</td>\n",
       "      <td>NaN</td>\n",
       "      <td>NaN</td>\n",
       "      <td>(nan, nan, nan)</td>\n",
       "      <td>NaN</td>\n",
       "      <td>(1.172, -30.192, -5.954)</td>\n",
       "      <td>NaN</td>\n",
       "      <td>(0.958, -29.534, -5.994)</td>\n",
       "      <td>0.693080</td>\n",
       "    </tr>\n",
       "    <tr>\n",
       "      <th>84301</th>\n",
       "      <td>-0.027</td>\n",
       "      <td>0.008</td>\n",
       "      <td>16.0</td>\n",
       "      <td>61.843</td>\n",
       "      <td>7.500</td>\n",
       "      <td>54.343</td>\n",
       "      <td>186.357</td>\n",
       "      <td>9.000</td>\n",
       "      <td>3.886</td>\n",
       "      <td>0.593</td>\n",
       "      <td>...</td>\n",
       "      <td>4.82</td>\n",
       "      <td>(13.59, 12.236, -8.617)</td>\n",
       "      <td>NaN</td>\n",
       "      <td>NaN</td>\n",
       "      <td>(nan, nan, nan)</td>\n",
       "      <td>NaN</td>\n",
       "      <td>(13.966, 14.105, -10.939)</td>\n",
       "      <td>NaN</td>\n",
       "      <td>(13.096, 13.461, -9.843)</td>\n",
       "      <td>1.540406</td>\n",
       "    </tr>\n",
       "    <tr>\n",
       "      <th>84302</th>\n",
       "      <td>-0.220</td>\n",
       "      <td>0.000</td>\n",
       "      <td>23.0</td>\n",
       "      <td>178.278</td>\n",
       "      <td>128.765</td>\n",
       "      <td>49.513</td>\n",
       "      <td>614.053</td>\n",
       "      <td>2.800</td>\n",
       "      <td>4.183</td>\n",
       "      <td>0.504</td>\n",
       "      <td>...</td>\n",
       "      <td>8.50</td>\n",
       "      <td>(6.575, 17.416, 6.333)</td>\n",
       "      <td>NaN</td>\n",
       "      <td>NaN</td>\n",
       "      <td>(nan, nan, nan)</td>\n",
       "      <td>NaN</td>\n",
       "      <td>(6.392, 18.827, 5.404)</td>\n",
       "      <td>NaN</td>\n",
       "      <td>(7.881, 18.275, 5.863)</td>\n",
       "      <td>1.653029</td>\n",
       "    </tr>\n",
       "  </tbody>\n",
       "</table>\n",
       "<p>84303 rows × 41 columns</p>\n",
       "</div>"
      ],
      "text/plain": [
       "       score_fpocket  drug_score  n_alpha_spheres  total_sasa  polar_sasa  \\\n",
       "0              0.276       0.997            134.0     335.271      78.858   \n",
       "1              0.051       0.065             64.0     138.557      62.477   \n",
       "2              0.027       0.007             32.0     122.784      53.949   \n",
       "3              0.012       0.001             23.0      77.051      31.161   \n",
       "4              0.010       0.057             72.0     219.342     104.618   \n",
       "...              ...         ...              ...         ...         ...   \n",
       "84298         -0.013       0.048             24.0      91.170      28.057   \n",
       "84299         -0.022       0.000             23.0     108.186      63.504   \n",
       "84300         -0.023       0.010             27.0     111.083      43.456   \n",
       "84301         -0.027       0.008             16.0      61.843       7.500   \n",
       "84302         -0.220       0.000             23.0     178.278     128.765   \n",
       "\n",
       "       apolar_sasa  volume_fpocket  mean_hydro_density  mean_alpha_sphere_r  \\\n",
       "0          256.413        1190.393              49.084                3.930   \n",
       "1           76.081         458.269              24.077                3.831   \n",
       "2           68.835         443.436              13.765                3.999   \n",
       "3           45.890         292.336               7.000                3.900   \n",
       "4          114.725         737.698              21.034                3.956   \n",
       "...            ...             ...                 ...                  ...   \n",
       "84298       63.113         259.808              15.000                3.952   \n",
       "84299       44.682         347.514               2.000                4.138   \n",
       "84300       67.627         408.231              10.000                4.105   \n",
       "84301       54.343         186.357               9.000                3.886   \n",
       "84302       49.513         614.053               2.800                4.183   \n",
       "\n",
       "       mean_alpha_sphere_solvent_acc  ...  RoG_fpocket  \\\n",
       "0                              0.537  ...        11.82   \n",
       "1                              0.425  ...         7.62   \n",
       "2                              0.542  ...         6.97   \n",
       "3                              0.705  ...         6.14   \n",
       "4                              0.536  ...         8.41   \n",
       "...                              ...  ...          ...   \n",
       "84298                          0.535  ...         6.74   \n",
       "84299                          0.589  ...         5.30   \n",
       "84300                          0.531  ...         5.38   \n",
       "84301                          0.593  ...         4.82   \n",
       "84302                          0.504  ...         8.50   \n",
       "\n",
       "            centre_fpocket_trans  RoG_deep         centre_deep_trans  \\\n",
       "0        (-2.796, -5.967, 0.473)      9.49   (0.455, -9.152, -1.842)   \n",
       "1          (2.074, -0.175, 6.92)       NaN                       NaN   \n",
       "2        (-1.715, 8.718, -5.534)      8.15  (-3.342, 10.412, -5.834)   \n",
       "3        (-8.991, 13.675, 8.656)      6.30      (-8.456, 13.39, 8.7)   \n",
       "4        (10.194, 15.764, 2.822)      7.08   (12.084, 15.466, 0.742)   \n",
       "...                          ...       ...                       ...   \n",
       "84298    (18.723, 9.265, -4.597)       NaN                       NaN   \n",
       "84299  (-21.025, 24.726, -0.089)       NaN                       NaN   \n",
       "84300     (1.16, -27.65, -3.856)       NaN                       NaN   \n",
       "84301    (13.59, 12.236, -8.617)       NaN                       NaN   \n",
       "84302     (6.575, 17.416, 6.333)       NaN                       NaN   \n",
       "\n",
       "                     centre_mat  distance             barycentre_mat  \\\n",
       "0       (0.308, -9.296, -1.867)  0.207292     (-3.763, -7.518, 0.54)   \n",
       "1               (nan, nan, nan)       NaN     (1.808, -0.909, 7.267)   \n",
       "2      (-3.866, 10.545, -6.463)  0.829401    (-1.927, 9.598, -8.223)   \n",
       "3        (-8.622, 12.35, 9.031)  1.103955    (-9.278, 14.631, 10.88)   \n",
       "4       (11.983, 15.093, 0.936)  0.432396    (12.374, 16.213, 4.525)   \n",
       "...                         ...       ...                        ...   \n",
       "84298           (nan, nan, nan)       NaN    (19.847, 9.786, -4.102)   \n",
       "84299           (nan, nan, nan)       NaN    (-21.392, 23.205, 1.78)   \n",
       "84300           (nan, nan, nan)       NaN   (1.172, -30.192, -5.954)   \n",
       "84301           (nan, nan, nan)       NaN  (13.966, 14.105, -10.939)   \n",
       "84302           (nan, nan, nan)       NaN     (6.392, 18.827, 5.404)   \n",
       "\n",
       "       barycentre_distance        centre_fpocket_mat  dist_fpocket_mat  \n",
       "0                 5.052522   (-4.198, -6.401, 0.526)          1.198795  \n",
       "1                      NaN    (1.478, -0.948, 6.948)          0.460632  \n",
       "2                 2.784624   (-1.437, 8.638, -6.879)          1.722799  \n",
       "3                 3.008670   (-9.022, 14.816, 9.122)          1.786148  \n",
       "4                 3.779974    (11.031, 16.01, 3.905)          1.493070  \n",
       "...                    ...                       ...               ...  \n",
       "84298                  NaN   (19.691, 9.186, -4.247)          0.636680  \n",
       "84299                  NaN  (-20.157, 23.068, 0.075)          2.109744  \n",
       "84300                  NaN  (0.958, -29.534, -5.994)          0.693080  \n",
       "84301                  NaN  (13.096, 13.461, -9.843)          1.540406  \n",
       "84302                  NaN    (7.881, 18.275, 5.863)          1.653029  \n",
       "\n",
       "[84303 rows x 41 columns]"
      ]
     },
     "execution_count": 129,
     "metadata": {},
     "output_type": "execute_result"
    }
   ],
   "source": [
    "all_fpockets"
   ]
  },
  {
   "cell_type": "code",
   "execution_count": 122,
   "id": "158492e9-de87-4d7e-ab12-6de9ca41ec80",
   "metadata": {},
   "outputs": [],
   "source": [
    "all_fpockets['barycentre_mat'] = all_fpockets.apply(apply_rotation_barycentre, axis=1)\n",
    "all_fpockets['barycentre_distance'] = all_fpockets.apply(calculate_barycentre_distance, axis=1)"
   ]
  },
  {
   "cell_type": "code",
   "execution_count": 128,
   "id": "d1d1ec9a-0d54-4446-b68d-4116ccf7056b",
   "metadata": {},
   "outputs": [],
   "source": [
    "all_fpockets['centre_fpocket_mat'] = all_fpockets.apply(apply_rotation_fpocket_centre, axis=1)\n",
    "all_fpockets['dist_fpocket_mat'] = all_fpockets.apply(calculate_fpocket_mat_distance, axis=1)"
   ]
  },
  {
   "cell_type": "code",
   "execution_count": 132,
   "id": "ba209f4e-859d-461c-84f3-68447ce96d98",
   "metadata": {},
   "outputs": [
    {
     "data": {
      "text/plain": [
       "0"
      ]
     },
     "execution_count": 132,
     "metadata": {},
     "output_type": "execute_result"
    }
   ],
   "source": [
    "len(all_fpockets.query('barycentre_mat != barycentre_mat'))"
   ]
  },
  {
   "cell_type": "markdown",
   "id": "11093818-b6c5-478f-982f-ec8c9627265f",
   "metadata": {},
   "source": [
    "## Translating and rotating DeepPocket predicted centroids"
   ]
  },
  {
   "cell_type": "code",
   "execution_count": 91,
   "id": "766800b6-0e59-4723-ae88-0ef67909f129",
   "metadata": {},
   "outputs": [],
   "source": [
    "all_fpockets['centre_mat'] = all_fpockets.apply(apply_rotation, axis=1)\n",
    "all_fpockets['distance'] = all_fpockets.apply(calculate_distance, axis=1)"
   ]
  },
  {
   "cell_type": "code",
   "execution_count": 131,
   "id": "65e7da9e-b96a-4f0c-a0d3-5cd6c46a2ac5",
   "metadata": {},
   "outputs": [
    {
     "data": {
      "text/plain": [
       "57716"
      ]
     },
     "execution_count": 131,
     "metadata": {},
     "output_type": "execute_result"
    }
   ],
   "source": [
    "len(all_fpockets.query('centre_deep_trans != centre_deep_trans'))"
   ]
  },
  {
   "cell_type": "code",
   "execution_count": 92,
   "id": "df81189e-e1e1-4766-b478-e473117eeb8e",
   "metadata": {},
   "outputs": [
    {
     "data": {
      "text/html": [
       "<div>\n",
       "<style scoped>\n",
       "    .dataframe tbody tr th:only-of-type {\n",
       "        vertical-align: middle;\n",
       "    }\n",
       "\n",
       "    .dataframe tbody tr th {\n",
       "        vertical-align: top;\n",
       "    }\n",
       "\n",
       "    .dataframe thead th {\n",
       "        text-align: right;\n",
       "    }\n",
       "</style>\n",
       "<table border=\"1\" class=\"dataframe\">\n",
       "  <thead>\n",
       "    <tr style=\"text-align: right;\">\n",
       "      <th></th>\n",
       "      <th>score_fpocket</th>\n",
       "      <th>drug_score</th>\n",
       "      <th>n_alpha_spheres</th>\n",
       "      <th>total_sasa</th>\n",
       "      <th>polar_sasa</th>\n",
       "      <th>apolar_sasa</th>\n",
       "      <th>volume_fpocket</th>\n",
       "      <th>mean_hydro_density</th>\n",
       "      <th>mean_alpha_sphere_r</th>\n",
       "      <th>mean_alpha_sphere_solvent_acc</th>\n",
       "      <th>...</th>\n",
       "      <th>centre_fpocket</th>\n",
       "      <th>aas_deep</th>\n",
       "      <th>n_aas_deep</th>\n",
       "      <th>centre_deep2</th>\n",
       "      <th>RoG_fpocket</th>\n",
       "      <th>centre_fpocket_trans</th>\n",
       "      <th>RoG_deep</th>\n",
       "      <th>centre_deep_trans</th>\n",
       "      <th>centre_mat</th>\n",
       "      <th>distance</th>\n",
       "    </tr>\n",
       "  </thead>\n",
       "  <tbody>\n",
       "    <tr>\n",
       "      <th>0</th>\n",
       "      <td>0.276</td>\n",
       "      <td>0.997</td>\n",
       "      <td>134.0</td>\n",
       "      <td>335.271</td>\n",
       "      <td>78.858</td>\n",
       "      <td>256.413</td>\n",
       "      <td>1190.393</td>\n",
       "      <td>49.084</td>\n",
       "      <td>3.930</td>\n",
       "      <td>0.537</td>\n",
       "      <td>...</td>\n",
       "      <td>(100.735, 15.502, 99.089)</td>\n",
       "      <td>[47, 50, 51, 53, 54, 55, 57, 58, 87, 88, 91, 9...</td>\n",
       "      <td>29.0</td>\n",
       "      <td>(105.763, 14.673, 96.183)</td>\n",
       "      <td>11.82</td>\n",
       "      <td>(-2.796, -5.967, 0.473)</td>\n",
       "      <td>9.49</td>\n",
       "      <td>(0.455, -9.152, -1.842)</td>\n",
       "      <td>(0.308, -9.296, -1.867)</td>\n",
       "      <td>0.207292</td>\n",
       "    </tr>\n",
       "    <tr>\n",
       "      <th>1</th>\n",
       "      <td>0.051</td>\n",
       "      <td>0.065</td>\n",
       "      <td>64.0</td>\n",
       "      <td>138.557</td>\n",
       "      <td>62.477</td>\n",
       "      <td>76.081</td>\n",
       "      <td>458.269</td>\n",
       "      <td>24.077</td>\n",
       "      <td>3.831</td>\n",
       "      <td>0.425</td>\n",
       "      <td>...</td>\n",
       "      <td>(103.727, 24.016, 103.754)</td>\n",
       "      <td>NaN</td>\n",
       "      <td>NaN</td>\n",
       "      <td>NaN</td>\n",
       "      <td>7.62</td>\n",
       "      <td>(2.074, -0.175, 6.92)</td>\n",
       "      <td>NaN</td>\n",
       "      <td>NaN</td>\n",
       "      <td>(nan, nan, nan)</td>\n",
       "      <td>NaN</td>\n",
       "    </tr>\n",
       "    <tr>\n",
       "      <th>2</th>\n",
       "      <td>0.027</td>\n",
       "      <td>0.007</td>\n",
       "      <td>32.0</td>\n",
       "      <td>122.784</td>\n",
       "      <td>53.949</td>\n",
       "      <td>68.835</td>\n",
       "      <td>443.436</td>\n",
       "      <td>13.765</td>\n",
       "      <td>3.999</td>\n",
       "      <td>0.542</td>\n",
       "      <td>...</td>\n",
       "      <td>(94.882, 28.506, 89.855)</td>\n",
       "      <td>[155, 159, 160, 163, 180, 183, 184, 187, 212, ...</td>\n",
       "      <td>12.0</td>\n",
       "      <td>(91.899, 29.098, 90.534)</td>\n",
       "      <td>6.97</td>\n",
       "      <td>(-1.715, 8.718, -5.534)</td>\n",
       "      <td>8.15</td>\n",
       "      <td>(-3.342, 10.412, -5.834)</td>\n",
       "      <td>(-3.866, 10.545, -6.463)</td>\n",
       "      <td>0.829401</td>\n",
       "    </tr>\n",
       "  </tbody>\n",
       "</table>\n",
       "<p>3 rows × 37 columns</p>\n",
       "</div>"
      ],
      "text/plain": [
       "   score_fpocket  drug_score  n_alpha_spheres  total_sasa  polar_sasa  \\\n",
       "0          0.276       0.997            134.0     335.271      78.858   \n",
       "1          0.051       0.065             64.0     138.557      62.477   \n",
       "2          0.027       0.007             32.0     122.784      53.949   \n",
       "\n",
       "   apolar_sasa  volume_fpocket  mean_hydro_density  mean_alpha_sphere_r  \\\n",
       "0      256.413        1190.393              49.084                3.930   \n",
       "1       76.081         458.269              24.077                3.831   \n",
       "2       68.835         443.436              13.765                3.999   \n",
       "\n",
       "   mean_alpha_sphere_solvent_acc  ...              centre_fpocket  \\\n",
       "0                          0.537  ...   (100.735, 15.502, 99.089)   \n",
       "1                          0.425  ...  (103.727, 24.016, 103.754)   \n",
       "2                          0.542  ...    (94.882, 28.506, 89.855)   \n",
       "\n",
       "                                            aas_deep  n_aas_deep  \\\n",
       "0  [47, 50, 51, 53, 54, 55, 57, 58, 87, 88, 91, 9...        29.0   \n",
       "1                                                NaN         NaN   \n",
       "2  [155, 159, 160, 163, 180, 183, 184, 187, 212, ...        12.0   \n",
       "\n",
       "                centre_deep2  RoG_fpocket     centre_fpocket_trans  RoG_deep  \\\n",
       "0  (105.763, 14.673, 96.183)        11.82  (-2.796, -5.967, 0.473)      9.49   \n",
       "1                        NaN         7.62    (2.074, -0.175, 6.92)       NaN   \n",
       "2   (91.899, 29.098, 90.534)         6.97  (-1.715, 8.718, -5.534)      8.15   \n",
       "\n",
       "          centre_deep_trans                centre_mat  distance  \n",
       "0   (0.455, -9.152, -1.842)   (0.308, -9.296, -1.867)  0.207292  \n",
       "1                       NaN           (nan, nan, nan)       NaN  \n",
       "2  (-3.342, 10.412, -5.834)  (-3.866, 10.545, -6.463)  0.829401  \n",
       "\n",
       "[3 rows x 37 columns]"
      ]
     },
     "execution_count": 92,
     "metadata": {},
     "output_type": "execute_result"
    }
   ],
   "source": [
    "all_fpockets.head(3)"
   ]
  },
  {
   "cell_type": "markdown",
   "id": "1d4a06aa-2815-47d9-8bd7-d2503dfecabb",
   "metadata": {},
   "source": [
    "## Mapping PDB residues to UP residues (FPOCKET POCKETS)"
   ]
  },
  {
   "cell_type": "code",
   "execution_count": 134,
   "id": "a43f3a20-e2a8-4c51-a0b9-28cc27f63f46",
   "metadata": {},
   "outputs": [],
   "source": [
    "up_aas = {}\n",
    "errors = []\n",
    "no_sifts = []\n",
    "for _, row in all_fpockets.iterrows():\n",
    "    b = 0\n",
    "    rep_chain = row.rep_chain\n",
    "    site_ress = row.aas_fpocket\n",
    "    rank = row[\"RANK_fpocket\"]\n",
    "    try:\n",
    "        mapping_dict = read_from_pickle(f'./../DATA/mappings_label_full/{rep_chain}.pkl')\n",
    "    except:\n",
    "        no_sifts.append(rep_chain)\n",
    "    site_up_aas = []\n",
    "    for res in site_ress:\n",
    "        try:\n",
    "            site_up_aas.append(mapping_dict[str(res)]) # I think there are integers here as it is not working with AltLocs, so none are present\n",
    "        except:\n",
    "            errors.append(rep_chain)\n",
    "            b = 1\n",
    "            break\n",
    "    if b ==1:\n",
    "        continue\n",
    "    up_aas[(rep_chain, rank)] = site_up_aas"
   ]
  },
  {
   "cell_type": "code",
   "execution_count": 135,
   "id": "acf8f145-22d8-41e7-bd09-df409b5ce392",
   "metadata": {},
   "outputs": [
    {
     "name": "stdout",
     "output_type": "stream",
     "text": [
      "81196\n",
      "3107\n",
      "4577\n",
      "812\n"
     ]
    }
   ],
   "source": [
    "print(len(up_aas)) #81196\n",
    "print(len(errors)) #3107\n",
    "print(len(no_sifts)) #4577\n",
    "errors = list(set(errors)) # 812 chains have issues with SIFTS mapping, e.g, 1nav_A. For some reason, the last 40 residues lack residue mapping to UniProt\n",
    "print(len(errors)) #812\n",
    "#save_to_pickle(errors, \"./results/DeepPpocket_no_sifts_TRANS.pkl\")"
   ]
  },
  {
   "cell_type": "markdown",
   "id": "af138d73-f9e5-453f-a33b-ca1e86b0f953",
   "metadata": {},
   "source": [
    "## Mapping PDB residues to UP residues (DeepPocket pockets)"
   ]
  },
  {
   "cell_type": "code",
   "execution_count": 137,
   "id": "e4cad482-2b40-428c-acf8-24b1a6f22888",
   "metadata": {},
   "outputs": [],
   "source": [
    "up_aas_DEEP = {}\n",
    "errors_DEEP = []\n",
    "no_sifts_DEEP = []\n",
    "#non_segmented_sifts = []\n",
    "for _, row in all_fpockets.query('aas_deep == aas_deep').iterrows():\n",
    "    b = 0\n",
    "    rep_chain = row.rep_chain\n",
    "    site_ress = row.aas_deep\n",
    "    #print(site_ress)\n",
    "    #if site_ress == np.nan:\n",
    "    #    non_segmented_sifts.append(f\"{rep_chain}_{row.RANK_deep}\")\n",
    "    #    continue\n",
    "    rank = row[\"RANK_deep\"]\n",
    "    try:\n",
    "        mapping_dict = read_from_pickle(f'./../DATA/mappings_label_full/{rep_chain}.pkl')\n",
    "    except:\n",
    "        no_sifts_DEEP.append(rep_chain)\n",
    "    site_up_aas = []\n",
    "    for res in site_ress:\n",
    "        try:\n",
    "            site_up_aas.append(mapping_dict[str(res)]) # I think there are integers here as it is not working with AltLocs, so none are present\n",
    "        except:\n",
    "            errors_DEEP.append(rep_chain)\n",
    "            b = 1\n",
    "            break\n",
    "    if b ==1:\n",
    "        continue\n",
    "    up_aas_DEEP[(rep_chain, rank)] = site_up_aas"
   ]
  },
  {
   "cell_type": "code",
   "execution_count": 138,
   "id": "a9a70f15-9299-47bd-99ed-64e6dbead8b9",
   "metadata": {},
   "outputs": [
    {
     "name": "stdout",
     "output_type": "stream",
     "text": [
      "26083\n",
      "504\n",
      "538\n",
      "267\n"
     ]
    }
   ],
   "source": [
    "print(len(up_aas_DEEP)) #26083\n",
    "print(len(errors_DEEP)) #504\n",
    "print(len(no_sifts_DEEP)) #538\n",
    "errors_DEEP = list(set(errors_DEEP))\n",
    "print(len(errors_DEEP)) #267\n",
    "save_to_pickle(errors_DEEP, \"./results/DeepPocket_no_sifts_TRANS.pkl\")"
   ]
  },
  {
   "cell_type": "code",
   "execution_count": 139,
   "id": "0f1951a6-7f46-4e43-a299-0ad5fa5c43c1",
   "metadata": {},
   "outputs": [],
   "source": [
    "un_errors = sorted(list(set(errors + errors_DEEP)))"
   ]
  },
  {
   "cell_type": "code",
   "execution_count": 140,
   "id": "c679b614-36c6-4d5b-acdc-20682738e344",
   "metadata": {},
   "outputs": [
    {
     "name": "stdout",
     "output_type": "stream",
     "text": [
      "818\n"
     ]
    }
   ],
   "source": [
    "print(len(un_errors))"
   ]
  },
  {
   "cell_type": "code",
   "execution_count": 141,
   "id": "b041ef3d-b384-4cfe-a7df-9e37ce41e9b9",
   "metadata": {},
   "outputs": [
    {
     "data": {
      "text/plain": [
       "['3vzb_A', '3vwd_A', '4rh7_A', '4xo6_A', '7u20_B', '6bq1_A']"
      ]
     },
     "execution_count": 141,
     "metadata": {},
     "output_type": "execute_result"
    }
   ],
   "source": [
    "[el for el in errors_DEEP if el not in errors]"
   ]
  },
  {
   "cell_type": "code",
   "execution_count": 142,
   "id": "7f08ed31-6d44-462a-b90a-d8a1343fde9f",
   "metadata": {},
   "outputs": [],
   "source": [
    "all_fpockets_w_sifts = all_fpockets.query('rep_chain not in @un_errors').copy().reset_index(drop = True)\n",
    "all_fpockets_w_sifts[\"up_aas_fpocket\"] = all_fpockets_w_sifts.set_index(['rep_chain', 'RANK_fpocket']).index.map(up_aas)\n",
    "all_fpockets_w_sifts[\"up_aas_deep\"] = all_fpockets_w_sifts.set_index(['rep_chain', 'RANK_deep']).index.map(up_aas_DEEP)\n",
    "\n",
    "all_fpockets_w_sifts[\"n_up_aas_fpocket\"] = all_fpockets_w_sifts['up_aas_fpocket'].apply(lambda x: len(x))\n",
    "all_fpockets_w_sifts[\"n_up_aas_deep\"] = all_fpockets_w_sifts['up_aas_deep'].apply(lambda x: len(x) if isinstance(x, list) else (np.nan if pd.isna(x) else np.nan))\n",
    "\n",
    "assert all_fpockets_w_sifts.n_aas_fpocket.equals(all_fpockets_w_sifts.n_up_aas_fpocket)\n",
    "assert all_fpockets_w_sifts.n_aas_deep.equals(all_fpockets_w_sifts.n_up_aas_deep)\n",
    "\n",
    "all_fpockets_w_sifts.drop(columns = [\"n_up_aas_fpocket\"], inplace = True)\n",
    "all_fpockets_w_sifts.drop(columns = [\"n_up_aas_deep\"], inplace = True)"
   ]
  },
  {
   "cell_type": "code",
   "execution_count": 145,
   "id": "b53badd7-1ffe-4b65-abff-e321bf64bea9",
   "metadata": {},
   "outputs": [],
   "source": [
    "deeppocket_cols = [\n",
    "    \"rep_chain\", \"ID\",\n",
    "    \"RANK_fpocket\", \"score_fpocket\", \"volume_fpocket\", \"RoG_fpocket\", \"n_aas_fpocket\", \"aas_fpocket\", \"up_aas_fpocket\",  \"centre_fpocket\", \"centre_fpocket_trans\",\n",
    "    \"RANK_deep\", \"score_deep\", \"RoG_deep\", \"n_aas_deep\", \"centre_deep1\", \"centre_deep2\", \"aas_deep\", \"up_aas_deep\", \"centre_mat\", \"barycentre_mat\"\n",
    "]"
   ]
  },
  {
   "cell_type": "code",
   "execution_count": 162,
   "id": "e5c78804-a2ef-491d-9357-648224464571",
   "metadata": {},
   "outputs": [],
   "source": [
    "centroid_cols = [\n",
    "    \"rep_chain\", \"ID\",\n",
    "    \"centre_fpocket\", \n",
    "    \"centre_deep1\", \"centre_deep2\", \"centre_fpocket_trans\", \"centre_fpocket_mat\", \"centre_mat\", \"barycentre_mat\"\n",
    "]"
   ]
  },
  {
   "cell_type": "code",
   "execution_count": 163,
   "id": "f2be12de-d816-44fc-b2c1-486fbd697cf7",
   "metadata": {},
   "outputs": [
    {
     "data": {
      "text/html": [
       "<div>\n",
       "<style scoped>\n",
       "    .dataframe tbody tr th:only-of-type {\n",
       "        vertical-align: middle;\n",
       "    }\n",
       "\n",
       "    .dataframe tbody tr th {\n",
       "        vertical-align: top;\n",
       "    }\n",
       "\n",
       "    .dataframe thead th {\n",
       "        text-align: right;\n",
       "    }\n",
       "</style>\n",
       "<table border=\"1\" class=\"dataframe\">\n",
       "  <thead>\n",
       "    <tr style=\"text-align: right;\">\n",
       "      <th></th>\n",
       "      <th>rep_chain</th>\n",
       "      <th>ID</th>\n",
       "      <th>centre_fpocket</th>\n",
       "      <th>centre_deep1</th>\n",
       "      <th>centre_deep2</th>\n",
       "      <th>centre_fpocket_trans</th>\n",
       "      <th>centre_fpocket_mat</th>\n",
       "      <th>centre_mat</th>\n",
       "      <th>barycentre_mat</th>\n",
       "    </tr>\n",
       "  </thead>\n",
       "  <tbody>\n",
       "    <tr>\n",
       "      <th>0</th>\n",
       "      <td>1a52_A</td>\n",
       "      <td>1</td>\n",
       "      <td>(100.735, 15.502, 99.089)</td>\n",
       "      <td>(101.66, 14.74, 99.13)</td>\n",
       "      <td>(105.763, 14.673, 96.183)</td>\n",
       "      <td>(-2.796, -5.967, 0.473)</td>\n",
       "      <td>(-4.198, -6.401, 0.526)</td>\n",
       "      <td>(0.308, -9.296, -1.867)</td>\n",
       "      <td>(-3.763, -7.518, 0.54)</td>\n",
       "    </tr>\n",
       "    <tr>\n",
       "      <th>1</th>\n",
       "      <td>1a52_A</td>\n",
       "      <td>2</td>\n",
       "      <td>(103.727, 24.016, 103.754)</td>\n",
       "      <td>(104.03, 24.26, 104.0)</td>\n",
       "      <td>NaN</td>\n",
       "      <td>(2.074, -0.175, 6.92)</td>\n",
       "      <td>(1.478, -0.948, 6.948)</td>\n",
       "      <td>(nan, nan, nan)</td>\n",
       "      <td>(1.808, -0.909, 7.267)</td>\n",
       "    </tr>\n",
       "    <tr>\n",
       "      <th>2</th>\n",
       "      <td>1a52_A</td>\n",
       "      <td>3</td>\n",
       "      <td>(94.882, 28.506, 89.855)</td>\n",
       "      <td>(93.83, 28.87, 88.54)</td>\n",
       "      <td>(91.899, 29.098, 90.534)</td>\n",
       "      <td>(-1.715, 8.718, -5.534)</td>\n",
       "      <td>(-1.437, 8.638, -6.879)</td>\n",
       "      <td>(-3.866, 10.545, -6.463)</td>\n",
       "      <td>(-1.927, 9.598, -8.223)</td>\n",
       "    </tr>\n",
       "  </tbody>\n",
       "</table>\n",
       "</div>"
      ],
      "text/plain": [
       "  rep_chain  ID              centre_fpocket            centre_deep1  \\\n",
       "0    1a52_A   1   (100.735, 15.502, 99.089)  (101.66, 14.74, 99.13)   \n",
       "1    1a52_A   2  (103.727, 24.016, 103.754)  (104.03, 24.26, 104.0)   \n",
       "2    1a52_A   3    (94.882, 28.506, 89.855)   (93.83, 28.87, 88.54)   \n",
       "\n",
       "                centre_deep2     centre_fpocket_trans  \\\n",
       "0  (105.763, 14.673, 96.183)  (-2.796, -5.967, 0.473)   \n",
       "1                        NaN    (2.074, -0.175, 6.92)   \n",
       "2   (91.899, 29.098, 90.534)  (-1.715, 8.718, -5.534)   \n",
       "\n",
       "        centre_fpocket_mat                centre_mat           barycentre_mat  \n",
       "0  (-4.198, -6.401, 0.526)   (0.308, -9.296, -1.867)   (-3.763, -7.518, 0.54)  \n",
       "1   (1.478, -0.948, 6.948)           (nan, nan, nan)   (1.808, -0.909, 7.267)  \n",
       "2  (-1.437, 8.638, -6.879)  (-3.866, 10.545, -6.463)  (-1.927, 9.598, -8.223)  "
      ]
     },
     "execution_count": 163,
     "metadata": {},
     "output_type": "execute_result"
    }
   ],
   "source": [
    "all_fpockets_w_sifts[centroid_cols].head(3)"
   ]
  },
  {
   "cell_type": "code",
   "execution_count": 175,
   "id": "d8a4dbe7-9da8-4049-a3bd-2316e86dfbf4",
   "metadata": {},
   "outputs": [
    {
     "name": "stdout",
     "output_type": "stream",
     "text": [
      "23615\n"
     ]
    },
    {
     "data": {
      "image/png": "[encoded data removed]",
      "text/plain": [
       "<Figure size 900x450 with 1 Axes>"
      ]
     },
     "metadata": {},
     "output_type": "display_data"
    }
   ],
   "source": [
    "plot_euclidean_histogram(all_fpockets_w_sifts, \"centre_deep_trans\", \"centre_mat\", \"cyan\")\n",
    "# this is because centre_fpocket comes from fpocket pocket atoms, and centre_fpocket_trans comes from all CA of residedues in centre_fpocket"
   ]
  },
  {
   "cell_type": "code",
   "execution_count": 164,
   "id": "c6a1deaa-50ff-4f5b-80bb-4de8834a01d3",
   "metadata": {},
   "outputs": [
    {
     "name": "stdout",
     "output_type": "stream",
     "text": [
      "72265\n"
     ]
    },
    {
     "data": {
      "image/png": "[encoded data removed]",
      "text/plain": [
       "<Figure size 900x450 with 1 Axes>"
      ]
     },
     "metadata": {},
     "output_type": "display_data"
    }
   ],
   "source": [
    "plot_euclidean_histogram(all_fpockets_w_sifts, \"centre_fpocket_trans\", \"centre_fpocket_mat\", \"cyan\")\n",
    "# this is because centre_fpocket comes from fpocket pocket atoms, and centre_fpocket_trans comes from all CA of residedues in centre_fpocket"
   ]
  },
  {
   "cell_type": "code",
   "execution_count": 173,
   "id": "8b80d98e-9b54-4576-b7a3-71565ca3b5a0",
   "metadata": {},
   "outputs": [
    {
     "name": "stdout",
     "output_type": "stream",
     "text": [
      "72265\n"
     ]
    },
    {
     "data": {
      "image/png": "[encoded data removed]",
      "text/plain": [
       "<Figure size 900x450 with 1 Axes>"
      ]
     },
     "metadata": {},
     "output_type": "display_data"
    }
   ],
   "source": [
    "plot_euclidean_histogram(all_fpockets_w_sifts, \"centre_fpocket\", \"centre_deep1\")"
   ]
  },
  {
   "cell_type": "code",
   "execution_count": 174,
   "id": "782845a1-d431-4c08-940f-5deeaa71c83c",
   "metadata": {},
   "outputs": [
    {
     "name": "stdout",
     "output_type": "stream",
     "text": [
      "72265\n"
     ]
    },
    {
     "data": {
      "image/png": "[encoded data removed]",
      "text/plain": [
       "<Figure size 900x450 with 1 Axes>"
      ]
     },
     "metadata": {},
     "output_type": "display_data"
    }
   ],
   "source": [
    "plot_euclidean_histogram(all_fpockets_w_sifts, \"centre_fpocket_mat\", \"barycentre_mat\", \"cyan\")"
   ]
  },
  {
   "cell_type": "code",
   "execution_count": 158,
   "id": "d0d960be-535c-420f-a277-aba078b6c7d5",
   "metadata": {},
   "outputs": [
    {
     "name": "stdout",
     "output_type": "stream",
     "text": [
      "23615\n"
     ]
    },
    {
     "data": {
      "image/png": "[encoded data removed]",
      "text/plain": [
       "<Figure size 900x450 with 1 Axes>"
      ]
     },
     "metadata": {},
     "output_type": "display_data"
    }
   ],
   "source": [
    "plot_euclidean_histogram(all_fpockets_w_sifts, \"centre_deep1\", \"centre_deep2\")"
   ]
  },
  {
   "cell_type": "code",
   "execution_count": 170,
   "id": "0a1adde3-1e4f-4c09-9938-6181c98f4171",
   "metadata": {},
   "outputs": [
    {
     "name": "stdout",
     "output_type": "stream",
     "text": [
      "23615\n"
     ]
    },
    {
     "data": {
      "image/png": "[encoded data removed]",
      "text/plain": [
       "<Figure size 900x450 with 1 Axes>"
      ]
     },
     "metadata": {},
     "output_type": "display_data"
    }
   ],
   "source": [
    "plot_euclidean_histogram(all_fpockets_w_sifts, \"barycentre_mat\", \"centre_mat\", \"cyan\")"
   ]
  },
  {
   "cell_type": "code",
   "execution_count": 160,
   "id": "2adf8783-697b-4de3-8ed7-2448ff4a9e0a",
   "metadata": {},
   "outputs": [],
   "source": [
    "def plot_euclidean_histogram(df, col1, col2, color = \"orange\"):\n",
    "    # Helper function to calculate Euclidean distance\n",
    "    def euclidean_distance(row):\n",
    "        p1, p2 = row[col1], row[col2]\n",
    "        return np.sqrt(np.sum((np.array(p1) - np.array(p2))**2))\n",
    "\n",
    "    # Apply the distance calculation and drop NaN values\n",
    "    df['IMP_DIST'] = df.apply(euclidean_distance, axis=1)\n",
    "    distances = df['IMP_DIST'].dropna()\n",
    "    print(len(distances))\n",
    "\n",
    "    # Plotting the histogram\n",
    "    plt.figure(figsize=(6,3), dpi=150)\n",
    "    sns.histplot(distances, bins=100, stat=\"proportion\", color=color)\n",
    "    #plt.title(\"Distance Histogram\")\n",
    "    plt.xlabel(f\"Distance between {col1} and {col2}\")\n",
    "    plt.ylabel(\"Proportion\")\n",
    "    plt.show()"
   ]
  },
  {
   "cell_type": "code",
   "execution_count": 146,
   "id": "d8202d0a-ed21-4a19-8179-03899d242cfa",
   "metadata": {},
   "outputs": [
    {
     "data": {
      "text/html": [
       "<div>\n",
       "<style scoped>\n",
       "    .dataframe tbody tr th:only-of-type {\n",
       "        vertical-align: middle;\n",
       "    }\n",
       "\n",
       "    .dataframe tbody tr th {\n",
       "        vertical-align: top;\n",
       "    }\n",
       "\n",
       "    .dataframe thead th {\n",
       "        text-align: right;\n",
       "    }\n",
       "</style>\n",
       "<table border=\"1\" class=\"dataframe\">\n",
       "  <thead>\n",
       "    <tr style=\"text-align: right;\">\n",
       "      <th></th>\n",
       "      <th>rep_chain</th>\n",
       "      <th>ID</th>\n",
       "      <th>RANK_fpocket</th>\n",
       "      <th>score_fpocket</th>\n",
       "      <th>volume_fpocket</th>\n",
       "      <th>RoG_fpocket</th>\n",
       "      <th>n_aas_fpocket</th>\n",
       "      <th>aas_fpocket</th>\n",
       "      <th>up_aas_fpocket</th>\n",
       "      <th>centre_fpocket</th>\n",
       "      <th>...</th>\n",
       "      <th>RANK_deep</th>\n",
       "      <th>score_deep</th>\n",
       "      <th>RoG_deep</th>\n",
       "      <th>n_aas_deep</th>\n",
       "      <th>centre_deep1</th>\n",
       "      <th>centre_deep2</th>\n",
       "      <th>aas_deep</th>\n",
       "      <th>up_aas_deep</th>\n",
       "      <th>centre_mat</th>\n",
       "      <th>barycentre_mat</th>\n",
       "    </tr>\n",
       "  </thead>\n",
       "  <tbody>\n",
       "    <tr>\n",
       "      <th>0</th>\n",
       "      <td>1a52_A</td>\n",
       "      <td>1</td>\n",
       "      <td>1</td>\n",
       "      <td>0.276</td>\n",
       "      <td>1190.393</td>\n",
       "      <td>11.82</td>\n",
       "      <td>32</td>\n",
       "      <td>[47, 50, 51, 53, 54, 55, 57, 58, 62, 66, 71, 7...</td>\n",
       "      <td>[343, 346, 347, 349, 350, 351, 353, 354, 358, ...</td>\n",
       "      <td>(100.735, 15.502, 99.089)</td>\n",
       "      <td>...</td>\n",
       "      <td>1</td>\n",
       "      <td>0.973307</td>\n",
       "      <td>9.49</td>\n",
       "      <td>29.0</td>\n",
       "      <td>(101.66, 14.74, 99.13)</td>\n",
       "      <td>(105.763, 14.673, 96.183)</td>\n",
       "      <td>[47, 50, 51, 53, 54, 55, 57, 58, 87, 88, 91, 9...</td>\n",
       "      <td>[343, 346, 347, 349, 350, 351, 353, 354, 383, ...</td>\n",
       "      <td>(0.308, -9.296, -1.867)</td>\n",
       "      <td>(-3.763, -7.518, 0.54)</td>\n",
       "    </tr>\n",
       "    <tr>\n",
       "      <th>1</th>\n",
       "      <td>1a52_A</td>\n",
       "      <td>2</td>\n",
       "      <td>2</td>\n",
       "      <td>0.051</td>\n",
       "      <td>458.269</td>\n",
       "      <td>7.62</td>\n",
       "      <td>15</td>\n",
       "      <td>[27, 28, 29, 30, 31, 57, 60, 61, 90, 91, 94, 9...</td>\n",
       "      <td>[323, 324, 325, 326, 327, 353, 356, 357, 386, ...</td>\n",
       "      <td>(103.727, 24.016, 103.754)</td>\n",
       "      <td>...</td>\n",
       "      <td>3</td>\n",
       "      <td>0.197817</td>\n",
       "      <td>NaN</td>\n",
       "      <td>NaN</td>\n",
       "      <td>(104.03, 24.26, 104.0)</td>\n",
       "      <td>NaN</td>\n",
       "      <td>NaN</td>\n",
       "      <td>NaN</td>\n",
       "      <td>(nan, nan, nan)</td>\n",
       "      <td>(1.808, -0.909, 7.267)</td>\n",
       "    </tr>\n",
       "    <tr>\n",
       "      <th>2</th>\n",
       "      <td>1a52_A</td>\n",
       "      <td>3</td>\n",
       "      <td>3</td>\n",
       "      <td>0.027</td>\n",
       "      <td>443.436</td>\n",
       "      <td>6.97</td>\n",
       "      <td>10</td>\n",
       "      <td>[155, 156, 159, 160, 183, 187, 212, 215, 216, ...</td>\n",
       "      <td>[451, 452, 455, 456, 479, 483, 508, 511, 512, ...</td>\n",
       "      <td>(94.882, 28.506, 89.855)</td>\n",
       "      <td>...</td>\n",
       "      <td>2</td>\n",
       "      <td>0.200280</td>\n",
       "      <td>8.15</td>\n",
       "      <td>12.0</td>\n",
       "      <td>(93.83, 28.87, 88.54)</td>\n",
       "      <td>(91.899, 29.098, 90.534)</td>\n",
       "      <td>[155, 159, 160, 163, 180, 183, 184, 187, 212, ...</td>\n",
       "      <td>[451, 455, 456, 459, 476, 479, 480, 483, 508, ...</td>\n",
       "      <td>(-3.866, 10.545, -6.463)</td>\n",
       "      <td>(-1.927, 9.598, -8.223)</td>\n",
       "    </tr>\n",
       "  </tbody>\n",
       "</table>\n",
       "<p>3 rows × 21 columns</p>\n",
       "</div>"
      ],
      "text/plain": [
       "  rep_chain  ID  RANK_fpocket  score_fpocket  volume_fpocket  RoG_fpocket  \\\n",
       "0    1a52_A   1             1          0.276        1190.393        11.82   \n",
       "1    1a52_A   2             2          0.051         458.269         7.62   \n",
       "2    1a52_A   3             3          0.027         443.436         6.97   \n",
       "\n",
       "   n_aas_fpocket                                        aas_fpocket  \\\n",
       "0             32  [47, 50, 51, 53, 54, 55, 57, 58, 62, 66, 71, 7...   \n",
       "1             15  [27, 28, 29, 30, 31, 57, 60, 61, 90, 91, 94, 9...   \n",
       "2             10  [155, 156, 159, 160, 183, 187, 212, 215, 216, ...   \n",
       "\n",
       "                                      up_aas_fpocket  \\\n",
       "0  [343, 346, 347, 349, 350, 351, 353, 354, 358, ...   \n",
       "1  [323, 324, 325, 326, 327, 353, 356, 357, 386, ...   \n",
       "2  [451, 452, 455, 456, 479, 483, 508, 511, 512, ...   \n",
       "\n",
       "               centre_fpocket  ... RANK_deep  score_deep  RoG_deep  \\\n",
       "0   (100.735, 15.502, 99.089)  ...         1    0.973307      9.49   \n",
       "1  (103.727, 24.016, 103.754)  ...         3    0.197817       NaN   \n",
       "2    (94.882, 28.506, 89.855)  ...         2    0.200280      8.15   \n",
       "\n",
       "   n_aas_deep            centre_deep1               centre_deep2  \\\n",
       "0        29.0  (101.66, 14.74, 99.13)  (105.763, 14.673, 96.183)   \n",
       "1         NaN  (104.03, 24.26, 104.0)                        NaN   \n",
       "2        12.0   (93.83, 28.87, 88.54)   (91.899, 29.098, 90.534)   \n",
       "\n",
       "                                            aas_deep  \\\n",
       "0  [47, 50, 51, 53, 54, 55, 57, 58, 87, 88, 91, 9...   \n",
       "1                                                NaN   \n",
       "2  [155, 159, 160, 163, 180, 183, 184, 187, 212, ...   \n",
       "\n",
       "                                         up_aas_deep  \\\n",
       "0  [343, 346, 347, 349, 350, 351, 353, 354, 383, ...   \n",
       "1                                                NaN   \n",
       "2  [451, 455, 456, 459, 476, 479, 480, 483, 508, ...   \n",
       "\n",
       "                 centre_mat           barycentre_mat  \n",
       "0   (0.308, -9.296, -1.867)   (-3.763, -7.518, 0.54)  \n",
       "1           (nan, nan, nan)   (1.808, -0.909, 7.267)  \n",
       "2  (-3.866, 10.545, -6.463)  (-1.927, 9.598, -8.223)  \n",
       "\n",
       "[3 rows x 21 columns]"
      ]
     },
     "execution_count": 146,
     "metadata": {},
     "output_type": "execute_result"
    }
   ],
   "source": [
    "all_fpockets_w_sifts[deeppocket_cols].head(3)"
   ]
  },
  {
   "cell_type": "code",
   "execution_count": 151,
   "id": "f5b75afe-51f1-4370-a658-12764e934ed4",
   "metadata": {},
   "outputs": [
    {
     "data": {
      "text/plain": [
       "3571"
      ]
     },
     "execution_count": 151,
     "metadata": {},
     "output_type": "execute_result"
    }
   ],
   "source": [
    "len(all_fpockets_w_sifts.rep_chain.unique())"
   ]
  },
  {
   "cell_type": "code",
   "execution_count": 119,
   "id": "95c4af1e-8dfd-4363-a3c3-98bf1eac4e2c",
   "metadata": {},
   "outputs": [],
   "source": [
    "#all_fpockets_w_sifts.to_pickle(\"./results/deeppocket_pockets_sifted_V2.pkl\")"
   ]
  },
  {
   "cell_type": "code",
   "execution_count": 127,
   "id": "677d099f-35b3-4360-b955-d18cd427ce0d",
   "metadata": {},
   "outputs": [],
   "source": [
    "# all_fpockets_w_sifts_SASA.drop(\n",
    "#     columns=[\n",
    "#         'centre_deeppocket_trans',\n",
    "#        ],\n",
    "#     inplace=True\n",
    "# )"
   ]
  },
  {
   "cell_type": "markdown",
   "id": "de1a3b23-4620-4e1e-ab94-96e72ff7c716",
   "metadata": {},
   "source": [
    "## Add pocket surface and volumes"
   ]
  },
  {
   "cell_type": "code",
   "execution_count": 152,
   "id": "d9450e72-8bcc-484e-9c65-cfcf55105bd1",
   "metadata": {},
   "outputs": [],
   "source": [
    "import importlib\n",
    "import JSU_lib\n",
    "importlib.reload(JSU_lib)\n",
    "from JSU_lib import *\n",
    "\n",
    "bad_reps = read_from_pickle(\"./results/OLD/other_errrors_reps.pkl\")\n",
    "\n",
    "#all_deeppockets_w_sifts = pd.read_pickle(\"./results/deeppocket_pockets_sifted_V2.pkl\")\n",
    "\n",
    "master_SASA_dict = read_from_pickle(\"./results/master_SASA_dict.pkl\")\n",
    "\n",
    "all_fpockets_w_sifts_SASA = calculate_total_sasa(all_fpockets_w_sifts, master_SASA_dict, column = 'aas_deep')\n",
    "\n",
    "vols_dict = read_from_pickle(\"./results/DeepPocket_volumes_dict.pkl\")\n",
    "\n",
    "all_fpockets_w_sifts_SASA[\"VOL\"] = all_fpockets_w_sifts_SASA.set_index(['rep_chain', 'ID']).index.map(vols_dict)"
   ]
  },
  {
   "cell_type": "code",
   "execution_count": 153,
   "id": "e8b907c5-cd5b-4a3a-aafd-532c0f4ed8e5",
   "metadata": {},
   "outputs": [
    {
     "data": {
      "text/html": [
       "<div>\n",
       "<style scoped>\n",
       "    .dataframe tbody tr th:only-of-type {\n",
       "        vertical-align: middle;\n",
       "    }\n",
       "\n",
       "    .dataframe tbody tr th {\n",
       "        vertical-align: top;\n",
       "    }\n",
       "\n",
       "    .dataframe thead th {\n",
       "        text-align: right;\n",
       "    }\n",
       "</style>\n",
       "<table border=\"1\" class=\"dataframe\">\n",
       "  <thead>\n",
       "    <tr style=\"text-align: right;\">\n",
       "      <th></th>\n",
       "      <th>score_fpocket</th>\n",
       "      <th>drug_score</th>\n",
       "      <th>n_alpha_spheres</th>\n",
       "      <th>total_sasa</th>\n",
       "      <th>polar_sasa</th>\n",
       "      <th>apolar_sasa</th>\n",
       "      <th>volume_fpocket</th>\n",
       "      <th>mean_hydro_density</th>\n",
       "      <th>mean_alpha_sphere_r</th>\n",
       "      <th>mean_alpha_sphere_solvent_acc</th>\n",
       "      <th>...</th>\n",
       "      <th>centre_mat</th>\n",
       "      <th>distance</th>\n",
       "      <th>barycentre_mat</th>\n",
       "      <th>barycentre_distance</th>\n",
       "      <th>centre_fpocket_mat</th>\n",
       "      <th>dist_fpocket_mat</th>\n",
       "      <th>up_aas_fpocket</th>\n",
       "      <th>up_aas_deep</th>\n",
       "      <th>SASA</th>\n",
       "      <th>VOL</th>\n",
       "    </tr>\n",
       "  </thead>\n",
       "  <tbody>\n",
       "  </tbody>\n",
       "</table>\n",
       "<p>0 rows × 45 columns</p>\n",
       "</div>"
      ],
      "text/plain": [
       "Empty DataFrame\n",
       "Columns: [score_fpocket, drug_score, n_alpha_spheres, total_sasa, polar_sasa, apolar_sasa, volume_fpocket, mean_hydro_density, mean_alpha_sphere_r, mean_alpha_sphere_solvent_acc, apolar_alpha_sphere_prop, hydro_score, vol_score, polarity_score, charge_score, prop_polar_atoms, alpha_sphere_density, max_dist, flexibility, ID, RANK_fpocket, rep_chain, centre_deep1, RANK_deep, score_deep, aas_fpocket, n_aas_fpocket, centre_fpocket, aas_deep, n_aas_deep, centre_deep2, RoG_fpocket, centre_fpocket_trans, RoG_deep, centre_deep_trans, centre_mat, distance, barycentre_mat, barycentre_distance, centre_fpocket_mat, dist_fpocket_mat, up_aas_fpocket, up_aas_deep, SASA, VOL]\n",
       "Index: []\n",
       "\n",
       "[0 rows x 45 columns]"
      ]
     },
     "execution_count": 153,
     "metadata": {},
     "output_type": "execute_result"
    }
   ],
   "source": [
    "all_fpockets_w_sifts_SASA.query('VOL != VOL & aas_deep == aas_deep & rep_chain not in @bad_reps')"
   ]
  },
  {
   "cell_type": "code",
   "execution_count": 154,
   "id": "8a4c4b36-273a-483f-896a-0c3a6695b966",
   "metadata": {},
   "outputs": [],
   "source": [
    "all_fpockets_w_sifts_SASA.to_pickle(\"./results/DeepPocket_pockets_DEF_TRANS2.pkl\")"
   ]
  },
  {
   "cell_type": "code",
   "execution_count": null,
   "id": "7cdbce2b-8e58-4c7b-952f-1ff1a7ba94d9",
   "metadata": {},
   "outputs": [],
   "source": []
  }
 ],
 "metadata": {
  "kernelspec": {
   "display_name": "Python [conda env:myenv2]",
   "language": "python",
   "name": "conda-env-myenv2-py"
  },
  "language_info": {
   "codemirror_mode": {
    "name": "ipython",
    "version": 3
   },
   "file_extension": ".py",
   "mimetype": "text/x-python",
   "name": "python",
   "nbconvert_exporter": "python",
   "pygments_lexer": "ipython3",
   "version": "3.10.0"
  }
 },
 "nbformat": 4,
 "nbformat_minor": 5
}
