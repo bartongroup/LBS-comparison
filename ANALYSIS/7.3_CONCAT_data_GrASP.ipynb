{
 "cells": [
  {
   "cell_type": "markdown",
   "id": "4042f61b-caab-4bae-bff5-2c94e64c4aa3",
   "metadata": {},
   "source": [
    "## Imports"
   ]
  },
  {
   "cell_type": "code",
   "execution_count": 1,
   "id": "3abf2b2d-3326-4ca2-a653-80d23f7cf17a",
   "metadata": {},
   "outputs": [],
   "source": [
    "from JSU_lib import *"
   ]
  },
  {
   "cell_type": "markdown",
   "id": "d3d5e24b-6316-4f36-b3c7-b1b723c48f98",
   "metadata": {},
   "source": [
    "## Functions"
   ]
  },
  {
   "cell_type": "markdown",
   "id": "b90fca1c-cda4-4d55-93a9-0f375ffaa76c",
   "metadata": {},
   "source": [
    "## Reading input data"
   ]
  },
  {
   "cell_type": "code",
   "execution_count": 2,
   "id": "135fa3e3-c7ed-4893-8281-95e862042117",
   "metadata": {},
   "outputs": [],
   "source": [
    "grasp_pockets = read_from_pickle(\"./results/GrASP_pockets_dict_RIGHT_CLUSTERING.pkl\")\n",
    "grasp_pockets_scores = read_from_pickle(\"./results/GrASP_pocket_scores_dict_RIGHT_CLUSTERING.pkl\")"
   ]
  },
  {
   "cell_type": "code",
   "execution_count": 3,
   "id": "817cf68f-fd06-47eb-9960-37693e93042d",
   "metadata": {},
   "outputs": [
    {
     "data": {
      "text/plain": [
       "4030"
      ]
     },
     "execution_count": 3,
     "metadata": {},
     "output_type": "execute_result"
    }
   ],
   "source": [
    "len(grasp_pockets)"
   ]
  },
  {
   "cell_type": "code",
   "execution_count": 5,
   "id": "7e753738-df25-4200-9426-fe5b4665006e",
   "metadata": {},
   "outputs": [
    {
     "data": {
      "text/plain": [
       "3441"
      ]
     },
     "execution_count": 5,
     "metadata": {},
     "output_type": "execute_result"
    }
   ],
   "source": [
    "LIGYSIS_reps = read_from_pickle(\"./results/LIGYSIS_3448_chains.pkl\")\n",
    "len(set(LIGYSIS_reps).intersection(set(list(grasp_pockets.keys()))))"
   ]
  },
  {
   "cell_type": "code",
   "execution_count": 6,
   "id": "f59e9853-b92f-4624-b2a3-fc31fe60e027",
   "metadata": {},
   "outputs": [],
   "source": [
    "# Converting the nested dictionary to a format suitable for DataFrame\n",
    "rows = []\n",
    "for rep_chain, ids_sites in grasp_pockets.items():\n",
    "    for ID, sites in ids_sites.items():\n",
    "        #print(grasp_pockets_scores[rep_chain])\n",
    "        try:\n",
    "            rankings = {k: rank for rank, (k, v) in enumerate(sorted(grasp_pockets_scores[rep_chain].items(), key=lambda item: item[1], reverse=True), start=1)}\n",
    "            rows.append({'rep_chain': rep_chain, 'ID': ID, 'site_ress': sites, 'score': grasp_pockets_scores[rep_chain][ID], 'RANK': rankings[ID]})\n",
    "        except:\n",
    "            print(grasp_pockets[rep_chain])\n",
    "            print(grasp_pockets_scores[rep_chain])\n",
    "            print(f'ERROR with {rep_chain} {ID}')\n",
    "    #break\n",
    "\n",
    "# Creating the DataFrame\n",
    "grasp_pockets_df = pd.DataFrame(rows)\n",
    "grasp_pockets_df[\"n_ress\"] = grasp_pockets_df['site_ress'].apply(lambda x: len(x))\n",
    "grasp_pockets_df = grasp_pockets_df.sort_values(by=[\"rep_chain\", \"RANK\"]).reset_index(drop = True)"
   ]
  },
  {
   "cell_type": "code",
   "execution_count": 7,
   "id": "ba4fad65-16b4-4bb9-81a7-30e8d4bd3321",
   "metadata": {},
   "outputs": [
    {
     "data": {
      "text/html": [
       "<div>\n",
       "<style scoped>\n",
       "    .dataframe tbody tr th:only-of-type {\n",
       "        vertical-align: middle;\n",
       "    }\n",
       "\n",
       "    .dataframe tbody tr th {\n",
       "        vertical-align: top;\n",
       "    }\n",
       "\n",
       "    .dataframe thead th {\n",
       "        text-align: right;\n",
       "    }\n",
       "</style>\n",
       "<table border=\"1\" class=\"dataframe\">\n",
       "  <thead>\n",
       "    <tr style=\"text-align: right;\">\n",
       "      <th></th>\n",
       "      <th>rep_chain</th>\n",
       "      <th>ID</th>\n",
       "      <th>site_ress</th>\n",
       "      <th>score</th>\n",
       "      <th>RANK</th>\n",
       "      <th>n_ress</th>\n",
       "    </tr>\n",
       "  </thead>\n",
       "  <tbody>\n",
       "    <tr>\n",
       "      <th>0</th>\n",
       "      <td>1a52_A</td>\n",
       "      <td>0</td>\n",
       "      <td>[108, 125, 128, 129, 132, 225, 228, 229, 47, 5...</td>\n",
       "      <td>45.484</td>\n",
       "      <td>1</td>\n",
       "      <td>22</td>\n",
       "    </tr>\n",
       "    <tr>\n",
       "      <th>1</th>\n",
       "      <td>1a5h_B</td>\n",
       "      <td>0</td>\n",
       "      <td>[174, 175, 197, 198, 199, 200, 201, 203, 221, ...</td>\n",
       "      <td>47.888</td>\n",
       "      <td>1</td>\n",
       "      <td>25</td>\n",
       "    </tr>\n",
       "    <tr>\n",
       "      <th>2</th>\n",
       "      <td>1a9w_E</td>\n",
       "      <td>0</td>\n",
       "      <td>[102, 103, 106, 110, 137, 138, 141, 28, 31, 38...</td>\n",
       "      <td>40.447</td>\n",
       "      <td>1</td>\n",
       "      <td>23</td>\n",
       "    </tr>\n",
       "  </tbody>\n",
       "</table>\n",
       "</div>"
      ],
      "text/plain": [
       "  rep_chain  ID                                          site_ress   score  \\\n",
       "0    1a52_A   0  [108, 125, 128, 129, 132, 225, 228, 229, 47, 5...  45.484   \n",
       "1    1a5h_B   0  [174, 175, 197, 198, 199, 200, 201, 203, 221, ...  47.888   \n",
       "2    1a9w_E   0  [102, 103, 106, 110, 137, 138, 141, 28, 31, 38...  40.447   \n",
       "\n",
       "   RANK  n_ress  \n",
       "0     1      22  \n",
       "1     1      25  \n",
       "2     1      23  "
      ]
     },
     "execution_count": 7,
     "metadata": {},
     "output_type": "execute_result"
    }
   ],
   "source": [
    "grasp_pockets_df.head(3)"
   ]
  },
  {
   "cell_type": "code",
   "execution_count": 6,
   "id": "351c172d-5473-473b-a14e-5676f2ba5164",
   "metadata": {},
   "outputs": [
    {
     "name": "stdout",
     "output_type": "stream",
     "text": [
      "109.711\tsel : 114,115,116,119,120,121,122,123,149,153,260,27,28,29,30,31,319,320,365,393,394,395,396,397,398,413,414,415,417,419,427,428,429,430,431,432,455,479,571,615,616,617,618,79,80,81,82,83,84,87\n",
      "35.354\tsel : 239,241,474,475,476,477,506,507,508,513,535,537,538,543,545,546,547,572,576,579\n"
     ]
    }
   ],
   "source": [
    "for _, row in grasp_pockets_df.query('rep_chain == \"5emn_B\"').iterrows():\n",
    "    ress_sels = \",\".join(row.site_ress)\n",
    "    print(f'{row.score}\\tsel : {ress_sels}')"
   ]
  },
  {
   "cell_type": "markdown",
   "id": "81c98901-9c21-41e7-b795-e8666063f498",
   "metadata": {},
   "source": [
    "## Calcualte RoG of GrASP pockets"
   ]
  },
  {
   "cell_type": "code",
   "execution_count": 9,
   "id": "845a9102-4348-41c8-a8f5-1ccf5effeed2",
   "metadata": {},
   "outputs": [],
   "source": [
    "target_dir = './../DATA/trans_rep_chains'\n",
    "\n",
    "rep_chains_sites = grasp_pockets_df.rep_chain.unique().tolist()"
   ]
  },
  {
   "cell_type": "code",
   "execution_count": 10,
   "id": "d93ab671-c574-455a-bacb-781d0bb59bff",
   "metadata": {},
   "outputs": [
    {
     "data": {
      "text/plain": [
       "4030"
      ]
     },
     "execution_count": 10,
     "metadata": {},
     "output_type": "execute_result"
    }
   ],
   "source": [
    "len(rep_chains_sites)"
   ]
  },
  {
   "cell_type": "code",
   "execution_count": 11,
   "id": "f4b94da5-f977-4fa8-b649-eba0217cc135",
   "metadata": {},
   "outputs": [],
   "source": [
    "cc = [\n",
    "    'label_seq_id_full', 'label_comp_id', 'type_symbol',\n",
    "    'label_atom_id', 'Cartn_x', 'Cartn_y', 'Cartn_z'\n",
    "]"
   ]
  },
  {
   "cell_type": "code",
   "execution_count": 12,
   "id": "d5b7dcba-3fbe-4f22-9109-5bdd9f8e2f6b",
   "metadata": {},
   "outputs": [
    {
     "name": "stdout",
     "output_type": "stream",
     "text": [
      "0\n",
      "100\n",
      "200\n",
      "300\n",
      "400\n",
      "500\n",
      "600\n",
      "700\n",
      "800\n",
      "900\n",
      "1000\n",
      "1100\n",
      "1200\n",
      "1300\n",
      "1400\n",
      "1500\n",
      "1600\n",
      "1700\n",
      "1800\n",
      "1900\n",
      "2000\n",
      "2100\n",
      "2200\n",
      "2300\n",
      "2400\n",
      "2500\n",
      "2600\n",
      "2700\n",
      "2800\n",
      "2900\n",
      "3000\n",
      "3100\n",
      "3200\n",
      "3300\n",
      "3400\n",
      "3500\n",
      "3600\n",
      "3700\n",
      "3800\n",
      "3900\n",
      "4000\n"
     ]
    }
   ],
   "source": [
    "T0 = time.time()\n",
    "RoG_dict = {}\n",
    "centres_dict = {}\n",
    "for i, rep_chain in enumerate(rep_chains_sites):\n",
    "    if i % 100 == 0:\n",
    "        print(i)\n",
    "    pdb_path = os.path.join(target_dir, f'{rep_chain}.trans.pdb') # calculating RoG in TRANS structures\n",
    "    df = PDBXreader(inputfile=pdb_path).atoms(format_type=\"pdb\", excluded=())[cc].query('label_atom_id == \"CA\"').reset_index(drop = True)\n",
    "    #df.label_seq_id = df.label_seq_id.astype(int)\n",
    "    rep_chain_df = grasp_pockets_df.query('rep_chain == @rep_chain')\n",
    "    #print(len(acc_sites_df))\n",
    "    for _, row in rep_chain_df.iterrows():\n",
    "        site_ress = row.site_ress\n",
    "        #print(site_ress)\n",
    "        ress_CAs = df.query('label_seq_id_full in @site_ress')\n",
    "        CAs_coords = np.array(list((zip(ress_CAs.Cartn_x, ress_CAs.Cartn_y, ress_CAs.Cartn_z))))\n",
    "        center_of_mass = np.mean(CAs_coords, axis=0)\n",
    "        distances_squared = np.sum((CAs_coords - center_of_mass)**2, axis=1)\n",
    "        radius_of_gyration = round(np.sqrt(np.mean(distances_squared)), 2)\n",
    "        RoG_dict[(rep_chain, row[\"RANK\"])] = radius_of_gyration\n",
    "        centres_dict[(rep_chain, row[\"RANK\"])] = tuple([round(v, 3) for v in center_of_mass])\n",
    "TF = time.time()"
   ]
  },
  {
   "cell_type": "code",
   "execution_count": 13,
   "id": "e4633020-fba9-47d3-bcee-1e34204d9b81",
   "metadata": {},
   "outputs": [
    {
     "name": "stdout",
     "output_type": "stream",
     "text": [
      "6642\n",
      "5.8\n",
      "0.05236\n"
     ]
    }
   ],
   "source": [
    "dTs = TF-T0\n",
    "\n",
    "dTm = dTs/60\n",
    "\n",
    "N_RoG = len(RoG_dict)\n",
    "\n",
    "print(N_RoG) #8051\n",
    "\n",
    "print(round(dTm,2))\n",
    "\n",
    "print(round(dTs/N_RoG, 5))"
   ]
  },
  {
   "cell_type": "code",
   "execution_count": 14,
   "id": "866d2c3d-f701-4ce6-8042-5f8640a76840",
   "metadata": {},
   "outputs": [
    {
     "data": {
      "text/plain": [
       "5.79664"
      ]
     },
     "execution_count": 14,
     "metadata": {},
     "output_type": "execute_result"
    }
   ],
   "source": [
    "round((N_RoG*(dTs/N_RoG))/60, 5) # 6 minutes"
   ]
  },
  {
   "cell_type": "code",
   "execution_count": 15,
   "id": "2d972a5e-5e5e-4668-b807-b2964b9ca39b",
   "metadata": {},
   "outputs": [],
   "source": [
    "save_to_pickle(RoG_dict, \"./results/GrASP_RoG_TRANS_RIGHT_CLUSTERING.pkl\")"
   ]
  },
  {
   "cell_type": "code",
   "execution_count": 16,
   "id": "cf4035ff-7aea-4593-bae9-62270bb2b27b",
   "metadata": {},
   "outputs": [
    {
     "data": {
      "text/plain": [
       "6642"
      ]
     },
     "execution_count": 16,
     "metadata": {},
     "output_type": "execute_result"
    }
   ],
   "source": [
    "len(grasp_pockets_df) #used to be 8051"
   ]
  },
  {
   "cell_type": "code",
   "execution_count": 17,
   "id": "c294f2c0-c181-4408-b4bb-78ce7b327749",
   "metadata": {
    "scrolled": true
   },
   "outputs": [],
   "source": [
    "grasp_pockets_df[\"RoG\"] = grasp_pockets_df.set_index(['rep_chain', 'RANK']).index.map(RoG_dict)"
   ]
  },
  {
   "cell_type": "code",
   "execution_count": 18,
   "id": "9b6a4d3c-1aea-4747-b52b-6f0c5fed293e",
   "metadata": {},
   "outputs": [
    {
     "name": "stdout",
     "output_type": "stream",
     "text": [
      "0\n"
     ]
    }
   ],
   "source": [
    "centres = []\n",
    "errs = 0\n",
    "for i, row in grasp_pockets_df.iterrows():\n",
    "    try:\n",
    "        centre = centres_dict[(row.rep_chain, row.RANK)]\n",
    "        centres.append(centre)\n",
    "    except:\n",
    "        errs += 1\n",
    "        centres.append(np.nan)\n",
    "print(errs)"
   ]
  },
  {
   "cell_type": "code",
   "execution_count": 19,
   "id": "2630c1b0-a976-4484-b8c7-1eb02eaa4dce",
   "metadata": {},
   "outputs": [],
   "source": [
    "grasp_pockets_df[\"centre\"] = centres"
   ]
  },
  {
   "cell_type": "code",
   "execution_count": 20,
   "id": "0bdb98ff-487e-413e-836f-8bb306e8a3ef",
   "metadata": {},
   "outputs": [
    {
     "data": {
      "text/plain": [
       "True"
      ]
     },
     "execution_count": 20,
     "metadata": {},
     "output_type": "execute_result"
    }
   ],
   "source": [
    "set(RoG_dict.keys()) == set(centres_dict.keys())"
   ]
  },
  {
   "cell_type": "code",
   "execution_count": 21,
   "id": "8e1bab24-b08e-41d6-8d32-886ba88632a8",
   "metadata": {},
   "outputs": [
    {
     "data": {
      "text/plain": [
       "3441"
      ]
     },
     "execution_count": 21,
     "metadata": {},
     "output_type": "execute_result"
    }
   ],
   "source": [
    "len(set(LIGYSIS_reps).intersection(set(list(grasp_pockets_df.rep_chain.unique()))))"
   ]
  },
  {
   "cell_type": "code",
   "execution_count": 22,
   "id": "fdd867cf-d3a6-4c65-83b0-59cdcdfa0397",
   "metadata": {},
   "outputs": [
    {
     "data": {
      "text/html": [
       "<div>\n",
       "<style scoped>\n",
       "    .dataframe tbody tr th:only-of-type {\n",
       "        vertical-align: middle;\n",
       "    }\n",
       "\n",
       "    .dataframe tbody tr th {\n",
       "        vertical-align: top;\n",
       "    }\n",
       "\n",
       "    .dataframe thead th {\n",
       "        text-align: right;\n",
       "    }\n",
       "</style>\n",
       "<table border=\"1\" class=\"dataframe\">\n",
       "  <thead>\n",
       "    <tr style=\"text-align: right;\">\n",
       "      <th></th>\n",
       "      <th>rep_chain</th>\n",
       "      <th>ID</th>\n",
       "      <th>site_ress</th>\n",
       "      <th>score</th>\n",
       "      <th>RANK</th>\n",
       "      <th>n_ress</th>\n",
       "      <th>RoG</th>\n",
       "      <th>centre</th>\n",
       "    </tr>\n",
       "  </thead>\n",
       "  <tbody>\n",
       "    <tr>\n",
       "      <th>0</th>\n",
       "      <td>1a52_A</td>\n",
       "      <td>0</td>\n",
       "      <td>[108, 125, 128, 129, 132, 225, 228, 229, 47, 5...</td>\n",
       "      <td>45.484</td>\n",
       "      <td>1</td>\n",
       "      <td>22</td>\n",
       "      <td>8.86</td>\n",
       "      <td>(1.145, -8.457, -0.277)</td>\n",
       "    </tr>\n",
       "    <tr>\n",
       "      <th>1</th>\n",
       "      <td>1a5h_B</td>\n",
       "      <td>0</td>\n",
       "      <td>[174, 175, 197, 198, 199, 200, 201, 203, 221, ...</td>\n",
       "      <td>47.888</td>\n",
       "      <td>1</td>\n",
       "      <td>25</td>\n",
       "      <td>8.59</td>\n",
       "      <td>(-0.198, 7.944, -7.532)</td>\n",
       "    </tr>\n",
       "    <tr>\n",
       "      <th>2</th>\n",
       "      <td>1a9w_E</td>\n",
       "      <td>0</td>\n",
       "      <td>[102, 103, 106, 110, 137, 138, 141, 28, 31, 38...</td>\n",
       "      <td>40.447</td>\n",
       "      <td>1</td>\n",
       "      <td>23</td>\n",
       "      <td>9.34</td>\n",
       "      <td>(-4.465, 4.61, 0.882)</td>\n",
       "    </tr>\n",
       "  </tbody>\n",
       "</table>\n",
       "</div>"
      ],
      "text/plain": [
       "  rep_chain  ID                                          site_ress   score  \\\n",
       "0    1a52_A   0  [108, 125, 128, 129, 132, 225, 228, 229, 47, 5...  45.484   \n",
       "1    1a5h_B   0  [174, 175, 197, 198, 199, 200, 201, 203, 221, ...  47.888   \n",
       "2    1a9w_E   0  [102, 103, 106, 110, 137, 138, 141, 28, 31, 38...  40.447   \n",
       "\n",
       "   RANK  n_ress   RoG                   centre  \n",
       "0     1      22  8.86  (1.145, -8.457, -0.277)  \n",
       "1     1      25  8.59  (-0.198, 7.944, -7.532)  \n",
       "2     1      23  9.34    (-4.465, 4.61, 0.882)  "
      ]
     },
     "execution_count": 22,
     "metadata": {},
     "output_type": "execute_result"
    }
   ],
   "source": [
    "grasp_pockets_df.head(3)"
   ]
  },
  {
   "cell_type": "code",
   "execution_count": 27,
   "id": "63339afd-c49e-41ed-a5b1-0f8cfcc65404",
   "metadata": {},
   "outputs": [
    {
     "data": {
      "text/html": [
       "<div>\n",
       "<style scoped>\n",
       "    .dataframe tbody tr th:only-of-type {\n",
       "        vertical-align: middle;\n",
       "    }\n",
       "\n",
       "    .dataframe tbody tr th {\n",
       "        vertical-align: top;\n",
       "    }\n",
       "\n",
       "    .dataframe thead th {\n",
       "        text-align: right;\n",
       "    }\n",
       "</style>\n",
       "<table border=\"1\" class=\"dataframe\">\n",
       "  <thead>\n",
       "    <tr style=\"text-align: right;\">\n",
       "      <th></th>\n",
       "      <th>rep_chain</th>\n",
       "      <th>ID</th>\n",
       "      <th>site_ress</th>\n",
       "      <th>score</th>\n",
       "      <th>RANK</th>\n",
       "      <th>n_ress</th>\n",
       "      <th>RoG</th>\n",
       "      <th>centre</th>\n",
       "    </tr>\n",
       "  </thead>\n",
       "  <tbody>\n",
       "  </tbody>\n",
       "</table>\n",
       "</div>"
      ],
      "text/plain": [
       "Empty DataFrame\n",
       "Columns: [rep_chain, ID, site_ress, score, RANK, n_ress, RoG, centre]\n",
       "Index: []"
      ]
     },
     "execution_count": 27,
     "metadata": {},
     "output_type": "execute_result"
    }
   ],
   "source": [
    "grasp_pockets_df.query('centre != centre')"
   ]
  },
  {
   "cell_type": "code",
   "execution_count": 30,
   "id": "127779c2-636a-4677-85f4-3ddc29c331fb",
   "metadata": {},
   "outputs": [],
   "source": [
    "#grasp_pockets_df.to_pickle(\"./results/GRASP_pockets_RoG_V2.pkl\")"
   ]
  },
  {
   "cell_type": "markdown",
   "id": "c06394ca-7d2a-4e41-9b19-212403a3dc2c",
   "metadata": {},
   "source": [
    "## Mapping PDB residues to UP residues"
   ]
  },
  {
   "cell_type": "code",
   "execution_count": 23,
   "id": "f1930fad-c4fa-4ff3-af8e-1220a70f062b",
   "metadata": {},
   "outputs": [],
   "source": [
    "up_aas = {}\n",
    "\n",
    "errors = []\n",
    "\n",
    "for _, row in grasp_pockets_df.iterrows():\n",
    "    b = 0\n",
    "    rep_chain = row.rep_chain\n",
    "    site_ress = row.site_ress\n",
    "    rank = row[\"RANK\"]\n",
    "    mapping_dict = read_from_pickle(f'./../DATA/mappings_label_full/{rep_chain}.pkl')\n",
    "    site_up_aas = []\n",
    "    for res in site_ress:\n",
    "        try:\n",
    "            site_up_aas.append(mapping_dict[str(res)]) # I think there are integers here as it is not working with AltLocs, so none are present\n",
    "        except:\n",
    "            errors.append(rep_chain)\n",
    "            b = 1\n",
    "            break\n",
    "    if b ==1:\n",
    "        continue\n",
    "    up_aas[(rep_chain, rank)] = site_up_aas"
   ]
  },
  {
   "cell_type": "code",
   "execution_count": 24,
   "id": "db55208d-c45d-4f88-8b36-d9b930a505fd",
   "metadata": {},
   "outputs": [
    {
     "data": {
      "text/plain": [
       "6545"
      ]
     },
     "execution_count": 24,
     "metadata": {},
     "output_type": "execute_result"
    }
   ],
   "source": [
    "len(up_aas) #7948"
   ]
  },
  {
   "cell_type": "code",
   "execution_count": 25,
   "id": "4f4c6fe7-0027-49ef-bd7e-1f3cf4b2998c",
   "metadata": {},
   "outputs": [
    {
     "data": {
      "text/plain": [
       "97"
      ]
     },
     "execution_count": 25,
     "metadata": {},
     "output_type": "execute_result"
    }
   ],
   "source": [
    "len(errors) #103"
   ]
  },
  {
   "cell_type": "code",
   "execution_count": 26,
   "id": "2c20adf9-3687-44e6-bb67-d2d9e693060b",
   "metadata": {},
   "outputs": [
    {
     "name": "stdout",
     "output_type": "stream",
     "text": [
      "93\n"
     ]
    }
   ],
   "source": [
    "errors = list(set(errors)) # 93 chains have issues with SIFTS mapping, e.g, 1nav_A. For some reason, the last 40 residues lack residue mapping to UniProt\n",
    "print(len(errors)) #93"
   ]
  },
  {
   "cell_type": "code",
   "execution_count": 27,
   "id": "0ef0e28a-004e-43f5-8beb-e152a8ae50af",
   "metadata": {},
   "outputs": [],
   "source": [
    "save_to_pickle(errors, \"./results/GRaSP_no_sifts_TRANS_RIGHT_CLUSTERING.pkl\")"
   ]
  },
  {
   "cell_type": "code",
   "execution_count": 28,
   "id": "05539e11-afa3-4d08-816d-89ab69e9836f",
   "metadata": {},
   "outputs": [],
   "source": [
    "grasp_pockets_df_w_sifts = grasp_pockets_df.query('rep_chain not in @errors').copy().reset_index(drop = True)\n",
    "grasp_pockets_df_w_sifts[\"up_aas\"] = grasp_pockets_df_w_sifts.set_index(['rep_chain', 'RANK']).index.map(up_aas)"
   ]
  },
  {
   "cell_type": "code",
   "execution_count": 29,
   "id": "6fa87058-fa69-4948-9548-820379eed465",
   "metadata": {},
   "outputs": [],
   "source": [
    "grasp_pockets_df_w_sifts[\"n_up_aas\"] = grasp_pockets_df_w_sifts['up_aas'].apply(lambda x: len(x))\n",
    "assert grasp_pockets_df_w_sifts.n_ress.equals(grasp_pockets_df_w_sifts.n_up_aas)\n",
    "grasp_pockets_df_w_sifts.drop(columns = [\"n_up_aas\"], inplace = True)"
   ]
  },
  {
   "cell_type": "code",
   "execution_count": 30,
   "id": "a3455569-f162-48ab-a24d-1f96470ad75f",
   "metadata": {},
   "outputs": [],
   "source": [
    "grasp_pockets_df_w_sifts.rename(columns = {\"site_ress\": \"aas\", \"n_ress\": \"n_aas\"}, inplace = True)"
   ]
  },
  {
   "cell_type": "code",
   "execution_count": 31,
   "id": "53907b11-5242-4ab8-ae5e-0c40466696ef",
   "metadata": {},
   "outputs": [
    {
     "data": {
      "text/html": [
       "<div>\n",
       "<style scoped>\n",
       "    .dataframe tbody tr th:only-of-type {\n",
       "        vertical-align: middle;\n",
       "    }\n",
       "\n",
       "    .dataframe tbody tr th {\n",
       "        vertical-align: top;\n",
       "    }\n",
       "\n",
       "    .dataframe thead th {\n",
       "        text-align: right;\n",
       "    }\n",
       "</style>\n",
       "<table border=\"1\" class=\"dataframe\">\n",
       "  <thead>\n",
       "    <tr style=\"text-align: right;\">\n",
       "      <th></th>\n",
       "      <th>rep_chain</th>\n",
       "      <th>ID</th>\n",
       "      <th>aas</th>\n",
       "      <th>score</th>\n",
       "      <th>RANK</th>\n",
       "      <th>n_aas</th>\n",
       "      <th>RoG</th>\n",
       "      <th>centre</th>\n",
       "      <th>up_aas</th>\n",
       "    </tr>\n",
       "  </thead>\n",
       "  <tbody>\n",
       "    <tr>\n",
       "      <th>0</th>\n",
       "      <td>1a52_A</td>\n",
       "      <td>0</td>\n",
       "      <td>[108, 125, 128, 129, 132, 225, 228, 229, 47, 5...</td>\n",
       "      <td>45.484</td>\n",
       "      <td>1</td>\n",
       "      <td>22</td>\n",
       "      <td>8.86</td>\n",
       "      <td>(1.145, -8.457, -0.277)</td>\n",
       "      <td>[404, 421, 424, 425, 428, 521, 524, 525, 343, ...</td>\n",
       "    </tr>\n",
       "    <tr>\n",
       "      <th>1</th>\n",
       "      <td>1a5h_B</td>\n",
       "      <td>0</td>\n",
       "      <td>[174, 175, 197, 198, 199, 200, 201, 203, 221, ...</td>\n",
       "      <td>47.888</td>\n",
       "      <td>1</td>\n",
       "      <td>25</td>\n",
       "      <td>8.59</td>\n",
       "      <td>(-0.198, 7.944, -7.532)</td>\n",
       "      <td>[484, 485, 507, 508, 509, 510, 511, 513, 531, ...</td>\n",
       "    </tr>\n",
       "    <tr>\n",
       "      <th>2</th>\n",
       "      <td>1a9w_E</td>\n",
       "      <td>0</td>\n",
       "      <td>[102, 103, 106, 110, 137, 138, 141, 28, 31, 38...</td>\n",
       "      <td>40.447</td>\n",
       "      <td>1</td>\n",
       "      <td>23</td>\n",
       "      <td>9.34</td>\n",
       "      <td>(-4.465, 4.61, 0.882)</td>\n",
       "      <td>[103, 104, 107, 111, 138, 139, 142, 29, 32, 39...</td>\n",
       "    </tr>\n",
       "    <tr>\n",
       "      <th>3</th>\n",
       "      <td>1ags_B</td>\n",
       "      <td>0</td>\n",
       "      <td>[11, 162, 17, 18, 19, 20, 21, 22, 54, 7]</td>\n",
       "      <td>2.058</td>\n",
       "      <td>1</td>\n",
       "      <td>10</td>\n",
       "      <td>8.09</td>\n",
       "      <td>(2.823, -4.357, -2.352)</td>\n",
       "      <td>[12, 163, 18, 19, 20, 21, 22, 23, 55, 8]</td>\n",
       "    </tr>\n",
       "    <tr>\n",
       "      <th>4</th>\n",
       "      <td>1aii_A</td>\n",
       "      <td>2</td>\n",
       "      <td>[120, 121, 122, 124, 164, 206, 279, 282, 4, 5,...</td>\n",
       "      <td>11.187</td>\n",
       "      <td>1</td>\n",
       "      <td>13</td>\n",
       "      <td>9.14</td>\n",
       "      <td>(-2.977, -0.043, 7.244)</td>\n",
       "      <td>[120, 121, 122, 124, 164, 206, 279, 282, 4, 5,...</td>\n",
       "    </tr>\n",
       "  </tbody>\n",
       "</table>\n",
       "</div>"
      ],
      "text/plain": [
       "  rep_chain  ID                                                aas   score  \\\n",
       "0    1a52_A   0  [108, 125, 128, 129, 132, 225, 228, 229, 47, 5...  45.484   \n",
       "1    1a5h_B   0  [174, 175, 197, 198, 199, 200, 201, 203, 221, ...  47.888   \n",
       "2    1a9w_E   0  [102, 103, 106, 110, 137, 138, 141, 28, 31, 38...  40.447   \n",
       "3    1ags_B   0           [11, 162, 17, 18, 19, 20, 21, 22, 54, 7]   2.058   \n",
       "4    1aii_A   2  [120, 121, 122, 124, 164, 206, 279, 282, 4, 5,...  11.187   \n",
       "\n",
       "   RANK  n_aas   RoG                   centre  \\\n",
       "0     1     22  8.86  (1.145, -8.457, -0.277)   \n",
       "1     1     25  8.59  (-0.198, 7.944, -7.532)   \n",
       "2     1     23  9.34    (-4.465, 4.61, 0.882)   \n",
       "3     1     10  8.09  (2.823, -4.357, -2.352)   \n",
       "4     1     13  9.14  (-2.977, -0.043, 7.244)   \n",
       "\n",
       "                                              up_aas  \n",
       "0  [404, 421, 424, 425, 428, 521, 524, 525, 343, ...  \n",
       "1  [484, 485, 507, 508, 509, 510, 511, 513, 531, ...  \n",
       "2  [103, 104, 107, 111, 138, 139, 142, 29, 32, 39...  \n",
       "3           [12, 163, 18, 19, 20, 21, 22, 23, 55, 8]  \n",
       "4  [120, 121, 122, 124, 164, 206, 279, 282, 4, 5,...  "
      ]
     },
     "execution_count": 31,
     "metadata": {},
     "output_type": "execute_result"
    }
   ],
   "source": [
    "grasp_pockets_df_w_sifts.head(5)"
   ]
  },
  {
   "cell_type": "code",
   "execution_count": 32,
   "id": "872a66b3-6b20-4b21-af3f-7220e756d0ea",
   "metadata": {},
   "outputs": [
    {
     "data": {
      "text/plain": [
       "3937"
      ]
     },
     "execution_count": 32,
     "metadata": {},
     "output_type": "execute_result"
    }
   ],
   "source": [
    "len(grasp_pockets_df_w_sifts.rep_chain.unique()) #3937"
   ]
  },
  {
   "cell_type": "code",
   "execution_count": 33,
   "id": "2d0e927b-3d83-44be-9632-6c4683ebc75c",
   "metadata": {},
   "outputs": [
    {
     "data": {
      "text/plain": [
       "3353"
      ]
     },
     "execution_count": 33,
     "metadata": {},
     "output_type": "execute_result"
    }
   ],
   "source": [
    "len(set(LIGYSIS_reps).intersection(set(list(grasp_pockets_df_w_sifts.rep_chain.unique())))) #3353"
   ]
  },
  {
   "cell_type": "code",
   "execution_count": 34,
   "id": "097de9cd-b94d-4124-91f8-1ce812919b77",
   "metadata": {},
   "outputs": [],
   "source": [
    "grasp_pockets_df_w_sifts.to_pickle(\"./results/GRASP_pockets_sifted_RIGHT_CLUSTERING.pkl\")"
   ]
  },
  {
   "cell_type": "markdown",
   "id": "736588f7-24af-4ec2-bdde-3b526248ddfe",
   "metadata": {},
   "source": [
    "## Add pocket surfaces and volumes"
   ]
  },
  {
   "cell_type": "code",
   "execution_count": 30,
   "id": "7511e881-a786-42a3-a8a3-f1193986da54",
   "metadata": {},
   "outputs": [],
   "source": [
    "#grasp_pockets_df_w_sifts = pd.read_pickle(\"./results/GRASP_pockets_sifted_V2.pkl\")"
   ]
  },
  {
   "cell_type": "code",
   "execution_count": 35,
   "id": "78517933-afcb-418f-90f9-939e7b80004b",
   "metadata": {},
   "outputs": [],
   "source": [
    "master_SASA_dict = read_from_pickle(\"./results/master_SASA_dict.pkl\")"
   ]
  },
  {
   "cell_type": "code",
   "execution_count": 36,
   "id": "72482d68-2e6f-40a7-8e39-dc3edfe93fb9",
   "metadata": {},
   "outputs": [],
   "source": [
    "grasp_pockets_df_w_sifts_SASA = calculate_total_sasa(grasp_pockets_df_w_sifts, master_SASA_dict)"
   ]
  },
  {
   "cell_type": "code",
   "execution_count": 37,
   "id": "66830764-4c49-4ffa-88e5-fe0629de0d41",
   "metadata": {},
   "outputs": [
    {
     "data": {
      "text/html": [
       "<div>\n",
       "<style scoped>\n",
       "    .dataframe tbody tr th:only-of-type {\n",
       "        vertical-align: middle;\n",
       "    }\n",
       "\n",
       "    .dataframe tbody tr th {\n",
       "        vertical-align: top;\n",
       "    }\n",
       "\n",
       "    .dataframe thead th {\n",
       "        text-align: right;\n",
       "    }\n",
       "</style>\n",
       "<table border=\"1\" class=\"dataframe\">\n",
       "  <thead>\n",
       "    <tr style=\"text-align: right;\">\n",
       "      <th></th>\n",
       "      <th>rep_chain</th>\n",
       "      <th>ID</th>\n",
       "      <th>aas</th>\n",
       "      <th>score</th>\n",
       "      <th>RANK</th>\n",
       "      <th>n_aas</th>\n",
       "      <th>RoG</th>\n",
       "      <th>centre</th>\n",
       "      <th>up_aas</th>\n",
       "      <th>SASA</th>\n",
       "    </tr>\n",
       "  </thead>\n",
       "  <tbody>\n",
       "  </tbody>\n",
       "</table>\n",
       "</div>"
      ],
      "text/plain": [
       "Empty DataFrame\n",
       "Columns: [rep_chain, ID, aas, score, RANK, n_aas, RoG, centre, up_aas, SASA]\n",
       "Index: []"
      ]
     },
     "execution_count": 37,
     "metadata": {},
     "output_type": "execute_result"
    }
   ],
   "source": [
    "grasp_pockets_df_w_sifts_SASA.query('SASA != SASA')"
   ]
  },
  {
   "cell_type": "code",
   "execution_count": 38,
   "id": "2030fbbe-5830-4708-beb5-591534aee044",
   "metadata": {},
   "outputs": [],
   "source": [
    "vols_dict = read_from_pickle(\"./results/GrASP_volumes_dict_RIGHT_CLUSTERING.pkl\")"
   ]
  },
  {
   "cell_type": "code",
   "execution_count": 39,
   "id": "a576dd32-92ef-4744-b0ad-3b9d66146b0b",
   "metadata": {},
   "outputs": [],
   "source": [
    "grasp_pockets_df_w_sifts_SASA[\"VOL\"] = grasp_pockets_df_w_sifts_SASA.set_index(['rep_chain', 'ID']).index.map(vols_dict)"
   ]
  },
  {
   "cell_type": "code",
   "execution_count": 40,
   "id": "872c8a12-705d-464e-8cc4-55a961180f24",
   "metadata": {},
   "outputs": [
    {
     "data": {
      "text/html": [
       "<div>\n",
       "<style scoped>\n",
       "    .dataframe tbody tr th:only-of-type {\n",
       "        vertical-align: middle;\n",
       "    }\n",
       "\n",
       "    .dataframe tbody tr th {\n",
       "        vertical-align: top;\n",
       "    }\n",
       "\n",
       "    .dataframe thead th {\n",
       "        text-align: right;\n",
       "    }\n",
       "</style>\n",
       "<table border=\"1\" class=\"dataframe\">\n",
       "  <thead>\n",
       "    <tr style=\"text-align: right;\">\n",
       "      <th></th>\n",
       "      <th>rep_chain</th>\n",
       "      <th>ID</th>\n",
       "      <th>aas</th>\n",
       "      <th>score</th>\n",
       "      <th>RANK</th>\n",
       "      <th>n_aas</th>\n",
       "      <th>RoG</th>\n",
       "      <th>centre</th>\n",
       "      <th>up_aas</th>\n",
       "      <th>SASA</th>\n",
       "      <th>VOL</th>\n",
       "    </tr>\n",
       "  </thead>\n",
       "  <tbody>\n",
       "    <tr>\n",
       "      <th>0</th>\n",
       "      <td>1a52_A</td>\n",
       "      <td>0</td>\n",
       "      <td>[108, 125, 128, 129, 132, 225, 228, 229, 47, 5...</td>\n",
       "      <td>45.484</td>\n",
       "      <td>1</td>\n",
       "      <td>22</td>\n",
       "      <td>8.86</td>\n",
       "      <td>(1.145, -8.457, -0.277)</td>\n",
       "      <td>[404, 421, 424, 425, 428, 521, 524, 525, 343, ...</td>\n",
       "      <td>579.34</td>\n",
       "      <td>506.0</td>\n",
       "    </tr>\n",
       "    <tr>\n",
       "      <th>1</th>\n",
       "      <td>1a5h_B</td>\n",
       "      <td>0</td>\n",
       "      <td>[174, 175, 197, 198, 199, 200, 201, 203, 221, ...</td>\n",
       "      <td>47.888</td>\n",
       "      <td>1</td>\n",
       "      <td>25</td>\n",
       "      <td>8.59</td>\n",
       "      <td>(-0.198, 7.944, -7.532)</td>\n",
       "      <td>[484, 485, 507, 508, 509, 510, 511, 513, 531, ...</td>\n",
       "      <td>879.85</td>\n",
       "      <td>725.0</td>\n",
       "    </tr>\n",
       "    <tr>\n",
       "      <th>2</th>\n",
       "      <td>1a9w_E</td>\n",
       "      <td>0</td>\n",
       "      <td>[102, 103, 106, 110, 137, 138, 141, 28, 31, 38...</td>\n",
       "      <td>40.447</td>\n",
       "      <td>1</td>\n",
       "      <td>23</td>\n",
       "      <td>9.34</td>\n",
       "      <td>(-4.465, 4.61, 0.882)</td>\n",
       "      <td>[103, 104, 107, 111, 138, 139, 142, 29, 32, 39...</td>\n",
       "      <td>822.66</td>\n",
       "      <td>788.0</td>\n",
       "    </tr>\n",
       "    <tr>\n",
       "      <th>3</th>\n",
       "      <td>1ags_B</td>\n",
       "      <td>0</td>\n",
       "      <td>[11, 162, 17, 18, 19, 20, 21, 22, 54, 7]</td>\n",
       "      <td>2.058</td>\n",
       "      <td>1</td>\n",
       "      <td>10</td>\n",
       "      <td>8.09</td>\n",
       "      <td>(2.823, -4.357, -2.352)</td>\n",
       "      <td>[12, 163, 18, 19, 20, 21, 22, 23, 55, 8]</td>\n",
       "      <td>560.25</td>\n",
       "      <td>NaN</td>\n",
       "    </tr>\n",
       "    <tr>\n",
       "      <th>4</th>\n",
       "      <td>1aii_A</td>\n",
       "      <td>2</td>\n",
       "      <td>[120, 121, 122, 124, 164, 206, 279, 282, 4, 5,...</td>\n",
       "      <td>11.187</td>\n",
       "      <td>1</td>\n",
       "      <td>13</td>\n",
       "      <td>9.14</td>\n",
       "      <td>(-2.977, -0.043, 7.244)</td>\n",
       "      <td>[120, 121, 122, 124, 164, 206, 279, 282, 4, 5,...</td>\n",
       "      <td>401.72</td>\n",
       "      <td>1469.0</td>\n",
       "    </tr>\n",
       "    <tr>\n",
       "      <th>...</th>\n",
       "      <td>...</td>\n",
       "      <td>...</td>\n",
       "      <td>...</td>\n",
       "      <td>...</td>\n",
       "      <td>...</td>\n",
       "      <td>...</td>\n",
       "      <td>...</td>\n",
       "      <td>...</td>\n",
       "      <td>...</td>\n",
       "      <td>...</td>\n",
       "      <td>...</td>\n",
       "    </tr>\n",
       "    <tr>\n",
       "      <th>6501</th>\n",
       "      <td>8y6b_F</td>\n",
       "      <td>1</td>\n",
       "      <td>[206, 207, 208, 209, 253, 254, 271, 302, 303, ...</td>\n",
       "      <td>27.773</td>\n",
       "      <td>1</td>\n",
       "      <td>24</td>\n",
       "      <td>8.80</td>\n",
       "      <td>(-1.192, 20.648, -5.917)</td>\n",
       "      <td>[237, 238, 239, 240, 284, 285, 302, 333, 334, ...</td>\n",
       "      <td>624.74</td>\n",
       "      <td>679.0</td>\n",
       "    </tr>\n",
       "    <tr>\n",
       "      <th>6502</th>\n",
       "      <td>8y6b_F</td>\n",
       "      <td>0</td>\n",
       "      <td>[30, 48, 50, 51, 67, 72, 75, 96]</td>\n",
       "      <td>7.431</td>\n",
       "      <td>2</td>\n",
       "      <td>8</td>\n",
       "      <td>6.73</td>\n",
       "      <td>(-5.597, -38.736, -7.57)</td>\n",
       "      <td>[61, 79, 81, 82, 98, 103, 106, 127]</td>\n",
       "      <td>175.10</td>\n",
       "      <td>57.0</td>\n",
       "    </tr>\n",
       "    <tr>\n",
       "      <th>6503</th>\n",
       "      <td>8y6o_H</td>\n",
       "      <td>1</td>\n",
       "      <td>[102, 139, 140, 141, 144, 96]</td>\n",
       "      <td>3.365</td>\n",
       "      <td>1</td>\n",
       "      <td>6</td>\n",
       "      <td>6.41</td>\n",
       "      <td>(-12.024, -3.024, -5.587)</td>\n",
       "      <td>[102, 139, 140, 141, 144, 96]</td>\n",
       "      <td>435.96</td>\n",
       "      <td>393.0</td>\n",
       "    </tr>\n",
       "    <tr>\n",
       "      <th>6504</th>\n",
       "      <td>8y6o_H</td>\n",
       "      <td>0</td>\n",
       "      <td>[72]</td>\n",
       "      <td>0.268</td>\n",
       "      <td>2</td>\n",
       "      <td>1</td>\n",
       "      <td>0.00</td>\n",
       "      <td>(2.941, 8.14, -12.706)</td>\n",
       "      <td>[72]</td>\n",
       "      <td>152.58</td>\n",
       "      <td>0.0</td>\n",
       "    </tr>\n",
       "    <tr>\n",
       "      <th>6505</th>\n",
       "      <td>8yhh_B</td>\n",
       "      <td>0</td>\n",
       "      <td>[109, 110, 111, 112, 113, 114, 115, 120, 134, ...</td>\n",
       "      <td>32.987</td>\n",
       "      <td>1</td>\n",
       "      <td>19</td>\n",
       "      <td>8.78</td>\n",
       "      <td>(3.007, -8.181, -7.971)</td>\n",
       "      <td>[107, 108, 109, 110, 111, 112, 113, 118, 132, ...</td>\n",
       "      <td>837.91</td>\n",
       "      <td>1891.0</td>\n",
       "    </tr>\n",
       "  </tbody>\n",
       "</table>\n",
       "<p>6506 rows × 11 columns</p>\n",
       "</div>"
      ],
      "text/plain": [
       "     rep_chain  ID                                                aas   score  \\\n",
       "0       1a52_A   0  [108, 125, 128, 129, 132, 225, 228, 229, 47, 5...  45.484   \n",
       "1       1a5h_B   0  [174, 175, 197, 198, 199, 200, 201, 203, 221, ...  47.888   \n",
       "2       1a9w_E   0  [102, 103, 106, 110, 137, 138, 141, 28, 31, 38...  40.447   \n",
       "3       1ags_B   0           [11, 162, 17, 18, 19, 20, 21, 22, 54, 7]   2.058   \n",
       "4       1aii_A   2  [120, 121, 122, 124, 164, 206, 279, 282, 4, 5,...  11.187   \n",
       "...        ...  ..                                                ...     ...   \n",
       "6501    8y6b_F   1  [206, 207, 208, 209, 253, 254, 271, 302, 303, ...  27.773   \n",
       "6502    8y6b_F   0                   [30, 48, 50, 51, 67, 72, 75, 96]   7.431   \n",
       "6503    8y6o_H   1                      [102, 139, 140, 141, 144, 96]   3.365   \n",
       "6504    8y6o_H   0                                               [72]   0.268   \n",
       "6505    8yhh_B   0  [109, 110, 111, 112, 113, 114, 115, 120, 134, ...  32.987   \n",
       "\n",
       "      RANK  n_aas   RoG                     centre  \\\n",
       "0        1     22  8.86    (1.145, -8.457, -0.277)   \n",
       "1        1     25  8.59    (-0.198, 7.944, -7.532)   \n",
       "2        1     23  9.34      (-4.465, 4.61, 0.882)   \n",
       "3        1     10  8.09    (2.823, -4.357, -2.352)   \n",
       "4        1     13  9.14    (-2.977, -0.043, 7.244)   \n",
       "...    ...    ...   ...                        ...   \n",
       "6501     1     24  8.80   (-1.192, 20.648, -5.917)   \n",
       "6502     2      8  6.73   (-5.597, -38.736, -7.57)   \n",
       "6503     1      6  6.41  (-12.024, -3.024, -5.587)   \n",
       "6504     2      1  0.00     (2.941, 8.14, -12.706)   \n",
       "6505     1     19  8.78    (3.007, -8.181, -7.971)   \n",
       "\n",
       "                                                 up_aas    SASA     VOL  \n",
       "0     [404, 421, 424, 425, 428, 521, 524, 525, 343, ...  579.34   506.0  \n",
       "1     [484, 485, 507, 508, 509, 510, 511, 513, 531, ...  879.85   725.0  \n",
       "2     [103, 104, 107, 111, 138, 139, 142, 29, 32, 39...  822.66   788.0  \n",
       "3              [12, 163, 18, 19, 20, 21, 22, 23, 55, 8]  560.25     NaN  \n",
       "4     [120, 121, 122, 124, 164, 206, 279, 282, 4, 5,...  401.72  1469.0  \n",
       "...                                                 ...     ...     ...  \n",
       "6501  [237, 238, 239, 240, 284, 285, 302, 333, 334, ...  624.74   679.0  \n",
       "6502                [61, 79, 81, 82, 98, 103, 106, 127]  175.10    57.0  \n",
       "6503                      [102, 139, 140, 141, 144, 96]  435.96   393.0  \n",
       "6504                                               [72]  152.58     0.0  \n",
       "6505  [107, 108, 109, 110, 111, 112, 113, 118, 132, ...  837.91  1891.0  \n",
       "\n",
       "[6506 rows x 11 columns]"
      ]
     },
     "execution_count": 40,
     "metadata": {},
     "output_type": "execute_result"
    }
   ],
   "source": [
    "grasp_pockets_df_w_sifts_SASA"
   ]
  },
  {
   "cell_type": "code",
   "execution_count": 41,
   "id": "4f9e15d1-a67b-453a-8188-8771a376fa4e",
   "metadata": {},
   "outputs": [],
   "source": [
    "grasp_pockets_df_w_sifts_SASA.to_pickle(\"./results/GRASP_pockets_DEF_TRANS_RIGHT_CLUSTERING.pkl\")"
   ]
  },
  {
   "cell_type": "code",
   "execution_count": 44,
   "id": "407e22e8-ada9-4236-813a-2b7afd0cade2",
   "metadata": {},
   "outputs": [],
   "source": [
    "bad_reps = read_from_pickle(\"./results/OLD/other_errrors_reps.pkl\")"
   ]
  },
  {
   "cell_type": "code",
   "execution_count": 45,
   "id": "cdc377f0-e83a-4bd5-a121-382604ae01fa",
   "metadata": {},
   "outputs": [
    {
     "data": {
      "text/html": [
       "<div>\n",
       "<style scoped>\n",
       "    .dataframe tbody tr th:only-of-type {\n",
       "        vertical-align: middle;\n",
       "    }\n",
       "\n",
       "    .dataframe tbody tr th {\n",
       "        vertical-align: top;\n",
       "    }\n",
       "\n",
       "    .dataframe thead th {\n",
       "        text-align: right;\n",
       "    }\n",
       "</style>\n",
       "<table border=\"1\" class=\"dataframe\">\n",
       "  <thead>\n",
       "    <tr style=\"text-align: right;\">\n",
       "      <th></th>\n",
       "      <th>rep_chain</th>\n",
       "      <th>ID</th>\n",
       "      <th>aas</th>\n",
       "      <th>score</th>\n",
       "      <th>RANK</th>\n",
       "      <th>n_aas</th>\n",
       "      <th>RoG</th>\n",
       "      <th>centre</th>\n",
       "      <th>up_aas</th>\n",
       "      <th>SASA</th>\n",
       "      <th>VOL</th>\n",
       "    </tr>\n",
       "  </thead>\n",
       "  <tbody>\n",
       "  </tbody>\n",
       "</table>\n",
       "</div>"
      ],
      "text/plain": [
       "Empty DataFrame\n",
       "Columns: [rep_chain, ID, aas, score, RANK, n_aas, RoG, centre, up_aas, SASA, VOL]\n",
       "Index: []"
      ]
     },
     "execution_count": 45,
     "metadata": {},
     "output_type": "execute_result"
    }
   ],
   "source": [
    "grasp_pockets_df_w_sifts_SASA.query('VOL != VOL & rep_chain not in @bad_reps')"
   ]
  },
  {
   "cell_type": "code",
   "execution_count": 50,
   "id": "e1c4c7fc-bbea-4657-bad6-eec66929a5db",
   "metadata": {},
   "outputs": [
    {
     "name": "stdout",
     "output_type": "stream",
     "text": [
      "3k2s_B_1: 26.15 --> 111+122+14+17+18+21+33+36+37+5+53+57+6+60+61+62+64\n",
      "5hdt_B_1: 27.52 --> 1030+1079+1080+1082+388+393+396+397+398+399+402+403+404+405+428+431+432+434+445+446+448+449+450+451+452+453+457+483+487+527+536+540+567+568+571+592+595+596+597+600+601+602+603+715+758+761+762+780+784+785+789+818+819+820+821+824+825+826+827+835+837+840+841+843+844+845+872+876+884+886+974+978\n",
      "6l53_A_0: 28.5 --> 1109+1193+1194+1347+1348+1349+1433+1508+1526+1529+1598+1857+1858+1951+2099+2183+2185+2186+2191+2311+2315+2316+2351+733+734+737+738+741+742+745+812+815+816+819+870+873+915+916+932+933+934+987\n",
      "7e7o_A_1: 25.84 --> 1174+1176+1256+1257+1258+1264+1287+1372+1720+1721+1724+1809+1998+1999+2000+2050+2094+2187+2189+2220+2228+2238+2255+2256+2257+2258+2259+2260+2261+697\n",
      "7ktp_C_1: 27.58 --> 100+101+104+105+108+109+110+112+159+161+162+164+186+208+231+232+233+236+315+355+356+357+430+432+440+442+444+447+448+452+453+460+465+466+470+471+473+86+90+96+97\n",
      "7o7l_B_1: 26.88 --> 130+131+132+133+136+137+151+155+217+235+239+246+266+270+318+320+322+324+34+45+468+47+48+530+578+585+598+612+613+614+615+617+618+62+621+622+623+767+768+769+770+771+778+780+782+818+824+826+85+87+874+875+876+89+897\n",
      "7pgt_N_0: 27.21 --> 1301+1304+1307+1308+1309+1314+1315+1316+1317+1319+1342+1346+1418+1421+1426+1427+1429+1431+1432+1435+1439+2029+2083+2117+2187+2199+2285+2289\n",
      "7sid_C_1: 27.16 --> 1989+2040+2042+2069+2070+2074+2105+2204+2217+2218+2221+2222+2225+2228+2258+2265+2266+2267+2270+2693+2694+2697+2699+2715+2717+2720+2725+2755+2767+2769+2770+2773+2774+2775+2874+2875+2877+2888+2889\n",
      "7uhy_B_1: 29.32 --> 443+447+450+451+454+514+519+520+521+530+845+846+849+851+852+858+862+877+878+881\n",
      "7x6c_B_1: 25.82 --> 308+334+335+364+367+368+370+371+372+373+374+414+417+418+439+442+492+493+495+496+499+539+542+543+563+564+565+566+587+588+589+590+591+647+659\n",
      "8fgw_C_1: 28.68 --> 102+104+107+143+144+145+18+184+185+23+238+282+283+326+327+329+352+355+356+357+358+434+436+587+59+592+607+608+609+61+63+64+65+657+658+68+680+683+684+687+688\n",
      "8fgw_C_0: 27.33 --> 871+990\n"
     ]
    }
   ],
   "source": [
    "for _i, row in combined_SASA_df.iterrows():\n",
    "    RoG = row.RoG\n",
    "    rep_chain = row.rep_chain\n",
    "    aas = row.aas\n",
    "    ID = row.ID\n",
    "    if 25<RoG<30:\n",
    "        print(f\"{rep_chain}_{ID}: {RoG} --> {'+'.join(aas)}\")"
   ]
  }
 ],
 "metadata": {
  "kernelspec": {
   "display_name": "Python [conda env:myenv2]",
   "language": "python",
   "name": "conda-env-myenv2-py"
  },
  "language_info": {
   "codemirror_mode": {
    "name": "ipython",
    "version": 3
   },
   "file_extension": ".py",
   "mimetype": "text/x-python",
   "name": "python",
   "nbconvert_exporter": "python",
   "pygments_lexer": "ipython3",
   "version": "3.10.0"
  }
 },
 "nbformat": 4,
 "nbformat_minor": 5
}
